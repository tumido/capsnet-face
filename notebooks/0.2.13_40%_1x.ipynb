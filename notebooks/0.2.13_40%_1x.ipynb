{
 "cells": [
  {
   "cell_type": "markdown",
   "metadata": {
    "colab_type": "text",
    "id": "mxyHDbGxWL9A"
   },
   "source": [
    "# Intro"
   ]
  },
  {
   "cell_type": "markdown",
   "metadata": {
    "colab_type": "text",
    "id": "J5eueFsCss8g"
   },
   "source": [
    "## Load and import CapsNet\n",
    "\n",
    "First, let's clone our GitHub repo and import all parts which will be used in this notebook."
   ]
  },
  {
   "cell_type": "code",
   "execution_count": 1,
   "metadata": {
    "colab": {
     "base_uri": "https://localhost:8080/",
     "height": 578
    },
    "colab_type": "code",
    "id": "VphwW703qtDn",
    "outputId": "95b2e63a-4814-460c-804f-6c16e22ed8a4"
   },
   "outputs": [
    {
     "name": "stdout",
     "output_type": "stream",
     "text": [
      "Collecting git+https://github.com/tumido/face_biometrics_descriptor-code.git\n",
      "  Cloning https://github.com/tumido/face_biometrics_descriptor-code.git to /tmp/pip-req-build-1ktusb0t\n",
      "Requirement already satisfied, skipping upgrade: tensorflow in /usr/local/lib/python3.6/dist-packages (from capsnet==0.2.13) (1.13.1)\n",
      "Requirement already satisfied, skipping upgrade: scikit-learn in /usr/local/lib/python3.6/dist-packages (from capsnet==0.2.13) (0.20.3)\n",
      "Requirement already satisfied, skipping upgrade: keras in /usr/local/lib/python3.6/dist-packages (from capsnet==0.2.13) (2.2.4)\n",
      "Requirement already satisfied, skipping upgrade: numpy in /usr/local/lib/python3.6/dist-packages (from capsnet==0.2.13) (1.16.3)\n",
      "Requirement already satisfied, skipping upgrade: astor>=0.6.0 in /usr/local/lib/python3.6/dist-packages (from tensorflow->capsnet==0.2.13) (0.7.1)\n",
      "Requirement already satisfied, skipping upgrade: absl-py>=0.1.6 in /usr/local/lib/python3.6/dist-packages (from tensorflow->capsnet==0.2.13) (0.7.1)\n",
      "Requirement already satisfied, skipping upgrade: six>=1.10.0 in /usr/local/lib/python3.6/dist-packages (from tensorflow->capsnet==0.2.13) (1.12.0)\n",
      "Requirement already satisfied, skipping upgrade: protobuf>=3.6.1 in /usr/local/lib/python3.6/dist-packages (from tensorflow->capsnet==0.2.13) (3.7.1)\n",
      "Requirement already satisfied, skipping upgrade: tensorflow-estimator<1.14.0rc0,>=1.13.0 in /usr/local/lib/python3.6/dist-packages (from tensorflow->capsnet==0.2.13) (1.13.0)\n",
      "Requirement already satisfied, skipping upgrade: keras-applications>=1.0.6 in /usr/local/lib/python3.6/dist-packages (from tensorflow->capsnet==0.2.13) (1.0.7)\n",
      "Requirement already satisfied, skipping upgrade: tensorboard<1.14.0,>=1.13.0 in /usr/local/lib/python3.6/dist-packages (from tensorflow->capsnet==0.2.13) (1.13.1)\n",
      "Requirement already satisfied, skipping upgrade: termcolor>=1.1.0 in /usr/local/lib/python3.6/dist-packages (from tensorflow->capsnet==0.2.13) (1.1.0)\n",
      "Requirement already satisfied, skipping upgrade: wheel>=0.26 in /usr/local/lib/python3.6/dist-packages (from tensorflow->capsnet==0.2.13) (0.33.1)\n",
      "Requirement already satisfied, skipping upgrade: keras-preprocessing>=1.0.5 in /usr/local/lib/python3.6/dist-packages (from tensorflow->capsnet==0.2.13) (1.0.9)\n",
      "Requirement already satisfied, skipping upgrade: grpcio>=1.8.6 in /usr/local/lib/python3.6/dist-packages (from tensorflow->capsnet==0.2.13) (1.15.0)\n",
      "Requirement already satisfied, skipping upgrade: gast>=0.2.0 in /usr/local/lib/python3.6/dist-packages (from tensorflow->capsnet==0.2.13) (0.2.2)\n",
      "Requirement already satisfied, skipping upgrade: scipy>=0.13.3 in /usr/local/lib/python3.6/dist-packages (from scikit-learn->capsnet==0.2.13) (1.2.1)\n",
      "Requirement already satisfied, skipping upgrade: h5py in /usr/local/lib/python3.6/dist-packages (from keras->capsnet==0.2.13) (2.8.0)\n",
      "Requirement already satisfied, skipping upgrade: pyyaml in /usr/local/lib/python3.6/dist-packages (from keras->capsnet==0.2.13) (3.13)\n",
      "Requirement already satisfied, skipping upgrade: setuptools in /usr/local/lib/python3.6/dist-packages (from protobuf>=3.6.1->tensorflow->capsnet==0.2.13) (40.9.0)\n",
      "Requirement already satisfied, skipping upgrade: mock>=2.0.0 in /usr/local/lib/python3.6/dist-packages (from tensorflow-estimator<1.14.0rc0,>=1.13.0->tensorflow->capsnet==0.2.13) (2.0.0)\n",
      "Requirement already satisfied, skipping upgrade: werkzeug>=0.11.15 in /usr/local/lib/python3.6/dist-packages (from tensorboard<1.14.0,>=1.13.0->tensorflow->capsnet==0.2.13) (0.15.2)\n",
      "Requirement already satisfied, skipping upgrade: markdown>=2.6.8 in /usr/local/lib/python3.6/dist-packages (from tensorboard<1.14.0,>=1.13.0->tensorflow->capsnet==0.2.13) (3.1)\n",
      "Requirement already satisfied, skipping upgrade: pbr>=0.11 in /usr/local/lib/python3.6/dist-packages (from mock>=2.0.0->tensorflow-estimator<1.14.0rc0,>=1.13.0->tensorflow->capsnet==0.2.13) (5.1.3)\n",
      "Installing collected packages: capsnet\n",
      "  Found existing installation: capsnet 0.2.13\n",
      "    Uninstalling capsnet-0.2.13:\n",
      "      Successfully uninstalled capsnet-0.2.13\n",
      "  Running setup.py install for capsnet ... \u001b[?25ldone\n",
      "\u001b[?25hSuccessfully installed capsnet-0.2.13\n"
     ]
    },
    {
     "name": "stderr",
     "output_type": "stream",
     "text": [
      "Using TensorFlow backend.\n"
     ]
    }
   ],
   "source": [
    "!pip install --no-cache-dir --upgrade git+https://github.com/tumido/face_biometrics_descriptor-code.git\n",
    "\n",
    "from sklearn.datasets import fetch_lfw_people\n",
    "from capsnet import preprocess_lfw_people, CapsNet"
   ]
  },
  {
   "cell_type": "markdown",
   "metadata": {
    "colab_type": "text",
    "id": "lXW-IfxnXdB8"
   },
   "source": [
    "## Auxilary imports\n",
    "\n",
    "Additional imports used in this Notebook would help to visualize data."
   ]
  },
  {
   "cell_type": "code",
   "execution_count": 0,
   "metadata": {
    "colab": {},
    "colab_type": "code",
    "id": "r0B1RTylXldU"
   },
   "outputs": [],
   "source": [
    "import numpy as np\n",
    "from sklearn.metrics import confusion_matrix\n",
    "%matplotlib inline\n",
    "import matplotlib.pyplot as plt\n",
    "import pandas as pd\n",
    "from random import randint"
   ]
  },
  {
   "cell_type": "markdown",
   "metadata": {
    "colab_type": "text",
    "id": "haIVjnGFlbM_"
   },
   "source": [
    "Install and start a TensorBoard in Colab"
   ]
  },
  {
   "cell_type": "code",
   "execution_count": 3,
   "metadata": {
    "colab": {
     "base_uri": "https://localhost:8080/",
     "height": 85
    },
    "colab_type": "code",
    "id": "fLxDpf1JleKJ",
    "outputId": "f9e097f6-6a76-4cde-c4f9-03204804b447"
   },
   "outputs": [
    {
     "name": "stdout",
     "output_type": "stream",
     "text": [
      "Requirement already satisfied: tensorboardcolab in /usr/local/lib/python3.6/dist-packages (0.0.22)\n",
      "Wait for 8 seconds...\n",
      "TensorBoard link:\n",
      "https://14b9726e.ngrok.io\n"
     ]
    }
   ],
   "source": [
    "!pip install tensorboardcolab\n",
    "from tensorboardcolab import TensorBoardColab, TensorBoardColabCallback\n",
    "\n",
    "tbc = TensorBoardColab()\n",
    "tensor_board_callback = TensorBoardColabCallback(tbc, batch_size=10, histogram_freq=5, write_graph=True, write_grads=True, write_images=True)"
   ]
  },
  {
   "cell_type": "markdown",
   "metadata": {
    "colab_type": "text",
    "id": "yf59QXJdWRnM"
   },
   "source": [
    "## Verify GPU\n",
    "\n",
    "in the next cell we verify that a GPU is available to our use. The output should contain a GPU details."
   ]
  },
  {
   "cell_type": "code",
   "execution_count": 4,
   "metadata": {
    "colab": {
     "base_uri": "https://localhost:8080/",
     "height": 102
    },
    "colab_type": "code",
    "id": "C35iLzmqWeGl",
    "outputId": "4b15ea1c-cef3-48fc-8f8b-5253afea9b70"
   },
   "outputs": [
    {
     "name": "stdout",
     "output_type": "stream",
     "text": [
      "path: /device:GPU:0\n",
      "device: 0\n",
      "name: Tesla T4\n",
      "pci bus id: 0000:00:04.0\n",
      "compute capability: 7.5\n"
     ]
    }
   ],
   "source": [
    "from tensorflow.test import is_gpu_available\n",
    "from tensorflow.python.client import device_lib\n",
    "\n",
    "if not is_gpu_available():\n",
    "    raise SystemError('GPU device not found')\n",
    "\n",
    "desc = [f'path: {d.name}, {d.physical_device_desc}' for d in device_lib.list_local_devices() if d.device_type == \"GPU\"][0]\n",
    "print(\"\\n\".join(desc.split(\", \")))"
   ]
  },
  {
   "cell_type": "markdown",
   "metadata": {
    "colab_type": "text",
    "id": "Gm3DsF4StZ_f"
   },
   "source": [
    "## Collect data set \n",
    "\n",
    "We're gonna be working with LFW dataset"
   ]
  },
  {
   "cell_type": "code",
   "execution_count": 0,
   "metadata": {
    "colab": {},
    "colab_type": "code",
    "id": "MWP1fbqyrK2e"
   },
   "outputs": [],
   "source": [
    "people = fetch_lfw_people(\n",
    "    color=True,\n",
    "    min_faces_per_person=25\n",
    ")\n",
    "\n",
    "\n",
    "data = preprocess_lfw_people(people)\n",
    "(x_train, y_train), (x_test, y_test) = data"
   ]
  },
  {
   "cell_type": "code",
   "execution_count": 6,
   "metadata": {
    "colab": {
     "base_uri": "https://localhost:8080/",
     "height": 204
    },
    "colab_type": "code",
    "id": "jAr9gS3Ama1b",
    "outputId": "437871e6-7ba4-4414-a321-d80d504d8bf6"
   },
   "outputs": [
    {
     "data": {
      "text/html": [
       "<div>\n",
       "<style scoped>\n",
       "    .dataframe tbody tr th:only-of-type {\n",
       "        vertical-align: middle;\n",
       "    }\n",
       "\n",
       "    .dataframe tbody tr th {\n",
       "        vertical-align: top;\n",
       "    }\n",
       "\n",
       "    .dataframe thead th {\n",
       "        text-align: right;\n",
       "    }\n",
       "</style>\n",
       "<table border=\"1\" class=\"dataframe\">\n",
       "  <thead>\n",
       "    <tr style=\"text-align: right;\">\n",
       "      <th></th>\n",
       "      <th>Name</th>\n",
       "      <th>Value</th>\n",
       "    </tr>\n",
       "  </thead>\n",
       "  <tbody>\n",
       "    <tr>\n",
       "      <th>0</th>\n",
       "      <td>Identities</td>\n",
       "      <td>42</td>\n",
       "    </tr>\n",
       "    <tr>\n",
       "      <th>1</th>\n",
       "      <td>Total images</td>\n",
       "      <td>2588</td>\n",
       "    </tr>\n",
       "    <tr>\n",
       "      <th>2</th>\n",
       "      <td>Train images</td>\n",
       "      <td>2070</td>\n",
       "    </tr>\n",
       "    <tr>\n",
       "      <th>3</th>\n",
       "      <td>Test images</td>\n",
       "      <td>518</td>\n",
       "    </tr>\n",
       "    <tr>\n",
       "      <th>4</th>\n",
       "      <td>Image shape</td>\n",
       "      <td>(32, 32, 3)</td>\n",
       "    </tr>\n",
       "  </tbody>\n",
       "</table>\n",
       "</div>"
      ],
      "text/plain": [
       "           Name        Value\n",
       "0    Identities           42\n",
       "1  Total images         2588\n",
       "2  Train images         2070\n",
       "3   Test images          518\n",
       "4   Image shape  (32, 32, 3)"
      ]
     },
     "execution_count": 6,
     "metadata": {
      "tags": []
     },
     "output_type": "execute_result"
    }
   ],
   "source": [
    "metrics = [\n",
    "    [\"Identities\", len(np.unique(people.target, axis=0))],\n",
    "    [\"Total images\", people.target.shape[0]],\n",
    "    [\"Train images\", len(y_train)],\n",
    "    [\"Test images\", len(y_test)],\n",
    "    [\"Image shape\", x_train.shape[1:]]\n",
    "]\n",
    "pd.DataFrame(metrics, columns=[\"Name\", \"Value\"])"
   ]
  },
  {
   "cell_type": "code",
   "execution_count": 7,
   "metadata": {
    "colab": {
     "base_uri": "https://localhost:8080/",
     "height": 269
    },
    "colab_type": "code",
    "id": "3ZCoPj6ghtOM",
    "outputId": "bc2469ca-b80d-4e42-d9a4-d337f9dd929a"
   },
   "outputs": [
    {
     "data": {
      "image/png": "[encoded data removed]",
      "text/plain": [
       "<Figure size 432x288 with 1 Axes>"
      ]
     },
     "metadata": {
      "tags": []
     },
     "output_type": "display_data"
    }
   ],
   "source": [
    "_ = plt.hist(people.target, bins=people.target_names.shape[0])"
   ]
  },
  {
   "cell_type": "code",
   "execution_count": 8,
   "metadata": {
    "colab": {
     "base_uri": "https://localhost:8080/",
     "height": 283
    },
    "colab_type": "code",
    "id": "enDcEbijABEv",
    "outputId": "d75c5c4f-adac-4b96-c13c-87609fc2c54d"
   },
   "outputs": [
    {
     "name": "stdout",
     "output_type": "stream",
     "text": [
      "32: Ricardo Lagos\n"
     ]
    },
    {
     "data": {
      "image/png": "[encoded data removed]",
      "text/plain": [
       "<Figure size 432x288 with 1 Axes>"
      ]
     },
     "metadata": {
      "tags": []
     },
     "output_type": "display_data"
    }
   ],
   "source": [
    "i = randint(0, len(x_train))\n",
    "plt.imshow(x_train[i])\n",
    "plt.axis('off')\n",
    "print(\"{}: {}\".format(np.argmax(y_train[i]), people.target_names[np.argmax(y_train[i])]))"
   ]
  },
  {
   "cell_type": "markdown",
   "metadata": {
    "colab_type": "text",
    "id": "GO6c2pk1k0Lr"
   },
   "source": [
    "## CapsNet\n",
    "\n",
    "Let's begin training our network"
   ]
  },
  {
   "cell_type": "code",
   "execution_count": 9,
   "metadata": {
    "colab": {
     "base_uri": "https://localhost:8080/",
     "height": 649
    },
    "colab_type": "code",
    "id": "MSvdR8A6tp-V",
    "outputId": "e281d91b-6e70-43d0-8adb-d5c54a34931e"
   },
   "outputs": [
    {
     "name": "stdout",
     "output_type": "stream",
     "text": [
      "WARNING:tensorflow:From /usr/local/lib/python3.6/dist-packages/tensorflow/python/framework/op_def_library.py:263: colocate_with (from tensorflow.python.framework.ops) is deprecated and will be removed in a future version.\n",
      "Instructions for updating:\n",
      "Colocations handled automatically by placer.\n",
      "WARNING:tensorflow:From /usr/local/lib/python3.6/dist-packages/keras/backend/tensorflow_backend.py:3445: calling dropout (from tensorflow.python.ops.nn_ops) with keep_prob is deprecated and will be removed in a future version.\n",
      "Instructions for updating:\n",
      "Please use `rate` instead of `keep_prob`. Rate should be set to `rate = 1 - keep_prob`.\n",
      "__________________________________________________________________________________________________\n",
      "Layer (type)                    Output Shape         Param #     Connected to                     \n",
      "==================================================================================================\n",
      "input_image (InputLayer)        (None, 32, 32, 3)    0                                            \n",
      "__________________________________________________________________________________________________\n",
      "encoder_conv2d (Conv2D)         (None, 24, 24, 256)  62464       input_image[0][0]                \n",
      "__________________________________________________________________________________________________\n",
      "encoder_dropout (Dropout)       (None, 24, 24, 256)  0           encoder_conv2d[0][0]             \n",
      "__________________________________________________________________________________________________\n",
      "encoder_feature_caps_conv2d (Co (None, 10, 10, 256)  1638656     encoder_dropout[0][0]            \n",
      "__________________________________________________________________________________________________\n",
      "encoder_feature_caps_reshape (R (None, 1600, 16)     0           encoder_feature_caps_conv2d[0][0]\n",
      "__________________________________________________________________________________________________\n",
      "encoder_feature_caps_squash (La (None, 1600, 16)     0           encoder_feature_caps_reshape[0][0\n",
      "__________________________________________________________________________________________________\n",
      "encoder_pred_caps (PredictionCa (None, 42, 32)       34406400    encoder_feature_caps_squash[0][0]\n",
      "__________________________________________________________________________________________________\n",
      "input_label (InputLayer)        (None, 42)           0                                            \n",
      "__________________________________________________________________________________________________\n",
      "mask (Mask)                     (None, 1344)         0           encoder_pred_caps[0][0]          \n",
      "                                                                 input_label[0][0]                \n",
      "__________________________________________________________________________________________________\n",
      "capsnet (Lambda)                (None, 42)           0           encoder_pred_caps[0][0]          \n",
      "__________________________________________________________________________________________________\n",
      "decoder (Sequential)            (None, 32, 32, 3)    15679       mask[0][0]                       \n",
      "==================================================================================================\n",
      "Total params: 36,123,199\n",
      "Trainable params: 36,123,199\n",
      "Non-trainable params: 0\n",
      "__________________________________________________________________________________________________\n"
     ]
    }
   ],
   "source": [
    "model = CapsNet(\n",
    "    x_train.shape[1:],\n",
    "    len(np.unique(y_train, axis=0)),\n",
    "    routing_iters=1\n",
    ")\n",
    "model.summary()"
   ]
  },
  {
   "cell_type": "code",
   "execution_count": 10,
   "metadata": {
    "colab": {
     "base_uri": "https://localhost:8080/",
     "height": 6888
    },
    "colab_type": "code",
    "id": "khy5eJS_ul2B",
    "outputId": "fb7753f2-b4a7-4a8f-cc00-db4c7ebb3260"
   },
   "outputs": [
    {
     "name": "stdout",
     "output_type": "stream",
     "text": [
      "WARNING:tensorflow:From /usr/local/lib/python3.6/dist-packages/tensorflow/python/ops/math_ops.py:3066: to_int32 (from tensorflow.python.ops.math_ops) is deprecated and will be removed in a future version.\n",
      "Instructions for updating:\n",
      "Use tf.cast instead.\n",
      "Epoch 1/100\n",
      "207/207 [==============================] - 19s 90ms/step - loss: 0.6059 - capsnet_loss: 0.6058 - decoder_loss: 0.0433 - capsnet_acc: 0.1981 - val_loss: 0.5950 - val_capsnet_loss: 0.5950 - val_decoder_loss: 0.0439 - val_capsnet_acc: 0.1969\n",
      "\n",
      "Epoch 00001: val_capsnet_acc improved from -inf to 0.19691, saving model to model/weights.01.h5\n",
      "Epoch 2/100\n",
      "207/207 [==============================] - 16s 76ms/step - loss: 0.5774 - capsnet_loss: 0.5774 - decoder_loss: 0.0405 - capsnet_acc: 0.2029 - val_loss: 0.5795 - val_capsnet_loss: 0.5795 - val_decoder_loss: 0.0399 - val_capsnet_acc: 0.1969\n",
      "\n",
      "Epoch 00002: val_capsnet_acc did not improve from 0.19691\n",
      "Epoch 3/100\n",
      "207/207 [==============================] - 16s 76ms/step - loss: 0.5729 - capsnet_loss: 0.5729 - decoder_loss: 0.0357 - capsnet_acc: 0.2068 - val_loss: 0.5812 - val_capsnet_loss: 0.5812 - val_decoder_loss: 0.0345 - val_capsnet_acc: 0.1969\n",
      "\n",
      "Epoch 00003: val_capsnet_acc did not improve from 0.19691\n",
      "Epoch 4/100\n",
      "207/207 [==============================] - 16s 76ms/step - loss: 0.5663 - capsnet_loss: 0.5663 - decoder_loss: 0.0328 - capsnet_acc: 0.2068 - val_loss: 0.5615 - val_capsnet_loss: 0.5615 - val_decoder_loss: 0.0335 - val_capsnet_acc: 0.1969\n",
      "\n",
      "Epoch 00004: val_capsnet_acc did not improve from 0.19691\n",
      "Epoch 5/100\n",
      "207/207 [==============================] - 16s 79ms/step - loss: 0.5491 - capsnet_loss: 0.5490 - decoder_loss: 0.0326 - capsnet_acc: 0.2135 - val_loss: 0.5363 - val_capsnet_loss: 0.5363 - val_decoder_loss: 0.0333 - val_capsnet_acc: 0.2027\n",
      "\n",
      "Epoch 00005: val_capsnet_acc improved from 0.19691 to 0.20270, saving model to model/weights.05.h5\n",
      "Epoch 6/100\n",
      "207/207 [==============================] - 16s 77ms/step - loss: 0.5347 - capsnet_loss: 0.5346 - decoder_loss: 0.0323 - capsnet_acc: 0.2275 - val_loss: 0.5309 - val_capsnet_loss: 0.5309 - val_decoder_loss: 0.0331 - val_capsnet_acc: 0.2162\n",
      "\n",
      "Epoch 00006: val_capsnet_acc improved from 0.20270 to 0.21622, saving model to model/weights.06.h5\n",
      "Epoch 7/100\n",
      "207/207 [==============================] - 17s 80ms/step - loss: 0.5214 - capsnet_loss: 0.5214 - decoder_loss: 0.0322 - capsnet_acc: 0.2522 - val_loss: 0.5093 - val_capsnet_loss: 0.5093 - val_decoder_loss: 0.0329 - val_capsnet_acc: 0.2645\n",
      "\n",
      "Epoch 00007: val_capsnet_acc improved from 0.21622 to 0.26448, saving model to model/weights.07.h5\n",
      "Epoch 8/100\n",
      "207/207 [==============================] - 16s 77ms/step - loss: 0.5098 - capsnet_loss: 0.5097 - decoder_loss: 0.0319 - capsnet_acc: 0.2749 - val_loss: 0.5002 - val_capsnet_loss: 0.5002 - val_decoder_loss: 0.0326 - val_capsnet_acc: 0.2568\n",
      "\n",
      "Epoch 00008: val_capsnet_acc did not improve from 0.26448\n",
      "Epoch 9/100\n",
      "207/207 [==============================] - 16s 77ms/step - loss: 0.5001 - capsnet_loss: 0.5001 - decoder_loss: 0.0317 - capsnet_acc: 0.2845 - val_loss: 0.4925 - val_capsnet_loss: 0.4925 - val_decoder_loss: 0.0323 - val_capsnet_acc: 0.2896\n",
      "\n",
      "Epoch 00009: val_capsnet_acc improved from 0.26448 to 0.28958, saving model to model/weights.09.h5\n",
      "Epoch 10/100\n",
      "207/207 [==============================] - 16s 78ms/step - loss: 0.4941 - capsnet_loss: 0.4941 - decoder_loss: 0.0313 - capsnet_acc: 0.2995 - val_loss: 0.4865 - val_capsnet_loss: 0.4865 - val_decoder_loss: 0.0319 - val_capsnet_acc: 0.3031\n",
      "\n",
      "Epoch 00010: val_capsnet_acc improved from 0.28958 to 0.30309, saving model to model/weights.10.h5\n",
      "Epoch 11/100\n",
      "207/207 [==============================] - 16s 79ms/step - loss: 0.4854 - capsnet_loss: 0.4854 - decoder_loss: 0.0309 - capsnet_acc: 0.3092 - val_loss: 0.4786 - val_capsnet_loss: 0.4785 - val_decoder_loss: 0.0315 - val_capsnet_acc: 0.3263\n",
      "\n",
      "Epoch 00011: val_capsnet_acc improved from 0.30309 to 0.32625, saving model to model/weights.11.h5\n",
      "Epoch 12/100\n",
      "207/207 [==============================] - 16s 77ms/step - loss: 0.4778 - capsnet_loss: 0.4778 - decoder_loss: 0.0307 - capsnet_acc: 0.3217 - val_loss: 0.4735 - val_capsnet_loss: 0.4734 - val_decoder_loss: 0.0311 - val_capsnet_acc: 0.3301\n",
      "\n",
      "Epoch 00012: val_capsnet_acc improved from 0.32625 to 0.33012, saving model to model/weights.12.h5\n",
      "Epoch 13/100\n",
      "207/207 [==============================] - 16s 79ms/step - loss: 0.4732 - capsnet_loss: 0.4732 - decoder_loss: 0.0304 - capsnet_acc: 0.3440 - val_loss: 0.4778 - val_capsnet_loss: 0.4778 - val_decoder_loss: 0.0308 - val_capsnet_acc: 0.3089\n",
      "\n",
      "Epoch 00013: val_capsnet_acc did not improve from 0.33012\n",
      "Epoch 14/100\n",
      "207/207 [==============================] - 16s 78ms/step - loss: 0.4744 - capsnet_loss: 0.4744 - decoder_loss: 0.0301 - capsnet_acc: 0.3319 - val_loss: 0.4702 - val_capsnet_loss: 0.4702 - val_decoder_loss: 0.0305 - val_capsnet_acc: 0.3224\n",
      "\n",
      "Epoch 00014: val_capsnet_acc did not improve from 0.33012\n",
      "Epoch 15/100\n",
      "207/207 [==============================] - 16s 78ms/step - loss: 0.4664 - capsnet_loss: 0.4664 - decoder_loss: 0.0298 - capsnet_acc: 0.3425 - val_loss: 0.4648 - val_capsnet_loss: 0.4648 - val_decoder_loss: 0.0302 - val_capsnet_acc: 0.3668\n",
      "\n",
      "Epoch 00015: val_capsnet_acc improved from 0.33012 to 0.36680, saving model to model/weights.15.h5\n",
      "Epoch 16/100\n",
      "207/207 [==============================] - 16s 78ms/step - loss: 0.4653 - capsnet_loss: 0.4653 - decoder_loss: 0.0296 - capsnet_acc: 0.3493 - val_loss: 0.4603 - val_capsnet_loss: 0.4603 - val_decoder_loss: 0.0300 - val_capsnet_acc: 0.3668\n",
      "\n",
      "Epoch 00016: val_capsnet_acc improved from 0.36680 to 0.36680, saving model to model/weights.16.h5\n",
      "Epoch 17/100\n",
      "207/207 [==============================] - 16s 77ms/step - loss: 0.4620 - capsnet_loss: 0.4620 - decoder_loss: 0.0294 - capsnet_acc: 0.3522 - val_loss: 0.4591 - val_capsnet_loss: 0.4591 - val_decoder_loss: 0.0298 - val_capsnet_acc: 0.3571\n",
      "\n",
      "Epoch 00017: val_capsnet_acc did not improve from 0.36680\n",
      "Epoch 18/100\n",
      "207/207 [==============================] - 16s 78ms/step - loss: 0.4589 - capsnet_loss: 0.4589 - decoder_loss: 0.0292 - capsnet_acc: 0.3575 - val_loss: 0.4559 - val_capsnet_loss: 0.4559 - val_decoder_loss: 0.0296 - val_capsnet_acc: 0.3629\n",
      "\n",
      "Epoch 00018: val_capsnet_acc did not improve from 0.36680\n",
      "Epoch 19/100\n",
      "207/207 [==============================] - 16s 78ms/step - loss: 0.4574 - capsnet_loss: 0.4573 - decoder_loss: 0.0290 - capsnet_acc: 0.3652 - val_loss: 0.4554 - val_capsnet_loss: 0.4554 - val_decoder_loss: 0.0295 - val_capsnet_acc: 0.3552\n",
      "\n",
      "Epoch 00019: val_capsnet_acc did not improve from 0.36680\n",
      "Epoch 20/100\n",
      "207/207 [==============================] - 17s 80ms/step - loss: 0.4532 - capsnet_loss: 0.4532 - decoder_loss: 0.0290 - capsnet_acc: 0.3671 - val_loss: 0.4517 - val_capsnet_loss: 0.4517 - val_decoder_loss: 0.0293 - val_capsnet_acc: 0.3687\n",
      "\n",
      "Epoch 00020: val_capsnet_acc improved from 0.36680 to 0.36873, saving model to model/weights.20.h5\n",
      "Epoch 21/100\n",
      "207/207 [==============================] - 16s 77ms/step - loss: 0.4523 - capsnet_loss: 0.4523 - decoder_loss: 0.0289 - capsnet_acc: 0.3676 - val_loss: 0.4530 - val_capsnet_loss: 0.4530 - val_decoder_loss: 0.0292 - val_capsnet_acc: 0.3552\n",
      "\n",
      "Epoch 00021: val_capsnet_acc did not improve from 0.36873\n",
      "Epoch 22/100\n",
      "207/207 [==============================] - 16s 78ms/step - loss: 0.4498 - capsnet_loss: 0.4498 - decoder_loss: 0.0290 - capsnet_acc: 0.3797 - val_loss: 0.4504 - val_capsnet_loss: 0.4504 - val_decoder_loss: 0.0292 - val_capsnet_acc: 0.3687\n",
      "\n",
      "Epoch 00022: val_capsnet_acc did not improve from 0.36873\n",
      "Epoch 23/100\n",
      "207/207 [==============================] - 16s 77ms/step - loss: 0.4507 - capsnet_loss: 0.4507 - decoder_loss: 0.0287 - capsnet_acc: 0.3628 - val_loss: 0.4487 - val_capsnet_loss: 0.4487 - val_decoder_loss: 0.0291 - val_capsnet_acc: 0.3668\n",
      "\n",
      "Epoch 00023: val_capsnet_acc did not improve from 0.36873\n",
      "Epoch 24/100\n",
      "207/207 [==============================] - 16s 78ms/step - loss: 0.4496 - capsnet_loss: 0.4496 - decoder_loss: 0.0287 - capsnet_acc: 0.3681 - val_loss: 0.4465 - val_capsnet_loss: 0.4465 - val_decoder_loss: 0.0290 - val_capsnet_acc: 0.3764\n",
      "\n",
      "Epoch 00024: val_capsnet_acc improved from 0.36873 to 0.37645, saving model to model/weights.24.h5\n",
      "Epoch 25/100\n",
      "207/207 [==============================] - 16s 78ms/step - loss: 0.4458 - capsnet_loss: 0.4458 - decoder_loss: 0.0288 - capsnet_acc: 0.3768 - val_loss: 0.4466 - val_capsnet_loss: 0.4465 - val_decoder_loss: 0.0290 - val_capsnet_acc: 0.3784\n",
      "\n",
      "Epoch 00025: val_capsnet_acc improved from 0.37645 to 0.37838, saving model to model/weights.25.h5\n",
      "Epoch 26/100\n",
      "207/207 [==============================] - 16s 78ms/step - loss: 0.4462 - capsnet_loss: 0.4462 - decoder_loss: 0.0286 - capsnet_acc: 0.3855 - val_loss: 0.4447 - val_capsnet_loss: 0.4447 - val_decoder_loss: 0.0289 - val_capsnet_acc: 0.3861\n",
      "\n",
      "Epoch 00026: val_capsnet_acc improved from 0.37838 to 0.38610, saving model to model/weights.26.h5\n",
      "Epoch 27/100\n",
      "207/207 [==============================] - 16s 77ms/step - loss: 0.4450 - capsnet_loss: 0.4450 - decoder_loss: 0.0285 - capsnet_acc: 0.3850 - val_loss: 0.4434 - val_capsnet_loss: 0.4434 - val_decoder_loss: 0.0289 - val_capsnet_acc: 0.3842\n",
      "\n",
      "Epoch 00027: val_capsnet_acc did not improve from 0.38610\n",
      "Epoch 28/100\n",
      "207/207 [==============================] - 16s 78ms/step - loss: 0.4482 - capsnet_loss: 0.4482 - decoder_loss: 0.0286 - capsnet_acc: 0.3773 - val_loss: 0.4433 - val_capsnet_loss: 0.4433 - val_decoder_loss: 0.0288 - val_capsnet_acc: 0.3842\n",
      "\n",
      "Epoch 00028: val_capsnet_acc did not improve from 0.38610\n",
      "Epoch 29/100\n",
      "207/207 [==============================] - 16s 78ms/step - loss: 0.4425 - capsnet_loss: 0.4425 - decoder_loss: 0.0286 - capsnet_acc: 0.3874 - val_loss: 0.4422 - val_capsnet_loss: 0.4422 - val_decoder_loss: 0.0288 - val_capsnet_acc: 0.3900\n",
      "\n",
      "Epoch 00029: val_capsnet_acc improved from 0.38610 to 0.38996, saving model to model/weights.29.h5\n",
      "Epoch 30/100\n",
      "207/207 [==============================] - 16s 78ms/step - loss: 0.4426 - capsnet_loss: 0.4426 - decoder_loss: 0.0286 - capsnet_acc: 0.3908 - val_loss: 0.4420 - val_capsnet_loss: 0.4419 - val_decoder_loss: 0.0288 - val_capsnet_acc: 0.3938\n",
      "\n",
      "Epoch 00030: val_capsnet_acc improved from 0.38996 to 0.39382, saving model to model/weights.30.h5\n",
      "Epoch 31/100\n",
      "207/207 [==============================] - 16s 78ms/step - loss: 0.4410 - capsnet_loss: 0.4410 - decoder_loss: 0.0285 - capsnet_acc: 0.3899 - val_loss: 0.4419 - val_capsnet_loss: 0.4419 - val_decoder_loss: 0.0288 - val_capsnet_acc: 0.3938\n",
      "\n",
      "Epoch 00031: val_capsnet_acc did not improve from 0.39382\n",
      "Epoch 32/100\n",
      "207/207 [==============================] - 16s 78ms/step - loss: 0.4409 - capsnet_loss: 0.4409 - decoder_loss: 0.0285 - capsnet_acc: 0.3831 - val_loss: 0.4419 - val_capsnet_loss: 0.4419 - val_decoder_loss: 0.0287 - val_capsnet_acc: 0.3938\n",
      "\n",
      "Epoch 00032: val_capsnet_acc did not improve from 0.39382\n",
      "Epoch 33/100\n",
      "207/207 [==============================] - 16s 78ms/step - loss: 0.4420 - capsnet_loss: 0.4420 - decoder_loss: 0.0284 - capsnet_acc: 0.3908 - val_loss: 0.4418 - val_capsnet_loss: 0.4417 - val_decoder_loss: 0.0287 - val_capsnet_acc: 0.3938\n",
      "\n",
      "Epoch 00033: val_capsnet_acc did not improve from 0.39382\n",
      "Epoch 34/100\n",
      "207/207 [==============================] - 16s 78ms/step - loss: 0.4423 - capsnet_loss: 0.4423 - decoder_loss: 0.0283 - capsnet_acc: 0.3903 - val_loss: 0.4407 - val_capsnet_loss: 0.4407 - val_decoder_loss: 0.0287 - val_capsnet_acc: 0.3919\n",
      "\n",
      "Epoch 00034: val_capsnet_acc did not improve from 0.39382\n",
      "Epoch 35/100\n",
      "207/207 [==============================] - 16s 79ms/step - loss: 0.4408 - capsnet_loss: 0.4408 - decoder_loss: 0.0284 - capsnet_acc: 0.3971 - val_loss: 0.4407 - val_capsnet_loss: 0.4406 - val_decoder_loss: 0.0287 - val_capsnet_acc: 0.3938\n",
      "\n",
      "Epoch 00035: val_capsnet_acc did not improve from 0.39382\n",
      "Epoch 36/100\n",
      "207/207 [==============================] - 16s 78ms/step - loss: 0.4409 - capsnet_loss: 0.4409 - decoder_loss: 0.0285 - capsnet_acc: 0.3928 - val_loss: 0.4414 - val_capsnet_loss: 0.4414 - val_decoder_loss: 0.0287 - val_capsnet_acc: 0.3900\n",
      "\n",
      "Epoch 00036: val_capsnet_acc did not improve from 0.39382\n",
      "Epoch 37/100\n",
      "207/207 [==============================] - 16s 79ms/step - loss: 0.4411 - capsnet_loss: 0.4411 - decoder_loss: 0.0286 - capsnet_acc: 0.3966 - val_loss: 0.4400 - val_capsnet_loss: 0.4400 - val_decoder_loss: 0.0287 - val_capsnet_acc: 0.3958\n",
      "\n",
      "Epoch 00037: val_capsnet_acc improved from 0.39382 to 0.39575, saving model to model/weights.37.h5\n",
      "Epoch 38/100\n",
      "207/207 [==============================] - 16s 78ms/step - loss: 0.4424 - capsnet_loss: 0.4424 - decoder_loss: 0.0284 - capsnet_acc: 0.3879 - val_loss: 0.4408 - val_capsnet_loss: 0.4408 - val_decoder_loss: 0.0287 - val_capsnet_acc: 0.3938\n",
      "\n",
      "Epoch 00038: val_capsnet_acc did not improve from 0.39575\n",
      "Epoch 39/100\n",
      "207/207 [==============================] - 16s 78ms/step - loss: 0.4418 - capsnet_loss: 0.4418 - decoder_loss: 0.0285 - capsnet_acc: 0.3816 - val_loss: 0.4394 - val_capsnet_loss: 0.4394 - val_decoder_loss: 0.0286 - val_capsnet_acc: 0.3958\n",
      "\n",
      "Epoch 00039: val_capsnet_acc improved from 0.39575 to 0.39575, saving model to model/weights.39.h5\n",
      "Epoch 40/100\n",
      "207/207 [==============================] - 16s 78ms/step - loss: 0.4364 - capsnet_loss: 0.4364 - decoder_loss: 0.0283 - capsnet_acc: 0.3976 - val_loss: 0.4396 - val_capsnet_loss: 0.4396 - val_decoder_loss: 0.0286 - val_capsnet_acc: 0.3958\n",
      "\n",
      "Epoch 00040: val_capsnet_acc did not improve from 0.39575\n",
      "Epoch 41/100\n",
      "207/207 [==============================] - 16s 78ms/step - loss: 0.4405 - capsnet_loss: 0.4405 - decoder_loss: 0.0284 - capsnet_acc: 0.3879 - val_loss: 0.4395 - val_capsnet_loss: 0.4395 - val_decoder_loss: 0.0286 - val_capsnet_acc: 0.3958\n",
      "\n",
      "Epoch 00041: val_capsnet_acc did not improve from 0.39575\n",
      "Epoch 42/100\n",
      "207/207 [==============================] - 16s 77ms/step - loss: 0.4387 - capsnet_loss: 0.4386 - decoder_loss: 0.0283 - capsnet_acc: 0.3879 - val_loss: 0.4394 - val_capsnet_loss: 0.4394 - val_decoder_loss: 0.0286 - val_capsnet_acc: 0.3958\n",
      "\n",
      "Epoch 00042: val_capsnet_acc did not improve from 0.39575\n",
      "Epoch 43/100\n",
      "207/207 [==============================] - 16s 79ms/step - loss: 0.4414 - capsnet_loss: 0.4413 - decoder_loss: 0.0285 - capsnet_acc: 0.3966 - val_loss: 0.4396 - val_capsnet_loss: 0.4396 - val_decoder_loss: 0.0286 - val_capsnet_acc: 0.3958\n",
      "\n",
      "Epoch 00043: val_capsnet_acc did not improve from 0.39575\n",
      "Epoch 44/100\n",
      "207/207 [==============================] - 16s 79ms/step - loss: 0.4368 - capsnet_loss: 0.4368 - decoder_loss: 0.0286 - capsnet_acc: 0.3932 - val_loss: 0.4393 - val_capsnet_loss: 0.4393 - val_decoder_loss: 0.0286 - val_capsnet_acc: 0.3938\n",
      "\n",
      "Epoch 00044: val_capsnet_acc did not improve from 0.39575\n",
      "Epoch 45/100\n",
      "207/207 [==============================] - 16s 79ms/step - loss: 0.4364 - capsnet_loss: 0.4364 - decoder_loss: 0.0283 - capsnet_acc: 0.4039 - val_loss: 0.4391 - val_capsnet_loss: 0.4391 - val_decoder_loss: 0.0286 - val_capsnet_acc: 0.3977\n",
      "\n",
      "Epoch 00045: val_capsnet_acc improved from 0.39575 to 0.39768, saving model to model/weights.45.h5\n",
      "Epoch 46/100\n",
      "207/207 [==============================] - 16s 78ms/step - loss: 0.4376 - capsnet_loss: 0.4375 - decoder_loss: 0.0283 - capsnet_acc: 0.3889 - val_loss: 0.4390 - val_capsnet_loss: 0.4390 - val_decoder_loss: 0.0286 - val_capsnet_acc: 0.4015\n",
      "\n",
      "Epoch 00046: val_capsnet_acc improved from 0.39768 to 0.40154, saving model to model/weights.46.h5\n",
      "Epoch 47/100\n",
      "207/207 [==============================] - 16s 77ms/step - loss: 0.4394 - capsnet_loss: 0.4394 - decoder_loss: 0.0284 - capsnet_acc: 0.4014 - val_loss: 0.4391 - val_capsnet_loss: 0.4391 - val_decoder_loss: 0.0286 - val_capsnet_acc: 0.3919\n",
      "\n",
      "Epoch 00047: val_capsnet_acc did not improve from 0.40154\n",
      "Epoch 48/100\n",
      "207/207 [==============================] - 16s 77ms/step - loss: 0.4360 - capsnet_loss: 0.4359 - decoder_loss: 0.0285 - capsnet_acc: 0.4063 - val_loss: 0.4389 - val_capsnet_loss: 0.4389 - val_decoder_loss: 0.0286 - val_capsnet_acc: 0.3977\n",
      "\n",
      "Epoch 00048: val_capsnet_acc did not improve from 0.40154\n",
      "Epoch 49/100\n",
      "207/207 [==============================] - 16s 78ms/step - loss: 0.4393 - capsnet_loss: 0.4393 - decoder_loss: 0.0283 - capsnet_acc: 0.3932 - val_loss: 0.4389 - val_capsnet_loss: 0.4389 - val_decoder_loss: 0.0286 - val_capsnet_acc: 0.3958\n",
      "\n",
      "Epoch 00049: val_capsnet_acc did not improve from 0.40154\n",
      "Epoch 50/100\n",
      "207/207 [==============================] - 16s 80ms/step - loss: 0.4398 - capsnet_loss: 0.4397 - decoder_loss: 0.0283 - capsnet_acc: 0.4048 - val_loss: 0.4388 - val_capsnet_loss: 0.4387 - val_decoder_loss: 0.0286 - val_capsnet_acc: 0.3938\n",
      "\n",
      "Epoch 00050: val_capsnet_acc did not improve from 0.40154\n",
      "Epoch 51/100\n",
      "207/207 [==============================] - 16s 78ms/step - loss: 0.4382 - capsnet_loss: 0.4382 - decoder_loss: 0.0284 - capsnet_acc: 0.3976 - val_loss: 0.4388 - val_capsnet_loss: 0.4387 - val_decoder_loss: 0.0286 - val_capsnet_acc: 0.3938\n",
      "\n",
      "Epoch 00051: val_capsnet_acc did not improve from 0.40154\n",
      "Epoch 52/100\n",
      "207/207 [==============================] - 16s 78ms/step - loss: 0.4399 - capsnet_loss: 0.4399 - decoder_loss: 0.0284 - capsnet_acc: 0.3937 - val_loss: 0.4387 - val_capsnet_loss: 0.4387 - val_decoder_loss: 0.0286 - val_capsnet_acc: 0.3938\n",
      "\n",
      "Epoch 00052: val_capsnet_acc did not improve from 0.40154\n",
      "Epoch 53/100\n",
      "207/207 [==============================] - 16s 77ms/step - loss: 0.4366 - capsnet_loss: 0.4366 - decoder_loss: 0.0283 - capsnet_acc: 0.3976 - val_loss: 0.4387 - val_capsnet_loss: 0.4387 - val_decoder_loss: 0.0286 - val_capsnet_acc: 0.3938\n",
      "\n",
      "Epoch 00053: val_capsnet_acc did not improve from 0.40154\n",
      "Epoch 54/100\n",
      "207/207 [==============================] - 16s 78ms/step - loss: 0.4372 - capsnet_loss: 0.4372 - decoder_loss: 0.0285 - capsnet_acc: 0.3966 - val_loss: 0.4386 - val_capsnet_loss: 0.4386 - val_decoder_loss: 0.0286 - val_capsnet_acc: 0.3938\n",
      "\n",
      "Epoch 00054: val_capsnet_acc did not improve from 0.40154\n",
      "Epoch 55/100\n",
      "207/207 [==============================] - 16s 78ms/step - loss: 0.4385 - capsnet_loss: 0.4385 - decoder_loss: 0.0284 - capsnet_acc: 0.3831 - val_loss: 0.4385 - val_capsnet_loss: 0.4385 - val_decoder_loss: 0.0286 - val_capsnet_acc: 0.3938\n",
      "\n",
      "Epoch 00055: val_capsnet_acc did not improve from 0.40154\n",
      "Epoch 56/100\n",
      "207/207 [==============================] - 16s 79ms/step - loss: 0.4386 - capsnet_loss: 0.4386 - decoder_loss: 0.0284 - capsnet_acc: 0.3889 - val_loss: 0.4386 - val_capsnet_loss: 0.4385 - val_decoder_loss: 0.0286 - val_capsnet_acc: 0.3977\n",
      "\n",
      "Epoch 00056: val_capsnet_acc did not improve from 0.40154\n",
      "Epoch 57/100\n",
      "207/207 [==============================] - 16s 77ms/step - loss: 0.4384 - capsnet_loss: 0.4384 - decoder_loss: 0.0283 - capsnet_acc: 0.3957 - val_loss: 0.4385 - val_capsnet_loss: 0.4385 - val_decoder_loss: 0.0286 - val_capsnet_acc: 0.3958\n",
      "\n",
      "Epoch 00057: val_capsnet_acc did not improve from 0.40154\n",
      "Epoch 58/100\n",
      "207/207 [==============================] - 16s 78ms/step - loss: 0.4343 - capsnet_loss: 0.4342 - decoder_loss: 0.0284 - capsnet_acc: 0.4005 - val_loss: 0.4385 - val_capsnet_loss: 0.4384 - val_decoder_loss: 0.0286 - val_capsnet_acc: 0.3938\n",
      "\n",
      "Epoch 00058: val_capsnet_acc did not improve from 0.40154\n",
      "Epoch 59/100\n",
      "207/207 [==============================] - 17s 82ms/step - loss: 0.4381 - capsnet_loss: 0.4381 - decoder_loss: 0.0283 - capsnet_acc: 0.3874 - val_loss: 0.4384 - val_capsnet_loss: 0.4384 - val_decoder_loss: 0.0286 - val_capsnet_acc: 0.3938\n",
      "\n",
      "Epoch 00059: val_capsnet_acc did not improve from 0.40154\n",
      "Epoch 60/100\n",
      "207/207 [==============================] - 16s 78ms/step - loss: 0.4380 - capsnet_loss: 0.4380 - decoder_loss: 0.0284 - capsnet_acc: 0.3947 - val_loss: 0.4385 - val_capsnet_loss: 0.4384 - val_decoder_loss: 0.0286 - val_capsnet_acc: 0.3938\n",
      "\n",
      "Epoch 00060: val_capsnet_acc did not improve from 0.40154\n",
      "Epoch 61/100\n",
      "207/207 [==============================] - 16s 78ms/step - loss: 0.4358 - capsnet_loss: 0.4358 - decoder_loss: 0.0284 - capsnet_acc: 0.4019 - val_loss: 0.4384 - val_capsnet_loss: 0.4384 - val_decoder_loss: 0.0286 - val_capsnet_acc: 0.3938\n",
      "\n",
      "Epoch 00061: val_capsnet_acc did not improve from 0.40154\n",
      "Epoch 62/100\n",
      "207/207 [==============================] - 16s 77ms/step - loss: 0.4355 - capsnet_loss: 0.4355 - decoder_loss: 0.0281 - capsnet_acc: 0.3986 - val_loss: 0.4384 - val_capsnet_loss: 0.4384 - val_decoder_loss: 0.0286 - val_capsnet_acc: 0.3938\n",
      "\n",
      "Epoch 00062: val_capsnet_acc did not improve from 0.40154\n",
      "Epoch 63/100\n",
      "207/207 [==============================] - 16s 77ms/step - loss: 0.4355 - capsnet_loss: 0.4355 - decoder_loss: 0.0283 - capsnet_acc: 0.3986 - val_loss: 0.4384 - val_capsnet_loss: 0.4384 - val_decoder_loss: 0.0286 - val_capsnet_acc: 0.3938\n",
      "\n",
      "Epoch 00063: val_capsnet_acc did not improve from 0.40154\n",
      "Epoch 64/100\n",
      "207/207 [==============================] - 16s 78ms/step - loss: 0.4352 - capsnet_loss: 0.4352 - decoder_loss: 0.0285 - capsnet_acc: 0.3976 - val_loss: 0.4384 - val_capsnet_loss: 0.4384 - val_decoder_loss: 0.0286 - val_capsnet_acc: 0.3958\n",
      "\n",
      "Epoch 00064: val_capsnet_acc did not improve from 0.40154\n",
      "Epoch 65/100\n",
      "207/207 [==============================] - 16s 79ms/step - loss: 0.4388 - capsnet_loss: 0.4388 - decoder_loss: 0.0285 - capsnet_acc: 0.3889 - val_loss: 0.4384 - val_capsnet_loss: 0.4384 - val_decoder_loss: 0.0286 - val_capsnet_acc: 0.3938\n",
      "\n",
      "Epoch 00065: val_capsnet_acc did not improve from 0.40154\n",
      "Epoch 66/100\n",
      "207/207 [==============================] - 16s 78ms/step - loss: 0.4353 - capsnet_loss: 0.4353 - decoder_loss: 0.0284 - capsnet_acc: 0.4014 - val_loss: 0.4384 - val_capsnet_loss: 0.4384 - val_decoder_loss: 0.0286 - val_capsnet_acc: 0.3958\n",
      "\n",
      "Epoch 00066: val_capsnet_acc did not improve from 0.40154\n",
      "Epoch 67/100\n",
      "207/207 [==============================] - 16s 79ms/step - loss: 0.4374 - capsnet_loss: 0.4374 - decoder_loss: 0.0283 - capsnet_acc: 0.3952 - val_loss: 0.4384 - val_capsnet_loss: 0.4384 - val_decoder_loss: 0.0286 - val_capsnet_acc: 0.3938\n",
      "\n",
      "Epoch 00067: val_capsnet_acc did not improve from 0.40154\n",
      "Epoch 68/100\n",
      "207/207 [==============================] - 16s 78ms/step - loss: 0.4366 - capsnet_loss: 0.4366 - decoder_loss: 0.0284 - capsnet_acc: 0.3971 - val_loss: 0.4383 - val_capsnet_loss: 0.4383 - val_decoder_loss: 0.0286 - val_capsnet_acc: 0.3958\n",
      "\n",
      "Epoch 00068: val_capsnet_acc did not improve from 0.40154\n",
      "Epoch 69/100\n",
      "207/207 [==============================] - 16s 79ms/step - loss: 0.4367 - capsnet_loss: 0.4367 - decoder_loss: 0.0285 - capsnet_acc: 0.3932 - val_loss: 0.4383 - val_capsnet_loss: 0.4383 - val_decoder_loss: 0.0286 - val_capsnet_acc: 0.3958\n",
      "\n",
      "Epoch 00069: val_capsnet_acc did not improve from 0.40154\n",
      "Epoch 70/100\n",
      "207/207 [==============================] - 16s 79ms/step - loss: 0.4390 - capsnet_loss: 0.4389 - decoder_loss: 0.0284 - capsnet_acc: 0.3889 - val_loss: 0.4384 - val_capsnet_loss: 0.4383 - val_decoder_loss: 0.0286 - val_capsnet_acc: 0.3938\n",
      "\n",
      "Epoch 00070: val_capsnet_acc did not improve from 0.40154\n",
      "Epoch 71/100\n",
      "207/207 [==============================] - 16s 77ms/step - loss: 0.4360 - capsnet_loss: 0.4360 - decoder_loss: 0.0285 - capsnet_acc: 0.4043 - val_loss: 0.4383 - val_capsnet_loss: 0.4383 - val_decoder_loss: 0.0286 - val_capsnet_acc: 0.3938\n",
      "\n",
      "Epoch 00071: val_capsnet_acc did not improve from 0.40154\n",
      "Epoch 72/100\n",
      "207/207 [==============================] - 16s 78ms/step - loss: 0.4360 - capsnet_loss: 0.4359 - decoder_loss: 0.0286 - capsnet_acc: 0.3981 - val_loss: 0.4383 - val_capsnet_loss: 0.4383 - val_decoder_loss: 0.0286 - val_capsnet_acc: 0.3938\n",
      "\n",
      "Epoch 00072: val_capsnet_acc did not improve from 0.40154\n",
      "Epoch 73/100\n",
      "207/207 [==============================] - 17s 80ms/step - loss: 0.4357 - capsnet_loss: 0.4357 - decoder_loss: 0.0284 - capsnet_acc: 0.3966 - val_loss: 0.4383 - val_capsnet_loss: 0.4383 - val_decoder_loss: 0.0286 - val_capsnet_acc: 0.3938\n",
      "\n",
      "Epoch 00073: val_capsnet_acc did not improve from 0.40154\n",
      "Epoch 74/100\n",
      "207/207 [==============================] - 16s 79ms/step - loss: 0.4363 - capsnet_loss: 0.4362 - decoder_loss: 0.0283 - capsnet_acc: 0.3961 - val_loss: 0.4383 - val_capsnet_loss: 0.4383 - val_decoder_loss: 0.0286 - val_capsnet_acc: 0.3938\n",
      "\n",
      "Epoch 00074: val_capsnet_acc did not improve from 0.40154\n",
      "Epoch 75/100\n",
      "207/207 [==============================] - 16s 78ms/step - loss: 0.4359 - capsnet_loss: 0.4358 - decoder_loss: 0.0285 - capsnet_acc: 0.3957 - val_loss: 0.4383 - val_capsnet_loss: 0.4383 - val_decoder_loss: 0.0286 - val_capsnet_acc: 0.3938\n",
      "\n",
      "Epoch 00075: val_capsnet_acc did not improve from 0.40154\n",
      "Epoch 76/100\n",
      "207/207 [==============================] - 16s 78ms/step - loss: 0.4352 - capsnet_loss: 0.4352 - decoder_loss: 0.0282 - capsnet_acc: 0.4082 - val_loss: 0.4383 - val_capsnet_loss: 0.4383 - val_decoder_loss: 0.0286 - val_capsnet_acc: 0.3938\n",
      "\n",
      "Epoch 00076: val_capsnet_acc did not improve from 0.40154\n",
      "Epoch 77/100\n",
      "207/207 [==============================] - 16s 77ms/step - loss: 0.4398 - capsnet_loss: 0.4398 - decoder_loss: 0.0284 - capsnet_acc: 0.3986 - val_loss: 0.4383 - val_capsnet_loss: 0.4383 - val_decoder_loss: 0.0286 - val_capsnet_acc: 0.3938\n",
      "\n",
      "Epoch 00077: val_capsnet_acc did not improve from 0.40154\n",
      "Epoch 78/100\n",
      "207/207 [==============================] - 16s 78ms/step - loss: 0.4379 - capsnet_loss: 0.4379 - decoder_loss: 0.0283 - capsnet_acc: 0.3850 - val_loss: 0.4383 - val_capsnet_loss: 0.4383 - val_decoder_loss: 0.0286 - val_capsnet_acc: 0.3938\n",
      "\n",
      "Epoch 00078: val_capsnet_acc did not improve from 0.40154\n",
      "Epoch 79/100\n",
      "207/207 [==============================] - 16s 78ms/step - loss: 0.4356 - capsnet_loss: 0.4356 - decoder_loss: 0.0283 - capsnet_acc: 0.3942 - val_loss: 0.4383 - val_capsnet_loss: 0.4383 - val_decoder_loss: 0.0286 - val_capsnet_acc: 0.3938\n",
      "\n",
      "Epoch 00079: val_capsnet_acc did not improve from 0.40154\n",
      "Epoch 80/100\n",
      "207/207 [==============================] - 16s 78ms/step - loss: 0.4369 - capsnet_loss: 0.4369 - decoder_loss: 0.0284 - capsnet_acc: 0.3961 - val_loss: 0.4383 - val_capsnet_loss: 0.4383 - val_decoder_loss: 0.0286 - val_capsnet_acc: 0.3938\n",
      "\n",
      "Epoch 00080: val_capsnet_acc did not improve from 0.40154\n",
      "Epoch 81/100\n",
      "207/207 [==============================] - 16s 79ms/step - loss: 0.4350 - capsnet_loss: 0.4350 - decoder_loss: 0.0283 - capsnet_acc: 0.3966 - val_loss: 0.4383 - val_capsnet_loss: 0.4383 - val_decoder_loss: 0.0286 - val_capsnet_acc: 0.3938\n",
      "\n",
      "Epoch 00081: val_capsnet_acc did not improve from 0.40154\n",
      "Epoch 82/100\n",
      "207/207 [==============================] - 16s 78ms/step - loss: 0.4330 - capsnet_loss: 0.4330 - decoder_loss: 0.0282 - capsnet_acc: 0.4010 - val_loss: 0.4383 - val_capsnet_loss: 0.4382 - val_decoder_loss: 0.0286 - val_capsnet_acc: 0.3938\n",
      "\n",
      "Epoch 00082: val_capsnet_acc did not improve from 0.40154\n",
      "Epoch 83/100\n",
      "207/207 [==============================] - 16s 79ms/step - loss: 0.4364 - capsnet_loss: 0.4363 - decoder_loss: 0.0284 - capsnet_acc: 0.3942 - val_loss: 0.4383 - val_capsnet_loss: 0.4383 - val_decoder_loss: 0.0286 - val_capsnet_acc: 0.3938\n",
      "\n",
      "Epoch 00083: val_capsnet_acc did not improve from 0.40154\n",
      "Epoch 84/100\n",
      "207/207 [==============================] - 16s 78ms/step - loss: 0.4375 - capsnet_loss: 0.4375 - decoder_loss: 0.0282 - capsnet_acc: 0.3947 - val_loss: 0.4383 - val_capsnet_loss: 0.4383 - val_decoder_loss: 0.0286 - val_capsnet_acc: 0.3938\n",
      "\n",
      "Epoch 00084: val_capsnet_acc did not improve from 0.40154\n",
      "Epoch 85/100\n",
      "207/207 [==============================] - 16s 77ms/step - loss: 0.4363 - capsnet_loss: 0.4363 - decoder_loss: 0.0285 - capsnet_acc: 0.3874 - val_loss: 0.4383 - val_capsnet_loss: 0.4382 - val_decoder_loss: 0.0286 - val_capsnet_acc: 0.3938\n",
      "\n",
      "Epoch 00085: val_capsnet_acc did not improve from 0.40154\n",
      "Epoch 86/100\n",
      "207/207 [==============================] - 16s 77ms/step - loss: 0.4369 - capsnet_loss: 0.4369 - decoder_loss: 0.0284 - capsnet_acc: 0.3865 - val_loss: 0.4383 - val_capsnet_loss: 0.4382 - val_decoder_loss: 0.0286 - val_capsnet_acc: 0.3938\n",
      "\n",
      "Epoch 00086: val_capsnet_acc did not improve from 0.40154\n",
      "Epoch 87/100\n",
      "207/207 [==============================] - 16s 79ms/step - loss: 0.4368 - capsnet_loss: 0.4368 - decoder_loss: 0.0285 - capsnet_acc: 0.3923 - val_loss: 0.4383 - val_capsnet_loss: 0.4382 - val_decoder_loss: 0.0286 - val_capsnet_acc: 0.3958\n",
      "\n",
      "Epoch 00087: val_capsnet_acc did not improve from 0.40154\n",
      "Epoch 88/100\n",
      "207/207 [==============================] - 16s 77ms/step - loss: 0.4359 - capsnet_loss: 0.4359 - decoder_loss: 0.0283 - capsnet_acc: 0.4005 - val_loss: 0.4382 - val_capsnet_loss: 0.4382 - val_decoder_loss: 0.0286 - val_capsnet_acc: 0.3958\n",
      "\n",
      "Epoch 00088: val_capsnet_acc did not improve from 0.40154\n",
      "Epoch 89/100\n",
      "207/207 [==============================] - 16s 79ms/step - loss: 0.4383 - capsnet_loss: 0.4382 - decoder_loss: 0.0283 - capsnet_acc: 0.3894 - val_loss: 0.4382 - val_capsnet_loss: 0.4382 - val_decoder_loss: 0.0286 - val_capsnet_acc: 0.3958\n",
      "\n",
      "Epoch 00089: val_capsnet_acc did not improve from 0.40154\n",
      "Epoch 90/100\n",
      "207/207 [==============================] - 16s 78ms/step - loss: 0.4380 - capsnet_loss: 0.4379 - decoder_loss: 0.0284 - capsnet_acc: 0.3860 - val_loss: 0.4382 - val_capsnet_loss: 0.4382 - val_decoder_loss: 0.0286 - val_capsnet_acc: 0.3958\n",
      "\n",
      "Epoch 00090: val_capsnet_acc did not improve from 0.40154\n",
      "Epoch 91/100\n",
      "207/207 [==============================] - 16s 77ms/step - loss: 0.4361 - capsnet_loss: 0.4361 - decoder_loss: 0.0284 - capsnet_acc: 0.4106 - val_loss: 0.4382 - val_capsnet_loss: 0.4382 - val_decoder_loss: 0.0286 - val_capsnet_acc: 0.3958\n",
      "\n",
      "Epoch 00091: val_capsnet_acc did not improve from 0.40154\n",
      "Epoch 92/100\n",
      "207/207 [==============================] - 16s 78ms/step - loss: 0.4399 - capsnet_loss: 0.4399 - decoder_loss: 0.0283 - capsnet_acc: 0.3850 - val_loss: 0.4382 - val_capsnet_loss: 0.4382 - val_decoder_loss: 0.0286 - val_capsnet_acc: 0.3958\n",
      "\n",
      "Epoch 00092: val_capsnet_acc did not improve from 0.40154\n",
      "Epoch 93/100\n",
      "207/207 [==============================] - 16s 78ms/step - loss: 0.4348 - capsnet_loss: 0.4348 - decoder_loss: 0.0285 - capsnet_acc: 0.4029 - val_loss: 0.4382 - val_capsnet_loss: 0.4382 - val_decoder_loss: 0.0286 - val_capsnet_acc: 0.3958\n",
      "\n",
      "Epoch 00093: val_capsnet_acc did not improve from 0.40154\n",
      "Epoch 94/100\n",
      "207/207 [==============================] - 16s 79ms/step - loss: 0.4400 - capsnet_loss: 0.4400 - decoder_loss: 0.0285 - capsnet_acc: 0.3918 - val_loss: 0.4382 - val_capsnet_loss: 0.4382 - val_decoder_loss: 0.0286 - val_capsnet_acc: 0.3958\n",
      "\n",
      "Epoch 00094: val_capsnet_acc did not improve from 0.40154\n",
      "Epoch 95/100\n",
      "207/207 [==============================] - 16s 79ms/step - loss: 0.4383 - capsnet_loss: 0.4383 - decoder_loss: 0.0283 - capsnet_acc: 0.4029 - val_loss: 0.4382 - val_capsnet_loss: 0.4382 - val_decoder_loss: 0.0286 - val_capsnet_acc: 0.3958\n",
      "\n",
      "Epoch 00095: val_capsnet_acc did not improve from 0.40154\n",
      "Epoch 96/100\n",
      "207/207 [==============================] - 17s 80ms/step - loss: 0.4385 - capsnet_loss: 0.4385 - decoder_loss: 0.0284 - capsnet_acc: 0.3908 - val_loss: 0.4382 - val_capsnet_loss: 0.4382 - val_decoder_loss: 0.0286 - val_capsnet_acc: 0.3958\n",
      "\n",
      "Epoch 00096: val_capsnet_acc did not improve from 0.40154\n",
      "Epoch 97/100\n",
      "207/207 [==============================] - 16s 79ms/step - loss: 0.4377 - capsnet_loss: 0.4377 - decoder_loss: 0.0283 - capsnet_acc: 0.3928 - val_loss: 0.4382 - val_capsnet_loss: 0.4382 - val_decoder_loss: 0.0286 - val_capsnet_acc: 0.3958\n",
      "\n",
      "Epoch 00097: val_capsnet_acc did not improve from 0.40154\n",
      "Epoch 98/100\n",
      "207/207 [==============================] - 17s 80ms/step - loss: 0.4386 - capsnet_loss: 0.4386 - decoder_loss: 0.0284 - capsnet_acc: 0.3894 - val_loss: 0.4382 - val_capsnet_loss: 0.4382 - val_decoder_loss: 0.0286 - val_capsnet_acc: 0.3958\n",
      "\n",
      "Epoch 00098: val_capsnet_acc did not improve from 0.40154\n",
      "Epoch 99/100\n",
      "207/207 [==============================] - 16s 79ms/step - loss: 0.4390 - capsnet_loss: 0.4390 - decoder_loss: 0.0285 - capsnet_acc: 0.3894 - val_loss: 0.4382 - val_capsnet_loss: 0.4382 - val_decoder_loss: 0.0286 - val_capsnet_acc: 0.3958\n",
      "\n",
      "Epoch 00099: val_capsnet_acc did not improve from 0.40154\n",
      "Epoch 100/100\n",
      "207/207 [==============================] - 16s 79ms/step - loss: 0.4364 - capsnet_loss: 0.4364 - decoder_loss: 0.0284 - capsnet_acc: 0.3966 - val_loss: 0.4382 - val_capsnet_loss: 0.4382 - val_decoder_loss: 0.0286 - val_capsnet_acc: 0.3938\n",
      "\n",
      "Epoch 00100: val_capsnet_acc did not improve from 0.40154\n"
     ]
    }
   ],
   "source": [
    "history = model.train(data, batch_size=10, extra_callbacks=[tensor_board_callback])"
   ]
  },
  {
   "cell_type": "markdown",
   "metadata": {
    "colab_type": "text",
    "id": "tVDX0tKSau_m"
   },
   "source": [
    "## Results of training\n",
    "\n",
    "Let's see how our accuracy evolved during training."
   ]
  },
  {
   "cell_type": "code",
   "execution_count": 11,
   "metadata": {
    "colab": {
     "base_uri": "https://localhost:8080/",
     "height": 630
    },
    "colab_type": "code",
    "id": "8ZDCbccf06PR",
    "outputId": "11e37563-3a88-4907-990f-4d6825817752"
   },
   "outputs": [
    {
     "data": {
      "text/plain": [
       "<matplotlib.legend.Legend at 0x7f5e76a7ef60>"
      ]
     },
     "execution_count": 11,
     "metadata": {
      "tags": []
     },
     "output_type": "execute_result"
    },
    {
     "data": {
      "image/png": "[encoded data removed]",
      "text/plain": [
       "<Figure size 720x720 with 1 Axes>"
      ]
     },
     "metadata": {
      "tags": []
     },
     "output_type": "display_data"
    }
   ],
   "source": [
    "plt.figure(figsize=(10, 10))\n",
    "plt.plot(history.history['capsnet_acc'])\n",
    "plt.plot(history.history['val_capsnet_acc'])\n",
    "plt.ylabel('accuracy', fontsize='x-large')\n",
    "plt.xlabel('epoch', fontsize='x-large')\n",
    "plt.legend(['train', 'test'], loc='upper left', fontsize='x-large')"
   ]
  },
  {
   "cell_type": "markdown",
   "metadata": {
    "colab_type": "text",
    "id": "xQTH6Jq_wRhT"
   },
   "source": [
    "## Save trained model\n",
    "\n",
    "Let's save our trained model into your [Google Drive](https://drive.google.com/drive/my-drive) first. The following cell will request permissions to access your Drive and then save the model as `model.h5`."
   ]
  },
  {
   "cell_type": "code",
   "execution_count": 12,
   "metadata": {
    "colab": {
     "base_uri": "https://localhost:8080/",
     "height": 34
    },
    "colab_type": "code",
    "id": "tz4rtqeYmsCv",
    "outputId": "6e2b8755-47a5-4d1b-9e8a-a382c0688a95"
   },
   "outputs": [
    {
     "name": "stdout",
     "output_type": "stream",
     "text": [
      "Drive already mounted at /content/gdrive; to attempt to forcibly remount, call drive.mount(\"/content/gdrive\", force_remount=True).\n"
     ]
    }
   ],
   "source": [
    "from google.colab import drive\n",
    "drive.mount('/content/gdrive')\n",
    "\n",
    "model.save_weights('/content/gdrive/My Drive/model.h5')"
   ]
  },
  {
   "cell_type": "markdown",
   "metadata": {
    "colab_type": "text",
    "id": "KdY8cVHGOQIq"
   },
   "source": [
    "## Testing"
   ]
  },
  {
   "cell_type": "code",
   "execution_count": 13,
   "metadata": {
    "colab": {
     "base_uri": "https://localhost:8080/",
     "height": 128
    },
    "colab_type": "code",
    "id": "8-bLBezYOYLz",
    "outputId": "b27f4744-ae73-4b71-cb18-9ef1371d7339"
   },
   "outputs": [
    {
     "name": "stdout",
     "output_type": "stream",
     "text": [
      "518/518 [==============================] - 1s 2ms/step\n"
     ]
    },
    {
     "data": {
      "text/html": [
       "<div>\n",
       "<style scoped>\n",
       "    .dataframe tbody tr th:only-of-type {\n",
       "        vertical-align: middle;\n",
       "    }\n",
       "\n",
       "    .dataframe tbody tr th {\n",
       "        vertical-align: top;\n",
       "    }\n",
       "\n",
       "    .dataframe thead th {\n",
       "        text-align: right;\n",
       "    }\n",
       "</style>\n",
       "<table border=\"1\" class=\"dataframe\">\n",
       "  <thead>\n",
       "    <tr style=\"text-align: right;\">\n",
       "      <th></th>\n",
       "      <th>Value</th>\n",
       "    </tr>\n",
       "  </thead>\n",
       "  <tbody>\n",
       "    <tr>\n",
       "      <th>loss</th>\n",
       "      <td>0.438230</td>\n",
       "    </tr>\n",
       "    <tr>\n",
       "      <th>acc</th>\n",
       "      <td>0.393822</td>\n",
       "    </tr>\n",
       "  </tbody>\n",
       "</table>\n",
       "</div>"
      ],
      "text/plain": [
       "         Value\n",
       "loss  0.438230\n",
       "acc   0.393822"
      ]
     },
     "execution_count": 13,
     "metadata": {
      "tags": []
     },
     "output_type": "execute_result"
    }
   ],
   "source": [
    "metrics = model.test(x_test, y_test)\n",
    "pd.DataFrame.from_dict(metrics, columns=[\"Value\"], orient='index')"
   ]
  },
  {
   "cell_type": "code",
   "execution_count": 14,
   "metadata": {
    "colab": {
     "base_uri": "https://localhost:8080/",
     "height": 1452
    },
    "colab_type": "code",
    "id": "T7FwC33KQ7zk",
    "outputId": "4d8359a9-0223-43db-80d6-99f63e1f981a"
   },
   "outputs": [
    {
     "data": {
      "image/png": "[encoded data removed]",
      "text/plain": [
       "<Figure size 720x1800 with 10 Axes>"
      ]
     },
     "metadata": {
      "tags": []
     },
     "output_type": "display_data"
    }
   ],
   "source": [
    "predictions = model.predict(x_test)\n",
    "\n",
    "fig, axs = plt.subplots(5, 2, figsize=(10, 25))\n",
    "fig.subplots_adjust(hspace=.5)\n",
    "axs = axs.ravel()\n",
    "bins = len(np.unique(y_train, axis=0))\n",
    "for i in range(10):\n",
    "    predicted_idx = np.argmax(predictions[i // 2])\n",
    "    real_idx = np.argmax(y_test[i // 2])\n",
    "    if i%2 == 0:\n",
    "        axs[i].axis('off')\n",
    "        axs[i].imshow(x_test[i // 2])\n",
    "        predicted_name = people.target_names[predicted_idx]\n",
    "        real_name = people.target_names[real_idx]\n",
    "        axs[i].set_title(\"Prediction: %s\\nReal: %s\" % (predicted_name, real_name))\n",
    "    else:\n",
    "        bars = axs[i].bar(np.arange(bins), predictions[i // 2])\n",
    "        axs[i].set_ylabel(\"Softmax\")\n",
    "        axs[i].set_xlabel(\"Labels\")\n",
    "        bars[real_idx].set_color('r')\n",
    "        bars[predicted_idx].set_color('g')\n",
    "        axs[i].set_title(\"Good\" if real_idx == predicted_idx else 'Fail')\n",
    "\n",
    "plt.show()"
   ]
  }
 ],
 "metadata": {
  "accelerator": "GPU",
  "colab": {
   "collapsed_sections": [],
   "name": "CapsNet.ipynb",
   "provenance": [],
   "version": "0.3.2"
  },
  "kernelspec": {
   "display_name": "Python 3",
   "language": "python",
   "name": "python3"
  },
  "language_info": {
   "codemirror_mode": {
    "name": "ipython",
    "version": 3
   },
   "file_extension": ".py",
   "mimetype": "text/x-python",
   "name": "python",
   "nbconvert_exporter": "python",
   "pygments_lexer": "ipython3",
   "version": "3.6.8"
  }
 },
 "nbformat": 4,
 "nbformat_minor": 1
}
