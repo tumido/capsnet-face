{
  "nbformat": 4,
  "nbformat_minor": 0,
  "metadata": {
    "colab": {
      "name": "CapsNet.ipynb",
      "version": "0.3.2",
      "provenance": [],
      "collapsed_sections": []
    },
    "kernelspec": {
      "name": "python3",
      "display_name": "Python 3"
    },
    "accelerator": "GPU"
  },
  "cells": [
    {
      "metadata": {
        "id": "mxyHDbGxWL9A",
        "colab_type": "text"
      },
      "cell_type": "markdown",
      "source": [
        "# Intro"
      ]
    },
    {
      "metadata": {
        "id": "J5eueFsCss8g",
        "colab_type": "text"
      },
      "cell_type": "markdown",
      "source": [
        "## Load and import CapsNet\n",
        "\n",
        "First, let's clone our GitHub repo and import all parts which will be used in this notebook."
      ]
    },
    {
      "metadata": {
        "id": "VphwW703qtDn",
        "colab_type": "code",
        "outputId": "6857d659-a642-4287-dd13-8b1609ba14e9",
        "colab": {
          "base_uri": "https://localhost:8080/",
          "height": 578
        }
      },
      "cell_type": "code",
      "source": [
        "!pip install --no-cache-dir --upgrade git+https://github.com/tumido/face_biometrics_descriptor-code.git\n",
        "\n",
        "from sklearn.datasets import fetch_lfw_people\n",
        "from capsnet import preprocess_lfw_people, CapsNet"
      ],
      "execution_count": 1,
      "outputs": [
        {
          "output_type": "stream",
          "text": [
            "Collecting git+https://github.com/tumido/face_biometrics_descriptor-code.git\n",
            "  Cloning https://github.com/tumido/face_biometrics_descriptor-code.git to /tmp/pip-req-build-ipyep2_h\n",
            "Requirement already satisfied, skipping upgrade: tensorflow in /usr/local/lib/python3.6/dist-packages (from capsnet==0.3.0) (1.13.1)\n",
            "Requirement already satisfied, skipping upgrade: scikit-learn in /usr/local/lib/python3.6/dist-packages (from capsnet==0.3.0) (0.20.3)\n",
            "Requirement already satisfied, skipping upgrade: keras in /usr/local/lib/python3.6/dist-packages (from capsnet==0.3.0) (2.2.4)\n",
            "Requirement already satisfied, skipping upgrade: numpy in /usr/local/lib/python3.6/dist-packages (from capsnet==0.3.0) (1.16.3)\n",
            "Requirement already satisfied, skipping upgrade: wheel>=0.26 in /usr/local/lib/python3.6/dist-packages (from tensorflow->capsnet==0.3.0) (0.33.1)\n",
            "Requirement already satisfied, skipping upgrade: protobuf>=3.6.1 in /usr/local/lib/python3.6/dist-packages (from tensorflow->capsnet==0.3.0) (3.7.1)\n",
            "Requirement already satisfied, skipping upgrade: keras-applications>=1.0.6 in /usr/local/lib/python3.6/dist-packages (from tensorflow->capsnet==0.3.0) (1.0.7)\n",
            "Requirement already satisfied, skipping upgrade: tensorboard<1.14.0,>=1.13.0 in /usr/local/lib/python3.6/dist-packages (from tensorflow->capsnet==0.3.0) (1.13.1)\n",
            "Requirement already satisfied, skipping upgrade: absl-py>=0.1.6 in /usr/local/lib/python3.6/dist-packages (from tensorflow->capsnet==0.3.0) (0.7.1)\n",
            "Requirement already satisfied, skipping upgrade: astor>=0.6.0 in /usr/local/lib/python3.6/dist-packages (from tensorflow->capsnet==0.3.0) (0.7.1)\n",
            "Requirement already satisfied, skipping upgrade: tensorflow-estimator<1.14.0rc0,>=1.13.0 in /usr/local/lib/python3.6/dist-packages (from tensorflow->capsnet==0.3.0) (1.13.0)\n",
            "Requirement already satisfied, skipping upgrade: grpcio>=1.8.6 in /usr/local/lib/python3.6/dist-packages (from tensorflow->capsnet==0.3.0) (1.15.0)\n",
            "Requirement already satisfied, skipping upgrade: keras-preprocessing>=1.0.5 in /usr/local/lib/python3.6/dist-packages (from tensorflow->capsnet==0.3.0) (1.0.9)\n",
            "Requirement already satisfied, skipping upgrade: six>=1.10.0 in /usr/local/lib/python3.6/dist-packages (from tensorflow->capsnet==0.3.0) (1.12.0)\n",
            "Requirement already satisfied, skipping upgrade: termcolor>=1.1.0 in /usr/local/lib/python3.6/dist-packages (from tensorflow->capsnet==0.3.0) (1.1.0)\n",
            "Requirement already satisfied, skipping upgrade: gast>=0.2.0 in /usr/local/lib/python3.6/dist-packages (from tensorflow->capsnet==0.3.0) (0.2.2)\n",
            "Requirement already satisfied, skipping upgrade: scipy>=0.13.3 in /usr/local/lib/python3.6/dist-packages (from scikit-learn->capsnet==0.3.0) (1.2.1)\n",
            "Requirement already satisfied, skipping upgrade: pyyaml in /usr/local/lib/python3.6/dist-packages (from keras->capsnet==0.3.0) (3.13)\n",
            "Requirement already satisfied, skipping upgrade: h5py in /usr/local/lib/python3.6/dist-packages (from keras->capsnet==0.3.0) (2.8.0)\n",
            "Requirement already satisfied, skipping upgrade: setuptools in /usr/local/lib/python3.6/dist-packages (from protobuf>=3.6.1->tensorflow->capsnet==0.3.0) (40.9.0)\n",
            "Requirement already satisfied, skipping upgrade: werkzeug>=0.11.15 in /usr/local/lib/python3.6/dist-packages (from tensorboard<1.14.0,>=1.13.0->tensorflow->capsnet==0.3.0) (0.15.2)\n",
            "Requirement already satisfied, skipping upgrade: markdown>=2.6.8 in /usr/local/lib/python3.6/dist-packages (from tensorboard<1.14.0,>=1.13.0->tensorflow->capsnet==0.3.0) (3.1)\n",
            "Requirement already satisfied, skipping upgrade: mock>=2.0.0 in /usr/local/lib/python3.6/dist-packages (from tensorflow-estimator<1.14.0rc0,>=1.13.0->tensorflow->capsnet==0.3.0) (2.0.0)\n",
            "Requirement already satisfied, skipping upgrade: pbr>=0.11 in /usr/local/lib/python3.6/dist-packages (from mock>=2.0.0->tensorflow-estimator<1.14.0rc0,>=1.13.0->tensorflow->capsnet==0.3.0) (5.1.3)\n",
            "Installing collected packages: capsnet\n",
            "  Found existing installation: capsnet 0.3.0\n",
            "    Uninstalling capsnet-0.3.0:\n",
            "      Successfully uninstalled capsnet-0.3.0\n",
            "  Running setup.py install for capsnet ... \u001b[?25ldone\n",
            "\u001b[?25hSuccessfully installed capsnet-0.3.0\n"
          ],
          "name": "stdout"
        },
        {
          "output_type": "stream",
          "text": [
            "Using TensorFlow backend.\n"
          ],
          "name": "stderr"
        }
      ]
    },
    {
      "metadata": {
        "id": "lXW-IfxnXdB8",
        "colab_type": "text"
      },
      "cell_type": "markdown",
      "source": [
        "## Auxilary imports\n",
        "\n",
        "Additional imports used in this Notebook would help to visualize data."
      ]
    },
    {
      "metadata": {
        "id": "r0B1RTylXldU",
        "colab_type": "code",
        "colab": {}
      },
      "cell_type": "code",
      "source": [
        "import numpy as np\n",
        "from sklearn.metrics import confusion_matrix\n",
        "%matplotlib inline\n",
        "import matplotlib.pyplot as plt\n",
        "import pandas as pd\n",
        "from random import randint"
      ],
      "execution_count": 0,
      "outputs": []
    },
    {
      "metadata": {
        "id": "haIVjnGFlbM_",
        "colab_type": "text"
      },
      "cell_type": "markdown",
      "source": [
        "Install and start a TensorBoard in Colab"
      ]
    },
    {
      "metadata": {
        "id": "fLxDpf1JleKJ",
        "colab_type": "code",
        "outputId": "6356203d-38a4-41f5-c213-6916694c29ea",
        "colab": {
          "base_uri": "https://localhost:8080/",
          "height": 85
        }
      },
      "cell_type": "code",
      "source": [
        "!pip install tensorboardcolab\n",
        "from tensorboardcolab import TensorBoardColab, TensorBoardColabCallback\n",
        "\n",
        "tbc = TensorBoardColab()\n",
        "tensor_board_callback = TensorBoardColabCallback(tbc, batch_size=10, histogram_freq=5, write_graph=True, write_grads=True, write_images=True)"
      ],
      "execution_count": 3,
      "outputs": [
        {
          "output_type": "stream",
          "text": [
            "Requirement already satisfied: tensorboardcolab in /usr/local/lib/python3.6/dist-packages (0.0.22)\n",
            "Wait for 8 seconds...\n",
            "TensorBoard link:\n",
            "http://14b9726e.ngrok.io\n"
          ],
          "name": "stdout"
        }
      ]
    },
    {
      "metadata": {
        "id": "yf59QXJdWRnM",
        "colab_type": "text"
      },
      "cell_type": "markdown",
      "source": [
        "## Verify GPU\n",
        "\n",
        "in the next cell we verify that a GPU is available to our use. The output should contain a GPU details."
      ]
    },
    {
      "metadata": {
        "id": "C35iLzmqWeGl",
        "colab_type": "code",
        "outputId": "afee5d3d-7dd1-4e79-a205-3baee9e3a518",
        "colab": {
          "base_uri": "https://localhost:8080/",
          "height": 102
        }
      },
      "cell_type": "code",
      "source": [
        "from tensorflow.test import is_gpu_available\n",
        "from tensorflow.python.client import device_lib\n",
        "\n",
        "if not is_gpu_available():\n",
        "    raise SystemError('GPU device not found')\n",
        "\n",
        "desc = [f'path: {d.name}, {d.physical_device_desc}' for d in device_lib.list_local_devices() if d.device_type == \"GPU\"][0]\n",
        "print(\"\\n\".join(desc.split(\", \")))"
      ],
      "execution_count": 4,
      "outputs": [
        {
          "output_type": "stream",
          "text": [
            "path: /device:GPU:0\n",
            "device: 0\n",
            "name: Tesla T4\n",
            "pci bus id: 0000:00:04.0\n",
            "compute capability: 7.5\n"
          ],
          "name": "stdout"
        }
      ]
    },
    {
      "metadata": {
        "id": "Gm3DsF4StZ_f",
        "colab_type": "text"
      },
      "cell_type": "markdown",
      "source": [
        "## Collect data set \n",
        "\n",
        "We're gonna be working with LFW dataset"
      ]
    },
    {
      "metadata": {
        "id": "MWP1fbqyrK2e",
        "colab_type": "code",
        "colab": {}
      },
      "cell_type": "code",
      "source": [
        "people = fetch_lfw_people(\n",
        "    color=True,\n",
        "    min_faces_per_person=25\n",
        ")\n",
        "\n",
        "\n",
        "data = preprocess_lfw_people(people)\n",
        "(x_train, y_train), (x_test, y_test) = data"
      ],
      "execution_count": 0,
      "outputs": []
    },
    {
      "metadata": {
        "id": "jAr9gS3Ama1b",
        "colab_type": "code",
        "outputId": "56dcb3b9-5047-47c2-ea49-79428fda8b9c",
        "colab": {
          "base_uri": "https://localhost:8080/",
          "height": 204
        }
      },
      "cell_type": "code",
      "source": [
        "metrics = {\n",
        "    \"Identities\": len(np.unique(people.target, axis=0)),\n",
        "    \"Total images\": people.target.shape[0],\n",
        "    \"Train images\": len(y_train),\n",
        "    \"Test images\": len(y_test),\n",
        "    \"Image shape\": x_train.shape[1:]\n",
        "}\n",
        "pd.DataFrame.from_dict(metrics, columns=[\"Value\"], orient='index')"
      ],
      "execution_count": 6,
      "outputs": [
        {
          "output_type": "execute_result",
          "data": {
            "text/html": [
              "<div>\n",
              "<style scoped>\n",
              "    .dataframe tbody tr th:only-of-type {\n",
              "        vertical-align: middle;\n",
              "    }\n",
              "\n",
              "    .dataframe tbody tr th {\n",
              "        vertical-align: top;\n",
              "    }\n",
              "\n",
              "    .dataframe thead th {\n",
              "        text-align: right;\n",
              "    }\n",
              "</style>\n",
              "<table border=\"1\" class=\"dataframe\">\n",
              "  <thead>\n",
              "    <tr style=\"text-align: right;\">\n",
              "      <th></th>\n",
              "      <th>Value</th>\n",
              "    </tr>\n",
              "  </thead>\n",
              "  <tbody>\n",
              "    <tr>\n",
              "      <th>Identities</th>\n",
              "      <td>42</td>\n",
              "    </tr>\n",
              "    <tr>\n",
              "      <th>Total images</th>\n",
              "      <td>2588</td>\n",
              "    </tr>\n",
              "    <tr>\n",
              "      <th>Train images</th>\n",
              "      <td>2070</td>\n",
              "    </tr>\n",
              "    <tr>\n",
              "      <th>Test images</th>\n",
              "      <td>518</td>\n",
              "    </tr>\n",
              "    <tr>\n",
              "      <th>Image shape</th>\n",
              "      <td>(32, 32, 3)</td>\n",
              "    </tr>\n",
              "  </tbody>\n",
              "</table>\n",
              "</div>"
            ],
            "text/plain": [
              "                    Value\n",
              "Identities             42\n",
              "Total images         2588\n",
              "Train images         2070\n",
              "Test images           518\n",
              "Image shape   (32, 32, 3)"
            ]
          },
          "metadata": {
            "tags": []
          },
          "execution_count": 6
        }
      ]
    },
    {
      "metadata": {
        "id": "3ZCoPj6ghtOM",
        "colab_type": "code",
        "outputId": "25772dfc-f0c8-432e-d756-62af408f4af8",
        "colab": {
          "base_uri": "https://localhost:8080/",
          "height": 269
        }
      },
      "cell_type": "code",
      "source": [
        "_ = plt.hist(people.target, bins=people.target_names.shape[0])"
      ],
      "execution_count": 7,
      "outputs": [
        {
          "output_type": "display_data",
          "data": {
            "image/png": "[encoded data removed]",
            "text/plain": [
              "<Figure size 432x288 with 1 Axes>"
            ]
          },
          "metadata": {
            "tags": []
          }
        }
      ]
    },
    {
      "metadata": {
        "id": "enDcEbijABEv",
        "colab_type": "code",
        "outputId": "891c8b24-b837-4eba-957d-c120e26a6f77",
        "colab": {
          "base_uri": "https://localhost:8080/",
          "height": 283
        }
      },
      "cell_type": "code",
      "source": [
        "i = randint(0, len(x_train))\n",
        "plt.imshow(x_train[i])\n",
        "plt.axis('off') \n",
        "print(\"{}: {}\".format(np.argmax(y_train[i]), people.target_names[np.argmax(y_train[i])]))"
      ],
      "execution_count": 8,
      "outputs": [
        {
          "output_type": "stream",
          "text": [
            "18: Jean Chretien\n"
          ],
          "name": "stdout"
        },
        {
          "output_type": "display_data",
          "data": {
            "image/png": "[encoded data removed]",
            "text/plain": [
              "<Figure size 432x288 with 1 Axes>"
            ]
          },
          "metadata": {
            "tags": []
          }
        }
      ]
    },
    {
      "metadata": {
        "id": "GO6c2pk1k0Lr",
        "colab_type": "text"
      },
      "cell_type": "markdown",
      "source": [
        "## CapsNet\n",
        "\n",
        "Let's begin training our network"
      ]
    },
    {
      "metadata": {
        "id": "MSvdR8A6tp-V",
        "colab_type": "code",
        "outputId": "d76c2023-13c0-4a06-a451-97f359bad4e6",
        "colab": {
          "base_uri": "https://localhost:8080/",
          "height": 649
        }
      },
      "cell_type": "code",
      "source": [
        "model = CapsNet(\n",
        "    x_train.shape[1:],\n",
        "    len(np.unique(y_train, axis=0))\n",
        ")\n",
        "model.summary()"
      ],
      "execution_count": 9,
      "outputs": [
        {
          "output_type": "stream",
          "text": [
            "WARNING:tensorflow:From /usr/local/lib/python3.6/dist-packages/tensorflow/python/framework/op_def_library.py:263: colocate_with (from tensorflow.python.framework.ops) is deprecated and will be removed in a future version.\n",
            "Instructions for updating:\n",
            "Colocations handled automatically by placer.\n",
            "WARNING:tensorflow:From /usr/local/lib/python3.6/dist-packages/keras/backend/tensorflow_backend.py:3445: calling dropout (from tensorflow.python.ops.nn_ops) with keep_prob is deprecated and will be removed in a future version.\n",
            "Instructions for updating:\n",
            "Please use `rate` instead of `keep_prob`. Rate should be set to `rate = 1 - keep_prob`.\n",
            "__________________________________________________________________________________________________\n",
            "Layer (type)                    Output Shape         Param #     Connected to                     \n",
            "==================================================================================================\n",
            "input_image (InputLayer)        (None, 32, 32, 3)    0                                            \n",
            "__________________________________________________________________________________________________\n",
            "encoder_conv2d (Conv2D)         (None, 24, 24, 256)  62464       input_image[0][0]                \n",
            "__________________________________________________________________________________________________\n",
            "encoder_dropout (Dropout)       (None, 24, 24, 256)  0           encoder_conv2d[0][0]             \n",
            "__________________________________________________________________________________________________\n",
            "encoder_feature_caps_conv2d (Co (None, 10, 10, 256)  1638656     encoder_dropout[0][0]            \n",
            "__________________________________________________________________________________________________\n",
            "encoder_feature_caps_reshape (R (None, 1600, 16)     0           encoder_feature_caps_conv2d[0][0]\n",
            "__________________________________________________________________________________________________\n",
            "encoder_feature_caps_squash (La (None, 1600, 16)     0           encoder_feature_caps_reshape[0][0\n",
            "__________________________________________________________________________________________________\n",
            "encoder_pred_caps (PredictionCa (None, 42, 32)       34406400    encoder_feature_caps_squash[0][0]\n",
            "__________________________________________________________________________________________________\n",
            "input_label (InputLayer)        (None, 42)           0                                            \n",
            "__________________________________________________________________________________________________\n",
            "mask (Mask)                     (None, 1344)         0           encoder_pred_caps[0][0]          \n",
            "                                                                 input_label[0][0]                \n",
            "__________________________________________________________________________________________________\n",
            "capsnet (Lambda)                (None, 42)           0           encoder_pred_caps[0][0]          \n",
            "__________________________________________________________________________________________________\n",
            "decoder (Sequential)            (None, 32, 32, 3)    540479      mask[0][0]                       \n",
            "==================================================================================================\n",
            "Total params: 36,647,999\n",
            "Trainable params: 36,647,999\n",
            "Non-trainable params: 0\n",
            "__________________________________________________________________________________________________\n"
          ],
          "name": "stdout"
        }
      ]
    },
    {
      "metadata": {
        "id": "khy5eJS_ul2B",
        "colab_type": "code",
        "outputId": "30699a4b-212d-4047-facb-d53cb5967b4b",
        "colab": {
          "base_uri": "https://localhost:8080/",
          "height": 6140
        }
      },
      "cell_type": "code",
      "source": [
        "history = model.train(data, batch_size=10, extra_callbacks=[tensor_board_callback])"
      ],
      "execution_count": 10,
      "outputs": [
        {
          "output_type": "stream",
          "text": [
            "WARNING:tensorflow:From /usr/local/lib/python3.6/dist-packages/tensorflow/python/ops/math_ops.py:3066: to_int32 (from tensorflow.python.ops.math_ops) is deprecated and will be removed in a future version.\n",
            "Instructions for updating:\n",
            "Use tf.cast instead.\n",
            "WARNING:tensorflow:From /usr/local/lib/python3.6/dist-packages/tensorflow/python/ops/math_grad.py:102: div (from tensorflow.python.ops.math_ops) is deprecated and will be removed in a future version.\n",
            "Instructions for updating:\n",
            "Deprecated in favor of operator or tf.math.divide.\n",
            "Epoch 1/200\n",
            "207/207 [==============================] - 111s 537ms/step - loss: 0.7594 - capsnet_loss: 0.7593 - decoder_loss: 0.1788 - capsnet_acc: 0.1473 - val_loss: 0.7746 - val_capsnet_loss: 0.7746 - val_decoder_loss: 0.0406 - val_capsnet_acc: 0.1969\n",
            "\n",
            "Epoch 00001: val_capsnet_acc improved from -inf to 0.19691, saving model to model/weights.01.h5\n",
            "Epoch 2/200\n",
            "207/207 [==============================] - 107s 517ms/step - loss: 0.7661 - capsnet_loss: 0.7661 - decoder_loss: 0.0370 - capsnet_acc: 0.1657 - val_loss: 0.7615 - val_capsnet_loss: 0.7615 - val_decoder_loss: 0.0333 - val_capsnet_acc: 0.1969\n",
            "\n",
            "Epoch 00002: val_capsnet_acc did not improve from 0.19691\n",
            "Epoch 3/200\n",
            "207/207 [==============================] - 106s 514ms/step - loss: 0.7444 - capsnet_loss: 0.7444 - decoder_loss: 0.0339 - capsnet_acc: 0.1831 - val_loss: 0.7484 - val_capsnet_loss: 0.7483 - val_decoder_loss: 0.0316 - val_capsnet_acc: 0.1776\n",
            "\n",
            "Epoch 00003: val_capsnet_acc did not improve from 0.19691\n",
            "Epoch 4/200\n",
            "207/207 [==============================] - 107s 516ms/step - loss: 0.7103 - capsnet_loss: 0.7103 - decoder_loss: 0.0325 - capsnet_acc: 0.2000 - val_loss: 0.7574 - val_capsnet_loss: 0.7573 - val_decoder_loss: 0.0311 - val_capsnet_acc: 0.1950\n",
            "\n",
            "Epoch 00004: val_capsnet_acc did not improve from 0.19691\n",
            "Epoch 5/200\n",
            "207/207 [==============================] - 107s 516ms/step - loss: 0.6910 - capsnet_loss: 0.6910 - decoder_loss: 0.0321 - capsnet_acc: 0.2014 - val_loss: 0.7141 - val_capsnet_loss: 0.7141 - val_decoder_loss: 0.0306 - val_capsnet_acc: 0.2008\n",
            "\n",
            "Epoch 00005: val_capsnet_acc improved from 0.19691 to 0.20077, saving model to model/weights.05.h5\n",
            "Epoch 6/200\n",
            "207/207 [==============================] - 107s 516ms/step - loss: 0.6575 - capsnet_loss: 0.6575 - decoder_loss: 0.0317 - capsnet_acc: 0.2063 - val_loss: 0.6750 - val_capsnet_loss: 0.6749 - val_decoder_loss: 0.0304 - val_capsnet_acc: 0.1969\n",
            "\n",
            "Epoch 00006: val_capsnet_acc did not improve from 0.20077\n",
            "Epoch 7/200\n",
            "207/207 [==============================] - 107s 517ms/step - loss: 0.6267 - capsnet_loss: 0.6267 - decoder_loss: 0.0313 - capsnet_acc: 0.2019 - val_loss: 0.6664 - val_capsnet_loss: 0.6664 - val_decoder_loss: 0.0300 - val_capsnet_acc: 0.2027\n",
            "\n",
            "Epoch 00007: val_capsnet_acc improved from 0.20077 to 0.20270, saving model to model/weights.07.h5\n",
            "Epoch 8/200\n",
            "207/207 [==============================] - 107s 516ms/step - loss: 0.5970 - capsnet_loss: 0.5970 - decoder_loss: 0.0309 - capsnet_acc: 0.2333 - val_loss: 0.6199 - val_capsnet_loss: 0.6199 - val_decoder_loss: 0.0300 - val_capsnet_acc: 0.2452\n",
            "\n",
            "Epoch 00008: val_capsnet_acc improved from 0.20270 to 0.24517, saving model to model/weights.08.h5\n",
            "Epoch 9/200\n",
            "207/207 [==============================] - 107s 517ms/step - loss: 0.5757 - capsnet_loss: 0.5757 - decoder_loss: 0.0309 - capsnet_acc: 0.2522 - val_loss: 0.5693 - val_capsnet_loss: 0.5693 - val_decoder_loss: 0.0297 - val_capsnet_acc: 0.2703\n",
            "\n",
            "Epoch 00009: val_capsnet_acc improved from 0.24517 to 0.27027, saving model to model/weights.09.h5\n",
            "Epoch 10/200\n",
            "207/207 [==============================] - 107s 516ms/step - loss: 0.5556 - capsnet_loss: 0.5556 - decoder_loss: 0.0304 - capsnet_acc: 0.2570 - val_loss: 0.5505 - val_capsnet_loss: 0.5505 - val_decoder_loss: 0.0296 - val_capsnet_acc: 0.2529\n",
            "\n",
            "Epoch 00010: val_capsnet_acc did not improve from 0.27027\n",
            "Epoch 11/200\n",
            "207/207 [==============================] - 107s 516ms/step - loss: 0.5423 - capsnet_loss: 0.5423 - decoder_loss: 0.0304 - capsnet_acc: 0.2841 - val_loss: 0.5441 - val_capsnet_loss: 0.5440 - val_decoder_loss: 0.0294 - val_capsnet_acc: 0.2799\n",
            "\n",
            "Epoch 00011: val_capsnet_acc improved from 0.27027 to 0.27992, saving model to model/weights.11.h5\n",
            "Epoch 12/200\n",
            "207/207 [==============================] - 107s 516ms/step - loss: 0.5275 - capsnet_loss: 0.5275 - decoder_loss: 0.0302 - capsnet_acc: 0.2990 - val_loss: 0.5388 - val_capsnet_loss: 0.5388 - val_decoder_loss: 0.0295 - val_capsnet_acc: 0.2780\n",
            "\n",
            "Epoch 00012: val_capsnet_acc did not improve from 0.27992\n",
            "Epoch 13/200\n",
            "207/207 [==============================] - 106s 514ms/step - loss: 0.5219 - capsnet_loss: 0.5219 - decoder_loss: 0.0299 - capsnet_acc: 0.3116 - val_loss: 0.5262 - val_capsnet_loss: 0.5262 - val_decoder_loss: 0.0291 - val_capsnet_acc: 0.2741\n",
            "\n",
            "Epoch 00013: val_capsnet_acc did not improve from 0.27992\n",
            "Epoch 14/200\n",
            "207/207 [==============================] - 107s 515ms/step - loss: 0.5109 - capsnet_loss: 0.5109 - decoder_loss: 0.0300 - capsnet_acc: 0.3159 - val_loss: 0.5081 - val_capsnet_loss: 0.5081 - val_decoder_loss: 0.0291 - val_capsnet_acc: 0.3089\n",
            "\n",
            "Epoch 00014: val_capsnet_acc improved from 0.27992 to 0.30888, saving model to model/weights.14.h5\n",
            "Epoch 15/200\n",
            "207/207 [==============================] - 107s 515ms/step - loss: 0.4980 - capsnet_loss: 0.4980 - decoder_loss: 0.0298 - capsnet_acc: 0.3324 - val_loss: 0.4988 - val_capsnet_loss: 0.4988 - val_decoder_loss: 0.0291 - val_capsnet_acc: 0.3166\n",
            "\n",
            "Epoch 00015: val_capsnet_acc improved from 0.30888 to 0.31660, saving model to model/weights.15.h5\n",
            "Epoch 16/200\n",
            "207/207 [==============================] - 107s 516ms/step - loss: 0.4922 - capsnet_loss: 0.4922 - decoder_loss: 0.0297 - capsnet_acc: 0.3415 - val_loss: 0.4854 - val_capsnet_loss: 0.4854 - val_decoder_loss: 0.0289 - val_capsnet_acc: 0.3378\n",
            "\n",
            "Epoch 00016: val_capsnet_acc improved from 0.31660 to 0.33784, saving model to model/weights.16.h5\n",
            "Epoch 17/200\n",
            "207/207 [==============================] - 107s 517ms/step - loss: 0.4819 - capsnet_loss: 0.4819 - decoder_loss: 0.0296 - capsnet_acc: 0.3531 - val_loss: 0.4810 - val_capsnet_loss: 0.4810 - val_decoder_loss: 0.0288 - val_capsnet_acc: 0.3320\n",
            "\n",
            "Epoch 00017: val_capsnet_acc did not improve from 0.33784\n",
            "Epoch 18/200\n",
            "207/207 [==============================] - 107s 515ms/step - loss: 0.4765 - capsnet_loss: 0.4765 - decoder_loss: 0.0296 - capsnet_acc: 0.3638 - val_loss: 0.4764 - val_capsnet_loss: 0.4764 - val_decoder_loss: 0.0287 - val_capsnet_acc: 0.3398\n",
            "\n",
            "Epoch 00018: val_capsnet_acc improved from 0.33784 to 0.33977, saving model to model/weights.18.h5\n",
            "Epoch 19/200\n",
            "207/207 [==============================] - 107s 516ms/step - loss: 0.4686 - capsnet_loss: 0.4686 - decoder_loss: 0.0292 - capsnet_acc: 0.3734 - val_loss: 0.4724 - val_capsnet_loss: 0.4724 - val_decoder_loss: 0.0287 - val_capsnet_acc: 0.3514\n",
            "\n",
            "Epoch 00019: val_capsnet_acc improved from 0.33977 to 0.35135, saving model to model/weights.19.h5\n",
            "Epoch 20/200\n",
            "207/207 [==============================] - 107s 515ms/step - loss: 0.4588 - capsnet_loss: 0.4587 - decoder_loss: 0.0293 - capsnet_acc: 0.3870 - val_loss: 0.4529 - val_capsnet_loss: 0.4529 - val_decoder_loss: 0.0285 - val_capsnet_acc: 0.3745\n",
            "\n",
            "Epoch 00020: val_capsnet_acc improved from 0.35135 to 0.37452, saving model to model/weights.20.h5\n",
            "Epoch 21/200\n",
            "207/207 [==============================] - 107s 515ms/step - loss: 0.4555 - capsnet_loss: 0.4554 - decoder_loss: 0.0292 - capsnet_acc: 0.3961 - val_loss: 0.4472 - val_capsnet_loss: 0.4472 - val_decoder_loss: 0.0284 - val_capsnet_acc: 0.3803\n",
            "\n",
            "Epoch 00021: val_capsnet_acc improved from 0.37452 to 0.38031, saving model to model/weights.21.h5\n",
            "Epoch 22/200\n",
            "207/207 [==============================] - 107s 518ms/step - loss: 0.4512 - capsnet_loss: 0.4512 - decoder_loss: 0.0291 - capsnet_acc: 0.3923 - val_loss: 0.4710 - val_capsnet_loss: 0.4710 - val_decoder_loss: 0.0284 - val_capsnet_acc: 0.3320\n",
            "\n",
            "Epoch 00022: val_capsnet_acc did not improve from 0.38031\n",
            "Epoch 23/200\n",
            "207/207 [==============================] - 107s 515ms/step - loss: 0.4382 - capsnet_loss: 0.4382 - decoder_loss: 0.0290 - capsnet_acc: 0.4164 - val_loss: 0.4490 - val_capsnet_loss: 0.4490 - val_decoder_loss: 0.0284 - val_capsnet_acc: 0.3900\n",
            "\n",
            "Epoch 00023: val_capsnet_acc improved from 0.38031 to 0.38996, saving model to model/weights.23.h5\n",
            "Epoch 24/200\n",
            "207/207 [==============================] - 107s 517ms/step - loss: 0.4381 - capsnet_loss: 0.4381 - decoder_loss: 0.0291 - capsnet_acc: 0.4203 - val_loss: 0.4264 - val_capsnet_loss: 0.4264 - val_decoder_loss: 0.0284 - val_capsnet_acc: 0.4170\n",
            "\n",
            "Epoch 00024: val_capsnet_acc improved from 0.38996 to 0.41699, saving model to model/weights.24.h5\n",
            "Epoch 25/200\n",
            "207/207 [==============================] - 107s 515ms/step - loss: 0.4299 - capsnet_loss: 0.4298 - decoder_loss: 0.0290 - capsnet_acc: 0.4290 - val_loss: 0.4307 - val_capsnet_loss: 0.4306 - val_decoder_loss: 0.0284 - val_capsnet_acc: 0.4189\n",
            "\n",
            "Epoch 00025: val_capsnet_acc improved from 0.41699 to 0.41892, saving model to model/weights.25.h5\n",
            "Epoch 26/200\n",
            "207/207 [==============================] - 107s 515ms/step - loss: 0.4286 - capsnet_loss: 0.4286 - decoder_loss: 0.0289 - capsnet_acc: 0.4271 - val_loss: 0.4306 - val_capsnet_loss: 0.4305 - val_decoder_loss: 0.0283 - val_capsnet_acc: 0.4112\n",
            "\n",
            "Epoch 00026: val_capsnet_acc did not improve from 0.41892\n",
            "Epoch 27/200\n",
            "207/207 [==============================] - 107s 518ms/step - loss: 0.4271 - capsnet_loss: 0.4270 - decoder_loss: 0.0291 - capsnet_acc: 0.4377 - val_loss: 0.4199 - val_capsnet_loss: 0.4199 - val_decoder_loss: 0.0283 - val_capsnet_acc: 0.4189\n",
            "\n",
            "Epoch 00027: val_capsnet_acc did not improve from 0.41892\n",
            "Epoch 28/200\n",
            "207/207 [==============================] - 106s 514ms/step - loss: 0.4256 - capsnet_loss: 0.4256 - decoder_loss: 0.0288 - capsnet_acc: 0.4300 - val_loss: 0.4348 - val_capsnet_loss: 0.4348 - val_decoder_loss: 0.0282 - val_capsnet_acc: 0.4015\n",
            "\n",
            "Epoch 00028: val_capsnet_acc did not improve from 0.41892\n",
            "Epoch 29/200\n",
            "207/207 [==============================] - 107s 516ms/step - loss: 0.4193 - capsnet_loss: 0.4193 - decoder_loss: 0.0288 - capsnet_acc: 0.4411 - val_loss: 0.4281 - val_capsnet_loss: 0.4280 - val_decoder_loss: 0.0282 - val_capsnet_acc: 0.4266\n",
            "\n",
            "Epoch 00029: val_capsnet_acc improved from 0.41892 to 0.42664, saving model to model/weights.29.h5\n",
            "Epoch 30/200\n",
            "207/207 [==============================] - 107s 516ms/step - loss: 0.4109 - capsnet_loss: 0.4109 - decoder_loss: 0.0286 - capsnet_acc: 0.4541 - val_loss: 0.4256 - val_capsnet_loss: 0.4256 - val_decoder_loss: 0.0282 - val_capsnet_acc: 0.4170\n",
            "\n",
            "Epoch 00030: val_capsnet_acc did not improve from 0.42664\n",
            "Epoch 31/200\n",
            "207/207 [==============================] - 107s 516ms/step - loss: 0.4115 - capsnet_loss: 0.4115 - decoder_loss: 0.0288 - capsnet_acc: 0.4522 - val_loss: 0.4073 - val_capsnet_loss: 0.4073 - val_decoder_loss: 0.0281 - val_capsnet_acc: 0.4479\n",
            "\n",
            "Epoch 00031: val_capsnet_acc improved from 0.42664 to 0.44788, saving model to model/weights.31.h5\n",
            "Epoch 32/200\n",
            "207/207 [==============================] - 107s 517ms/step - loss: 0.4029 - capsnet_loss: 0.4029 - decoder_loss: 0.0286 - capsnet_acc: 0.4671 - val_loss: 0.4099 - val_capsnet_loss: 0.4099 - val_decoder_loss: 0.0281 - val_capsnet_acc: 0.4537\n",
            "\n",
            "Epoch 00032: val_capsnet_acc improved from 0.44788 to 0.45367, saving model to model/weights.32.h5\n",
            "Epoch 33/200\n",
            "207/207 [==============================] - 107s 516ms/step - loss: 0.4137 - capsnet_loss: 0.4137 - decoder_loss: 0.0287 - capsnet_acc: 0.4473 - val_loss: 0.4072 - val_capsnet_loss: 0.4072 - val_decoder_loss: 0.0281 - val_capsnet_acc: 0.4556\n",
            "\n",
            "Epoch 00033: val_capsnet_acc improved from 0.45367 to 0.45560, saving model to model/weights.33.h5\n",
            "Epoch 34/200\n",
            "207/207 [==============================] - 107s 515ms/step - loss: 0.3998 - capsnet_loss: 0.3998 - decoder_loss: 0.0287 - capsnet_acc: 0.4744 - val_loss: 0.4153 - val_capsnet_loss: 0.4153 - val_decoder_loss: 0.0281 - val_capsnet_acc: 0.4459\n",
            "\n",
            "Epoch 00034: val_capsnet_acc did not improve from 0.45560\n",
            "Epoch 35/200\n",
            "207/207 [==============================] - 107s 517ms/step - loss: 0.4010 - capsnet_loss: 0.4010 - decoder_loss: 0.0285 - capsnet_acc: 0.4705 - val_loss: 0.4036 - val_capsnet_loss: 0.4036 - val_decoder_loss: 0.0281 - val_capsnet_acc: 0.4633\n",
            "\n",
            "Epoch 00035: val_capsnet_acc improved from 0.45560 to 0.46332, saving model to model/weights.35.h5\n",
            "Epoch 36/200\n",
            "207/207 [==============================] - 107s 517ms/step - loss: 0.4059 - capsnet_loss: 0.4059 - decoder_loss: 0.0287 - capsnet_acc: 0.4623 - val_loss: 0.3992 - val_capsnet_loss: 0.3992 - val_decoder_loss: 0.0281 - val_capsnet_acc: 0.4575\n",
            "\n",
            "Epoch 00036: val_capsnet_acc did not improve from 0.46332\n",
            "Epoch 37/200\n",
            "207/207 [==============================] - 107s 518ms/step - loss: 0.3991 - capsnet_loss: 0.3991 - decoder_loss: 0.0286 - capsnet_acc: 0.4681 - val_loss: 0.4049 - val_capsnet_loss: 0.4048 - val_decoder_loss: 0.0281 - val_capsnet_acc: 0.4537\n",
            "\n",
            "Epoch 00037: val_capsnet_acc did not improve from 0.46332\n",
            "Epoch 38/200\n",
            "207/207 [==============================] - 107s 515ms/step - loss: 0.4006 - capsnet_loss: 0.4006 - decoder_loss: 0.0285 - capsnet_acc: 0.4725 - val_loss: 0.4011 - val_capsnet_loss: 0.4011 - val_decoder_loss: 0.0281 - val_capsnet_acc: 0.4633\n",
            "\n",
            "Epoch 00038: val_capsnet_acc did not improve from 0.46332\n",
            "Epoch 39/200\n",
            "207/207 [==============================] - 107s 517ms/step - loss: 0.3960 - capsnet_loss: 0.3960 - decoder_loss: 0.0285 - capsnet_acc: 0.4816 - val_loss: 0.3882 - val_capsnet_loss: 0.3882 - val_decoder_loss: 0.0280 - val_capsnet_acc: 0.4730\n",
            "\n",
            "Epoch 00039: val_capsnet_acc improved from 0.46332 to 0.47297, saving model to model/weights.39.h5\n",
            "Epoch 40/200\n",
            "207/207 [==============================] - 107s 516ms/step - loss: 0.3972 - capsnet_loss: 0.3971 - decoder_loss: 0.0287 - capsnet_acc: 0.4729 - val_loss: 0.3980 - val_capsnet_loss: 0.3980 - val_decoder_loss: 0.0281 - val_capsnet_acc: 0.4710\n",
            "\n",
            "Epoch 00040: val_capsnet_acc did not improve from 0.47297\n",
            "Epoch 41/200\n",
            "207/207 [==============================] - 106s 514ms/step - loss: 0.3940 - capsnet_loss: 0.3940 - decoder_loss: 0.0286 - capsnet_acc: 0.4686 - val_loss: 0.3960 - val_capsnet_loss: 0.3959 - val_decoder_loss: 0.0280 - val_capsnet_acc: 0.4633\n",
            "\n",
            "Epoch 00041: val_capsnet_acc did not improve from 0.47297\n",
            "Epoch 42/200\n",
            "207/207 [==============================] - 107s 518ms/step - loss: 0.3982 - capsnet_loss: 0.3982 - decoder_loss: 0.0285 - capsnet_acc: 0.4763 - val_loss: 0.3960 - val_capsnet_loss: 0.3960 - val_decoder_loss: 0.0280 - val_capsnet_acc: 0.4614\n",
            "\n",
            "Epoch 00042: val_capsnet_acc did not improve from 0.47297\n",
            "Epoch 43/200\n",
            "207/207 [==============================] - 107s 515ms/step - loss: 0.3939 - capsnet_loss: 0.3939 - decoder_loss: 0.0286 - capsnet_acc: 0.4763 - val_loss: 0.3934 - val_capsnet_loss: 0.3934 - val_decoder_loss: 0.0280 - val_capsnet_acc: 0.4633\n",
            "\n",
            "Epoch 00043: val_capsnet_acc did not improve from 0.47297\n",
            "Epoch 44/200\n",
            "207/207 [==============================] - 107s 516ms/step - loss: 0.3881 - capsnet_loss: 0.3881 - decoder_loss: 0.0285 - capsnet_acc: 0.4831 - val_loss: 0.3878 - val_capsnet_loss: 0.3878 - val_decoder_loss: 0.0280 - val_capsnet_acc: 0.4691\n",
            "\n",
            "Epoch 00044: val_capsnet_acc did not improve from 0.47297\n",
            "Epoch 45/200\n",
            "207/207 [==============================] - 106s 514ms/step - loss: 0.3950 - capsnet_loss: 0.3950 - decoder_loss: 0.0285 - capsnet_acc: 0.4778 - val_loss: 0.3876 - val_capsnet_loss: 0.3876 - val_decoder_loss: 0.0280 - val_capsnet_acc: 0.4768\n",
            "\n",
            "Epoch 00045: val_capsnet_acc improved from 0.47297 to 0.47683, saving model to model/weights.45.h5\n",
            "Epoch 46/200\n",
            "207/207 [==============================] - 107s 516ms/step - loss: 0.3918 - capsnet_loss: 0.3918 - decoder_loss: 0.0285 - capsnet_acc: 0.4865 - val_loss: 0.3873 - val_capsnet_loss: 0.3873 - val_decoder_loss: 0.0280 - val_capsnet_acc: 0.4691\n",
            "\n",
            "Epoch 00046: val_capsnet_acc did not improve from 0.47683\n",
            "Epoch 47/200\n",
            "207/207 [==============================] - 107s 518ms/step - loss: 0.3880 - capsnet_loss: 0.3880 - decoder_loss: 0.0285 - capsnet_acc: 0.4874 - val_loss: 0.3884 - val_capsnet_loss: 0.3884 - val_decoder_loss: 0.0280 - val_capsnet_acc: 0.4730\n",
            "\n",
            "Epoch 00047: val_capsnet_acc did not improve from 0.47683\n",
            "Epoch 48/200\n",
            "207/207 [==============================] - 107s 516ms/step - loss: 0.3927 - capsnet_loss: 0.3927 - decoder_loss: 0.0286 - capsnet_acc: 0.4812 - val_loss: 0.3869 - val_capsnet_loss: 0.3868 - val_decoder_loss: 0.0280 - val_capsnet_acc: 0.4730\n",
            "\n",
            "Epoch 00048: val_capsnet_acc did not improve from 0.47683\n",
            "Epoch 49/200\n",
            "207/207 [==============================] - 107s 515ms/step - loss: 0.3907 - capsnet_loss: 0.3907 - decoder_loss: 0.0286 - capsnet_acc: 0.4826 - val_loss: 0.3861 - val_capsnet_loss: 0.3860 - val_decoder_loss: 0.0280 - val_capsnet_acc: 0.4710\n",
            "\n",
            "Epoch 00049: val_capsnet_acc did not improve from 0.47683\n",
            "Epoch 50/200\n",
            "207/207 [==============================] - 107s 517ms/step - loss: 0.3886 - capsnet_loss: 0.3886 - decoder_loss: 0.0287 - capsnet_acc: 0.4884 - val_loss: 0.3872 - val_capsnet_loss: 0.3872 - val_decoder_loss: 0.0280 - val_capsnet_acc: 0.4691\n",
            "\n",
            "Epoch 00050: val_capsnet_acc did not improve from 0.47683\n",
            "Epoch 51/200\n",
            "207/207 [==============================] - 107s 516ms/step - loss: 0.3896 - capsnet_loss: 0.3896 - decoder_loss: 0.0285 - capsnet_acc: 0.4821 - val_loss: 0.3838 - val_capsnet_loss: 0.3838 - val_decoder_loss: 0.0280 - val_capsnet_acc: 0.4749\n",
            "\n",
            "Epoch 00051: val_capsnet_acc did not improve from 0.47683\n",
            "Epoch 52/200\n",
            "207/207 [==============================] - 107s 518ms/step - loss: 0.3848 - capsnet_loss: 0.3848 - decoder_loss: 0.0284 - capsnet_acc: 0.4952 - val_loss: 0.3850 - val_capsnet_loss: 0.3850 - val_decoder_loss: 0.0280 - val_capsnet_acc: 0.4768\n",
            "\n",
            "Epoch 00052: val_capsnet_acc did not improve from 0.47683\n",
            "Epoch 53/200\n",
            "207/207 [==============================] - 107s 517ms/step - loss: 0.3891 - capsnet_loss: 0.3891 - decoder_loss: 0.0287 - capsnet_acc: 0.4836 - val_loss: 0.3874 - val_capsnet_loss: 0.3873 - val_decoder_loss: 0.0280 - val_capsnet_acc: 0.4749\n",
            "\n",
            "Epoch 00053: val_capsnet_acc did not improve from 0.47683\n",
            "Epoch 54/200\n",
            "207/207 [==============================] - 107s 517ms/step - loss: 0.3852 - capsnet_loss: 0.3852 - decoder_loss: 0.0287 - capsnet_acc: 0.4865 - val_loss: 0.3841 - val_capsnet_loss: 0.3841 - val_decoder_loss: 0.0280 - val_capsnet_acc: 0.4691\n",
            "\n",
            "Epoch 00054: val_capsnet_acc did not improve from 0.47683\n",
            "Epoch 55/200\n",
            "207/207 [==============================] - 107s 516ms/step - loss: 0.3886 - capsnet_loss: 0.3885 - decoder_loss: 0.0285 - capsnet_acc: 0.5029 - val_loss: 0.3857 - val_capsnet_loss: 0.3856 - val_decoder_loss: 0.0280 - val_capsnet_acc: 0.4710\n",
            "\n",
            "Epoch 00055: val_capsnet_acc did not improve from 0.47683\n",
            "Epoch 56/200\n",
            "207/207 [==============================] - 107s 517ms/step - loss: 0.3868 - capsnet_loss: 0.3868 - decoder_loss: 0.0286 - capsnet_acc: 0.4957 - val_loss: 0.3830 - val_capsnet_loss: 0.3830 - val_decoder_loss: 0.0280 - val_capsnet_acc: 0.4749\n",
            "\n",
            "Epoch 00056: val_capsnet_acc did not improve from 0.47683\n",
            "Epoch 57/200\n",
            "207/207 [==============================] - 107s 519ms/step - loss: 0.3828 - capsnet_loss: 0.3827 - decoder_loss: 0.0285 - capsnet_acc: 0.4908 - val_loss: 0.3843 - val_capsnet_loss: 0.3843 - val_decoder_loss: 0.0280 - val_capsnet_acc: 0.4730\n",
            "\n",
            "Epoch 00057: val_capsnet_acc did not improve from 0.47683\n",
            "Epoch 58/200\n",
            "207/207 [==============================] - 107s 516ms/step - loss: 0.3880 - capsnet_loss: 0.3880 - decoder_loss: 0.0286 - capsnet_acc: 0.4923 - val_loss: 0.3870 - val_capsnet_loss: 0.3870 - val_decoder_loss: 0.0280 - val_capsnet_acc: 0.4710\n",
            "\n",
            "Epoch 00058: val_capsnet_acc did not improve from 0.47683\n",
            "Epoch 59/200\n",
            "207/207 [==============================] - 107s 518ms/step - loss: 0.3908 - capsnet_loss: 0.3908 - decoder_loss: 0.0285 - capsnet_acc: 0.4797 - val_loss: 0.3841 - val_capsnet_loss: 0.3841 - val_decoder_loss: 0.0280 - val_capsnet_acc: 0.4710\n",
            "\n",
            "Epoch 00059: val_capsnet_acc did not improve from 0.47683\n",
            "Epoch 60/200\n",
            "207/207 [==============================] - 107s 518ms/step - loss: 0.3868 - capsnet_loss: 0.3868 - decoder_loss: 0.0286 - capsnet_acc: 0.4928 - val_loss: 0.3848 - val_capsnet_loss: 0.3848 - val_decoder_loss: 0.0280 - val_capsnet_acc: 0.4730\n",
            "\n",
            "Epoch 00060: val_capsnet_acc did not improve from 0.47683\n",
            "Epoch 61/200\n",
            "207/207 [==============================] - 107s 516ms/step - loss: 0.3910 - capsnet_loss: 0.3910 - decoder_loss: 0.0287 - capsnet_acc: 0.4778 - val_loss: 0.3838 - val_capsnet_loss: 0.3838 - val_decoder_loss: 0.0280 - val_capsnet_acc: 0.4768\n",
            "\n",
            "Epoch 00061: val_capsnet_acc improved from 0.47683 to 0.47683, saving model to model/weights.61.h5\n",
            "Epoch 62/200\n",
            "207/207 [==============================] - 107s 517ms/step - loss: 0.3893 - capsnet_loss: 0.3893 - decoder_loss: 0.0286 - capsnet_acc: 0.4845 - val_loss: 0.3823 - val_capsnet_loss: 0.3822 - val_decoder_loss: 0.0280 - val_capsnet_acc: 0.4768\n",
            "\n",
            "Epoch 00062: val_capsnet_acc did not improve from 0.47683\n",
            "Epoch 63/200\n",
            "207/207 [==============================] - 107s 516ms/step - loss: 0.3822 - capsnet_loss: 0.3822 - decoder_loss: 0.0285 - capsnet_acc: 0.5039 - val_loss: 0.3841 - val_capsnet_loss: 0.3841 - val_decoder_loss: 0.0280 - val_capsnet_acc: 0.4768\n",
            "\n",
            "Epoch 00063: val_capsnet_acc improved from 0.47683 to 0.47683, saving model to model/weights.63.h5\n",
            "Epoch 64/200\n",
            "207/207 [==============================] - 107s 516ms/step - loss: 0.3912 - capsnet_loss: 0.3911 - decoder_loss: 0.0285 - capsnet_acc: 0.4855 - val_loss: 0.3840 - val_capsnet_loss: 0.3840 - val_decoder_loss: 0.0280 - val_capsnet_acc: 0.4768\n",
            "\n",
            "Epoch 00064: val_capsnet_acc did not improve from 0.47683\n",
            "Epoch 65/200\n",
            "207/207 [==============================] - 107s 515ms/step - loss: 0.3862 - capsnet_loss: 0.3862 - decoder_loss: 0.0285 - capsnet_acc: 0.4865 - val_loss: 0.3834 - val_capsnet_loss: 0.3834 - val_decoder_loss: 0.0280 - val_capsnet_acc: 0.4788\n",
            "\n",
            "Epoch 00065: val_capsnet_acc improved from 0.47683 to 0.47876, saving model to model/weights.65.h5\n",
            "Epoch 66/200\n",
            "207/207 [==============================] - 107s 517ms/step - loss: 0.3896 - capsnet_loss: 0.3896 - decoder_loss: 0.0285 - capsnet_acc: 0.4899 - val_loss: 0.3823 - val_capsnet_loss: 0.3823 - val_decoder_loss: 0.0280 - val_capsnet_acc: 0.4768\n",
            "\n",
            "Epoch 00066: val_capsnet_acc did not improve from 0.47876\n",
            "Epoch 67/200\n",
            "207/207 [==============================] - 107s 518ms/step - loss: 0.3910 - capsnet_loss: 0.3910 - decoder_loss: 0.0286 - capsnet_acc: 0.4870 - val_loss: 0.3821 - val_capsnet_loss: 0.3821 - val_decoder_loss: 0.0280 - val_capsnet_acc: 0.4768\n",
            "\n",
            "Epoch 00067: val_capsnet_acc did not improve from 0.47876\n",
            "Epoch 68/200\n",
            "207/207 [==============================] - 107s 515ms/step - loss: 0.3902 - capsnet_loss: 0.3902 - decoder_loss: 0.0286 - capsnet_acc: 0.4792 - val_loss: 0.3815 - val_capsnet_loss: 0.3815 - val_decoder_loss: 0.0280 - val_capsnet_acc: 0.4768\n",
            "\n",
            "Epoch 00068: val_capsnet_acc did not improve from 0.47876\n",
            "Epoch 69/200\n",
            "207/207 [==============================] - 107s 516ms/step - loss: 0.3817 - capsnet_loss: 0.3817 - decoder_loss: 0.0285 - capsnet_acc: 0.4990 - val_loss: 0.3820 - val_capsnet_loss: 0.3820 - val_decoder_loss: 0.0280 - val_capsnet_acc: 0.4749\n",
            "\n",
            "Epoch 00069: val_capsnet_acc did not improve from 0.47876\n",
            "Epoch 70/200\n",
            "207/207 [==============================] - 107s 516ms/step - loss: 0.3851 - capsnet_loss: 0.3851 - decoder_loss: 0.0284 - capsnet_acc: 0.4889 - val_loss: 0.3816 - val_capsnet_loss: 0.3816 - val_decoder_loss: 0.0280 - val_capsnet_acc: 0.4768\n",
            "\n",
            "Epoch 00070: val_capsnet_acc did not improve from 0.47876\n",
            "Epoch 71/200\n",
            "207/207 [==============================] - 107s 516ms/step - loss: 0.3863 - capsnet_loss: 0.3863 - decoder_loss: 0.0286 - capsnet_acc: 0.4908 - val_loss: 0.3827 - val_capsnet_loss: 0.3827 - val_decoder_loss: 0.0280 - val_capsnet_acc: 0.4749\n",
            "\n",
            "Epoch 00071: val_capsnet_acc did not improve from 0.47876\n",
            "Epoch 72/200\n",
            "207/207 [==============================] - 107s 518ms/step - loss: 0.3847 - capsnet_loss: 0.3847 - decoder_loss: 0.0286 - capsnet_acc: 0.4947 - val_loss: 0.3828 - val_capsnet_loss: 0.3828 - val_decoder_loss: 0.0280 - val_capsnet_acc: 0.4749\n",
            "\n",
            "Epoch 00072: val_capsnet_acc did not improve from 0.47876\n",
            "Epoch 73/200\n",
            "207/207 [==============================] - 107s 515ms/step - loss: 0.3903 - capsnet_loss: 0.3903 - decoder_loss: 0.0286 - capsnet_acc: 0.4836 - val_loss: 0.3824 - val_capsnet_loss: 0.3824 - val_decoder_loss: 0.0280 - val_capsnet_acc: 0.4749\n",
            "\n",
            "Epoch 00073: val_capsnet_acc did not improve from 0.47876\n",
            "Epoch 74/200\n",
            "207/207 [==============================] - 107s 516ms/step - loss: 0.3843 - capsnet_loss: 0.3842 - decoder_loss: 0.0285 - capsnet_acc: 0.4937 - val_loss: 0.3826 - val_capsnet_loss: 0.3826 - val_decoder_loss: 0.0280 - val_capsnet_acc: 0.4749\n",
            "\n",
            "Epoch 00074: val_capsnet_acc did not improve from 0.47876\n",
            "Epoch 75/200\n",
            "207/207 [==============================] - 107s 517ms/step - loss: 0.3856 - capsnet_loss: 0.3856 - decoder_loss: 0.0285 - capsnet_acc: 0.5005 - val_loss: 0.3827 - val_capsnet_loss: 0.3827 - val_decoder_loss: 0.0280 - val_capsnet_acc: 0.4749\n",
            "\n",
            "Epoch 00075: val_capsnet_acc did not improve from 0.47876\n",
            "Epoch 76/200\n",
            "207/207 [==============================] - 107s 517ms/step - loss: 0.3834 - capsnet_loss: 0.3834 - decoder_loss: 0.0285 - capsnet_acc: 0.4961 - val_loss: 0.3826 - val_capsnet_loss: 0.3826 - val_decoder_loss: 0.0280 - val_capsnet_acc: 0.4730\n",
            "\n",
            "Epoch 00076: val_capsnet_acc did not improve from 0.47876\n",
            "Epoch 77/200\n",
            "207/207 [==============================] - 107s 517ms/step - loss: 0.3903 - capsnet_loss: 0.3903 - decoder_loss: 0.0286 - capsnet_acc: 0.4744 - val_loss: 0.3826 - val_capsnet_loss: 0.3826 - val_decoder_loss: 0.0280 - val_capsnet_acc: 0.4749\n",
            "\n",
            "Epoch 00077: val_capsnet_acc did not improve from 0.47876\n",
            "Epoch 78/200\n",
            "207/207 [==============================] - 107s 515ms/step - loss: 0.3819 - capsnet_loss: 0.3819 - decoder_loss: 0.0284 - capsnet_acc: 0.4923 - val_loss: 0.3824 - val_capsnet_loss: 0.3824 - val_decoder_loss: 0.0280 - val_capsnet_acc: 0.4749\n",
            "\n",
            "Epoch 00078: val_capsnet_acc did not improve from 0.47876\n",
            "Epoch 79/200\n",
            "207/207 [==============================] - 107s 516ms/step - loss: 0.3859 - capsnet_loss: 0.3859 - decoder_loss: 0.0286 - capsnet_acc: 0.4942 - val_loss: 0.3823 - val_capsnet_loss: 0.3823 - val_decoder_loss: 0.0280 - val_capsnet_acc: 0.4749\n",
            "\n",
            "Epoch 00079: val_capsnet_acc did not improve from 0.47876\n",
            "Epoch 80/200\n",
            "207/207 [==============================] - 107s 517ms/step - loss: 0.3845 - capsnet_loss: 0.3845 - decoder_loss: 0.0285 - capsnet_acc: 0.4966 - val_loss: 0.3826 - val_capsnet_loss: 0.3826 - val_decoder_loss: 0.0280 - val_capsnet_acc: 0.4749\n",
            "\n",
            "Epoch 00080: val_capsnet_acc did not improve from 0.47876\n",
            "Epoch 81/200\n",
            "207/207 [==============================] - 107s 515ms/step - loss: 0.3826 - capsnet_loss: 0.3825 - decoder_loss: 0.0284 - capsnet_acc: 0.5014 - val_loss: 0.3823 - val_capsnet_loss: 0.3823 - val_decoder_loss: 0.0280 - val_capsnet_acc: 0.4749\n",
            "\n",
            "Epoch 00081: val_capsnet_acc did not improve from 0.47876\n",
            "Epoch 82/200\n",
            "207/207 [==============================] - 107s 518ms/step - loss: 0.3877 - capsnet_loss: 0.3877 - decoder_loss: 0.0286 - capsnet_acc: 0.4903 - val_loss: 0.3823 - val_capsnet_loss: 0.3823 - val_decoder_loss: 0.0280 - val_capsnet_acc: 0.4749\n",
            "\n",
            "Epoch 00082: val_capsnet_acc did not improve from 0.47876\n",
            "Epoch 83/200\n",
            "207/207 [==============================] - 106s 514ms/step - loss: 0.3880 - capsnet_loss: 0.3880 - decoder_loss: 0.0286 - capsnet_acc: 0.4899 - val_loss: 0.3822 - val_capsnet_loss: 0.3822 - val_decoder_loss: 0.0280 - val_capsnet_acc: 0.4749\n",
            "\n",
            "Epoch 00083: val_capsnet_acc did not improve from 0.47876\n",
            "Epoch 84/200\n",
            "207/207 [==============================] - 107s 516ms/step - loss: 0.3860 - capsnet_loss: 0.3860 - decoder_loss: 0.0284 - capsnet_acc: 0.4908 - val_loss: 0.3821 - val_capsnet_loss: 0.3821 - val_decoder_loss: 0.0280 - val_capsnet_acc: 0.4749\n",
            "\n",
            "Epoch 00084: val_capsnet_acc did not improve from 0.47876\n",
            "Epoch 85/200\n",
            "207/207 [==============================] - 107s 517ms/step - loss: 0.3870 - capsnet_loss: 0.3870 - decoder_loss: 0.0286 - capsnet_acc: 0.4908 - val_loss: 0.3823 - val_capsnet_loss: 0.3823 - val_decoder_loss: 0.0280 - val_capsnet_acc: 0.4730\n",
            "\n",
            "Epoch 00085: val_capsnet_acc did not improve from 0.47876\n",
            "Epoch 86/200\n",
            "207/207 [==============================] - 107s 517ms/step - loss: 0.3883 - capsnet_loss: 0.3883 - decoder_loss: 0.0286 - capsnet_acc: 0.4932 - val_loss: 0.3822 - val_capsnet_loss: 0.3822 - val_decoder_loss: 0.0280 - val_capsnet_acc: 0.4730\n",
            "\n",
            "Epoch 00086: val_capsnet_acc did not improve from 0.47876\n",
            "Epoch 87/200\n",
            "207/207 [==============================] - 107s 518ms/step - loss: 0.3817 - capsnet_loss: 0.3817 - decoder_loss: 0.0285 - capsnet_acc: 0.4995 - val_loss: 0.3823 - val_capsnet_loss: 0.3823 - val_decoder_loss: 0.0280 - val_capsnet_acc: 0.4730\n",
            "\n",
            "Epoch 00087: val_capsnet_acc did not improve from 0.47876\n",
            "Epoch 88/200\n",
            "207/207 [==============================] - 106s 514ms/step - loss: 0.3791 - capsnet_loss: 0.3790 - decoder_loss: 0.0286 - capsnet_acc: 0.5068 - val_loss: 0.3824 - val_capsnet_loss: 0.3824 - val_decoder_loss: 0.0280 - val_capsnet_acc: 0.4749\n",
            "\n",
            "Epoch 00088: val_capsnet_acc did not improve from 0.47876\n",
            "Epoch 00088: early stopping\n"
          ],
          "name": "stdout"
        }
      ]
    },
    {
      "metadata": {
        "id": "tVDX0tKSau_m",
        "colab_type": "text"
      },
      "cell_type": "markdown",
      "source": [
        "## Results of training\n",
        "\n",
        "Let's see how our accuracy evolved during training."
      ]
    },
    {
      "metadata": {
        "id": "8ZDCbccf06PR",
        "colab_type": "code",
        "colab": {
          "base_uri": "https://localhost:8080/",
          "height": 630
        },
        "outputId": "b15b39e1-c9f7-4428-86bc-d53fd6db8219"
      },
      "cell_type": "code",
      "source": [
        "plt.figure(figsize=(10, 10))\n",
        "plt.plot(history.history['capsnet_acc'])\n",
        "plt.plot(history.history['val_capsnet_acc'])\n",
        "plt.ylabel('accuracy', fontsize='x-large')\n",
        "plt.xlabel('epoch', fontsize='x-large')\n",
        "plt.legend(['train', 'test'], loc='upper left', fontsize='x-large')"
      ],
      "execution_count": 11,
      "outputs": [
        {
          "output_type": "execute_result",
          "data": {
            "text/plain": [
              "<matplotlib.legend.Legend at 0x7fdcffda84e0>"
            ]
          },
          "metadata": {
            "tags": []
          },
          "execution_count": 11
        },
        {
          "output_type": "display_data",
          "data": {
            "image/png": "[encoded data removed]",
            "text/plain": [
              "<Figure size 720x720 with 1 Axes>"
            ]
          },
          "metadata": {
            "tags": []
          }
        }
      ]
    },
    {
      "metadata": {
        "id": "xQTH6Jq_wRhT",
        "colab_type": "text"
      },
      "cell_type": "markdown",
      "source": [
        "## Save trained model\n",
        "\n",
        "Let's save our trained model into your [Google Drive](https://drive.google.com/drive/my-drive) first. The following cell will request permissions to access your Drive and then save the model as `model.h5`."
      ]
    },
    {
      "metadata": {
        "id": "tz4rtqeYmsCv",
        "colab_type": "code",
        "colab": {
          "base_uri": "https://localhost:8080/",
          "height": 51
        },
        "outputId": "59f8138a-011f-44d1-e6cb-971afee806e3"
      },
      "cell_type": "code",
      "source": [
        "from google.colab import drive\n",
        "drive.mount('/content/gdrive')\n",
        "\n",
        "model.save_weights('/content/gdrive/My Drive/model.h5')"
      ],
      "execution_count": 12,
      "outputs": [
        {
          "output_type": "stream",
          "text": [
            "Drive already mounted at /content/gdrive; to attempt to forcibly remount, call drive.mount(\"/content/gdrive\", force_remount=True).\n",
            "Saving model's weights to \"/content/gdrive/My Drive/model.h5\"... Done\n"
          ],
          "name": "stdout"
        }
      ]
    },
    {
      "metadata": {
        "id": "KdY8cVHGOQIq",
        "colab_type": "text"
      },
      "cell_type": "markdown",
      "source": [
        "## Testing"
      ]
    },
    {
      "metadata": {
        "id": "8-bLBezYOYLz",
        "colab_type": "code",
        "colab": {
          "base_uri": "https://localhost:8080/",
          "height": 128
        },
        "outputId": "f2255906-933c-47e6-a037-bea3627ab8b9"
      },
      "cell_type": "code",
      "source": [
        "metrics = model.test(x_test, y_test, )\n",
        "pd.DataFrame.from_dict(metrics, columns=[\"Value\"], orient='index')"
      ],
      "execution_count": 13,
      "outputs": [
        {
          "output_type": "stream",
          "text": [
            "518/518 [==============================] - 7s 13ms/step\n"
          ],
          "name": "stdout"
        },
        {
          "output_type": "execute_result",
          "data": {
            "text/html": [
              "<div>\n",
              "<style scoped>\n",
              "    .dataframe tbody tr th:only-of-type {\n",
              "        vertical-align: middle;\n",
              "    }\n",
              "\n",
              "    .dataframe tbody tr th {\n",
              "        vertical-align: top;\n",
              "    }\n",
              "\n",
              "    .dataframe thead th {\n",
              "        text-align: right;\n",
              "    }\n",
              "</style>\n",
              "<table border=\"1\" class=\"dataframe\">\n",
              "  <thead>\n",
              "    <tr style=\"text-align: right;\">\n",
              "      <th></th>\n",
              "      <th>Value</th>\n",
              "    </tr>\n",
              "  </thead>\n",
              "  <tbody>\n",
              "    <tr>\n",
              "      <th>loss</th>\n",
              "      <td>0.382421</td>\n",
              "    </tr>\n",
              "    <tr>\n",
              "      <th>acc</th>\n",
              "      <td>0.474903</td>\n",
              "    </tr>\n",
              "  </tbody>\n",
              "</table>\n",
              "</div>"
            ],
            "text/plain": [
              "         Value\n",
              "loss  0.382421\n",
              "acc   0.474903"
            ]
          },
          "metadata": {
            "tags": []
          },
          "execution_count": 13
        }
      ]
    },
    {
      "metadata": {
        "id": "T7FwC33KQ7zk",
        "colab_type": "code",
        "colab": {
          "base_uri": "https://localhost:8080/",
          "height": 1452
        },
        "outputId": "a22ea892-3987-4ddd-f9c6-71d64c7d4a64"
      },
      "cell_type": "code",
      "source": [
        "predictions = model.predict(x_test)\n",
        "\n",
        "fig, axs = plt.subplots(5, 2, figsize=(10, 25))\n",
        "fig.subplots_adjust(hspace=.5)\n",
        "axs = axs.ravel()\n",
        "bins = len(np.unique(y_train, axis=0))\n",
        "for i in range(10):\n",
        "    predicted_idx = np.argmax(predictions[i // 2])\n",
        "    real_idx = np.argmax(y_test[i // 2])\n",
        "    if i%2 == 0:\n",
        "        axs[i].axis('off')\n",
        "        axs[i].imshow(x_test[i // 2])\n",
        "        predicted_name = people.target_names[predicted_idx]\n",
        "        real_name = people.target_names[real_idx]\n",
        "        axs[i].set_title(\"Prediction: %s\\nReal: %s\" % (predicted_name, real_name))\n",
        "    else:\n",
        "        bars = axs[i].bar(np.arange(bins), predictions[i // 2])\n",
        "        axs[i].set_ylabel(\"Softmax\")\n",
        "        axs[i].set_xlabel(\"Labels\")\n",
        "        bars[real_idx].set_color('r')\n",
        "        bars[predicted_idx].set_color('g')\n",
        "        axs[i].set_title(\"Good\" if real_idx == predicted_idx else 'Fail')\n",
        "\n",
        "plt.show()"
      ],
      "execution_count": 14,
      "outputs": [
        {
          "output_type": "display_data",
          "data": {
            "image/png": "[encoded data removed]",
            "text/plain": [
              "<Figure size 720x1800 with 10 Axes>"
            ]
          },
          "metadata": {
            "tags": []
          }
        }
      ]
    }
  ]
}