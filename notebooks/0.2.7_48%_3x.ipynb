{
 "cells": [
  {
   "cell_type": "markdown",
   "metadata": {
    "colab_type": "text",
    "id": "mxyHDbGxWL9A"
   },
   "source": [
    "# Intro"
   ]
  },
  {
   "cell_type": "markdown",
   "metadata": {
    "colab_type": "text",
    "id": "J5eueFsCss8g"
   },
   "source": [
    "## Load and import CapsNet\n",
    "\n",
    "First, let's clone our GitHub repo and import all parts which will be used in this notebook."
   ]
  },
  {
   "cell_type": "code",
   "execution_count": 0,
   "metadata": {
    "colab": {
     "base_uri": "https://localhost:8080/",
     "height": 598
    },
    "colab_type": "code",
    "id": "VphwW703qtDn",
    "outputId": "357e9314-b537-41c1-e376-688858652ce4"
   },
   "outputs": [
    {
     "name": "stdout",
     "output_type": "stream",
     "text": [
      "Collecting git+https://github.com/tumido/face_biometrics_descriptor-code.git\n",
      "  Cloning https://github.com/tumido/face_biometrics_descriptor-code.git to /tmp/pip-req-build-ewrmfbl2\n",
      "Requirement already satisfied, skipping upgrade: tensorflow in /usr/local/lib/python3.6/dist-packages (from capsnet==0.2.7) (1.13.1)\n",
      "Requirement already satisfied, skipping upgrade: scikit-learn in /usr/local/lib/python3.6/dist-packages (from capsnet==0.2.7) (0.20.3)\n",
      "Requirement already satisfied, skipping upgrade: keras in /usr/local/lib/python3.6/dist-packages (from capsnet==0.2.7) (2.2.4)\n",
      "Requirement already satisfied, skipping upgrade: numpy in /usr/local/lib/python3.6/dist-packages (from capsnet==0.2.7) (1.16.3)\n",
      "Requirement already satisfied, skipping upgrade: protobuf>=3.6.1 in /usr/local/lib/python3.6/dist-packages (from tensorflow->capsnet==0.2.7) (3.7.1)\n",
      "Requirement already satisfied, skipping upgrade: tensorflow-estimator<1.14.0rc0,>=1.13.0 in /usr/local/lib/python3.6/dist-packages (from tensorflow->capsnet==0.2.7) (1.13.0)\n",
      "Requirement already satisfied, skipping upgrade: wheel>=0.26 in /usr/local/lib/python3.6/dist-packages (from tensorflow->capsnet==0.2.7) (0.33.1)\n",
      "Requirement already satisfied, skipping upgrade: gast>=0.2.0 in /usr/local/lib/python3.6/dist-packages (from tensorflow->capsnet==0.2.7) (0.2.2)\n",
      "Requirement already satisfied, skipping upgrade: termcolor>=1.1.0 in /usr/local/lib/python3.6/dist-packages (from tensorflow->capsnet==0.2.7) (1.1.0)\n",
      "Requirement already satisfied, skipping upgrade: astor>=0.6.0 in /usr/local/lib/python3.6/dist-packages (from tensorflow->capsnet==0.2.7) (0.7.1)\n",
      "Requirement already satisfied, skipping upgrade: grpcio>=1.8.6 in /usr/local/lib/python3.6/dist-packages (from tensorflow->capsnet==0.2.7) (1.15.0)\n",
      "Requirement already satisfied, skipping upgrade: six>=1.10.0 in /usr/local/lib/python3.6/dist-packages (from tensorflow->capsnet==0.2.7) (1.12.0)\n",
      "Requirement already satisfied, skipping upgrade: keras-preprocessing>=1.0.5 in /usr/local/lib/python3.6/dist-packages (from tensorflow->capsnet==0.2.7) (1.0.9)\n",
      "Requirement already satisfied, skipping upgrade: tensorboard<1.14.0,>=1.13.0 in /usr/local/lib/python3.6/dist-packages (from tensorflow->capsnet==0.2.7) (1.13.1)\n",
      "Requirement already satisfied, skipping upgrade: absl-py>=0.1.6 in /usr/local/lib/python3.6/dist-packages (from tensorflow->capsnet==0.2.7) (0.7.1)\n",
      "Requirement already satisfied, skipping upgrade: keras-applications>=1.0.6 in /usr/local/lib/python3.6/dist-packages (from tensorflow->capsnet==0.2.7) (1.0.7)\n",
      "Requirement already satisfied, skipping upgrade: scipy>=0.13.3 in /usr/local/lib/python3.6/dist-packages (from scikit-learn->capsnet==0.2.7) (1.2.1)\n",
      "Requirement already satisfied, skipping upgrade: pyyaml in /usr/local/lib/python3.6/dist-packages (from keras->capsnet==0.2.7) (3.13)\n",
      "Requirement already satisfied, skipping upgrade: h5py in /usr/local/lib/python3.6/dist-packages (from keras->capsnet==0.2.7) (2.8.0)\n",
      "Requirement already satisfied, skipping upgrade: setuptools in /usr/local/lib/python3.6/dist-packages (from protobuf>=3.6.1->tensorflow->capsnet==0.2.7) (40.9.0)\n",
      "Requirement already satisfied, skipping upgrade: mock>=2.0.0 in /usr/local/lib/python3.6/dist-packages (from tensorflow-estimator<1.14.0rc0,>=1.13.0->tensorflow->capsnet==0.2.7) (2.0.0)\n",
      "Requirement already satisfied, skipping upgrade: markdown>=2.6.8 in /usr/local/lib/python3.6/dist-packages (from tensorboard<1.14.0,>=1.13.0->tensorflow->capsnet==0.2.7) (3.1)\n",
      "Requirement already satisfied, skipping upgrade: werkzeug>=0.11.15 in /usr/local/lib/python3.6/dist-packages (from tensorboard<1.14.0,>=1.13.0->tensorflow->capsnet==0.2.7) (0.15.2)\n",
      "Requirement already satisfied, skipping upgrade: pbr>=0.11 in /usr/local/lib/python3.6/dist-packages (from mock>=2.0.0->tensorflow-estimator<1.14.0rc0,>=1.13.0->tensorflow->capsnet==0.2.7) (5.1.3)\n",
      "Installing collected packages: capsnet\n",
      "  Found existing installation: capsnet 0.2.6\n",
      "    Uninstalling capsnet-0.2.6:\n",
      "      Successfully uninstalled capsnet-0.2.6\n",
      "  Running setup.py install for capsnet ... \u001b[?25ldone\n",
      "\u001b[?25hSuccessfully installed capsnet-0.2.7\n"
     ]
    },
    {
     "name": "stderr",
     "output_type": "stream",
     "text": [
      "Using TensorFlow backend.\n"
     ]
    }
   ],
   "source": [
    "!pip install --no-cache-dir --upgrade git+https://github.com/tumido/face_biometrics_descriptor-code.git\n",
    "\n",
    "from sklearn.datasets import fetch_lfw_people\n",
    "from capsnet import preprocess_lfw_people, CapsNet"
   ]
  },
  {
   "cell_type": "markdown",
   "metadata": {
    "colab_type": "text",
    "id": "lXW-IfxnXdB8"
   },
   "source": [
    "## Auxilary imports\n",
    "\n",
    "Additional imports used in this Notebook would help to visualize data."
   ]
  },
  {
   "cell_type": "code",
   "execution_count": 0,
   "metadata": {
    "colab": {},
    "colab_type": "code",
    "id": "r0B1RTylXldU"
   },
   "outputs": [],
   "source": [
    "import numpy as np\n",
    "from sklearn.metrics import confusion_matrix\n",
    "%matplotlib inline\n",
    "import matplotlib.pyplot as plt\n",
    "import pandas as pd\n",
    "from random import randint"
   ]
  },
  {
   "cell_type": "markdown",
   "metadata": {
    "colab_type": "text",
    "id": "haIVjnGFlbM_"
   },
   "source": [
    "Install and start a TensorBoard in Colab"
   ]
  },
  {
   "cell_type": "code",
   "execution_count": 0,
   "metadata": {
    "colab": {
     "base_uri": "https://localhost:8080/",
     "height": 85
    },
    "colab_type": "code",
    "id": "fLxDpf1JleKJ",
    "outputId": "459dbc51-1aeb-4776-fa41-d79a94705bce"
   },
   "outputs": [
    {
     "name": "stdout",
     "output_type": "stream",
     "text": [
      "Requirement already satisfied: tensorboardcolab in /usr/local/lib/python3.6/dist-packages (0.0.22)\n",
      "Wait for 8 seconds...\n",
      "TensorBoard link:\n",
      "https://8f283382.ngrok.io\n"
     ]
    }
   ],
   "source": [
    "!pip install tensorboardcolab\n",
    "from tensorboardcolab import TensorBoardColab, TensorBoardColabCallback\n",
    "\n",
    "tbc = TensorBoardColab()\n",
    "tensor_board_callback = TensorBoardColabCallback(tbc, batch_size=10) #, histogram_freq=5, write_graph=True, write_grads=True, write_images=True)"
   ]
  },
  {
   "cell_type": "markdown",
   "metadata": {
    "colab_type": "text",
    "id": "yf59QXJdWRnM"
   },
   "source": [
    "## Verify GPU\n",
    "\n",
    "in the next cell we verify that a GPU is available to our use. The output should contain a GPU details."
   ]
  },
  {
   "cell_type": "code",
   "execution_count": 0,
   "metadata": {
    "colab": {
     "base_uri": "https://localhost:8080/",
     "height": 102
    },
    "colab_type": "code",
    "id": "C35iLzmqWeGl",
    "outputId": "f83aa7c9-3273-46cb-efaf-1120232c9f19"
   },
   "outputs": [
    {
     "name": "stdout",
     "output_type": "stream",
     "text": [
      "path: /device:GPU:0\n",
      "device: 0\n",
      "name: Tesla T4\n",
      "pci bus id: 0000:00:04.0\n",
      "compute capability: 7.5\n"
     ]
    }
   ],
   "source": [
    "from tensorflow.test import is_gpu_available\n",
    "from tensorflow.python.client import device_lib\n",
    "\n",
    "if not is_gpu_available():\n",
    "    raise SystemError('GPU device not found')\n",
    "\n",
    "desc = [f'path: {d.name}, {d.physical_device_desc}' for d in device_lib.list_local_devices() if d.device_type == \"GPU\"][0]\n",
    "print(\"\\n\".join(desc.split(\", \")))"
   ]
  },
  {
   "cell_type": "markdown",
   "metadata": {
    "colab_type": "text",
    "id": "Gm3DsF4StZ_f"
   },
   "source": [
    "## Collect data set \n",
    "\n",
    "We're gonna be working with LFW dataset"
   ]
  },
  {
   "cell_type": "code",
   "execution_count": 0,
   "metadata": {
    "colab": {},
    "colab_type": "code",
    "id": "MWP1fbqyrK2e"
   },
   "outputs": [],
   "source": [
    "people = fetch_lfw_people(\n",
    "    color=True,\n",
    "    min_faces_per_person=25\n",
    ")\n",
    "\n",
    "\n",
    "data = preprocess_lfw_people(people)\n",
    "(x_train, y_train), (x_test, y_test) = data"
   ]
  },
  {
   "cell_type": "code",
   "execution_count": 0,
   "metadata": {
    "colab": {
     "base_uri": "https://localhost:8080/",
     "height": 204
    },
    "colab_type": "code",
    "id": "jAr9gS3Ama1b",
    "outputId": "e364e95f-cb50-4165-e2c3-3416c4c646d1"
   },
   "outputs": [
    {
     "data": {
      "text/html": [
       "<div>\n",
       "<style scoped>\n",
       "    .dataframe tbody tr th:only-of-type {\n",
       "        vertical-align: middle;\n",
       "    }\n",
       "\n",
       "    .dataframe tbody tr th {\n",
       "        vertical-align: top;\n",
       "    }\n",
       "\n",
       "    .dataframe thead th {\n",
       "        text-align: right;\n",
       "    }\n",
       "</style>\n",
       "<table border=\"1\" class=\"dataframe\">\n",
       "  <thead>\n",
       "    <tr style=\"text-align: right;\">\n",
       "      <th></th>\n",
       "      <th>Name</th>\n",
       "      <th>Value</th>\n",
       "    </tr>\n",
       "  </thead>\n",
       "  <tbody>\n",
       "    <tr>\n",
       "      <th>0</th>\n",
       "      <td>Identities</td>\n",
       "      <td>42</td>\n",
       "    </tr>\n",
       "    <tr>\n",
       "      <th>1</th>\n",
       "      <td>Total images</td>\n",
       "      <td>2588</td>\n",
       "    </tr>\n",
       "    <tr>\n",
       "      <th>2</th>\n",
       "      <td>Train images</td>\n",
       "      <td>2070</td>\n",
       "    </tr>\n",
       "    <tr>\n",
       "      <th>3</th>\n",
       "      <td>Test images</td>\n",
       "      <td>518</td>\n",
       "    </tr>\n",
       "    <tr>\n",
       "      <th>4</th>\n",
       "      <td>Image shape</td>\n",
       "      <td>(32, 32, 3)</td>\n",
       "    </tr>\n",
       "  </tbody>\n",
       "</table>\n",
       "</div>"
      ],
      "text/plain": [
       "           Name        Value\n",
       "0    Identities           42\n",
       "1  Total images         2588\n",
       "2  Train images         2070\n",
       "3   Test images          518\n",
       "4   Image shape  (32, 32, 3)"
      ]
     },
     "execution_count": 6,
     "metadata": {
      "tags": []
     },
     "output_type": "execute_result"
    }
   ],
   "source": [
    "metrics = [\n",
    "    [\"Identities\", len(np.unique(people.target, axis=0))],\n",
    "    [\"Total images\", people.target.shape[0]],\n",
    "    [\"Train images\", len(y_train)],\n",
    "    [\"Test images\", len(y_test)],\n",
    "    [\"Image shape\", x_train.shape[1:]]\n",
    "]\n",
    "pd.DataFrame(metrics, columns=[\"Name\", \"Value\"])"
   ]
  },
  {
   "cell_type": "code",
   "execution_count": 0,
   "metadata": {
    "colab": {
     "base_uri": "https://localhost:8080/",
     "height": 269
    },
    "colab_type": "code",
    "id": "3ZCoPj6ghtOM",
    "outputId": "1ca7a4c1-32bb-4343-a77a-0bd68dbb9f2c"
   },
   "outputs": [
    {
     "data": {
      "image/png": "[encoded data removed]",
      "text/plain": [
       "<Figure size 432x288 with 1 Axes>"
      ]
     },
     "metadata": {
      "tags": []
     },
     "output_type": "display_data"
    }
   ],
   "source": [
    "_ = plt.hist(people.target, bins=people.target_names.shape[0])"
   ]
  },
  {
   "cell_type": "code",
   "execution_count": 0,
   "metadata": {
    "colab": {
     "base_uri": "https://localhost:8080/",
     "height": 286
    },
    "colab_type": "code",
    "id": "enDcEbijABEv",
    "outputId": "8ab322d9-4387-4632-b25b-90ad646ec9f2"
   },
   "outputs": [
    {
     "name": "stdout",
     "output_type": "stream",
     "text": [
      "6: Colin Powell\n"
     ]
    },
    {
     "data": {
      "image/png": "[encoded data removed]",
      "text/plain": [
       "<Figure size 432x288 with 1 Axes>"
      ]
     },
     "metadata": {
      "tags": []
     },
     "output_type": "display_data"
    }
   ],
   "source": [
    "i = randint(0, len(x_train))\n",
    "plt.imshow(x_train[i])\n",
    "print(\"{}: {}\".format(np.argmax(y_train[i]), people.target_names[np.argmax(y_train[i])]))"
   ]
  },
  {
   "cell_type": "markdown",
   "metadata": {
    "colab_type": "text",
    "id": "GO6c2pk1k0Lr"
   },
   "source": [
    "## CapsNet\n",
    "\n",
    "Let's begin training our network"
   ]
  },
  {
   "cell_type": "code",
   "execution_count": 0,
   "metadata": {
    "colab": {
     "base_uri": "https://localhost:8080/",
     "height": 700
    },
    "colab_type": "code",
    "id": "MSvdR8A6tp-V",
    "outputId": "6e643858-42d5-403b-d187-fbd079e06a99"
   },
   "outputs": [
    {
     "name": "stdout",
     "output_type": "stream",
     "text": [
      "WARNING:tensorflow:From /usr/local/lib/python3.6/dist-packages/tensorflow/python/framework/op_def_library.py:263: colocate_with (from tensorflow.python.framework.ops) is deprecated and will be removed in a future version.\n",
      "Instructions for updating:\n",
      "Colocations handled automatically by placer.\n",
      "WARNING:tensorflow:From /usr/local/lib/python3.6/dist-packages/keras/backend/tensorflow_backend.py:3445: calling dropout (from tensorflow.python.ops.nn_ops) with keep_prob is deprecated and will be removed in a future version.\n",
      "Instructions for updating:\n",
      "Please use `rate` instead of `keep_prob`. Rate should be set to `rate = 1 - keep_prob`.\n",
      "WARNING:tensorflow:From /usr/local/lib/python3.6/dist-packages/capsnet/layers.py:116: calling reduce_sum_v1 (from tensorflow.python.ops.math_ops) with keep_dims is deprecated and will be removed in a future version.\n",
      "Instructions for updating:\n",
      "keep_dims is deprecated, use keepdims instead\n",
      "__________________________________________________________________________________________________\n",
      "Layer (type)                    Output Shape         Param #     Connected to                     \n",
      "==================================================================================================\n",
      "input_image (InputLayer)        (None, 32, 32, 3)    0                                            \n",
      "__________________________________________________________________________________________________\n",
      "encoder_conv2d (Conv2D)         (None, 24, 24, 256)  62464       input_image[0][0]                \n",
      "__________________________________________________________________________________________________\n",
      "encoder_dropout (Dropout)       (None, 24, 24, 256)  0           encoder_conv2d[0][0]             \n",
      "__________________________________________________________________________________________________\n",
      "encoder_feature_caps_conv2d (Co (None, 10, 10, 256)  1638656     encoder_dropout[0][0]            \n",
      "__________________________________________________________________________________________________\n",
      "encoder_feature_caps_reshape (R (None, 1600, 16)     0           encoder_feature_caps_conv2d[0][0]\n",
      "__________________________________________________________________________________________________\n",
      "encoder_feature_caps_squash (La (None, 1600, 16)     0           encoder_feature_caps_reshape[0][0\n",
      "__________________________________________________________________________________________________\n",
      "encoder_pred_caps (PredictionCa (None, 42, 32)       34406400    encoder_feature_caps_squash[0][0]\n",
      "__________________________________________________________________________________________________\n",
      "input_label (InputLayer)        (None, 42)           0                                            \n",
      "__________________________________________________________________________________________________\n",
      "mask (Mask)                     (None, 1344)         0           encoder_pred_caps[0][0]          \n",
      "                                                                 input_label[0][0]                \n",
      "__________________________________________________________________________________________________\n",
      "capsnet (Lambda)                (None, 42)           0           encoder_pred_caps[0][0]          \n",
      "__________________________________________________________________________________________________\n",
      "decoder (Sequential)            (None, 32, 32, 3)    540479      mask[0][0]                       \n",
      "==================================================================================================\n",
      "Total params: 36,647,999\n",
      "Trainable params: 36,647,999\n",
      "Non-trainable params: 0\n",
      "__________________________________________________________________________________________________\n"
     ]
    }
   ],
   "source": [
    "capsnet = CapsNet(\n",
    "    x_train.shape[1:],\n",
    "    len(np.unique(y_train, axis=0))\n",
    ")\n",
    "capsnet.models['train'].summary()"
   ]
  },
  {
   "cell_type": "code",
   "execution_count": 10,
   "metadata": {
    "colab": {
     "base_uri": "https://localhost:8080/",
     "height": 6939
    },
    "colab_type": "code",
    "id": "khy5eJS_ul2B",
    "outputId": "a310177f-68bd-4fa6-8279-944f9a7fd511"
   },
   "outputs": [
    {
     "name": "stdout",
     "output_type": "stream",
     "text": [
      "WARNING:tensorflow:From /usr/local/lib/python3.6/dist-packages/tensorflow/python/ops/math_ops.py:3066: to_int32 (from tensorflow.python.ops.math_ops) is deprecated and will be removed in a future version.\n",
      "Instructions for updating:\n",
      "Use tf.cast instead.\n",
      "WARNING:tensorflow:From /usr/local/lib/python3.6/dist-packages/tensorflow/python/ops/math_grad.py:102: div (from tensorflow.python.ops.math_ops) is deprecated and will be removed in a future version.\n",
      "Instructions for updating:\n",
      "Deprecated in favor of operator or tf.math.divide.\n",
      "Epoch 1/100\n",
      "207/207 [==============================] - 102s 495ms/step - loss: 0.7929 - capsnet_loss: 0.7928 - decoder_loss: 0.2207 - capsnet_acc: 0.1063 - val_loss: 0.8099 - val_capsnet_loss: 0.8099 - val_decoder_loss: 0.0779 - val_capsnet_acc: 0.0154\n",
      "\n",
      "Epoch 00001: val_capsnet_acc improved from -inf to 0.01544, saving model to model/weights.01.h5\n",
      "Epoch 2/100\n",
      "207/207 [==============================] - 99s 480ms/step - loss: 0.7747 - capsnet_loss: 0.7747 - decoder_loss: 0.0456 - capsnet_acc: 0.1773 - val_loss: 0.7960 - val_capsnet_loss: 0.7960 - val_decoder_loss: 0.0383 - val_capsnet_acc: 0.2220\n",
      "\n",
      "Epoch 00002: val_capsnet_acc improved from 0.01544 to 0.22201, saving model to model/weights.02.h5\n",
      "Epoch 3/100\n",
      "207/207 [==============================] - 99s 479ms/step - loss: 0.7591 - capsnet_loss: 0.7591 - decoder_loss: 0.0364 - capsnet_acc: 0.1792 - val_loss: 0.7735 - val_capsnet_loss: 0.7735 - val_decoder_loss: 0.0347 - val_capsnet_acc: 0.2220\n",
      "\n",
      "Epoch 00003: val_capsnet_acc did not improve from 0.22201\n",
      "Epoch 4/100\n",
      "207/207 [==============================] - 99s 479ms/step - loss: 0.7437 - capsnet_loss: 0.7437 - decoder_loss: 0.0340 - capsnet_acc: 0.1976 - val_loss: 0.7641 - val_capsnet_loss: 0.7641 - val_decoder_loss: 0.0328 - val_capsnet_acc: 0.2220\n",
      "\n",
      "Epoch 00004: val_capsnet_acc did not improve from 0.22201\n",
      "Epoch 5/100\n",
      "207/207 [==============================] - 99s 479ms/step - loss: 0.7343 - capsnet_loss: 0.7343 - decoder_loss: 0.0327 - capsnet_acc: 0.1932 - val_loss: 0.7920 - val_capsnet_loss: 0.7920 - val_decoder_loss: 0.0324 - val_capsnet_acc: 0.2664\n",
      "\n",
      "Epoch 00005: val_capsnet_acc improved from 0.22201 to 0.26641, saving model to model/weights.05.h5\n",
      "Epoch 6/100\n",
      "207/207 [==============================] - 99s 479ms/step - loss: 0.7209 - capsnet_loss: 0.7209 - decoder_loss: 0.0320 - capsnet_acc: 0.1976 - val_loss: 0.6911 - val_capsnet_loss: 0.6911 - val_decoder_loss: 0.0309 - val_capsnet_acc: 0.2220\n",
      "\n",
      "Epoch 00006: val_capsnet_acc did not improve from 0.26641\n",
      "Epoch 7/100\n",
      "207/207 [==============================] - 99s 479ms/step - loss: 0.6940 - capsnet_loss: 0.6940 - decoder_loss: 0.0315 - capsnet_acc: 0.1995 - val_loss: 0.7046 - val_capsnet_loss: 0.7046 - val_decoder_loss: 0.0309 - val_capsnet_acc: 0.2220\n",
      "\n",
      "Epoch 00007: val_capsnet_acc did not improve from 0.26641\n",
      "Epoch 8/100\n",
      "207/207 [==============================] - 99s 479ms/step - loss: 0.6675 - capsnet_loss: 0.6675 - decoder_loss: 0.0313 - capsnet_acc: 0.2053 - val_loss: 0.6365 - val_capsnet_loss: 0.6365 - val_decoder_loss: 0.0303 - val_capsnet_acc: 0.2239\n",
      "\n",
      "Epoch 00008: val_capsnet_acc did not improve from 0.26641\n",
      "Epoch 9/100\n",
      "207/207 [==============================] - 99s 479ms/step - loss: 0.6385 - capsnet_loss: 0.6385 - decoder_loss: 0.0309 - capsnet_acc: 0.2179 - val_loss: 0.6284 - val_capsnet_loss: 0.6284 - val_decoder_loss: 0.0302 - val_capsnet_acc: 0.2220\n",
      "\n",
      "Epoch 00009: val_capsnet_acc did not improve from 0.26641\n",
      "Epoch 10/100\n",
      "207/207 [==============================] - 99s 479ms/step - loss: 0.6112 - capsnet_loss: 0.6112 - decoder_loss: 0.0306 - capsnet_acc: 0.2203 - val_loss: 0.5884 - val_capsnet_loss: 0.5884 - val_decoder_loss: 0.0297 - val_capsnet_acc: 0.2317\n",
      "\n",
      "Epoch 00010: val_capsnet_acc did not improve from 0.26641\n",
      "Epoch 11/100\n",
      "207/207 [==============================] - 99s 479ms/step - loss: 0.5857 - capsnet_loss: 0.5857 - decoder_loss: 0.0303 - capsnet_acc: 0.2449 - val_loss: 0.5818 - val_capsnet_loss: 0.5818 - val_decoder_loss: 0.0295 - val_capsnet_acc: 0.3108\n",
      "\n",
      "Epoch 00011: val_capsnet_acc improved from 0.26641 to 0.31081, saving model to model/weights.11.h5\n",
      "Epoch 12/100\n",
      "207/207 [==============================] - 99s 480ms/step - loss: 0.5626 - capsnet_loss: 0.5626 - decoder_loss: 0.0301 - capsnet_acc: 0.2734 - val_loss: 0.5419 - val_capsnet_loss: 0.5419 - val_decoder_loss: 0.0294 - val_capsnet_acc: 0.3185\n",
      "\n",
      "Epoch 00012: val_capsnet_acc improved from 0.31081 to 0.31853, saving model to model/weights.12.h5\n",
      "Epoch 13/100\n",
      "207/207 [==============================] - 99s 479ms/step - loss: 0.5557 - capsnet_loss: 0.5557 - decoder_loss: 0.0297 - capsnet_acc: 0.2720 - val_loss: 0.5317 - val_capsnet_loss: 0.5316 - val_decoder_loss: 0.0292 - val_capsnet_acc: 0.3378\n",
      "\n",
      "Epoch 00013: val_capsnet_acc improved from 0.31853 to 0.33784, saving model to model/weights.13.h5\n",
      "Epoch 14/100\n",
      "207/207 [==============================] - 99s 480ms/step - loss: 0.5428 - capsnet_loss: 0.5427 - decoder_loss: 0.0296 - capsnet_acc: 0.2976 - val_loss: 0.5508 - val_capsnet_loss: 0.5508 - val_decoder_loss: 0.0290 - val_capsnet_acc: 0.3514\n",
      "\n",
      "Epoch 00014: val_capsnet_acc improved from 0.33784 to 0.35135, saving model to model/weights.14.h5\n",
      "Epoch 15/100\n",
      "207/207 [==============================] - 99s 479ms/step - loss: 0.5279 - capsnet_loss: 0.5279 - decoder_loss: 0.0293 - capsnet_acc: 0.3024 - val_loss: 0.5045 - val_capsnet_loss: 0.5045 - val_decoder_loss: 0.0288 - val_capsnet_acc: 0.3861\n",
      "\n",
      "Epoch 00015: val_capsnet_acc improved from 0.35135 to 0.38610, saving model to model/weights.15.h5\n",
      "Epoch 16/100\n",
      "207/207 [==============================] - 99s 480ms/step - loss: 0.5155 - capsnet_loss: 0.5155 - decoder_loss: 0.0292 - capsnet_acc: 0.3217 - val_loss: 0.5294 - val_capsnet_loss: 0.5294 - val_decoder_loss: 0.0287 - val_capsnet_acc: 0.3340\n",
      "\n",
      "Epoch 00016: val_capsnet_acc did not improve from 0.38610\n",
      "Epoch 17/100\n",
      "207/207 [==============================] - 99s 479ms/step - loss: 0.5105 - capsnet_loss: 0.5104 - decoder_loss: 0.0291 - capsnet_acc: 0.3246 - val_loss: 0.5275 - val_capsnet_loss: 0.5275 - val_decoder_loss: 0.0287 - val_capsnet_acc: 0.2857\n",
      "\n",
      "Epoch 00017: val_capsnet_acc did not improve from 0.38610\n",
      "Epoch 18/100\n",
      "207/207 [==============================] - 99s 479ms/step - loss: 0.5025 - capsnet_loss: 0.5025 - decoder_loss: 0.0291 - capsnet_acc: 0.3377 - val_loss: 0.4888 - val_capsnet_loss: 0.4887 - val_decoder_loss: 0.0285 - val_capsnet_acc: 0.3494\n",
      "\n",
      "Epoch 00018: val_capsnet_acc did not improve from 0.38610\n",
      "Epoch 19/100\n",
      "207/207 [==============================] - 99s 478ms/step - loss: 0.4798 - capsnet_loss: 0.4797 - decoder_loss: 0.0289 - capsnet_acc: 0.3681 - val_loss: 0.4844 - val_capsnet_loss: 0.4844 - val_decoder_loss: 0.0284 - val_capsnet_acc: 0.3745\n",
      "\n",
      "Epoch 00019: val_capsnet_acc did not improve from 0.38610\n",
      "Epoch 20/100\n",
      "207/207 [==============================] - 99s 478ms/step - loss: 0.4818 - capsnet_loss: 0.4818 - decoder_loss: 0.0288 - capsnet_acc: 0.3643 - val_loss: 0.4753 - val_capsnet_loss: 0.4753 - val_decoder_loss: 0.0282 - val_capsnet_acc: 0.3707\n",
      "\n",
      "Epoch 00020: val_capsnet_acc did not improve from 0.38610\n",
      "Epoch 21/100\n",
      "207/207 [==============================] - 99s 479ms/step - loss: 0.4763 - capsnet_loss: 0.4763 - decoder_loss: 0.0287 - capsnet_acc: 0.3657 - val_loss: 0.4624 - val_capsnet_loss: 0.4623 - val_decoder_loss: 0.0282 - val_capsnet_acc: 0.4015\n",
      "\n",
      "Epoch 00021: val_capsnet_acc improved from 0.38610 to 0.40154, saving model to model/weights.21.h5\n",
      "Epoch 22/100\n",
      "207/207 [==============================] - 99s 480ms/step - loss: 0.4717 - capsnet_loss: 0.4717 - decoder_loss: 0.0284 - capsnet_acc: 0.3618 - val_loss: 0.4868 - val_capsnet_loss: 0.4868 - val_decoder_loss: 0.0281 - val_capsnet_acc: 0.3263\n",
      "\n",
      "Epoch 00022: val_capsnet_acc did not improve from 0.40154\n",
      "Epoch 23/100\n",
      "207/207 [==============================] - 99s 478ms/step - loss: 0.4580 - capsnet_loss: 0.4580 - decoder_loss: 0.0284 - capsnet_acc: 0.3889 - val_loss: 0.4572 - val_capsnet_loss: 0.4572 - val_decoder_loss: 0.0280 - val_capsnet_acc: 0.4073\n",
      "\n",
      "Epoch 00023: val_capsnet_acc improved from 0.40154 to 0.40734, saving model to model/weights.23.h5\n",
      "Epoch 24/100\n",
      "207/207 [==============================] - 99s 478ms/step - loss: 0.4539 - capsnet_loss: 0.4539 - decoder_loss: 0.0283 - capsnet_acc: 0.4019 - val_loss: 0.4527 - val_capsnet_loss: 0.4526 - val_decoder_loss: 0.0280 - val_capsnet_acc: 0.3977\n",
      "\n",
      "Epoch 00024: val_capsnet_acc did not improve from 0.40734\n",
      "Epoch 25/100\n",
      "207/207 [==============================] - 99s 479ms/step - loss: 0.4488 - capsnet_loss: 0.4488 - decoder_loss: 0.0283 - capsnet_acc: 0.4005 - val_loss: 0.4516 - val_capsnet_loss: 0.4516 - val_decoder_loss: 0.0280 - val_capsnet_acc: 0.4015\n",
      "\n",
      "Epoch 00025: val_capsnet_acc did not improve from 0.40734\n",
      "Epoch 26/100\n",
      "207/207 [==============================] - 99s 478ms/step - loss: 0.4524 - capsnet_loss: 0.4524 - decoder_loss: 0.0283 - capsnet_acc: 0.3937 - val_loss: 0.4447 - val_capsnet_loss: 0.4447 - val_decoder_loss: 0.0279 - val_capsnet_acc: 0.4093\n",
      "\n",
      "Epoch 00026: val_capsnet_acc improved from 0.40734 to 0.40927, saving model to model/weights.26.h5\n",
      "Epoch 27/100\n",
      "207/207 [==============================] - 99s 478ms/step - loss: 0.4373 - capsnet_loss: 0.4373 - decoder_loss: 0.0284 - capsnet_acc: 0.4242 - val_loss: 0.4340 - val_capsnet_loss: 0.4340 - val_decoder_loss: 0.0279 - val_capsnet_acc: 0.4151\n",
      "\n",
      "Epoch 00027: val_capsnet_acc improved from 0.40927 to 0.41506, saving model to model/weights.27.h5\n",
      "Epoch 28/100\n",
      "207/207 [==============================] - 99s 479ms/step - loss: 0.4391 - capsnet_loss: 0.4391 - decoder_loss: 0.0281 - capsnet_acc: 0.4213 - val_loss: 0.4347 - val_capsnet_loss: 0.4347 - val_decoder_loss: 0.0278 - val_capsnet_acc: 0.4266\n",
      "\n",
      "Epoch 00028: val_capsnet_acc improved from 0.41506 to 0.42664, saving model to model/weights.28.h5\n",
      "Epoch 29/100\n",
      "207/207 [==============================] - 99s 478ms/step - loss: 0.4355 - capsnet_loss: 0.4355 - decoder_loss: 0.0281 - capsnet_acc: 0.4237 - val_loss: 0.4248 - val_capsnet_loss: 0.4247 - val_decoder_loss: 0.0278 - val_capsnet_acc: 0.4402\n",
      "\n",
      "Epoch 00029: val_capsnet_acc improved from 0.42664 to 0.44015, saving model to model/weights.29.h5\n",
      "Epoch 30/100\n",
      "207/207 [==============================] - 99s 478ms/step - loss: 0.4333 - capsnet_loss: 0.4333 - decoder_loss: 0.0282 - capsnet_acc: 0.4300 - val_loss: 0.4239 - val_capsnet_loss: 0.4239 - val_decoder_loss: 0.0277 - val_capsnet_acc: 0.4382\n",
      "\n",
      "Epoch 00030: val_capsnet_acc did not improve from 0.44015\n",
      "Epoch 31/100\n",
      "207/207 [==============================] - 99s 478ms/step - loss: 0.4287 - capsnet_loss: 0.4287 - decoder_loss: 0.0281 - capsnet_acc: 0.4353 - val_loss: 0.4236 - val_capsnet_loss: 0.4236 - val_decoder_loss: 0.0278 - val_capsnet_acc: 0.4479\n",
      "\n",
      "Epoch 00031: val_capsnet_acc improved from 0.44015 to 0.44788, saving model to model/weights.31.h5\n",
      "Epoch 32/100\n",
      "207/207 [==============================] - 99s 478ms/step - loss: 0.4299 - capsnet_loss: 0.4299 - decoder_loss: 0.0281 - capsnet_acc: 0.4324 - val_loss: 0.4225 - val_capsnet_loss: 0.4225 - val_decoder_loss: 0.0277 - val_capsnet_acc: 0.4402\n",
      "\n",
      "Epoch 00032: val_capsnet_acc did not improve from 0.44788\n",
      "Epoch 33/100\n",
      "207/207 [==============================] - 99s 478ms/step - loss: 0.4223 - capsnet_loss: 0.4222 - decoder_loss: 0.0281 - capsnet_acc: 0.4382 - val_loss: 0.4217 - val_capsnet_loss: 0.4216 - val_decoder_loss: 0.0277 - val_capsnet_acc: 0.4402\n",
      "\n",
      "Epoch 00033: val_capsnet_acc did not improve from 0.44788\n",
      "Epoch 34/100\n",
      "207/207 [==============================] - 99s 478ms/step - loss: 0.4240 - capsnet_loss: 0.4240 - decoder_loss: 0.0280 - capsnet_acc: 0.4338 - val_loss: 0.4163 - val_capsnet_loss: 0.4163 - val_decoder_loss: 0.0277 - val_capsnet_acc: 0.4440\n",
      "\n",
      "Epoch 00034: val_capsnet_acc did not improve from 0.44788\n",
      "Epoch 35/100\n",
      "207/207 [==============================] - 99s 478ms/step - loss: 0.4157 - capsnet_loss: 0.4157 - decoder_loss: 0.0279 - capsnet_acc: 0.4502 - val_loss: 0.4143 - val_capsnet_loss: 0.4143 - val_decoder_loss: 0.0277 - val_capsnet_acc: 0.4633\n",
      "\n",
      "Epoch 00035: val_capsnet_acc improved from 0.44788 to 0.46332, saving model to model/weights.35.h5\n",
      "Epoch 36/100\n",
      "207/207 [==============================] - 99s 478ms/step - loss: 0.4135 - capsnet_loss: 0.4135 - decoder_loss: 0.0281 - capsnet_acc: 0.4522 - val_loss: 0.4293 - val_capsnet_loss: 0.4293 - val_decoder_loss: 0.0277 - val_capsnet_acc: 0.4305\n",
      "\n",
      "Epoch 00036: val_capsnet_acc did not improve from 0.46332\n",
      "Epoch 37/100\n",
      "207/207 [==============================] - 99s 479ms/step - loss: 0.4153 - capsnet_loss: 0.4153 - decoder_loss: 0.0279 - capsnet_acc: 0.4459 - val_loss: 0.4064 - val_capsnet_loss: 0.4064 - val_decoder_loss: 0.0276 - val_capsnet_acc: 0.4633\n",
      "\n",
      "Epoch 00037: val_capsnet_acc did not improve from 0.46332\n",
      "Epoch 38/100\n",
      "207/207 [==============================] - 99s 479ms/step - loss: 0.4138 - capsnet_loss: 0.4138 - decoder_loss: 0.0281 - capsnet_acc: 0.4575 - val_loss: 0.4127 - val_capsnet_loss: 0.4127 - val_decoder_loss: 0.0276 - val_capsnet_acc: 0.4575\n",
      "\n",
      "Epoch 00038: val_capsnet_acc did not improve from 0.46332\n",
      "Epoch 39/100\n",
      "207/207 [==============================] - 99s 478ms/step - loss: 0.4138 - capsnet_loss: 0.4137 - decoder_loss: 0.0280 - capsnet_acc: 0.4657 - val_loss: 0.4196 - val_capsnet_loss: 0.4196 - val_decoder_loss: 0.0276 - val_capsnet_acc: 0.4324\n",
      "\n",
      "Epoch 00039: val_capsnet_acc did not improve from 0.46332\n",
      "Epoch 40/100\n",
      "207/207 [==============================] - 99s 479ms/step - loss: 0.4063 - capsnet_loss: 0.4063 - decoder_loss: 0.0281 - capsnet_acc: 0.4768 - val_loss: 0.4101 - val_capsnet_loss: 0.4101 - val_decoder_loss: 0.0276 - val_capsnet_acc: 0.4595\n",
      "\n",
      "Epoch 00040: val_capsnet_acc did not improve from 0.46332\n",
      "Epoch 41/100\n",
      "207/207 [==============================] - 99s 478ms/step - loss: 0.4097 - capsnet_loss: 0.4097 - decoder_loss: 0.0279 - capsnet_acc: 0.4662 - val_loss: 0.4096 - val_capsnet_loss: 0.4095 - val_decoder_loss: 0.0276 - val_capsnet_acc: 0.4653\n",
      "\n",
      "Epoch 00041: val_capsnet_acc improved from 0.46332 to 0.46525, saving model to model/weights.41.h5\n",
      "Epoch 42/100\n",
      "207/207 [==============================] - 99s 478ms/step - loss: 0.4095 - capsnet_loss: 0.4095 - decoder_loss: 0.0281 - capsnet_acc: 0.4691 - val_loss: 0.4100 - val_capsnet_loss: 0.4100 - val_decoder_loss: 0.0276 - val_capsnet_acc: 0.4614\n",
      "\n",
      "Epoch 00042: val_capsnet_acc did not improve from 0.46525\n",
      "Epoch 43/100\n",
      "207/207 [==============================] - 99s 478ms/step - loss: 0.4105 - capsnet_loss: 0.4105 - decoder_loss: 0.0279 - capsnet_acc: 0.4585 - val_loss: 0.4120 - val_capsnet_loss: 0.4120 - val_decoder_loss: 0.0276 - val_capsnet_acc: 0.4575\n",
      "\n",
      "Epoch 00043: val_capsnet_acc did not improve from 0.46525\n",
      "Epoch 44/100\n",
      "207/207 [==============================] - 99s 478ms/step - loss: 0.4081 - capsnet_loss: 0.4081 - decoder_loss: 0.0279 - capsnet_acc: 0.4749 - val_loss: 0.4143 - val_capsnet_loss: 0.4143 - val_decoder_loss: 0.0276 - val_capsnet_acc: 0.4556\n",
      "\n",
      "Epoch 00044: val_capsnet_acc did not improve from 0.46525\n",
      "Epoch 45/100\n",
      "207/207 [==============================] - 99s 478ms/step - loss: 0.4083 - capsnet_loss: 0.4083 - decoder_loss: 0.0278 - capsnet_acc: 0.4589 - val_loss: 0.4118 - val_capsnet_loss: 0.4118 - val_decoder_loss: 0.0276 - val_capsnet_acc: 0.4672\n",
      "\n",
      "Epoch 00045: val_capsnet_acc improved from 0.46525 to 0.46718, saving model to model/weights.45.h5\n",
      "Epoch 46/100\n",
      "207/207 [==============================] - 99s 478ms/step - loss: 0.4046 - capsnet_loss: 0.4046 - decoder_loss: 0.0280 - capsnet_acc: 0.4715 - val_loss: 0.4045 - val_capsnet_loss: 0.4044 - val_decoder_loss: 0.0276 - val_capsnet_acc: 0.4730\n",
      "\n",
      "Epoch 00046: val_capsnet_acc improved from 0.46718 to 0.47297, saving model to model/weights.46.h5\n",
      "Epoch 47/100\n",
      "207/207 [==============================] - 99s 479ms/step - loss: 0.4058 - capsnet_loss: 0.4058 - decoder_loss: 0.0281 - capsnet_acc: 0.4618 - val_loss: 0.4024 - val_capsnet_loss: 0.4024 - val_decoder_loss: 0.0276 - val_capsnet_acc: 0.4749\n",
      "\n",
      "Epoch 00047: val_capsnet_acc improved from 0.47297 to 0.47490, saving model to model/weights.47.h5\n",
      "Epoch 48/100\n",
      "207/207 [==============================] - 99s 479ms/step - loss: 0.4067 - capsnet_loss: 0.4067 - decoder_loss: 0.0280 - capsnet_acc: 0.4633 - val_loss: 0.4041 - val_capsnet_loss: 0.4041 - val_decoder_loss: 0.0276 - val_capsnet_acc: 0.4807\n",
      "\n",
      "Epoch 00048: val_capsnet_acc improved from 0.47490 to 0.48069, saving model to model/weights.48.h5\n",
      "Epoch 49/100\n",
      "207/207 [==============================] - 99s 478ms/step - loss: 0.4025 - capsnet_loss: 0.4024 - decoder_loss: 0.0279 - capsnet_acc: 0.4860 - val_loss: 0.4073 - val_capsnet_loss: 0.4072 - val_decoder_loss: 0.0276 - val_capsnet_acc: 0.4749\n",
      "\n",
      "Epoch 00049: val_capsnet_acc did not improve from 0.48069\n",
      "Epoch 50/100\n",
      "207/207 [==============================] - 99s 478ms/step - loss: 0.4070 - capsnet_loss: 0.4070 - decoder_loss: 0.0277 - capsnet_acc: 0.4667 - val_loss: 0.4102 - val_capsnet_loss: 0.4102 - val_decoder_loss: 0.0276 - val_capsnet_acc: 0.4691\n",
      "\n",
      "Epoch 00050: val_capsnet_acc did not improve from 0.48069\n",
      "Epoch 51/100\n",
      "207/207 [==============================] - 99s 478ms/step - loss: 0.4068 - capsnet_loss: 0.4068 - decoder_loss: 0.0278 - capsnet_acc: 0.4647 - val_loss: 0.4042 - val_capsnet_loss: 0.4042 - val_decoder_loss: 0.0276 - val_capsnet_acc: 0.4807\n",
      "\n",
      "Epoch 00051: val_capsnet_acc improved from 0.48069 to 0.48069, saving model to model/weights.51.h5\n",
      "Epoch 52/100\n",
      "207/207 [==============================] - 99s 478ms/step - loss: 0.4036 - capsnet_loss: 0.4035 - decoder_loss: 0.0280 - capsnet_acc: 0.4628 - val_loss: 0.4021 - val_capsnet_loss: 0.4021 - val_decoder_loss: 0.0276 - val_capsnet_acc: 0.4788\n",
      "\n",
      "Epoch 00052: val_capsnet_acc did not improve from 0.48069\n",
      "Epoch 53/100\n",
      "207/207 [==============================] - 99s 479ms/step - loss: 0.3997 - capsnet_loss: 0.3997 - decoder_loss: 0.0278 - capsnet_acc: 0.4841 - val_loss: 0.4060 - val_capsnet_loss: 0.4060 - val_decoder_loss: 0.0276 - val_capsnet_acc: 0.4730\n",
      "\n",
      "Epoch 00053: val_capsnet_acc did not improve from 0.48069\n",
      "Epoch 54/100\n",
      "207/207 [==============================] - 99s 478ms/step - loss: 0.4051 - capsnet_loss: 0.4051 - decoder_loss: 0.0278 - capsnet_acc: 0.4749 - val_loss: 0.4032 - val_capsnet_loss: 0.4032 - val_decoder_loss: 0.0276 - val_capsnet_acc: 0.4768\n",
      "\n",
      "Epoch 00054: val_capsnet_acc did not improve from 0.48069\n",
      "Epoch 55/100\n",
      "207/207 [==============================] - 99s 478ms/step - loss: 0.3990 - capsnet_loss: 0.3990 - decoder_loss: 0.0279 - capsnet_acc: 0.4773 - val_loss: 0.4064 - val_capsnet_loss: 0.4064 - val_decoder_loss: 0.0276 - val_capsnet_acc: 0.4749\n",
      "\n",
      "Epoch 00055: val_capsnet_acc did not improve from 0.48069\n",
      "Epoch 56/100\n",
      "207/207 [==============================] - 99s 478ms/step - loss: 0.3980 - capsnet_loss: 0.3979 - decoder_loss: 0.0278 - capsnet_acc: 0.4812 - val_loss: 0.4049 - val_capsnet_loss: 0.4049 - val_decoder_loss: 0.0276 - val_capsnet_acc: 0.4691\n",
      "\n",
      "Epoch 00056: val_capsnet_acc did not improve from 0.48069\n",
      "Epoch 57/100\n",
      "207/207 [==============================] - 99s 478ms/step - loss: 0.3994 - capsnet_loss: 0.3994 - decoder_loss: 0.0279 - capsnet_acc: 0.4787 - val_loss: 0.4047 - val_capsnet_loss: 0.4047 - val_decoder_loss: 0.0276 - val_capsnet_acc: 0.4730\n",
      "\n",
      "Epoch 00057: val_capsnet_acc did not improve from 0.48069\n",
      "Epoch 58/100\n",
      "207/207 [==============================] - 99s 478ms/step - loss: 0.4026 - capsnet_loss: 0.4026 - decoder_loss: 0.0278 - capsnet_acc: 0.4628 - val_loss: 0.4028 - val_capsnet_loss: 0.4028 - val_decoder_loss: 0.0276 - val_capsnet_acc: 0.4768\n",
      "\n",
      "Epoch 00058: val_capsnet_acc did not improve from 0.48069\n",
      "Epoch 59/100\n",
      "207/207 [==============================] - 99s 478ms/step - loss: 0.3999 - capsnet_loss: 0.3999 - decoder_loss: 0.0279 - capsnet_acc: 0.4836 - val_loss: 0.4046 - val_capsnet_loss: 0.4046 - val_decoder_loss: 0.0276 - val_capsnet_acc: 0.4730\n",
      "\n",
      "Epoch 00059: val_capsnet_acc did not improve from 0.48069\n",
      "Epoch 60/100\n",
      "207/207 [==============================] - 99s 478ms/step - loss: 0.4094 - capsnet_loss: 0.4094 - decoder_loss: 0.0278 - capsnet_acc: 0.4589 - val_loss: 0.4047 - val_capsnet_loss: 0.4047 - val_decoder_loss: 0.0276 - val_capsnet_acc: 0.4768\n",
      "\n",
      "Epoch 00060: val_capsnet_acc did not improve from 0.48069\n",
      "Epoch 61/100\n",
      "207/207 [==============================] - 99s 478ms/step - loss: 0.4042 - capsnet_loss: 0.4041 - decoder_loss: 0.0278 - capsnet_acc: 0.4729 - val_loss: 0.4043 - val_capsnet_loss: 0.4043 - val_decoder_loss: 0.0276 - val_capsnet_acc: 0.4788\n",
      "\n",
      "Epoch 00061: val_capsnet_acc did not improve from 0.48069\n",
      "Epoch 62/100\n",
      "207/207 [==============================] - 99s 478ms/step - loss: 0.4016 - capsnet_loss: 0.4015 - decoder_loss: 0.0278 - capsnet_acc: 0.4836 - val_loss: 0.4049 - val_capsnet_loss: 0.4049 - val_decoder_loss: 0.0276 - val_capsnet_acc: 0.4749\n",
      "\n",
      "Epoch 00062: val_capsnet_acc did not improve from 0.48069\n",
      "Epoch 63/100\n",
      "207/207 [==============================] - 99s 478ms/step - loss: 0.4056 - capsnet_loss: 0.4056 - decoder_loss: 0.0279 - capsnet_acc: 0.4609 - val_loss: 0.4049 - val_capsnet_loss: 0.4049 - val_decoder_loss: 0.0276 - val_capsnet_acc: 0.4749\n",
      "\n",
      "Epoch 00063: val_capsnet_acc did not improve from 0.48069\n",
      "Epoch 64/100\n",
      "207/207 [==============================] - 99s 479ms/step - loss: 0.3927 - capsnet_loss: 0.3927 - decoder_loss: 0.0278 - capsnet_acc: 0.4894 - val_loss: 0.4023 - val_capsnet_loss: 0.4023 - val_decoder_loss: 0.0276 - val_capsnet_acc: 0.4788\n",
      "\n",
      "Epoch 00064: val_capsnet_acc did not improve from 0.48069\n",
      "Epoch 65/100\n",
      "207/207 [==============================] - 99s 480ms/step - loss: 0.4043 - capsnet_loss: 0.4043 - decoder_loss: 0.0278 - capsnet_acc: 0.4700 - val_loss: 0.4036 - val_capsnet_loss: 0.4036 - val_decoder_loss: 0.0276 - val_capsnet_acc: 0.4788\n",
      "\n",
      "Epoch 00065: val_capsnet_acc did not improve from 0.48069\n",
      "Epoch 66/100\n",
      "207/207 [==============================] - 99s 479ms/step - loss: 0.3992 - capsnet_loss: 0.3992 - decoder_loss: 0.0281 - capsnet_acc: 0.4778 - val_loss: 0.4030 - val_capsnet_loss: 0.4030 - val_decoder_loss: 0.0276 - val_capsnet_acc: 0.4768\n",
      "\n",
      "Epoch 00066: val_capsnet_acc did not improve from 0.48069\n",
      "Epoch 67/100\n",
      "207/207 [==============================] - 99s 479ms/step - loss: 0.4031 - capsnet_loss: 0.4031 - decoder_loss: 0.0279 - capsnet_acc: 0.4816 - val_loss: 0.4039 - val_capsnet_loss: 0.4038 - val_decoder_loss: 0.0276 - val_capsnet_acc: 0.4788\n",
      "\n",
      "Epoch 00067: val_capsnet_acc did not improve from 0.48069\n",
      "Epoch 68/100\n",
      "207/207 [==============================] - 99s 479ms/step - loss: 0.4019 - capsnet_loss: 0.4018 - decoder_loss: 0.0278 - capsnet_acc: 0.4700 - val_loss: 0.4039 - val_capsnet_loss: 0.4039 - val_decoder_loss: 0.0276 - val_capsnet_acc: 0.4788\n",
      "\n",
      "Epoch 00068: val_capsnet_acc did not improve from 0.48069\n",
      "Epoch 69/100\n",
      "207/207 [==============================] - 99s 479ms/step - loss: 0.4015 - capsnet_loss: 0.4014 - decoder_loss: 0.0280 - capsnet_acc: 0.4681 - val_loss: 0.4040 - val_capsnet_loss: 0.4040 - val_decoder_loss: 0.0276 - val_capsnet_acc: 0.4768\n",
      "\n",
      "Epoch 00069: val_capsnet_acc did not improve from 0.48069\n",
      "Epoch 70/100\n",
      "207/207 [==============================] - 99s 480ms/step - loss: 0.4032 - capsnet_loss: 0.4031 - decoder_loss: 0.0280 - capsnet_acc: 0.4792 - val_loss: 0.4038 - val_capsnet_loss: 0.4038 - val_decoder_loss: 0.0276 - val_capsnet_acc: 0.4788\n",
      "\n",
      "Epoch 00070: val_capsnet_acc did not improve from 0.48069\n",
      "Epoch 71/100\n",
      "207/207 [==============================] - 99s 479ms/step - loss: 0.4021 - capsnet_loss: 0.4021 - decoder_loss: 0.0278 - capsnet_acc: 0.4676 - val_loss: 0.4036 - val_capsnet_loss: 0.4036 - val_decoder_loss: 0.0276 - val_capsnet_acc: 0.4788\n",
      "\n",
      "Epoch 00071: val_capsnet_acc did not improve from 0.48069\n",
      "Epoch 72/100\n",
      "207/207 [==============================] - 99s 480ms/step - loss: 0.4031 - capsnet_loss: 0.4031 - decoder_loss: 0.0277 - capsnet_acc: 0.4725 - val_loss: 0.4033 - val_capsnet_loss: 0.4033 - val_decoder_loss: 0.0276 - val_capsnet_acc: 0.4788\n",
      "\n",
      "Epoch 00072: val_capsnet_acc did not improve from 0.48069\n",
      "Epoch 73/100\n",
      "207/207 [==============================] - 99s 479ms/step - loss: 0.4047 - capsnet_loss: 0.4047 - decoder_loss: 0.0278 - capsnet_acc: 0.4734 - val_loss: 0.4039 - val_capsnet_loss: 0.4039 - val_decoder_loss: 0.0276 - val_capsnet_acc: 0.4788\n",
      "\n",
      "Epoch 00073: val_capsnet_acc did not improve from 0.48069\n",
      "Epoch 74/100\n",
      "207/207 [==============================] - 99s 479ms/step - loss: 0.3997 - capsnet_loss: 0.3996 - decoder_loss: 0.0279 - capsnet_acc: 0.4758 - val_loss: 0.4032 - val_capsnet_loss: 0.4032 - val_decoder_loss: 0.0276 - val_capsnet_acc: 0.4788\n",
      "\n",
      "Epoch 00074: val_capsnet_acc did not improve from 0.48069\n",
      "Epoch 75/100\n",
      "207/207 [==============================] - 99s 480ms/step - loss: 0.4009 - capsnet_loss: 0.4009 - decoder_loss: 0.0279 - capsnet_acc: 0.4768 - val_loss: 0.4031 - val_capsnet_loss: 0.4031 - val_decoder_loss: 0.0276 - val_capsnet_acc: 0.4788\n",
      "\n",
      "Epoch 00075: val_capsnet_acc did not improve from 0.48069\n",
      "Epoch 76/100\n",
      "207/207 [==============================] - 99s 480ms/step - loss: 0.4018 - capsnet_loss: 0.4018 - decoder_loss: 0.0278 - capsnet_acc: 0.4696 - val_loss: 0.4033 - val_capsnet_loss: 0.4033 - val_decoder_loss: 0.0276 - val_capsnet_acc: 0.4788\n",
      "\n",
      "Epoch 00076: val_capsnet_acc did not improve from 0.48069\n",
      "Epoch 77/100\n",
      "207/207 [==============================] - 99s 480ms/step - loss: 0.4045 - capsnet_loss: 0.4045 - decoder_loss: 0.0279 - capsnet_acc: 0.4763 - val_loss: 0.4035 - val_capsnet_loss: 0.4035 - val_decoder_loss: 0.0276 - val_capsnet_acc: 0.4788\n",
      "\n",
      "Epoch 00077: val_capsnet_acc did not improve from 0.48069\n",
      "Epoch 78/100\n",
      "207/207 [==============================] - 99s 480ms/step - loss: 0.3955 - capsnet_loss: 0.3954 - decoder_loss: 0.0279 - capsnet_acc: 0.4918 - val_loss: 0.4036 - val_capsnet_loss: 0.4036 - val_decoder_loss: 0.0276 - val_capsnet_acc: 0.4788\n",
      "\n",
      "Epoch 00078: val_capsnet_acc did not improve from 0.48069\n",
      "Epoch 79/100\n",
      "207/207 [==============================] - 99s 480ms/step - loss: 0.3966 - capsnet_loss: 0.3965 - decoder_loss: 0.0278 - capsnet_acc: 0.4831 - val_loss: 0.4037 - val_capsnet_loss: 0.4037 - val_decoder_loss: 0.0276 - val_capsnet_acc: 0.4788\n",
      "\n",
      "Epoch 00079: val_capsnet_acc did not improve from 0.48069\n",
      "Epoch 80/100\n",
      "207/207 [==============================] - 99s 479ms/step - loss: 0.4004 - capsnet_loss: 0.4004 - decoder_loss: 0.0280 - capsnet_acc: 0.4739 - val_loss: 0.4037 - val_capsnet_loss: 0.4036 - val_decoder_loss: 0.0276 - val_capsnet_acc: 0.4788\n",
      "\n",
      "Epoch 00080: val_capsnet_acc did not improve from 0.48069\n",
      "Epoch 81/100\n",
      "207/207 [==============================] - 99s 480ms/step - loss: 0.4034 - capsnet_loss: 0.4034 - decoder_loss: 0.0277 - capsnet_acc: 0.4734 - val_loss: 0.4034 - val_capsnet_loss: 0.4034 - val_decoder_loss: 0.0276 - val_capsnet_acc: 0.4788\n",
      "\n",
      "Epoch 00081: val_capsnet_acc did not improve from 0.48069\n",
      "Epoch 82/100\n",
      "207/207 [==============================] - 99s 479ms/step - loss: 0.4026 - capsnet_loss: 0.4025 - decoder_loss: 0.0279 - capsnet_acc: 0.4734 - val_loss: 0.4034 - val_capsnet_loss: 0.4034 - val_decoder_loss: 0.0276 - val_capsnet_acc: 0.4788\n",
      "\n",
      "Epoch 00082: val_capsnet_acc did not improve from 0.48069\n",
      "Epoch 83/100\n",
      "207/207 [==============================] - 99s 480ms/step - loss: 0.4009 - capsnet_loss: 0.4009 - decoder_loss: 0.0279 - capsnet_acc: 0.4870 - val_loss: 0.4033 - val_capsnet_loss: 0.4033 - val_decoder_loss: 0.0276 - val_capsnet_acc: 0.4788\n",
      "\n",
      "Epoch 00083: val_capsnet_acc did not improve from 0.48069\n",
      "Epoch 84/100\n",
      "207/207 [==============================] - 99s 479ms/step - loss: 0.3998 - capsnet_loss: 0.3998 - decoder_loss: 0.0278 - capsnet_acc: 0.4773 - val_loss: 0.4030 - val_capsnet_loss: 0.4030 - val_decoder_loss: 0.0276 - val_capsnet_acc: 0.4788\n",
      "\n",
      "Epoch 00084: val_capsnet_acc did not improve from 0.48069\n",
      "Epoch 85/100\n",
      "207/207 [==============================] - 99s 480ms/step - loss: 0.3944 - capsnet_loss: 0.3944 - decoder_loss: 0.0278 - capsnet_acc: 0.4908 - val_loss: 0.4029 - val_capsnet_loss: 0.4029 - val_decoder_loss: 0.0276 - val_capsnet_acc: 0.4788\n",
      "\n",
      "Epoch 00085: val_capsnet_acc did not improve from 0.48069\n",
      "Epoch 86/100\n",
      "207/207 [==============================] - 99s 480ms/step - loss: 0.4012 - capsnet_loss: 0.4012 - decoder_loss: 0.0278 - capsnet_acc: 0.4831 - val_loss: 0.4029 - val_capsnet_loss: 0.4029 - val_decoder_loss: 0.0276 - val_capsnet_acc: 0.4788\n",
      "\n",
      "Epoch 00086: val_capsnet_acc did not improve from 0.48069\n",
      "Epoch 87/100\n",
      "207/207 [==============================] - 99s 480ms/step - loss: 0.3987 - capsnet_loss: 0.3987 - decoder_loss: 0.0278 - capsnet_acc: 0.4792 - val_loss: 0.4029 - val_capsnet_loss: 0.4029 - val_decoder_loss: 0.0276 - val_capsnet_acc: 0.4788\n",
      "\n",
      "Epoch 00087: val_capsnet_acc did not improve from 0.48069\n",
      "Epoch 88/100\n",
      "207/207 [==============================] - 99s 480ms/step - loss: 0.3961 - capsnet_loss: 0.3961 - decoder_loss: 0.0278 - capsnet_acc: 0.4768 - val_loss: 0.4028 - val_capsnet_loss: 0.4028 - val_decoder_loss: 0.0276 - val_capsnet_acc: 0.4788\n",
      "\n",
      "Epoch 00088: val_capsnet_acc did not improve from 0.48069\n",
      "Epoch 89/100\n",
      "207/207 [==============================] - 99s 480ms/step - loss: 0.3963 - capsnet_loss: 0.3962 - decoder_loss: 0.0279 - capsnet_acc: 0.4836 - val_loss: 0.4027 - val_capsnet_loss: 0.4027 - val_decoder_loss: 0.0276 - val_capsnet_acc: 0.4788\n",
      "\n",
      "Epoch 00089: val_capsnet_acc did not improve from 0.48069\n",
      "Epoch 90/100\n",
      "207/207 [==============================] - 100s 481ms/step - loss: 0.3986 - capsnet_loss: 0.3986 - decoder_loss: 0.0278 - capsnet_acc: 0.4734 - val_loss: 0.4027 - val_capsnet_loss: 0.4027 - val_decoder_loss: 0.0276 - val_capsnet_acc: 0.4788\n",
      "\n",
      "Epoch 00090: val_capsnet_acc did not improve from 0.48069\n",
      "Epoch 91/100\n",
      "207/207 [==============================] - 99s 480ms/step - loss: 0.4017 - capsnet_loss: 0.4017 - decoder_loss: 0.0279 - capsnet_acc: 0.4676 - val_loss: 0.4026 - val_capsnet_loss: 0.4026 - val_decoder_loss: 0.0276 - val_capsnet_acc: 0.4788\n",
      "\n",
      "Epoch 00091: val_capsnet_acc did not improve from 0.48069\n",
      "Epoch 92/100\n",
      "207/207 [==============================] - 99s 480ms/step - loss: 0.3995 - capsnet_loss: 0.3995 - decoder_loss: 0.0279 - capsnet_acc: 0.4918 - val_loss: 0.4026 - val_capsnet_loss: 0.4026 - val_decoder_loss: 0.0276 - val_capsnet_acc: 0.4788\n",
      "\n",
      "Epoch 00092: val_capsnet_acc did not improve from 0.48069\n",
      "Epoch 93/100\n",
      "207/207 [==============================] - 99s 480ms/step - loss: 0.4018 - capsnet_loss: 0.4018 - decoder_loss: 0.0278 - capsnet_acc: 0.4710 - val_loss: 0.4026 - val_capsnet_loss: 0.4026 - val_decoder_loss: 0.0276 - val_capsnet_acc: 0.4788\n",
      "\n",
      "Epoch 00093: val_capsnet_acc did not improve from 0.48069\n",
      "Epoch 94/100\n",
      "207/207 [==============================] - 99s 480ms/step - loss: 0.3996 - capsnet_loss: 0.3996 - decoder_loss: 0.0278 - capsnet_acc: 0.4855 - val_loss: 0.4027 - val_capsnet_loss: 0.4027 - val_decoder_loss: 0.0276 - val_capsnet_acc: 0.4788\n",
      "\n",
      "Epoch 00094: val_capsnet_acc did not improve from 0.48069\n",
      "Epoch 95/100\n",
      "207/207 [==============================] - 100s 481ms/step - loss: 0.3978 - capsnet_loss: 0.3978 - decoder_loss: 0.0277 - capsnet_acc: 0.4816 - val_loss: 0.4027 - val_capsnet_loss: 0.4027 - val_decoder_loss: 0.0276 - val_capsnet_acc: 0.4788\n",
      "\n",
      "Epoch 00095: val_capsnet_acc did not improve from 0.48069\n",
      "Epoch 96/100\n",
      "207/207 [==============================] - 99s 480ms/step - loss: 0.4006 - capsnet_loss: 0.4006 - decoder_loss: 0.0279 - capsnet_acc: 0.4734 - val_loss: 0.4027 - val_capsnet_loss: 0.4027 - val_decoder_loss: 0.0276 - val_capsnet_acc: 0.4788\n",
      "\n",
      "Epoch 00096: val_capsnet_acc did not improve from 0.48069\n",
      "Epoch 97/100\n",
      "207/207 [==============================] - 100s 481ms/step - loss: 0.3986 - capsnet_loss: 0.3986 - decoder_loss: 0.0278 - capsnet_acc: 0.4816 - val_loss: 0.4028 - val_capsnet_loss: 0.4027 - val_decoder_loss: 0.0276 - val_capsnet_acc: 0.4788\n",
      "\n",
      "Epoch 00097: val_capsnet_acc did not improve from 0.48069\n",
      "Epoch 98/100\n",
      "207/207 [==============================] - 99s 480ms/step - loss: 0.4061 - capsnet_loss: 0.4061 - decoder_loss: 0.0277 - capsnet_acc: 0.4633 - val_loss: 0.4027 - val_capsnet_loss: 0.4027 - val_decoder_loss: 0.0276 - val_capsnet_acc: 0.4788\n",
      "\n",
      "Epoch 00098: val_capsnet_acc did not improve from 0.48069\n",
      "Epoch 99/100\n",
      "207/207 [==============================] - 99s 480ms/step - loss: 0.3978 - capsnet_loss: 0.3978 - decoder_loss: 0.0278 - capsnet_acc: 0.4889 - val_loss: 0.4028 - val_capsnet_loss: 0.4027 - val_decoder_loss: 0.0276 - val_capsnet_acc: 0.4788\n",
      "\n",
      "Epoch 00099: val_capsnet_acc did not improve from 0.48069\n",
      "Epoch 100/100\n",
      "207/207 [==============================] - 99s 480ms/step - loss: 0.4032 - capsnet_loss: 0.4032 - decoder_loss: 0.0280 - capsnet_acc: 0.4647 - val_loss: 0.4028 - val_capsnet_loss: 0.4027 - val_decoder_loss: 0.0276 - val_capsnet_acc: 0.4788\n",
      "\n",
      "Epoch 00100: val_capsnet_acc did not improve from 0.48069\n"
     ]
    }
   ],
   "source": [
    "history = capsnet.train(data, batch_size=10, extra_callbacks=[tensor_board_callback])"
   ]
  },
  {
   "cell_type": "markdown",
   "metadata": {
    "colab_type": "text",
    "id": "tVDX0tKSau_m"
   },
   "source": [
    "## Results of training"
   ]
  },
  {
   "cell_type": "code",
   "execution_count": 11,
   "metadata": {
    "colab": {
     "base_uri": "https://localhost:8080/",
     "height": 630
    },
    "colab_type": "code",
    "id": "8ZDCbccf06PR",
    "outputId": "01ad9a58-2e0e-4e76-efca-1bdad9944b7a"
   },
   "outputs": [
    {
     "data": {
      "text/plain": [
       "<matplotlib.legend.Legend at 0x7f278269ba58>"
      ]
     },
     "execution_count": 11,
     "metadata": {
      "tags": []
     },
     "output_type": "execute_result"
    },
    {
     "data": {
      "image/png": "[encoded data removed]",
      "text/plain": [
       "<Figure size 720x720 with 1 Axes>"
      ]
     },
     "metadata": {
      "tags": []
     },
     "output_type": "display_data"
    }
   ],
   "source": [
    "plt.figure(figsize=(10, 10))\n",
    "plt.plot(history.history['capsnet_acc'])\n",
    "plt.plot(history.history['val_capsnet_acc'])\n",
    "plt.ylabel('accuracy', fontsize='x-large')\n",
    "plt.xlabel('epoch', fontsize='x-large')\n",
    "plt.legend(['train', 'test'], loc='upper left', fontsize='x-large')"
   ]
  }
 ],
 "metadata": {
  "accelerator": "GPU",
  "colab": {
   "collapsed_sections": [],
   "name": "CapsNet.ipynb",
   "provenance": [],
   "version": "0.3.2"
  },
  "kernelspec": {
   "display_name": "Python 3",
   "language": "python",
   "name": "python3"
  },
  "language_info": {
   "codemirror_mode": {
    "name": "ipython",
    "version": 3
   },
   "file_extension": ".py",
   "mimetype": "text/x-python",
   "name": "python",
   "nbconvert_exporter": "python",
   "pygments_lexer": "ipython3",
   "version": "3.6.8"
  }
 },
 "nbformat": 4,
 "nbformat_minor": 1
}
