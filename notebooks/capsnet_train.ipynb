{
  "nbformat": 4,
  "nbformat_minor": 0,
  "metadata": {
    "colab": {
      "name": "capsnet_train.ipynb",
      "version": "0.3.2",
      "provenance": [],
      "collapsed_sections": []
    },
    "kernelspec": {
      "name": "python3",
      "display_name": "Python 3"
    },
    "accelerator": "GPU"
  },
  "cells": [
    {
      "cell_type": "code",
      "metadata": {
        "id": "zt9mUShje03E",
        "colab_type": "code",
        "outputId": "16c5ed05-59dc-4627-8055-eeb75b40215f",
        "colab": {
          "base_uri": "https://localhost:8080/",
          "height": 221
        }
      },
      "source": [
        "!pip install -q --no-cache-dir --upgrade git+https://github.com/tumido/face_biometrics_descriptor-code.git\n",
        "  \n",
        "from sklearn.datasets import fetch_lfw_people\n",
        "from capsnet import preprocess, CapsNet, fetch_pins_people\n",
        "\n",
        "!pip show capsnet"
      ],
      "execution_count": 1,
      "outputs": [
        {
          "output_type": "stream",
          "text": [
            "  Building wheel for capsnet (setup.py) ... \u001b[?25l\u001b[?25hdone\n"
          ],
          "name": "stdout"
        },
        {
          "output_type": "stream",
          "text": [
            "Using TensorFlow backend.\n"
          ],
          "name": "stderr"
        },
        {
          "output_type": "stream",
          "text": [
            "Name: capsnet\n",
            "Version: 0.4.0\n",
            "Summary: CapsNet - face recognition\n",
            "Home-page: UNKNOWN\n",
            "Author: Tomas Coufal\n",
            "Author-email: UNKNOWN\n",
            "License: Apache 2.0\n",
            "Location: /usr/local/lib/python3.6/dist-packages\n",
            "Requires: numpy, tensorflow, keras, scikit-learn\n",
            "Required-by: \n"
          ],
          "name": "stdout"
        }
      ]
    },
    {
      "cell_type": "code",
      "metadata": {
        "id": "RKqL2Wc1e7FM",
        "colab_type": "code",
        "colab": {
          "base_uri": "https://localhost:8080/",
          "height": 122
        },
        "outputId": "b8a65353-a43d-4653-e5bf-b278924d7013"
      },
      "source": [
        "import numpy as np\n",
        "from sklearn.metrics import confusion_matrix\n",
        "%matplotlib inline\n",
        "import matplotlib.pyplot as plt\n",
        "import pandas as pd\n",
        "from random import randint\n",
        "\n",
        "!pip install -q kaggle\n",
        "from getpass import getpass\n",
        "\n",
        "from google.colab import drive\n",
        "drive.mount('/content/gdrive')\n",
        "!mkdir -p \"/content/gdrive/My Drive/models\""
      ],
      "execution_count": 2,
      "outputs": [
        {
          "output_type": "stream",
          "text": [
            "Go to this URL in a browser: https://accounts.google.com/o/oauth2/auth?client_id=947318989803-6bn6qk8qdgf4n4g3pfee6491hc0brc4i.apps.googleusercontent.com&redirect_uri=urn%3Aietf%3Awg%3Aoauth%3A2.0%3Aoob&scope=email%20https%3A%2F%2Fwww.googleapis.com%2Fauth%2Fdocs.test%20https%3A%2F%2Fwww.googleapis.com%2Fauth%2Fdrive%20https%3A%2F%2Fwww.googleapis.com%2Fauth%2Fdrive.photos.readonly%20https%3A%2F%2Fwww.googleapis.com%2Fauth%2Fpeopleapi.readonly&response_type=code\n",
            "\n",
            "Enter your authorization code:\n",
            "··········\n",
            "Mounted at /content/gdrive\n"
          ],
          "name": "stdout"
        }
      ]
    },
    {
      "cell_type": "code",
      "metadata": {
        "id": "lfGaNa3Xe9A0",
        "colab_type": "code",
        "outputId": "04a7383c-6475-48da-a05b-119dfc4f7280",
        "colab": {
          "base_uri": "https://localhost:8080/",
          "height": 68
        }
      },
      "source": [
        "!pip install -q tensorboardcolab\n",
        "from tensorboardcolab import TensorBoardColab, TensorBoardColabCallback\n",
        "\n",
        "tbc = TensorBoardColab()\n",
        "tensor_board_callback = TensorBoardColabCallback(tbc, batch_size=10, histogram_freq=5, write_graph=True, write_grads=True, write_images=True)"
      ],
      "execution_count": 3,
      "outputs": [
        {
          "output_type": "stream",
          "text": [
            "Wait for 8 seconds...\n",
            "TensorBoard link:\n",
            "https://bd374107.ngrok.io\n"
          ],
          "name": "stdout"
        }
      ]
    },
    {
      "cell_type": "code",
      "metadata": {
        "id": "UtDczB92e-8u",
        "colab_type": "code",
        "outputId": "a8f4f41d-b0fc-4623-d9eb-cc0d0188f24f",
        "colab": {
          "base_uri": "https://localhost:8080/",
          "height": 102
        }
      },
      "source": [
        "from tensorflow.test import is_gpu_available\n",
        "from tensorflow.python.client import device_lib\n",
        "\n",
        "if not is_gpu_available():\n",
        "    raise SystemError('GPU device not found')\n",
        "\n",
        "desc = [f'path: {d.name}, {d.physical_device_desc}' for d in device_lib.list_local_devices() if d.device_type == \"GPU\"][0]\n",
        "print(\"\\n\".join(desc.split(\", \")))"
      ],
      "execution_count": 4,
      "outputs": [
        {
          "output_type": "stream",
          "text": [
            "path: /device:GPU:0\n",
            "device: 0\n",
            "name: Tesla K80\n",
            "pci bus id: 0000:00:04.0\n",
            "compute capability: 3.7\n"
          ],
          "name": "stdout"
        }
      ]
    },
    {
      "cell_type": "code",
      "metadata": {
        "id": "lBgOPKd1fAqH",
        "colab_type": "code",
        "colab": {}
      },
      "source": [
        "#dataset = input('Which dataset to use?\\n1) Labeled Faces in the Wild (default)\\n2) Aligned Face Dataset from Pinterest\\n')\n",
        "dataset = '1'\n",
        "if dataset is '2':\n",
        "    user = input('Kaggle Username: ')\n",
        "    key = getpass('Kaggle API key: ')\n",
        "\n",
        "    kaggle_json = f'{{\"username\":\"{user}\",\"key\":\"{key}\"}}'\n",
        "\n",
        "    !mkdir -p /root/.kaggle\n",
        "    with open('/root/.kaggle/kaggle.json', 'w') as f:\n",
        "        f.write(kaggle_json)\n",
        "\n",
        "    !chmod 600 /root/.kaggle/kaggle.json\n",
        "    !kaggle config set -n path -v /content/kaggle\n",
        "    !mkdir -p /content/kaggle"
      ],
      "execution_count": 0,
      "outputs": []
    },
    {
      "cell_type": "code",
      "metadata": {
        "id": "aSDhwRcvfEYq",
        "colab_type": "code",
        "colab": {
          "base_uri": "https://localhost:8080/",
          "height": 85
        },
        "outputId": "2f1b6b90-7150-4f19-cc18-86439aaa0570"
      },
      "source": [
        "dataset = '1'\n",
        "if dataset is '2':\n",
        "    people = fetch_pins_people(\n",
        "        color=True,\n",
        "        min_faces_per_person=110  # Limit number of identities to ~50 (network is too large otherwise)\n",
        "    )\n",
        "    \n",
        "else:\n",
        "    people = fetch_lfw_people(\n",
        "        color=True,\n",
        "        min_faces_per_person=25\n",
        "    )\n",
        "\n",
        "\n",
        "data = preprocess(people)\n",
        "(x_train, y_train), (x_test, y_test) = data"
      ],
      "execution_count": 6,
      "outputs": [
        {
          "output_type": "stream",
          "text": [
            "Downloading LFW metadata: https://ndownloader.figshare.com/files/5976012\n",
            "Downloading LFW metadata: https://ndownloader.figshare.com/files/5976009\n",
            "Downloading LFW metadata: https://ndownloader.figshare.com/files/5976006\n",
            "Downloading LFW data (~200MB): https://ndownloader.figshare.com/files/5976015\n"
          ],
          "name": "stderr"
        }
      ]
    },
    {
      "cell_type": "code",
      "metadata": {
        "id": "PHUUm2YgfJNF",
        "colab_type": "code",
        "outputId": "4e91f08f-13a4-4540-f23e-845fc0a7a032",
        "colab": {
          "base_uri": "https://localhost:8080/",
          "height": 204
        }
      },
      "source": [
        "metrics = {\n",
        "    \"Identities\": len(np.unique(people.target, axis=0)),\n",
        "    \"Total images\": people.target.shape[0],\n",
        "    \"Train images\": len(y_train),\n",
        "    \"Test images\": len(y_test),\n",
        "    \"Image shape\": x_train.shape[1:]\n",
        "}\n",
        "pd.DataFrame.from_dict(metrics, columns=[\"Value\"], orient='index')"
      ],
      "execution_count": 7,
      "outputs": [
        {
          "output_type": "execute_result",
          "data": {
            "text/html": [
              "<div>\n",
              "<style scoped>\n",
              "    .dataframe tbody tr th:only-of-type {\n",
              "        vertical-align: middle;\n",
              "    }\n",
              "\n",
              "    .dataframe tbody tr th {\n",
              "        vertical-align: top;\n",
              "    }\n",
              "\n",
              "    .dataframe thead th {\n",
              "        text-align: right;\n",
              "    }\n",
              "</style>\n",
              "<table border=\"1\" class=\"dataframe\">\n",
              "  <thead>\n",
              "    <tr style=\"text-align: right;\">\n",
              "      <th></th>\n",
              "      <th>Value</th>\n",
              "    </tr>\n",
              "  </thead>\n",
              "  <tbody>\n",
              "    <tr>\n",
              "      <th>Identities</th>\n",
              "      <td>42</td>\n",
              "    </tr>\n",
              "    <tr>\n",
              "      <th>Total images</th>\n",
              "      <td>2588</td>\n",
              "    </tr>\n",
              "    <tr>\n",
              "      <th>Train images</th>\n",
              "      <td>2070</td>\n",
              "    </tr>\n",
              "    <tr>\n",
              "      <th>Test images</th>\n",
              "      <td>518</td>\n",
              "    </tr>\n",
              "    <tr>\n",
              "      <th>Image shape</th>\n",
              "      <td>(32, 32, 3)</td>\n",
              "    </tr>\n",
              "  </tbody>\n",
              "</table>\n",
              "</div>"
            ],
            "text/plain": [
              "                    Value\n",
              "Identities             42\n",
              "Total images         2588\n",
              "Train images         2070\n",
              "Test images           518\n",
              "Image shape   (32, 32, 3)"
            ]
          },
          "metadata": {
            "tags": []
          },
          "execution_count": 7
        }
      ]
    },
    {
      "cell_type": "code",
      "metadata": {
        "id": "tp0QiGpAfJpa",
        "colab_type": "code",
        "outputId": "fb8c1518-97c9-4864-a8e1-1576bc9d7634",
        "colab": {
          "base_uri": "https://localhost:8080/",
          "height": 269
        }
      },
      "source": [
        "_ = plt.hist(people.target, bins=people.target_names.shape[0])"
      ],
      "execution_count": 8,
      "outputs": [
        {
          "output_type": "display_data",
          "data": {
            "image/png": "[encoded data removed]",
            "text/plain": [
              "<Figure size 432x288 with 1 Axes>"
            ]
          },
          "metadata": {
            "tags": []
          }
        }
      ]
    },
    {
      "cell_type": "code",
      "metadata": {
        "id": "z0QSKZhBfLMY",
        "colab_type": "code",
        "outputId": "1a7331f6-dfdf-4c3e-89a2-576e5d056d9c",
        "colab": {
          "base_uri": "https://localhost:8080/",
          "height": 283
        }
      },
      "source": [
        "i = randint(0, len(x_train))\n",
        "plt.imshow(x_train[i])\n",
        "plt.axis('off') \n",
        "print(\"{}: {}\".format(np.argmax(y_train[i]), people.target_names[np.argmax(y_train[i])]))"
      ],
      "execution_count": 9,
      "outputs": [
        {
          "output_type": "stream",
          "text": [
            "9: George W Bush\n"
          ],
          "name": "stdout"
        },
        {
          "output_type": "display_data",
          "data": {
            "image/png": "[encoded data removed]",
            "text/plain": [
              "<Figure size 432x288 with 1 Axes>"
            ]
          },
          "metadata": {
            "tags": []
          }
        }
      ]
    },
    {
      "cell_type": "code",
      "metadata": {
        "id": "pFsUbog2fM29",
        "colab_type": "code",
        "outputId": "b4467e58-de37-427d-f021-f9ffde3c5109",
        "colab": {
          "base_uri": "https://localhost:8080/",
          "height": 649
        }
      },
      "source": [
        "model = CapsNet(\n",
        "    x_train.shape[1:],\n",
        "    len(np.unique(y_train, axis=0)),\n",
        "    routing_iters=3,\n",
        "    #kernel_initializer=initializers.random_normal(stddev=0.01, seed=0),\n",
        "    init_conv_filters=256*2,\n",
        "    init_conv_kernel=9,\n",
        "    feature_caps_kernel=5,\n",
        "    feature_caps_dim=16,\n",
        "    feature_caps_channels=16,\n",
        "    prediction_caps_dim=32,\n",
        "    image_size=(32, 32)\n",
        ")\n",
        "model.summary()"
      ],
      "execution_count": 10,
      "outputs": [
        {
          "output_type": "stream",
          "text": [
            "WARNING:tensorflow:From /usr/local/lib/python3.6/dist-packages/tensorflow/python/framework/op_def_library.py:263: colocate_with (from tensorflow.python.framework.ops) is deprecated and will be removed in a future version.\n",
            "Instructions for updating:\n",
            "Colocations handled automatically by placer.\n",
            "WARNING:tensorflow:From /usr/local/lib/python3.6/dist-packages/keras/backend/tensorflow_backend.py:3445: calling dropout (from tensorflow.python.ops.nn_ops) with keep_prob is deprecated and will be removed in a future version.\n",
            "Instructions for updating:\n",
            "Please use `rate` instead of `keep_prob`. Rate should be set to `rate = 1 - keep_prob`.\n",
            "__________________________________________________________________________________________________\n",
            "Layer (type)                    Output Shape         Param #     Connected to                     \n",
            "==================================================================================================\n",
            "input_image (InputLayer)        (None, 32, 32, 3)    0                                            \n",
            "__________________________________________________________________________________________________\n",
            "encoder_conv2d (Conv2D)         (None, 24, 24, 512)  124928      input_image[0][0]                \n",
            "__________________________________________________________________________________________________\n",
            "encoder_dropout (Dropout)       (None, 24, 24, 512)  0           encoder_conv2d[0][0]             \n",
            "__________________________________________________________________________________________________\n",
            "encoder_feature_caps_conv2d (Co (None, 10, 10, 256)  3277056     encoder_dropout[0][0]            \n",
            "__________________________________________________________________________________________________\n",
            "encoder_feature_caps_reshape (R (None, 1600, 16)     0           encoder_feature_caps_conv2d[0][0]\n",
            "__________________________________________________________________________________________________\n",
            "encoder_feature_caps_squash (La (None, 1600, 16)     0           encoder_feature_caps_reshape[0][0\n",
            "__________________________________________________________________________________________________\n",
            "encoder_pred_caps (PredictionCa (None, 42, 32)       34406400    encoder_feature_caps_squash[0][0]\n",
            "__________________________________________________________________________________________________\n",
            "input_label (InputLayer)        (None, 42)           0                                            \n",
            "__________________________________________________________________________________________________\n",
            "mask (Mask)                     (None, 1344)         0           encoder_pred_caps[0][0]          \n",
            "                                                                 input_label[0][0]                \n",
            "__________________________________________________________________________________________________\n",
            "capsnet (Lambda)                (None, 42)           0           encoder_pred_caps[0][0]          \n",
            "__________________________________________________________________________________________________\n",
            "decoder (Sequential)            (None, 32, 32, 3)    540479      mask[0][0]                       \n",
            "==================================================================================================\n",
            "Total params: 38,348,863\n",
            "Trainable params: 38,348,863\n",
            "Non-trainable params: 0\n",
            "__________________________________________________________________________________________________\n"
          ],
          "name": "stdout"
        }
      ]
    },
    {
      "cell_type": "code",
      "metadata": {
        "id": "wnMc8ipkfOS_",
        "colab_type": "code",
        "outputId": "f8067a7b-6380-4937-d49a-05a27ff8084a",
        "colab": {
          "base_uri": "https://localhost:8080/",
          "height": 7500
        }
      },
      "source": [
        "history = model.train(data, batch_size=10, extra_callbacks=[tensor_board_callback])"
      ],
      "execution_count": 11,
      "outputs": [
        {
          "output_type": "stream",
          "text": [
            "WARNING:tensorflow:From /usr/local/lib/python3.6/dist-packages/tensorflow/python/ops/math_ops.py:3066: to_int32 (from tensorflow.python.ops.math_ops) is deprecated and will be removed in a future version.\n",
            "Instructions for updating:\n",
            "Use tf.cast instead.\n",
            "WARNING:tensorflow:From /usr/local/lib/python3.6/dist-packages/tensorflow/python/ops/math_grad.py:102: div (from tensorflow.python.ops.math_ops) is deprecated and will be removed in a future version.\n",
            "Instructions for updating:\n",
            "Deprecated in favor of operator or tf.math.divide.\n",
            "Epoch 1/200\n",
            "207/207 [==============================] - 170s 819ms/step - loss: 0.8085 - capsnet_loss: 0.8084 - decoder_loss: 0.2614 - capsnet_acc: 0.0193 - val_loss: 0.8061 - val_capsnet_loss: 0.8060 - val_decoder_loss: 0.1611 - val_capsnet_acc: 0.0174\n",
            "\n",
            "Epoch 00001: val_capsnet_acc improved from -inf to 0.01737, saving model to model/weights.01.h5\n",
            "Epoch 2/200\n",
            "207/207 [==============================] - 165s 796ms/step - loss: 0.8063 - capsnet_loss: 0.8063 - decoder_loss: 0.0598 - capsnet_acc: 0.0184 - val_loss: 0.8099 - val_capsnet_loss: 0.8098 - val_decoder_loss: 0.0354 - val_capsnet_acc: 0.0135\n",
            "\n",
            "Epoch 00002: val_capsnet_acc did not improve from 0.01737\n",
            "Epoch 3/200\n",
            "207/207 [==============================] - 165s 798ms/step - loss: 0.8001 - capsnet_loss: 0.8001 - decoder_loss: 0.0348 - capsnet_acc: 0.0860 - val_loss: 0.8099 - val_capsnet_loss: 0.8098 - val_decoder_loss: 0.0322 - val_capsnet_acc: 0.0154\n",
            "\n",
            "Epoch 00003: val_capsnet_acc did not improve from 0.01737\n",
            "Epoch 4/200\n",
            "207/207 [==============================] - 165s 797ms/step - loss: 0.7887 - capsnet_loss: 0.7887 - decoder_loss: 0.0333 - capsnet_acc: 0.1396 - val_loss: 0.7637 - val_capsnet_loss: 0.7637 - val_decoder_loss: 0.0311 - val_capsnet_acc: 0.1969\n",
            "\n",
            "Epoch 00004: val_capsnet_acc improved from 0.01737 to 0.19691, saving model to model/weights.04.h5\n",
            "Epoch 5/200\n",
            "207/207 [==============================] - 165s 798ms/step - loss: 0.7591 - capsnet_loss: 0.7591 - decoder_loss: 0.0322 - capsnet_acc: 0.2048 - val_loss: 0.7591 - val_capsnet_loss: 0.7591 - val_decoder_loss: 0.0305 - val_capsnet_acc: 0.1969\n",
            "\n",
            "Epoch 00005: val_capsnet_acc did not improve from 0.19691\n",
            "Epoch 6/200\n",
            "207/207 [==============================] - 165s 795ms/step - loss: 0.7352 - capsnet_loss: 0.7352 - decoder_loss: 0.0316 - capsnet_acc: 0.2072 - val_loss: 0.7380 - val_capsnet_loss: 0.7380 - val_decoder_loss: 0.0299 - val_capsnet_acc: 0.1969\n",
            "\n",
            "Epoch 00006: val_capsnet_acc did not improve from 0.19691\n",
            "Epoch 7/200\n",
            "207/207 [==============================] - 164s 792ms/step - loss: 0.7270 - capsnet_loss: 0.7270 - decoder_loss: 0.0313 - capsnet_acc: 0.2024 - val_loss: 0.7424 - val_capsnet_loss: 0.7424 - val_decoder_loss: 0.0297 - val_capsnet_acc: 0.1969\n",
            "\n",
            "Epoch 00007: val_capsnet_acc did not improve from 0.19691\n",
            "Epoch 8/200\n",
            "207/207 [==============================] - 165s 796ms/step - loss: 0.7131 - capsnet_loss: 0.7131 - decoder_loss: 0.0309 - capsnet_acc: 0.2072 - val_loss: 0.7145 - val_capsnet_loss: 0.7145 - val_decoder_loss: 0.0295 - val_capsnet_acc: 0.1969\n",
            "\n",
            "Epoch 00008: val_capsnet_acc did not improve from 0.19691\n",
            "Epoch 9/200\n",
            "207/207 [==============================] - 165s 795ms/step - loss: 0.7036 - capsnet_loss: 0.7035 - decoder_loss: 0.0305 - capsnet_acc: 0.2063 - val_loss: 0.7116 - val_capsnet_loss: 0.7116 - val_decoder_loss: 0.0293 - val_capsnet_acc: 0.1969\n",
            "\n",
            "Epoch 00009: val_capsnet_acc did not improve from 0.19691\n",
            "Epoch 10/200\n",
            "207/207 [==============================] - 165s 796ms/step - loss: 0.6976 - capsnet_loss: 0.6976 - decoder_loss: 0.0304 - capsnet_acc: 0.2043 - val_loss: 0.7144 - val_capsnet_loss: 0.7144 - val_decoder_loss: 0.0293 - val_capsnet_acc: 0.1950\n",
            "\n",
            "Epoch 00010: val_capsnet_acc did not improve from 0.19691\n",
            "Epoch 11/200\n",
            "207/207 [==============================] - 164s 793ms/step - loss: 0.6956 - capsnet_loss: 0.6956 - decoder_loss: 0.0302 - capsnet_acc: 0.2068 - val_loss: 0.7036 - val_capsnet_loss: 0.7036 - val_decoder_loss: 0.0291 - val_capsnet_acc: 0.1950\n",
            "\n",
            "Epoch 00011: val_capsnet_acc did not improve from 0.19691\n",
            "Epoch 12/200\n",
            "207/207 [==============================] - 165s 797ms/step - loss: 0.6783 - capsnet_loss: 0.6782 - decoder_loss: 0.0301 - capsnet_acc: 0.2053 - val_loss: 0.7001 - val_capsnet_loss: 0.7001 - val_decoder_loss: 0.0293 - val_capsnet_acc: 0.1931\n",
            "\n",
            "Epoch 00012: val_capsnet_acc did not improve from 0.19691\n",
            "Epoch 13/200\n",
            "207/207 [==============================] - 165s 798ms/step - loss: 0.6611 - capsnet_loss: 0.6611 - decoder_loss: 0.0302 - capsnet_acc: 0.2053 - val_loss: 0.6603 - val_capsnet_loss: 0.6603 - val_decoder_loss: 0.0289 - val_capsnet_acc: 0.1892\n",
            "\n",
            "Epoch 00013: val_capsnet_acc did not improve from 0.19691\n",
            "Epoch 14/200\n",
            "207/207 [==============================] - 165s 795ms/step - loss: 0.6510 - capsnet_loss: 0.6510 - decoder_loss: 0.0300 - capsnet_acc: 0.2068 - val_loss: 0.6566 - val_capsnet_loss: 0.6566 - val_decoder_loss: 0.0289 - val_capsnet_acc: 0.2046\n",
            "\n",
            "Epoch 00014: val_capsnet_acc improved from 0.19691 to 0.20463, saving model to model/weights.14.h5\n",
            "Epoch 15/200\n",
            "207/207 [==============================] - 165s 796ms/step - loss: 0.6426 - capsnet_loss: 0.6426 - decoder_loss: 0.0300 - capsnet_acc: 0.2043 - val_loss: 0.6397 - val_capsnet_loss: 0.6397 - val_decoder_loss: 0.0289 - val_capsnet_acc: 0.2008\n",
            "\n",
            "Epoch 00015: val_capsnet_acc did not improve from 0.20463\n",
            "Epoch 16/200\n",
            "207/207 [==============================] - 165s 795ms/step - loss: 0.6266 - capsnet_loss: 0.6266 - decoder_loss: 0.0300 - capsnet_acc: 0.2184 - val_loss: 0.6325 - val_capsnet_loss: 0.6325 - val_decoder_loss: 0.0288 - val_capsnet_acc: 0.1988\n",
            "\n",
            "Epoch 00016: val_capsnet_acc did not improve from 0.20463\n",
            "Epoch 17/200\n",
            "207/207 [==============================] - 165s 796ms/step - loss: 0.6269 - capsnet_loss: 0.6269 - decoder_loss: 0.0300 - capsnet_acc: 0.2179 - val_loss: 0.6316 - val_capsnet_loss: 0.6316 - val_decoder_loss: 0.0288 - val_capsnet_acc: 0.2008\n",
            "\n",
            "Epoch 00017: val_capsnet_acc did not improve from 0.20463\n",
            "Epoch 18/200\n",
            "207/207 [==============================] - 165s 797ms/step - loss: 0.6170 - capsnet_loss: 0.6170 - decoder_loss: 0.0297 - capsnet_acc: 0.2227 - val_loss: 0.6149 - val_capsnet_loss: 0.6149 - val_decoder_loss: 0.0288 - val_capsnet_acc: 0.2104\n",
            "\n",
            "Epoch 00018: val_capsnet_acc improved from 0.20463 to 0.21042, saving model to model/weights.18.h5\n",
            "Epoch 19/200\n",
            "207/207 [==============================] - 164s 792ms/step - loss: 0.6107 - capsnet_loss: 0.6107 - decoder_loss: 0.0297 - capsnet_acc: 0.2188 - val_loss: 0.6067 - val_capsnet_loss: 0.6067 - val_decoder_loss: 0.0287 - val_capsnet_acc: 0.2239\n",
            "\n",
            "Epoch 00019: val_capsnet_acc improved from 0.21042 to 0.22394, saving model to model/weights.19.h5\n",
            "Epoch 20/200\n",
            "207/207 [==============================] - 165s 797ms/step - loss: 0.6003 - capsnet_loss: 0.6003 - decoder_loss: 0.0297 - capsnet_acc: 0.2333 - val_loss: 0.6144 - val_capsnet_loss: 0.6144 - val_decoder_loss: 0.0288 - val_capsnet_acc: 0.2336\n",
            "\n",
            "Epoch 00020: val_capsnet_acc improved from 0.22394 to 0.23359, saving model to model/weights.20.h5\n",
            "Epoch 21/200\n",
            "207/207 [==============================] - 164s 794ms/step - loss: 0.5917 - capsnet_loss: 0.5917 - decoder_loss: 0.0296 - capsnet_acc: 0.2449 - val_loss: 0.6002 - val_capsnet_loss: 0.6002 - val_decoder_loss: 0.0287 - val_capsnet_acc: 0.2452\n",
            "\n",
            "Epoch 00021: val_capsnet_acc improved from 0.23359 to 0.24517, saving model to model/weights.21.h5\n",
            "Epoch 22/200\n",
            "207/207 [==============================] - 164s 792ms/step - loss: 0.5850 - capsnet_loss: 0.5850 - decoder_loss: 0.0297 - capsnet_acc: 0.2710 - val_loss: 0.5846 - val_capsnet_loss: 0.5846 - val_decoder_loss: 0.0287 - val_capsnet_acc: 0.2973\n",
            "\n",
            "Epoch 00022: val_capsnet_acc improved from 0.24517 to 0.29730, saving model to model/weights.22.h5\n",
            "Epoch 23/200\n",
            "207/207 [==============================] - 164s 794ms/step - loss: 0.5808 - capsnet_loss: 0.5808 - decoder_loss: 0.0296 - capsnet_acc: 0.2734 - val_loss: 0.5862 - val_capsnet_loss: 0.5862 - val_decoder_loss: 0.0286 - val_capsnet_acc: 0.2780\n",
            "\n",
            "Epoch 00023: val_capsnet_acc did not improve from 0.29730\n",
            "Epoch 24/200\n",
            "207/207 [==============================] - 164s 794ms/step - loss: 0.5755 - capsnet_loss: 0.5755 - decoder_loss: 0.0296 - capsnet_acc: 0.2870 - val_loss: 0.5938 - val_capsnet_loss: 0.5938 - val_decoder_loss: 0.0286 - val_capsnet_acc: 0.2625\n",
            "\n",
            "Epoch 00024: val_capsnet_acc did not improve from 0.29730\n",
            "Epoch 25/200\n",
            "207/207 [==============================] - 164s 794ms/step - loss: 0.5733 - capsnet_loss: 0.5733 - decoder_loss: 0.0294 - capsnet_acc: 0.2850 - val_loss: 0.5709 - val_capsnet_loss: 0.5709 - val_decoder_loss: 0.0286 - val_capsnet_acc: 0.2973\n",
            "\n",
            "Epoch 00025: val_capsnet_acc improved from 0.29730 to 0.29730, saving model to model/weights.25.h5\n",
            "Epoch 26/200\n",
            "207/207 [==============================] - 165s 797ms/step - loss: 0.5664 - capsnet_loss: 0.5664 - decoder_loss: 0.0294 - capsnet_acc: 0.2947 - val_loss: 0.5737 - val_capsnet_loss: 0.5736 - val_decoder_loss: 0.0286 - val_capsnet_acc: 0.2799\n",
            "\n",
            "Epoch 00026: val_capsnet_acc did not improve from 0.29730\n",
            "Epoch 27/200\n",
            "207/207 [==============================] - 164s 793ms/step - loss: 0.5624 - capsnet_loss: 0.5624 - decoder_loss: 0.0294 - capsnet_acc: 0.2976 - val_loss: 0.5630 - val_capsnet_loss: 0.5630 - val_decoder_loss: 0.0285 - val_capsnet_acc: 0.3147\n",
            "\n",
            "Epoch 00027: val_capsnet_acc improved from 0.29730 to 0.31467, saving model to model/weights.27.h5\n",
            "Epoch 28/200\n",
            "207/207 [==============================] - 164s 794ms/step - loss: 0.5584 - capsnet_loss: 0.5584 - decoder_loss: 0.0293 - capsnet_acc: 0.3135 - val_loss: 0.5614 - val_capsnet_loss: 0.5613 - val_decoder_loss: 0.0285 - val_capsnet_acc: 0.2992\n",
            "\n",
            "Epoch 00028: val_capsnet_acc did not improve from 0.31467\n",
            "Epoch 29/200\n",
            "207/207 [==============================] - 164s 794ms/step - loss: 0.5570 - capsnet_loss: 0.5569 - decoder_loss: 0.0295 - capsnet_acc: 0.3039 - val_loss: 0.5585 - val_capsnet_loss: 0.5585 - val_decoder_loss: 0.0285 - val_capsnet_acc: 0.3050\n",
            "\n",
            "Epoch 00029: val_capsnet_acc did not improve from 0.31467\n",
            "Epoch 30/200\n",
            "207/207 [==============================] - 165s 798ms/step - loss: 0.5544 - capsnet_loss: 0.5543 - decoder_loss: 0.0293 - capsnet_acc: 0.3082 - val_loss: 0.5538 - val_capsnet_loss: 0.5537 - val_decoder_loss: 0.0285 - val_capsnet_acc: 0.3378\n",
            "\n",
            "Epoch 00030: val_capsnet_acc improved from 0.31467 to 0.33784, saving model to model/weights.30.h5\n",
            "Epoch 31/200\n",
            "207/207 [==============================] - 166s 800ms/step - loss: 0.5503 - capsnet_loss: 0.5503 - decoder_loss: 0.0294 - capsnet_acc: 0.3353 - val_loss: 0.5554 - val_capsnet_loss: 0.5554 - val_decoder_loss: 0.0285 - val_capsnet_acc: 0.3571\n",
            "\n",
            "Epoch 00031: val_capsnet_acc improved from 0.33784 to 0.35714, saving model to model/weights.31.h5\n",
            "Epoch 32/200\n",
            "207/207 [==============================] - 165s 796ms/step - loss: 0.5438 - capsnet_loss: 0.5438 - decoder_loss: 0.0294 - capsnet_acc: 0.3261 - val_loss: 0.5449 - val_capsnet_loss: 0.5449 - val_decoder_loss: 0.0285 - val_capsnet_acc: 0.3398\n",
            "\n",
            "Epoch 00032: val_capsnet_acc did not improve from 0.35714\n",
            "Epoch 33/200\n",
            "207/207 [==============================] - 165s 798ms/step - loss: 0.5428 - capsnet_loss: 0.5428 - decoder_loss: 0.0293 - capsnet_acc: 0.3314 - val_loss: 0.5496 - val_capsnet_loss: 0.5496 - val_decoder_loss: 0.0284 - val_capsnet_acc: 0.3610\n",
            "\n",
            "Epoch 00033: val_capsnet_acc improved from 0.35714 to 0.36100, saving model to model/weights.33.h5\n",
            "Epoch 34/200\n",
            "207/207 [==============================] - 165s 796ms/step - loss: 0.5410 - capsnet_loss: 0.5410 - decoder_loss: 0.0294 - capsnet_acc: 0.3377 - val_loss: 0.5449 - val_capsnet_loss: 0.5449 - val_decoder_loss: 0.0285 - val_capsnet_acc: 0.3378\n",
            "\n",
            "Epoch 00034: val_capsnet_acc did not improve from 0.36100\n",
            "Epoch 35/200\n",
            "207/207 [==============================] - 165s 797ms/step - loss: 0.5339 - capsnet_loss: 0.5338 - decoder_loss: 0.0292 - capsnet_acc: 0.3406 - val_loss: 0.5399 - val_capsnet_loss: 0.5399 - val_decoder_loss: 0.0284 - val_capsnet_acc: 0.3514\n",
            "\n",
            "Epoch 00035: val_capsnet_acc did not improve from 0.36100\n",
            "Epoch 36/200\n",
            "207/207 [==============================] - 165s 799ms/step - loss: 0.5347 - capsnet_loss: 0.5347 - decoder_loss: 0.0292 - capsnet_acc: 0.3493 - val_loss: 0.5316 - val_capsnet_loss: 0.5316 - val_decoder_loss: 0.0284 - val_capsnet_acc: 0.3629\n",
            "\n",
            "Epoch 00036: val_capsnet_acc improved from 0.36100 to 0.36293, saving model to model/weights.36.h5\n",
            "Epoch 37/200\n",
            "207/207 [==============================] - 165s 796ms/step - loss: 0.5306 - capsnet_loss: 0.5306 - decoder_loss: 0.0292 - capsnet_acc: 0.3570 - val_loss: 0.5342 - val_capsnet_loss: 0.5342 - val_decoder_loss: 0.0285 - val_capsnet_acc: 0.3784\n",
            "\n",
            "Epoch 00037: val_capsnet_acc improved from 0.36293 to 0.37838, saving model to model/weights.37.h5\n",
            "Epoch 38/200\n",
            "207/207 [==============================] - 165s 795ms/step - loss: 0.5293 - capsnet_loss: 0.5293 - decoder_loss: 0.0293 - capsnet_acc: 0.3565 - val_loss: 0.5318 - val_capsnet_loss: 0.5317 - val_decoder_loss: 0.0285 - val_capsnet_acc: 0.3533\n",
            "\n",
            "Epoch 00038: val_capsnet_acc did not improve from 0.37838\n",
            "Epoch 39/200\n",
            "207/207 [==============================] - 165s 795ms/step - loss: 0.5231 - capsnet_loss: 0.5231 - decoder_loss: 0.0294 - capsnet_acc: 0.3483 - val_loss: 0.5233 - val_capsnet_loss: 0.5232 - val_decoder_loss: 0.0285 - val_capsnet_acc: 0.3726\n",
            "\n",
            "Epoch 00039: val_capsnet_acc did not improve from 0.37838\n",
            "Epoch 40/200\n",
            "207/207 [==============================] - 164s 794ms/step - loss: 0.5238 - capsnet_loss: 0.5238 - decoder_loss: 0.0292 - capsnet_acc: 0.3667 - val_loss: 0.5221 - val_capsnet_loss: 0.5220 - val_decoder_loss: 0.0285 - val_capsnet_acc: 0.3822\n",
            "\n",
            "Epoch 00040: val_capsnet_acc improved from 0.37838 to 0.38224, saving model to model/weights.40.h5\n",
            "Epoch 41/200\n",
            "207/207 [==============================] - 165s 796ms/step - loss: 0.5198 - capsnet_loss: 0.5198 - decoder_loss: 0.0292 - capsnet_acc: 0.3725 - val_loss: 0.5216 - val_capsnet_loss: 0.5216 - val_decoder_loss: 0.0284 - val_capsnet_acc: 0.3764\n",
            "\n",
            "Epoch 00041: val_capsnet_acc did not improve from 0.38224\n",
            "Epoch 42/200\n",
            "207/207 [==============================] - 164s 791ms/step - loss: 0.5151 - capsnet_loss: 0.5151 - decoder_loss: 0.0293 - capsnet_acc: 0.3739 - val_loss: 0.5181 - val_capsnet_loss: 0.5181 - val_decoder_loss: 0.0284 - val_capsnet_acc: 0.3880\n",
            "\n",
            "Epoch 00042: val_capsnet_acc improved from 0.38224 to 0.38803, saving model to model/weights.42.h5\n",
            "Epoch 43/200\n",
            "207/207 [==============================] - 165s 796ms/step - loss: 0.5180 - capsnet_loss: 0.5180 - decoder_loss: 0.0292 - capsnet_acc: 0.3686 - val_loss: 0.5199 - val_capsnet_loss: 0.5199 - val_decoder_loss: 0.0284 - val_capsnet_acc: 0.3745\n",
            "\n",
            "Epoch 00043: val_capsnet_acc did not improve from 0.38803\n",
            "Epoch 44/200\n",
            "207/207 [==============================] - 164s 793ms/step - loss: 0.5141 - capsnet_loss: 0.5141 - decoder_loss: 0.0293 - capsnet_acc: 0.3768 - val_loss: 0.5134 - val_capsnet_loss: 0.5134 - val_decoder_loss: 0.0284 - val_capsnet_acc: 0.3938\n",
            "\n",
            "Epoch 00044: val_capsnet_acc improved from 0.38803 to 0.39382, saving model to model/weights.44.h5\n",
            "Epoch 45/200\n",
            "207/207 [==============================] - 164s 794ms/step - loss: 0.5100 - capsnet_loss: 0.5100 - decoder_loss: 0.0294 - capsnet_acc: 0.3763 - val_loss: 0.5128 - val_capsnet_loss: 0.5128 - val_decoder_loss: 0.0284 - val_capsnet_acc: 0.4054\n",
            "\n",
            "Epoch 00045: val_capsnet_acc improved from 0.39382 to 0.40541, saving model to model/weights.45.h5\n",
            "Epoch 46/200\n",
            "207/207 [==============================] - 165s 797ms/step - loss: 0.5142 - capsnet_loss: 0.5142 - decoder_loss: 0.0293 - capsnet_acc: 0.3667 - val_loss: 0.5134 - val_capsnet_loss: 0.5134 - val_decoder_loss: 0.0284 - val_capsnet_acc: 0.3900\n",
            "\n",
            "Epoch 00046: val_capsnet_acc did not improve from 0.40541\n",
            "Epoch 47/200\n",
            "207/207 [==============================] - 164s 793ms/step - loss: 0.5115 - capsnet_loss: 0.5114 - decoder_loss: 0.0292 - capsnet_acc: 0.3778 - val_loss: 0.5101 - val_capsnet_loss: 0.5101 - val_decoder_loss: 0.0284 - val_capsnet_acc: 0.4035\n",
            "\n",
            "Epoch 00047: val_capsnet_acc did not improve from 0.40541\n",
            "Epoch 48/200\n",
            "207/207 [==============================] - 165s 795ms/step - loss: 0.5100 - capsnet_loss: 0.5099 - decoder_loss: 0.0292 - capsnet_acc: 0.3758 - val_loss: 0.5101 - val_capsnet_loss: 0.5100 - val_decoder_loss: 0.0284 - val_capsnet_acc: 0.3861\n",
            "\n",
            "Epoch 00048: val_capsnet_acc did not improve from 0.40541\n",
            "Epoch 49/200\n",
            "207/207 [==============================] - 165s 795ms/step - loss: 0.5092 - capsnet_loss: 0.5092 - decoder_loss: 0.0292 - capsnet_acc: 0.3749 - val_loss: 0.5068 - val_capsnet_loss: 0.5068 - val_decoder_loss: 0.0284 - val_capsnet_acc: 0.4151\n",
            "\n",
            "Epoch 00049: val_capsnet_acc improved from 0.40541 to 0.41506, saving model to model/weights.49.h5\n",
            "Epoch 50/200\n",
            "207/207 [==============================] - 165s 798ms/step - loss: 0.5115 - capsnet_loss: 0.5115 - decoder_loss: 0.0294 - capsnet_acc: 0.3807 - val_loss: 0.5081 - val_capsnet_loss: 0.5081 - val_decoder_loss: 0.0284 - val_capsnet_acc: 0.3938\n",
            "\n",
            "Epoch 00050: val_capsnet_acc did not improve from 0.41506\n",
            "Epoch 51/200\n",
            "207/207 [==============================] - 165s 796ms/step - loss: 0.5123 - capsnet_loss: 0.5123 - decoder_loss: 0.0292 - capsnet_acc: 0.3705 - val_loss: 0.5065 - val_capsnet_loss: 0.5065 - val_decoder_loss: 0.0284 - val_capsnet_acc: 0.4112\n",
            "\n",
            "Epoch 00051: val_capsnet_acc did not improve from 0.41506\n",
            "Epoch 52/200\n",
            "207/207 [==============================] - 164s 794ms/step - loss: 0.5036 - capsnet_loss: 0.5036 - decoder_loss: 0.0291 - capsnet_acc: 0.3908 - val_loss: 0.5042 - val_capsnet_loss: 0.5042 - val_decoder_loss: 0.0284 - val_capsnet_acc: 0.4151\n",
            "\n",
            "Epoch 00052: val_capsnet_acc improved from 0.41506 to 0.41506, saving model to model/weights.52.h5\n",
            "Epoch 53/200\n",
            "207/207 [==============================] - 164s 793ms/step - loss: 0.5101 - capsnet_loss: 0.5101 - decoder_loss: 0.0293 - capsnet_acc: 0.3758 - val_loss: 0.5054 - val_capsnet_loss: 0.5053 - val_decoder_loss: 0.0284 - val_capsnet_acc: 0.4015\n",
            "\n",
            "Epoch 00053: val_capsnet_acc did not improve from 0.41506\n",
            "Epoch 54/200\n",
            "207/207 [==============================] - 165s 795ms/step - loss: 0.5090 - capsnet_loss: 0.5089 - decoder_loss: 0.0293 - capsnet_acc: 0.3783 - val_loss: 0.5055 - val_capsnet_loss: 0.5055 - val_decoder_loss: 0.0284 - val_capsnet_acc: 0.4035\n",
            "\n",
            "Epoch 00054: val_capsnet_acc did not improve from 0.41506\n",
            "Epoch 55/200\n",
            "207/207 [==============================] - 164s 793ms/step - loss: 0.5073 - capsnet_loss: 0.5072 - decoder_loss: 0.0292 - capsnet_acc: 0.3807 - val_loss: 0.5034 - val_capsnet_loss: 0.5034 - val_decoder_loss: 0.0284 - val_capsnet_acc: 0.4073\n",
            "\n",
            "Epoch 00055: val_capsnet_acc did not improve from 0.41506\n",
            "Epoch 56/200\n",
            "207/207 [==============================] - 164s 795ms/step - loss: 0.5053 - capsnet_loss: 0.5053 - decoder_loss: 0.0294 - capsnet_acc: 0.3870 - val_loss: 0.5042 - val_capsnet_loss: 0.5042 - val_decoder_loss: 0.0284 - val_capsnet_acc: 0.4035\n",
            "\n",
            "Epoch 00056: val_capsnet_acc did not improve from 0.41506\n",
            "Epoch 57/200\n",
            "207/207 [==============================] - 164s 793ms/step - loss: 0.5071 - capsnet_loss: 0.5071 - decoder_loss: 0.0293 - capsnet_acc: 0.3758 - val_loss: 0.5042 - val_capsnet_loss: 0.5042 - val_decoder_loss: 0.0284 - val_capsnet_acc: 0.4015\n",
            "\n",
            "Epoch 00057: val_capsnet_acc did not improve from 0.41506\n",
            "Epoch 58/200\n",
            "207/207 [==============================] - 164s 794ms/step - loss: 0.5042 - capsnet_loss: 0.5042 - decoder_loss: 0.0290 - capsnet_acc: 0.3855 - val_loss: 0.5039 - val_capsnet_loss: 0.5039 - val_decoder_loss: 0.0284 - val_capsnet_acc: 0.4151\n",
            "\n",
            "Epoch 00058: val_capsnet_acc did not improve from 0.41506\n",
            "Epoch 59/200\n",
            "207/207 [==============================] - 164s 794ms/step - loss: 0.5066 - capsnet_loss: 0.5066 - decoder_loss: 0.0291 - capsnet_acc: 0.3807 - val_loss: 0.5023 - val_capsnet_loss: 0.5023 - val_decoder_loss: 0.0284 - val_capsnet_acc: 0.4093\n",
            "\n",
            "Epoch 00059: val_capsnet_acc did not improve from 0.41506\n",
            "Epoch 60/200\n",
            "207/207 [==============================] - 165s 795ms/step - loss: 0.5045 - capsnet_loss: 0.5045 - decoder_loss: 0.0292 - capsnet_acc: 0.3850 - val_loss: 0.5022 - val_capsnet_loss: 0.5021 - val_decoder_loss: 0.0284 - val_capsnet_acc: 0.4170\n",
            "\n",
            "Epoch 00060: val_capsnet_acc improved from 0.41506 to 0.41699, saving model to model/weights.60.h5\n",
            "Epoch 61/200\n",
            "207/207 [==============================] - 165s 796ms/step - loss: 0.5040 - capsnet_loss: 0.5040 - decoder_loss: 0.0292 - capsnet_acc: 0.3899 - val_loss: 0.5019 - val_capsnet_loss: 0.5019 - val_decoder_loss: 0.0284 - val_capsnet_acc: 0.4093\n",
            "\n",
            "Epoch 00061: val_capsnet_acc did not improve from 0.41699\n",
            "Epoch 62/200\n",
            "207/207 [==============================] - 164s 793ms/step - loss: 0.5028 - capsnet_loss: 0.5028 - decoder_loss: 0.0292 - capsnet_acc: 0.3957 - val_loss: 0.5012 - val_capsnet_loss: 0.5012 - val_decoder_loss: 0.0284 - val_capsnet_acc: 0.4112\n",
            "\n",
            "Epoch 00062: val_capsnet_acc did not improve from 0.41699\n",
            "Epoch 63/200\n",
            "207/207 [==============================] - 165s 797ms/step - loss: 0.5007 - capsnet_loss: 0.5007 - decoder_loss: 0.0294 - capsnet_acc: 0.3884 - val_loss: 0.5016 - val_capsnet_loss: 0.5016 - val_decoder_loss: 0.0284 - val_capsnet_acc: 0.4112\n",
            "\n",
            "Epoch 00063: val_capsnet_acc did not improve from 0.41699\n",
            "Epoch 64/200\n",
            "207/207 [==============================] - 164s 794ms/step - loss: 0.5047 - capsnet_loss: 0.5047 - decoder_loss: 0.0292 - capsnet_acc: 0.3836 - val_loss: 0.5020 - val_capsnet_loss: 0.5020 - val_decoder_loss: 0.0284 - val_capsnet_acc: 0.4112\n",
            "\n",
            "Epoch 00064: val_capsnet_acc did not improve from 0.41699\n",
            "Epoch 65/200\n",
            "207/207 [==============================] - 165s 798ms/step - loss: 0.5070 - capsnet_loss: 0.5070 - decoder_loss: 0.0294 - capsnet_acc: 0.3855 - val_loss: 0.5021 - val_capsnet_loss: 0.5021 - val_decoder_loss: 0.0284 - val_capsnet_acc: 0.4170\n",
            "\n",
            "Epoch 00065: val_capsnet_acc did not improve from 0.41699\n",
            "Epoch 66/200\n",
            "207/207 [==============================] - 165s 796ms/step - loss: 0.5072 - capsnet_loss: 0.5072 - decoder_loss: 0.0292 - capsnet_acc: 0.3874 - val_loss: 0.5018 - val_capsnet_loss: 0.5018 - val_decoder_loss: 0.0284 - val_capsnet_acc: 0.4093\n",
            "\n",
            "Epoch 00066: val_capsnet_acc did not improve from 0.41699\n",
            "Epoch 67/200\n",
            "207/207 [==============================] - 164s 794ms/step - loss: 0.5008 - capsnet_loss: 0.5008 - decoder_loss: 0.0292 - capsnet_acc: 0.3899 - val_loss: 0.5014 - val_capsnet_loss: 0.5014 - val_decoder_loss: 0.0284 - val_capsnet_acc: 0.4228\n",
            "\n",
            "Epoch 00067: val_capsnet_acc improved from 0.41699 to 0.42278, saving model to model/weights.67.h5\n",
            "Epoch 68/200\n",
            "207/207 [==============================] - 165s 796ms/step - loss: 0.5034 - capsnet_loss: 0.5034 - decoder_loss: 0.0293 - capsnet_acc: 0.3802 - val_loss: 0.5010 - val_capsnet_loss: 0.5010 - val_decoder_loss: 0.0284 - val_capsnet_acc: 0.4170\n",
            "\n",
            "Epoch 00068: val_capsnet_acc did not improve from 0.42278\n",
            "Epoch 69/200\n",
            "207/207 [==============================] - 165s 795ms/step - loss: 0.5024 - capsnet_loss: 0.5024 - decoder_loss: 0.0292 - capsnet_acc: 0.3952 - val_loss: 0.5010 - val_capsnet_loss: 0.5010 - val_decoder_loss: 0.0284 - val_capsnet_acc: 0.4112\n",
            "\n",
            "Epoch 00069: val_capsnet_acc did not improve from 0.42278\n",
            "Epoch 70/200\n",
            "207/207 [==============================] - 164s 793ms/step - loss: 0.5036 - capsnet_loss: 0.5036 - decoder_loss: 0.0292 - capsnet_acc: 0.3957 - val_loss: 0.5008 - val_capsnet_loss: 0.5008 - val_decoder_loss: 0.0284 - val_capsnet_acc: 0.4189\n",
            "\n",
            "Epoch 00070: val_capsnet_acc did not improve from 0.42278\n",
            "Epoch 71/200\n",
            "207/207 [==============================] - 164s 794ms/step - loss: 0.5060 - capsnet_loss: 0.5060 - decoder_loss: 0.0293 - capsnet_acc: 0.3836 - val_loss: 0.5009 - val_capsnet_loss: 0.5009 - val_decoder_loss: 0.0284 - val_capsnet_acc: 0.4189\n",
            "\n",
            "Epoch 00071: val_capsnet_acc did not improve from 0.42278\n",
            "Epoch 72/200\n",
            "207/207 [==============================] - 164s 792ms/step - loss: 0.5030 - capsnet_loss: 0.5029 - decoder_loss: 0.0293 - capsnet_acc: 0.3899 - val_loss: 0.5009 - val_capsnet_loss: 0.5009 - val_decoder_loss: 0.0284 - val_capsnet_acc: 0.4189\n",
            "\n",
            "Epoch 00072: val_capsnet_acc did not improve from 0.42278\n",
            "Epoch 73/200\n",
            "207/207 [==============================] - 165s 797ms/step - loss: 0.5069 - capsnet_loss: 0.5069 - decoder_loss: 0.0292 - capsnet_acc: 0.3812 - val_loss: 0.5010 - val_capsnet_loss: 0.5009 - val_decoder_loss: 0.0284 - val_capsnet_acc: 0.4208\n",
            "\n",
            "Epoch 00073: val_capsnet_acc did not improve from 0.42278\n",
            "Epoch 74/200\n",
            "207/207 [==============================] - 164s 794ms/step - loss: 0.5028 - capsnet_loss: 0.5027 - decoder_loss: 0.0292 - capsnet_acc: 0.3932 - val_loss: 0.5008 - val_capsnet_loss: 0.5008 - val_decoder_loss: 0.0284 - val_capsnet_acc: 0.4208\n",
            "\n",
            "Epoch 00074: val_capsnet_acc did not improve from 0.42278\n",
            "Epoch 75/200\n",
            "207/207 [==============================] - 165s 795ms/step - loss: 0.5037 - capsnet_loss: 0.5037 - decoder_loss: 0.0292 - capsnet_acc: 0.3850 - val_loss: 0.5009 - val_capsnet_loss: 0.5008 - val_decoder_loss: 0.0284 - val_capsnet_acc: 0.4131\n",
            "\n",
            "Epoch 00075: val_capsnet_acc did not improve from 0.42278\n",
            "Epoch 76/200\n",
            "207/207 [==============================] - 165s 796ms/step - loss: 0.5002 - capsnet_loss: 0.5002 - decoder_loss: 0.0290 - capsnet_acc: 0.3923 - val_loss: 0.5006 - val_capsnet_loss: 0.5005 - val_decoder_loss: 0.0284 - val_capsnet_acc: 0.4151\n",
            "\n",
            "Epoch 00076: val_capsnet_acc did not improve from 0.42278\n",
            "Epoch 77/200\n",
            "207/207 [==============================] - 164s 794ms/step - loss: 0.5030 - capsnet_loss: 0.5030 - decoder_loss: 0.0291 - capsnet_acc: 0.3986 - val_loss: 0.5005 - val_capsnet_loss: 0.5004 - val_decoder_loss: 0.0284 - val_capsnet_acc: 0.4170\n",
            "\n",
            "Epoch 00077: val_capsnet_acc did not improve from 0.42278\n",
            "Epoch 78/200\n",
            "207/207 [==============================] - 165s 795ms/step - loss: 0.4996 - capsnet_loss: 0.4996 - decoder_loss: 0.0291 - capsnet_acc: 0.3952 - val_loss: 0.5005 - val_capsnet_loss: 0.5005 - val_decoder_loss: 0.0284 - val_capsnet_acc: 0.4189\n",
            "\n",
            "Epoch 00078: val_capsnet_acc did not improve from 0.42278\n",
            "Epoch 79/200\n",
            "207/207 [==============================] - 164s 793ms/step - loss: 0.5033 - capsnet_loss: 0.5033 - decoder_loss: 0.0292 - capsnet_acc: 0.3937 - val_loss: 0.5005 - val_capsnet_loss: 0.5005 - val_decoder_loss: 0.0284 - val_capsnet_acc: 0.4189\n",
            "\n",
            "Epoch 00079: val_capsnet_acc did not improve from 0.42278\n",
            "Epoch 80/200\n",
            "207/207 [==============================] - 164s 794ms/step - loss: 0.5001 - capsnet_loss: 0.5001 - decoder_loss: 0.0291 - capsnet_acc: 0.3986 - val_loss: 0.5004 - val_capsnet_loss: 0.5004 - val_decoder_loss: 0.0284 - val_capsnet_acc: 0.4208\n",
            "\n",
            "Epoch 00080: val_capsnet_acc did not improve from 0.42278\n",
            "Epoch 81/200\n",
            "207/207 [==============================] - 165s 795ms/step - loss: 0.5039 - capsnet_loss: 0.5039 - decoder_loss: 0.0293 - capsnet_acc: 0.3841 - val_loss: 0.5005 - val_capsnet_loss: 0.5004 - val_decoder_loss: 0.0284 - val_capsnet_acc: 0.4170\n",
            "\n",
            "Epoch 00081: val_capsnet_acc did not improve from 0.42278\n",
            "Epoch 82/200\n",
            "207/207 [==============================] - 164s 795ms/step - loss: 0.5011 - capsnet_loss: 0.5011 - decoder_loss: 0.0291 - capsnet_acc: 0.3903 - val_loss: 0.5004 - val_capsnet_loss: 0.5004 - val_decoder_loss: 0.0284 - val_capsnet_acc: 0.4170\n",
            "\n",
            "Epoch 00082: val_capsnet_acc did not improve from 0.42278\n",
            "Epoch 83/200\n",
            "207/207 [==============================] - 165s 795ms/step - loss: 0.5050 - capsnet_loss: 0.5050 - decoder_loss: 0.0292 - capsnet_acc: 0.3918 - val_loss: 0.5005 - val_capsnet_loss: 0.5005 - val_decoder_loss: 0.0284 - val_capsnet_acc: 0.4189\n",
            "\n",
            "Epoch 00083: val_capsnet_acc did not improve from 0.42278\n",
            "Epoch 84/200\n",
            "207/207 [==============================] - 165s 798ms/step - loss: 0.4964 - capsnet_loss: 0.4964 - decoder_loss: 0.0292 - capsnet_acc: 0.3957 - val_loss: 0.5003 - val_capsnet_loss: 0.5003 - val_decoder_loss: 0.0284 - val_capsnet_acc: 0.4189\n",
            "\n",
            "Epoch 00084: val_capsnet_acc did not improve from 0.42278\n",
            "Epoch 85/200\n",
            "207/207 [==============================] - 165s 799ms/step - loss: 0.5039 - capsnet_loss: 0.5039 - decoder_loss: 0.0291 - capsnet_acc: 0.3874 - val_loss: 0.5002 - val_capsnet_loss: 0.5002 - val_decoder_loss: 0.0284 - val_capsnet_acc: 0.4189\n",
            "\n",
            "Epoch 00085: val_capsnet_acc did not improve from 0.42278\n",
            "Epoch 86/200\n",
            "207/207 [==============================] - 164s 794ms/step - loss: 0.5050 - capsnet_loss: 0.5049 - decoder_loss: 0.0292 - capsnet_acc: 0.3841 - val_loss: 0.5002 - val_capsnet_loss: 0.5002 - val_decoder_loss: 0.0284 - val_capsnet_acc: 0.4228\n",
            "\n",
            "Epoch 00086: val_capsnet_acc improved from 0.42278 to 0.42278, saving model to model/weights.86.h5\n",
            "Epoch 87/200\n",
            "207/207 [==============================] - 164s 791ms/step - loss: 0.5009 - capsnet_loss: 0.5009 - decoder_loss: 0.0293 - capsnet_acc: 0.3995 - val_loss: 0.5002 - val_capsnet_loss: 0.5002 - val_decoder_loss: 0.0284 - val_capsnet_acc: 0.4228\n",
            "\n",
            "Epoch 00087: val_capsnet_acc did not improve from 0.42278\n",
            "Epoch 88/200\n",
            "207/207 [==============================] - 164s 795ms/step - loss: 0.4986 - capsnet_loss: 0.4986 - decoder_loss: 0.0291 - capsnet_acc: 0.3947 - val_loss: 0.5002 - val_capsnet_loss: 0.5001 - val_decoder_loss: 0.0284 - val_capsnet_acc: 0.4247\n",
            "\n",
            "Epoch 00088: val_capsnet_acc improved from 0.42278 to 0.42471, saving model to model/weights.88.h5\n",
            "Epoch 89/200\n",
            "207/207 [==============================] - 164s 794ms/step - loss: 0.5049 - capsnet_loss: 0.5049 - decoder_loss: 0.0291 - capsnet_acc: 0.3816 - val_loss: 0.5002 - val_capsnet_loss: 0.5001 - val_decoder_loss: 0.0284 - val_capsnet_acc: 0.4228\n",
            "\n",
            "Epoch 00089: val_capsnet_acc did not improve from 0.42471\n",
            "Epoch 90/200\n",
            "207/207 [==============================] - 165s 799ms/step - loss: 0.5037 - capsnet_loss: 0.5037 - decoder_loss: 0.0293 - capsnet_acc: 0.3942 - val_loss: 0.5002 - val_capsnet_loss: 0.5002 - val_decoder_loss: 0.0284 - val_capsnet_acc: 0.4208\n",
            "\n",
            "Epoch 00090: val_capsnet_acc did not improve from 0.42471\n",
            "Epoch 91/200\n",
            "207/207 [==============================] - 166s 804ms/step - loss: 0.5022 - capsnet_loss: 0.5022 - decoder_loss: 0.0292 - capsnet_acc: 0.3918 - val_loss: 0.5002 - val_capsnet_loss: 0.5002 - val_decoder_loss: 0.0284 - val_capsnet_acc: 0.4189\n",
            "\n",
            "Epoch 00091: val_capsnet_acc did not improve from 0.42471\n",
            "Epoch 92/200\n",
            "207/207 [==============================] - 166s 802ms/step - loss: 0.5056 - capsnet_loss: 0.5056 - decoder_loss: 0.0292 - capsnet_acc: 0.3860 - val_loss: 0.5002 - val_capsnet_loss: 0.5002 - val_decoder_loss: 0.0284 - val_capsnet_acc: 0.4189\n",
            "\n",
            "Epoch 00092: val_capsnet_acc did not improve from 0.42471\n",
            "Epoch 93/200\n",
            "207/207 [==============================] - 165s 799ms/step - loss: 0.5031 - capsnet_loss: 0.5031 - decoder_loss: 0.0293 - capsnet_acc: 0.3884 - val_loss: 0.5002 - val_capsnet_loss: 0.5002 - val_decoder_loss: 0.0284 - val_capsnet_acc: 0.4189\n",
            "\n",
            "Epoch 00093: val_capsnet_acc did not improve from 0.42471\n",
            "Epoch 94/200\n",
            "207/207 [==============================] - 166s 800ms/step - loss: 0.5053 - capsnet_loss: 0.5053 - decoder_loss: 0.0292 - capsnet_acc: 0.3836 - val_loss: 0.5002 - val_capsnet_loss: 0.5002 - val_decoder_loss: 0.0284 - val_capsnet_acc: 0.4189\n",
            "\n",
            "Epoch 00094: val_capsnet_acc did not improve from 0.42471\n",
            "Epoch 95/200\n",
            "207/207 [==============================] - 165s 797ms/step - loss: 0.5094 - capsnet_loss: 0.5094 - decoder_loss: 0.0293 - capsnet_acc: 0.3850 - val_loss: 0.5002 - val_capsnet_loss: 0.5002 - val_decoder_loss: 0.0284 - val_capsnet_acc: 0.4170\n",
            "\n",
            "Epoch 00095: val_capsnet_acc did not improve from 0.42471\n",
            "Epoch 96/200\n",
            "207/207 [==============================] - 165s 796ms/step - loss: 0.5009 - capsnet_loss: 0.5009 - decoder_loss: 0.0293 - capsnet_acc: 0.4034 - val_loss: 0.5002 - val_capsnet_loss: 0.5002 - val_decoder_loss: 0.0284 - val_capsnet_acc: 0.4170\n",
            "\n",
            "Epoch 00096: val_capsnet_acc did not improve from 0.42471\n",
            "Epoch 97/200\n",
            "207/207 [==============================] - 166s 804ms/step - loss: 0.5105 - capsnet_loss: 0.5105 - decoder_loss: 0.0292 - capsnet_acc: 0.3749 - val_loss: 0.5002 - val_capsnet_loss: 0.5002 - val_decoder_loss: 0.0284 - val_capsnet_acc: 0.4170\n",
            "\n",
            "Epoch 00097: val_capsnet_acc did not improve from 0.42471\n",
            "Epoch 98/200\n",
            "207/207 [==============================] - 166s 802ms/step - loss: 0.5046 - capsnet_loss: 0.5046 - decoder_loss: 0.0293 - capsnet_acc: 0.3831 - val_loss: 0.5002 - val_capsnet_loss: 0.5002 - val_decoder_loss: 0.0284 - val_capsnet_acc: 0.4170\n",
            "\n",
            "Epoch 00098: val_capsnet_acc did not improve from 0.42471\n",
            "Epoch 99/200\n",
            "207/207 [==============================] - 167s 806ms/step - loss: 0.5052 - capsnet_loss: 0.5052 - decoder_loss: 0.0292 - capsnet_acc: 0.3865 - val_loss: 0.5002 - val_capsnet_loss: 0.5002 - val_decoder_loss: 0.0284 - val_capsnet_acc: 0.4170\n",
            "\n",
            "Epoch 00099: val_capsnet_acc did not improve from 0.42471\n",
            "Epoch 100/200\n",
            "207/207 [==============================] - 167s 808ms/step - loss: 0.5029 - capsnet_loss: 0.5028 - decoder_loss: 0.0292 - capsnet_acc: 0.3826 - val_loss: 0.5002 - val_capsnet_loss: 0.5002 - val_decoder_loss: 0.0284 - val_capsnet_acc: 0.4170\n",
            "\n",
            "Epoch 00100: val_capsnet_acc did not improve from 0.42471\n",
            "Epoch 101/200\n",
            "207/207 [==============================] - 166s 803ms/step - loss: 0.5045 - capsnet_loss: 0.5045 - decoder_loss: 0.0291 - capsnet_acc: 0.3879 - val_loss: 0.5002 - val_capsnet_loss: 0.5002 - val_decoder_loss: 0.0284 - val_capsnet_acc: 0.4170\n",
            "\n",
            "Epoch 00101: val_capsnet_acc did not improve from 0.42471\n",
            "Epoch 102/200\n",
            "207/207 [==============================] - 165s 798ms/step - loss: 0.5012 - capsnet_loss: 0.5012 - decoder_loss: 0.0291 - capsnet_acc: 0.3937 - val_loss: 0.5002 - val_capsnet_loss: 0.5002 - val_decoder_loss: 0.0284 - val_capsnet_acc: 0.4170\n",
            "\n",
            "Epoch 00102: val_capsnet_acc did not improve from 0.42471\n",
            "Epoch 103/200\n",
            "207/207 [==============================] - 166s 804ms/step - loss: 0.4999 - capsnet_loss: 0.4999 - decoder_loss: 0.0292 - capsnet_acc: 0.3976 - val_loss: 0.5002 - val_capsnet_loss: 0.5002 - val_decoder_loss: 0.0284 - val_capsnet_acc: 0.4170\n",
            "\n",
            "Epoch 00103: val_capsnet_acc did not improve from 0.42471\n",
            "Epoch 104/200\n",
            "207/207 [==============================] - 166s 804ms/step - loss: 0.5033 - capsnet_loss: 0.5033 - decoder_loss: 0.0293 - capsnet_acc: 0.3850 - val_loss: 0.5002 - val_capsnet_loss: 0.5002 - val_decoder_loss: 0.0284 - val_capsnet_acc: 0.4170\n",
            "\n",
            "Epoch 00104: val_capsnet_acc did not improve from 0.42471\n",
            "Epoch 105/200\n",
            "207/207 [==============================] - 166s 804ms/step - loss: 0.5005 - capsnet_loss: 0.5005 - decoder_loss: 0.0293 - capsnet_acc: 0.3990 - val_loss: 0.5002 - val_capsnet_loss: 0.5002 - val_decoder_loss: 0.0284 - val_capsnet_acc: 0.4151\n",
            "\n",
            "Epoch 00105: val_capsnet_acc did not improve from 0.42471\n",
            "Epoch 106/200\n",
            "207/207 [==============================] - 167s 804ms/step - loss: 0.5007 - capsnet_loss: 0.5007 - decoder_loss: 0.0291 - capsnet_acc: 0.3995 - val_loss: 0.5002 - val_capsnet_loss: 0.5002 - val_decoder_loss: 0.0284 - val_capsnet_acc: 0.4151\n",
            "\n",
            "Epoch 00106: val_capsnet_acc did not improve from 0.42471\n",
            "Epoch 107/200\n",
            "207/207 [==============================] - 168s 811ms/step - loss: 0.5074 - capsnet_loss: 0.5074 - decoder_loss: 0.0294 - capsnet_acc: 0.3821 - val_loss: 0.5002 - val_capsnet_loss: 0.5002 - val_decoder_loss: 0.0284 - val_capsnet_acc: 0.4151\n",
            "\n",
            "Epoch 00107: val_capsnet_acc did not improve from 0.42471\n",
            "Epoch 108/200\n",
            "207/207 [==============================] - 168s 810ms/step - loss: 0.5035 - capsnet_loss: 0.5035 - decoder_loss: 0.0291 - capsnet_acc: 0.3831 - val_loss: 0.5002 - val_capsnet_loss: 0.5002 - val_decoder_loss: 0.0284 - val_capsnet_acc: 0.4151\n",
            "\n",
            "Epoch 00108: val_capsnet_acc did not improve from 0.42471\n",
            "Epoch 00108: early stopping\n"
          ],
          "name": "stdout"
        }
      ]
    },
    {
      "cell_type": "code",
      "metadata": {
        "id": "8RHn_Xb7fQKh",
        "colab_type": "code",
        "colab": {
          "base_uri": "https://localhost:8080/",
          "height": 630
        },
        "outputId": "36b400bb-f3bf-43a4-85f9-c1e9c0681307"
      },
      "source": [
        "plt.figure(figsize=(10, 10))\n",
        "plt.plot(history.history['capsnet_acc'])\n",
        "plt.plot(history.history['val_capsnet_acc'])\n",
        "plt.ylabel('accuracy', fontsize='x-large')\n",
        "plt.xlabel('epoch', fontsize='x-large')\n",
        "plt.legend(['train', 'test'], loc='upper left', fontsize='x-large')"
      ],
      "execution_count": 12,
      "outputs": [
        {
          "output_type": "execute_result",
          "data": {
            "text/plain": [
              "<matplotlib.legend.Legend at 0x7fcb9b0d8a58>"
            ]
          },
          "metadata": {
            "tags": []
          },
          "execution_count": 12
        },
        {
          "output_type": "display_data",
          "data": {
            "image/png": "[encoded data removed]",
            "text/plain": [
              "<Figure size 720x720 with 1 Axes>"
            ]
          },
          "metadata": {
            "tags": []
          }
        }
      ]
    },
    {
      "cell_type": "code",
      "metadata": {
        "id": "dKIEK18JfRxR",
        "colab_type": "code",
        "colab": {
          "base_uri": "https://localhost:8080/",
          "height": 85
        },
        "outputId": "762dfdd0-f179-48ec-de44-d24ca093c296"
      },
      "source": [
        "model.save(f'/content/gdrive/My Drive/models')"
      ],
      "execution_count": 13,
      "outputs": [
        {
          "output_type": "stream",
          "text": [
            "Saving model as 2019-05-13_0.tar.gz...\n",
            "\tSaving \"train\" architecture... Done\n",
            "\tSaving \"test\" architecture... Done\n",
            "\tSaving weights... Done\n"
          ],
          "name": "stdout"
        }
      ]
    }
  ]
}