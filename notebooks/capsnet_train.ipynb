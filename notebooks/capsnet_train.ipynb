{
  "nbformat": 4,
  "nbformat_minor": 0,
  "metadata": {
    "colab": {
      "name": "capsnet_train.ipynb",
      "version": "0.3.2",
      "provenance": [],
      "collapsed_sections": []
    },
    "kernelspec": {
      "name": "python3",
      "display_name": "Python 3"
    },
    "accelerator": "GPU"
  },
  "cells": [
    {
      "cell_type": "code",
      "metadata": {
        "id": "zt9mUShje03E",
        "colab_type": "code",
        "outputId": "0a2c157b-39ec-434a-9ba1-e40e1b3c8ddf",
        "colab": {
          "base_uri": "https://localhost:8080/",
          "height": 221
        }
      },
      "source": [
        "!pip install -q --no-cache-dir --upgrade git+https://github.com/tumido/face_biometrics_descriptor-code.git\n",
        "  \n",
        "from sklearn.datasets import fetch_lfw_people\n",
        "from capsnet import preprocess, CapsNet, fetch_pins_people\n",
        "\n",
        "!pip show capsnet"
      ],
      "execution_count": 0,
      "outputs": [
        {
          "output_type": "stream",
          "text": [
            "  Building wheel for capsnet (setup.py) ... \u001b[?25l\u001b[?25hdone\n"
          ],
          "name": "stdout"
        },
        {
          "output_type": "stream",
          "text": [
            "Using TensorFlow backend.\n"
          ],
          "name": "stderr"
        },
        {
          "output_type": "stream",
          "text": [
            "Name: capsnet\n",
            "Version: 0.4.1\n",
            "Summary: CapsNet - face recognition\n",
            "Home-page: UNKNOWN\n",
            "Author: Tomas Coufal\n",
            "Author-email: UNKNOWN\n",
            "License: Apache 2.0\n",
            "Location: /usr/local/lib/python3.6/dist-packages\n",
            "Requires: tensorflow, keras, scikit-learn, numpy\n",
            "Required-by: \n"
          ],
          "name": "stdout"
        }
      ]
    },
    {
      "cell_type": "code",
      "metadata": {
        "id": "RKqL2Wc1e7FM",
        "colab_type": "code",
        "outputId": "487a4e99-eb4f-45bd-9891-182d4ceebc7f",
        "colab": {
          "base_uri": "https://localhost:8080/",
          "height": 122
        }
      },
      "source": [
        "import numpy as np\n",
        "from sklearn.metrics import confusion_matrix\n",
        "%matplotlib inline\n",
        "import matplotlib.pyplot as plt\n",
        "import pandas as pd\n",
        "from random import randint\n",
        "\n",
        "!pip install -q kaggle\n",
        "from getpass import getpass\n",
        "\n",
        "from google.colab import drive\n",
        "drive.mount('/content/gdrive')\n",
        "!mkdir -p \"/content/gdrive/My Drive/models\""
      ],
      "execution_count": 0,
      "outputs": [
        {
          "output_type": "stream",
          "text": [
            "Go to this URL in a browser: https://accounts.google.com/o/oauth2/auth?client_id=947318989803-6bn6qk8qdgf4n4g3pfee6491hc0brc4i.apps.googleusercontent.com&redirect_uri=urn%3Aietf%3Awg%3Aoauth%3A2.0%3Aoob&scope=email%20https%3A%2F%2Fwww.googleapis.com%2Fauth%2Fdocs.test%20https%3A%2F%2Fwww.googleapis.com%2Fauth%2Fdrive%20https%3A%2F%2Fwww.googleapis.com%2Fauth%2Fdrive.photos.readonly%20https%3A%2F%2Fwww.googleapis.com%2Fauth%2Fpeopleapi.readonly&response_type=code\n",
            "\n",
            "Enter your authorization code:\n",
            "··········\n",
            "Mounted at /content/gdrive\n"
          ],
          "name": "stdout"
        }
      ]
    },
    {
      "cell_type": "code",
      "metadata": {
        "id": "lfGaNa3Xe9A0",
        "colab_type": "code",
        "outputId": "ca3d34f1-4523-4e37-bf4a-380b3dd230e7",
        "colab": {
          "base_uri": "https://localhost:8080/",
          "height": 68
        }
      },
      "source": [
        "!pip install -q tensorboardcolab\n",
        "from tensorboardcolab import TensorBoardColab, TensorBoardColabCallback\n",
        "\n",
        "tbc = TensorBoardColab()\n",
        "tensor_board_callback = TensorBoardColabCallback(tbc, batch_size=10, histogram_freq=5, write_graph=True, write_grads=True, write_images=True)"
      ],
      "execution_count": 0,
      "outputs": [
        {
          "output_type": "stream",
          "text": [
            "Wait for 8 seconds...\n",
            "TensorBoard link:\n",
            "https://ef1fe09b.ngrok.io\n"
          ],
          "name": "stdout"
        }
      ]
    },
    {
      "cell_type": "code",
      "metadata": {
        "id": "UtDczB92e-8u",
        "colab_type": "code",
        "outputId": "7ed3ab8d-4b8d-44ee-af62-2d0f98689301",
        "colab": {
          "base_uri": "https://localhost:8080/",
          "height": 102
        }
      },
      "source": [
        "from tensorflow.test import is_gpu_available\n",
        "from tensorflow.python.client import device_lib\n",
        "\n",
        "if not is_gpu_available():\n",
        "    raise SystemError('GPU device not found')\n",
        "\n",
        "desc = [f'path: {d.name}, {d.physical_device_desc}' for d in device_lib.list_local_devices() if d.device_type == \"GPU\"][0]\n",
        "print(\"\\n\".join(desc.split(\", \")))"
      ],
      "execution_count": 0,
      "outputs": [
        {
          "output_type": "stream",
          "text": [
            "path: /device:GPU:0\n",
            "device: 0\n",
            "name: Tesla K80\n",
            "pci bus id: 0000:00:04.0\n",
            "compute capability: 3.7\n"
          ],
          "name": "stdout"
        }
      ]
    },
    {
      "cell_type": "code",
      "metadata": {
        "id": "lBgOPKd1fAqH",
        "colab_type": "code",
        "colab": {}
      },
      "source": [
        "#dataset = input('Which dataset to use?\\n1) Labeled Faces in the Wild (default)\\n2) Aligned Face Dataset from Pinterest\\n')\n",
        "dataset = '1'\n",
        "if dataset is '2':\n",
        "    user = input('Kaggle Username: ')\n",
        "    key = getpass('Kaggle API key: ')\n",
        "\n",
        "    kaggle_json = f'{{\"username\":\"{user}\",\"key\":\"{key}\"}}'\n",
        "\n",
        "    !mkdir -p /root/.kaggle\n",
        "    with open('/root/.kaggle/kaggle.json', 'w') as f:\n",
        "        f.write(kaggle_json)\n",
        "\n",
        "    !chmod 600 /root/.kaggle/kaggle.json\n",
        "    !kaggle config set -n path -v /content/kaggle\n",
        "    !mkdir -p /content/kaggle"
      ],
      "execution_count": 0,
      "outputs": []
    },
    {
      "cell_type": "code",
      "metadata": {
        "id": "aSDhwRcvfEYq",
        "colab_type": "code",
        "outputId": "715bdc2b-d3f2-4b32-ab6a-3a45d61837c5",
        "colab": {
          "base_uri": "https://localhost:8080/",
          "height": 85
        }
      },
      "source": [
        "dataset = '1'\n",
        "if dataset is '2':\n",
        "    people = fetch_pins_people(\n",
        "        color=True,\n",
        "        min_faces_per_person=110  # Limit number of identities to ~50 (network is too large otherwise)\n",
        "    )\n",
        "    \n",
        "else:\n",
        "    people = fetch_lfw_people(\n",
        "        color=True,\n",
        "        min_faces_per_person=25\n",
        "    )\n",
        "\n",
        "\n",
        "data = preprocess(people)\n",
        "(x_train, y_train), (x_test, y_test) = data"
      ],
      "execution_count": 0,
      "outputs": [
        {
          "output_type": "stream",
          "text": [
            "Downloading LFW metadata: https://ndownloader.figshare.com/files/5976012\n",
            "Downloading LFW metadata: https://ndownloader.figshare.com/files/5976009\n",
            "Downloading LFW metadata: https://ndownloader.figshare.com/files/5976006\n",
            "Downloading LFW data (~200MB): https://ndownloader.figshare.com/files/5976015\n"
          ],
          "name": "stderr"
        }
      ]
    },
    {
      "cell_type": "code",
      "metadata": {
        "id": "PHUUm2YgfJNF",
        "colab_type": "code",
        "outputId": "3f52f0d3-75ac-4820-80e8-21be7edc88f9",
        "colab": {
          "base_uri": "https://localhost:8080/",
          "height": 204
        }
      },
      "source": [
        "metrics = {\n",
        "    \"Identities\": len(np.unique(people.target, axis=0)),\n",
        "    \"Total images\": people.target.shape[0],\n",
        "    \"Train images\": len(y_train),\n",
        "    \"Test images\": len(y_test),\n",
        "    \"Image shape\": x_train.shape[1:]\n",
        "}\n",
        "pd.DataFrame.from_dict(metrics, columns=[\"Value\"], orient='index')"
      ],
      "execution_count": 0,
      "outputs": [
        {
          "output_type": "execute_result",
          "data": {
            "text/html": [
              "<div>\n",
              "<style scoped>\n",
              "    .dataframe tbody tr th:only-of-type {\n",
              "        vertical-align: middle;\n",
              "    }\n",
              "\n",
              "    .dataframe tbody tr th {\n",
              "        vertical-align: top;\n",
              "    }\n",
              "\n",
              "    .dataframe thead th {\n",
              "        text-align: right;\n",
              "    }\n",
              "</style>\n",
              "<table border=\"1\" class=\"dataframe\">\n",
              "  <thead>\n",
              "    <tr style=\"text-align: right;\">\n",
              "      <th></th>\n",
              "      <th>Value</th>\n",
              "    </tr>\n",
              "  </thead>\n",
              "  <tbody>\n",
              "    <tr>\n",
              "      <th>Identities</th>\n",
              "      <td>42</td>\n",
              "    </tr>\n",
              "    <tr>\n",
              "      <th>Total images</th>\n",
              "      <td>2588</td>\n",
              "    </tr>\n",
              "    <tr>\n",
              "      <th>Train images</th>\n",
              "      <td>2070</td>\n",
              "    </tr>\n",
              "    <tr>\n",
              "      <th>Test images</th>\n",
              "      <td>518</td>\n",
              "    </tr>\n",
              "    <tr>\n",
              "      <th>Image shape</th>\n",
              "      <td>(32, 32, 3)</td>\n",
              "    </tr>\n",
              "  </tbody>\n",
              "</table>\n",
              "</div>"
            ],
            "text/plain": [
              "                    Value\n",
              "Identities             42\n",
              "Total images         2588\n",
              "Train images         2070\n",
              "Test images           518\n",
              "Image shape   (32, 32, 3)"
            ]
          },
          "metadata": {
            "tags": []
          },
          "execution_count": 7
        }
      ]
    },
    {
      "cell_type": "code",
      "metadata": {
        "id": "tp0QiGpAfJpa",
        "colab_type": "code",
        "outputId": "09d72687-c5c5-4d1a-a817-7ca8f1270c22",
        "colab": {
          "base_uri": "https://localhost:8080/",
          "height": 269
        }
      },
      "source": [
        "_ = plt.hist(people.target, bins=people.target_names.shape[0])"
      ],
      "execution_count": 0,
      "outputs": [
        {
          "output_type": "display_data",
          "data": {
            "image/png": "[encoded data removed]",
            "text/plain": [
              "<Figure size 432x288 with 1 Axes>"
            ]
          },
          "metadata": {
            "tags": []
          }
        }
      ]
    },
    {
      "cell_type": "code",
      "metadata": {
        "id": "z0QSKZhBfLMY",
        "colab_type": "code",
        "outputId": "02092b23-a10a-4c5b-917f-b738ac0720ff",
        "colab": {
          "base_uri": "https://localhost:8080/",
          "height": 283
        }
      },
      "source": [
        "i = randint(0, len(x_train))\n",
        "plt.imshow(x_train[i])\n",
        "plt.axis('off') \n",
        "print(\"{}: {}\".format(np.argmax(y_train[i]), people.target_names[np.argmax(y_train[i])]))"
      ],
      "execution_count": 0,
      "outputs": [
        {
          "output_type": "stream",
          "text": [
            "39: Tony Blair\n"
          ],
          "name": "stdout"
        },
        {
          "output_type": "display_data",
          "data": {
            "image/png": "[encoded data removed]",
            "text/plain": [
              "<Figure size 432x288 with 1 Axes>"
            ]
          },
          "metadata": {
            "tags": []
          }
        }
      ]
    },
    {
      "cell_type": "code",
      "metadata": {
        "id": "pFsUbog2fM29",
        "colab_type": "code",
        "outputId": "0a1b8a20-18d5-4871-93a7-f50588a642b7",
        "colab": {
          "base_uri": "https://localhost:8080/",
          "height": 649
        }
      },
      "source": [
        "model = CapsNet(\n",
        "    x_train.shape[1:],\n",
        "    len(np.unique(y_train, axis=0)),\n",
        "    routing_iters=3,\n",
        "    #kernel_initializer=initializers.random_normal(stddev=0.01, seed=0),\n",
        "    dropout_rate=.7,\n",
        "    init_conv_filters=256,\n",
        "    init_conv_kernel=9,\n",
        "    feature_caps_kernel=5,\n",
        "    feature_caps_dim=16,\n",
        "    feature_caps_channels=16,\n",
        "    prediction_caps_dim=32,\n",
        "    image_size=(32, 32)\n",
        ")\n",
        "model.summary()"
      ],
      "execution_count": 0,
      "outputs": [
        {
          "output_type": "stream",
          "text": [
            "WARNING:tensorflow:From /usr/local/lib/python3.6/dist-packages/tensorflow/python/framework/op_def_library.py:263: colocate_with (from tensorflow.python.framework.ops) is deprecated and will be removed in a future version.\n",
            "Instructions for updating:\n",
            "Colocations handled automatically by placer.\n",
            "WARNING:tensorflow:From /usr/local/lib/python3.6/dist-packages/keras/backend/tensorflow_backend.py:3445: calling dropout (from tensorflow.python.ops.nn_ops) with keep_prob is deprecated and will be removed in a future version.\n",
            "Instructions for updating:\n",
            "Please use `rate` instead of `keep_prob`. Rate should be set to `rate = 1 - keep_prob`.\n",
            "__________________________________________________________________________________________________\n",
            "Layer (type)                    Output Shape         Param #     Connected to                     \n",
            "==================================================================================================\n",
            "input_image (InputLayer)        (None, 32, 32, 3)    0                                            \n",
            "__________________________________________________________________________________________________\n",
            "encoder_conv2d (Conv2D)         (None, 24, 24, 256)  62464       input_image[0][0]                \n",
            "__________________________________________________________________________________________________\n",
            "encoder_dropout (Dropout)       (None, 24, 24, 256)  0           encoder_conv2d[0][0]             \n",
            "__________________________________________________________________________________________________\n",
            "encoder_feature_caps_conv2d (Co (None, 10, 10, 256)  1638656     encoder_dropout[0][0]            \n",
            "__________________________________________________________________________________________________\n",
            "encoder_feature_caps_reshape (R (None, 1600, 16)     0           encoder_feature_caps_conv2d[0][0]\n",
            "__________________________________________________________________________________________________\n",
            "encoder_feature_caps_squash (La (None, 1600, 16)     0           encoder_feature_caps_reshape[0][0\n",
            "__________________________________________________________________________________________________\n",
            "encoder_pred_caps (PredictionCa (None, 42, 32)       34406400    encoder_feature_caps_squash[0][0]\n",
            "__________________________________________________________________________________________________\n",
            "input_label (InputLayer)        (None, 42)           0                                            \n",
            "__________________________________________________________________________________________________\n",
            "mask (Mask)                     (None, 1344)         0           encoder_pred_caps[0][0]          \n",
            "                                                                 input_label[0][0]                \n",
            "__________________________________________________________________________________________________\n",
            "capsnet (Lambda)                (None, 42)           0           encoder_pred_caps[0][0]          \n",
            "__________________________________________________________________________________________________\n",
            "decoder (Sequential)            (None, 32, 32, 3)    540479      mask[0][0]                       \n",
            "==================================================================================================\n",
            "Total params: 36,647,999\n",
            "Trainable params: 36,647,999\n",
            "Non-trainable params: 0\n",
            "__________________________________________________________________________________________________\n"
          ],
          "name": "stdout"
        }
      ]
    },
    {
      "cell_type": "code",
      "metadata": {
        "id": "wnMc8ipkfOS_",
        "colab_type": "code",
        "outputId": "4db2aa7b-be37-42eb-b9fb-7215503d9f1d",
        "colab": {
          "base_uri": "https://localhost:8080/",
          "height": 6412
        }
      },
      "source": [
        "history = model.train(data, batch_size=10, extra_callbacks=[tensor_board_callback])"
      ],
      "execution_count": 11,
      "outputs": [
        {
          "output_type": "stream",
          "text": [
            "WARNING:tensorflow:From /usr/local/lib/python3.6/dist-packages/tensorflow/python/ops/math_ops.py:3066: to_int32 (from tensorflow.python.ops.math_ops) is deprecated and will be removed in a future version.\n",
            "Instructions for updating:\n",
            "Use tf.cast instead.\n",
            "WARNING:tensorflow:From /usr/local/lib/python3.6/dist-packages/tensorflow/python/ops/math_grad.py:102: div (from tensorflow.python.ops.math_ops) is deprecated and will be removed in a future version.\n",
            "Instructions for updating:\n",
            "Deprecated in favor of operator or tf.math.divide.\n",
            "Epoch 1/200\n",
            "207/207 [==============================] - 174s 841ms/step - loss: 0.7779 - capsnet_loss: 0.7777 - decoder_loss: 0.2424 - capsnet_acc: 0.1179 - val_loss: 0.8077 - val_capsnet_loss: 0.8076 - val_decoder_loss: 0.1147 - val_capsnet_acc: 0.0097\n",
            "\n",
            "Epoch 00001: val_capsnet_acc improved from -inf to 0.00965, saving model to model/weights.01.h5\n",
            "Epoch 2/200\n",
            "207/207 [==============================] - 169s 814ms/step - loss: 0.7726 - capsnet_loss: 0.7726 - decoder_loss: 0.0909 - capsnet_acc: 0.1203 - val_loss: 0.7760 - val_capsnet_loss: 0.7760 - val_decoder_loss: 0.0865 - val_capsnet_acc: 0.1988\n",
            "\n",
            "Epoch 00002: val_capsnet_acc improved from 0.00965 to 0.19884, saving model to model/weights.02.h5\n",
            "Epoch 3/200\n",
            "207/207 [==============================] - 168s 811ms/step - loss: 0.7269 - capsnet_loss: 0.7269 - decoder_loss: 0.0863 - capsnet_acc: 0.1990 - val_loss: 0.7284 - val_capsnet_loss: 0.7284 - val_decoder_loss: 0.0840 - val_capsnet_acc: 0.2008\n",
            "\n",
            "Epoch 00003: val_capsnet_acc improved from 0.19884 to 0.20077, saving model to model/weights.03.h5\n",
            "Epoch 4/200\n",
            "207/207 [==============================] - 168s 813ms/step - loss: 0.7029 - capsnet_loss: 0.7028 - decoder_loss: 0.0850 - capsnet_acc: 0.2068 - val_loss: 0.7184 - val_capsnet_loss: 0.7184 - val_decoder_loss: 0.0831 - val_capsnet_acc: 0.1969\n",
            "\n",
            "Epoch 00004: val_capsnet_acc did not improve from 0.20077\n",
            "Epoch 5/200\n",
            "207/207 [==============================] - 169s 817ms/step - loss: 0.6795 - capsnet_loss: 0.6794 - decoder_loss: 0.0844 - capsnet_acc: 0.2097 - val_loss: 0.6711 - val_capsnet_loss: 0.6710 - val_decoder_loss: 0.0825 - val_capsnet_acc: 0.2162\n",
            "\n",
            "Epoch 00005: val_capsnet_acc improved from 0.20077 to 0.21622, saving model to model/weights.05.h5\n",
            "Epoch 6/200\n",
            "207/207 [==============================] - 170s 822ms/step - loss: 0.6441 - capsnet_loss: 0.6441 - decoder_loss: 0.0839 - capsnet_acc: 0.2193 - val_loss: 0.6564 - val_capsnet_loss: 0.6564 - val_decoder_loss: 0.0821 - val_capsnet_acc: 0.2336\n",
            "\n",
            "Epoch 00006: val_capsnet_acc improved from 0.21622 to 0.23359, saving model to model/weights.06.h5\n",
            "Epoch 7/200\n",
            "207/207 [==============================] - 169s 814ms/step - loss: 0.6247 - capsnet_loss: 0.6247 - decoder_loss: 0.0834 - capsnet_acc: 0.2300 - val_loss: 0.6373 - val_capsnet_loss: 0.6373 - val_decoder_loss: 0.0819 - val_capsnet_acc: 0.2181\n",
            "\n",
            "Epoch 00007: val_capsnet_acc did not improve from 0.23359\n",
            "Epoch 8/200\n",
            "207/207 [==============================] - 168s 812ms/step - loss: 0.6023 - capsnet_loss: 0.6023 - decoder_loss: 0.0833 - capsnet_acc: 0.2541 - val_loss: 0.6069 - val_capsnet_loss: 0.6068 - val_decoder_loss: 0.0817 - val_capsnet_acc: 0.2741\n",
            "\n",
            "Epoch 00008: val_capsnet_acc improved from 0.23359 to 0.27413, saving model to model/weights.08.h5\n",
            "Epoch 9/200\n",
            "207/207 [==============================] - 168s 813ms/step - loss: 0.5825 - capsnet_loss: 0.5825 - decoder_loss: 0.0831 - capsnet_acc: 0.2676 - val_loss: 0.5938 - val_capsnet_loss: 0.5938 - val_decoder_loss: 0.0816 - val_capsnet_acc: 0.2606\n",
            "\n",
            "Epoch 00009: val_capsnet_acc did not improve from 0.27413\n",
            "Epoch 10/200\n",
            "207/207 [==============================] - 169s 816ms/step - loss: 0.5664 - capsnet_loss: 0.5664 - decoder_loss: 0.0828 - capsnet_acc: 0.2763 - val_loss: 0.5704 - val_capsnet_loss: 0.5703 - val_decoder_loss: 0.0814 - val_capsnet_acc: 0.2741\n",
            "\n",
            "Epoch 00010: val_capsnet_acc did not improve from 0.27413\n",
            "Epoch 11/200\n",
            "207/207 [==============================] - 169s 815ms/step - loss: 0.5493 - capsnet_loss: 0.5493 - decoder_loss: 0.0827 - capsnet_acc: 0.3034 - val_loss: 0.6036 - val_capsnet_loss: 0.6036 - val_decoder_loss: 0.0813 - val_capsnet_acc: 0.1969\n",
            "\n",
            "Epoch 00011: val_capsnet_acc did not improve from 0.27413\n",
            "Epoch 12/200\n",
            "207/207 [==============================] - 168s 814ms/step - loss: 0.5280 - capsnet_loss: 0.5280 - decoder_loss: 0.0822 - capsnet_acc: 0.3242 - val_loss: 0.5431 - val_capsnet_loss: 0.5431 - val_decoder_loss: 0.0812 - val_capsnet_acc: 0.2973\n",
            "\n",
            "Epoch 00012: val_capsnet_acc improved from 0.27413 to 0.29730, saving model to model/weights.12.h5\n",
            "Epoch 13/200\n",
            "207/207 [==============================] - 169s 816ms/step - loss: 0.5288 - capsnet_loss: 0.5288 - decoder_loss: 0.0823 - capsnet_acc: 0.3145 - val_loss: 0.5242 - val_capsnet_loss: 0.5242 - val_decoder_loss: 0.0810 - val_capsnet_acc: 0.3108\n",
            "\n",
            "Epoch 00013: val_capsnet_acc improved from 0.29730 to 0.31081, saving model to model/weights.13.h5\n",
            "Epoch 14/200\n",
            "207/207 [==============================] - 168s 813ms/step - loss: 0.5157 - capsnet_loss: 0.5157 - decoder_loss: 0.0821 - capsnet_acc: 0.3251 - val_loss: 0.4939 - val_capsnet_loss: 0.4939 - val_decoder_loss: 0.0809 - val_capsnet_acc: 0.3282\n",
            "\n",
            "Epoch 00014: val_capsnet_acc improved from 0.31081 to 0.32819, saving model to model/weights.14.h5\n",
            "Epoch 15/200\n",
            "207/207 [==============================] - 168s 812ms/step - loss: 0.5027 - capsnet_loss: 0.5026 - decoder_loss: 0.0819 - capsnet_acc: 0.3396 - val_loss: 0.5024 - val_capsnet_loss: 0.5023 - val_decoder_loss: 0.0808 - val_capsnet_acc: 0.3185\n",
            "\n",
            "Epoch 00015: val_capsnet_acc did not improve from 0.32819\n",
            "Epoch 16/200\n",
            "207/207 [==============================] - 169s 818ms/step - loss: 0.4944 - capsnet_loss: 0.4944 - decoder_loss: 0.0819 - capsnet_acc: 0.3464 - val_loss: 0.5188 - val_capsnet_loss: 0.5187 - val_decoder_loss: 0.0808 - val_capsnet_acc: 0.2838\n",
            "\n",
            "Epoch 00016: val_capsnet_acc did not improve from 0.32819\n",
            "Epoch 17/200\n",
            "207/207 [==============================] - 168s 811ms/step - loss: 0.4844 - capsnet_loss: 0.4843 - decoder_loss: 0.0817 - capsnet_acc: 0.3594 - val_loss: 0.4791 - val_capsnet_loss: 0.4791 - val_decoder_loss: 0.0807 - val_capsnet_acc: 0.3571\n",
            "\n",
            "Epoch 00017: val_capsnet_acc improved from 0.32819 to 0.35714, saving model to model/weights.17.h5\n",
            "Epoch 18/200\n",
            "207/207 [==============================] - 170s 820ms/step - loss: 0.4747 - capsnet_loss: 0.4746 - decoder_loss: 0.0814 - capsnet_acc: 0.3797 - val_loss: 0.4972 - val_capsnet_loss: 0.4972 - val_decoder_loss: 0.0807 - val_capsnet_acc: 0.3263\n",
            "\n",
            "Epoch 00018: val_capsnet_acc did not improve from 0.35714\n",
            "Epoch 19/200\n",
            "207/207 [==============================] - 169s 815ms/step - loss: 0.4731 - capsnet_loss: 0.4731 - decoder_loss: 0.0814 - capsnet_acc: 0.3710 - val_loss: 0.4696 - val_capsnet_loss: 0.4696 - val_decoder_loss: 0.0806 - val_capsnet_acc: 0.3668\n",
            "\n",
            "Epoch 00019: val_capsnet_acc improved from 0.35714 to 0.36680, saving model to model/weights.19.h5\n",
            "Epoch 20/200\n",
            "207/207 [==============================] - 168s 810ms/step - loss: 0.4620 - capsnet_loss: 0.4619 - decoder_loss: 0.0816 - capsnet_acc: 0.3870 - val_loss: 0.4600 - val_capsnet_loss: 0.4599 - val_decoder_loss: 0.0805 - val_capsnet_acc: 0.3938\n",
            "\n",
            "Epoch 00020: val_capsnet_acc improved from 0.36680 to 0.39382, saving model to model/weights.20.h5\n",
            "Epoch 21/200\n",
            "207/207 [==============================] - 164s 795ms/step - loss: 0.4533 - capsnet_loss: 0.4532 - decoder_loss: 0.0812 - capsnet_acc: 0.4014 - val_loss: 0.4692 - val_capsnet_loss: 0.4692 - val_decoder_loss: 0.0805 - val_capsnet_acc: 0.3745\n",
            "\n",
            "Epoch 00021: val_capsnet_acc did not improve from 0.39382\n",
            "Epoch 22/200\n",
            "207/207 [==============================] - 163s 789ms/step - loss: 0.4475 - capsnet_loss: 0.4474 - decoder_loss: 0.0814 - capsnet_acc: 0.4111 - val_loss: 0.4501 - val_capsnet_loss: 0.4500 - val_decoder_loss: 0.0804 - val_capsnet_acc: 0.3919\n",
            "\n",
            "Epoch 00022: val_capsnet_acc did not improve from 0.39382\n",
            "Epoch 23/200\n",
            "207/207 [==============================] - 164s 792ms/step - loss: 0.4429 - capsnet_loss: 0.4429 - decoder_loss: 0.0815 - capsnet_acc: 0.4039 - val_loss: 0.4453 - val_capsnet_loss: 0.4453 - val_decoder_loss: 0.0804 - val_capsnet_acc: 0.4035\n",
            "\n",
            "Epoch 00023: val_capsnet_acc improved from 0.39382 to 0.40347, saving model to model/weights.23.h5\n",
            "Epoch 24/200\n",
            "207/207 [==============================] - 164s 792ms/step - loss: 0.4352 - capsnet_loss: 0.4351 - decoder_loss: 0.0814 - capsnet_acc: 0.4251 - val_loss: 0.4405 - val_capsnet_loss: 0.4404 - val_decoder_loss: 0.0803 - val_capsnet_acc: 0.4151\n",
            "\n",
            "Epoch 00024: val_capsnet_acc improved from 0.40347 to 0.41506, saving model to model/weights.24.h5\n",
            "Epoch 25/200\n",
            "207/207 [==============================] - 163s 790ms/step - loss: 0.4369 - capsnet_loss: 0.4368 - decoder_loss: 0.0813 - capsnet_acc: 0.4217 - val_loss: 0.4442 - val_capsnet_loss: 0.4442 - val_decoder_loss: 0.0803 - val_capsnet_acc: 0.4112\n",
            "\n",
            "Epoch 00025: val_capsnet_acc did not improve from 0.41506\n",
            "Epoch 26/200\n",
            "207/207 [==============================] - 164s 790ms/step - loss: 0.4318 - capsnet_loss: 0.4318 - decoder_loss: 0.0814 - capsnet_acc: 0.4391 - val_loss: 0.4367 - val_capsnet_loss: 0.4367 - val_decoder_loss: 0.0803 - val_capsnet_acc: 0.4208\n",
            "\n",
            "Epoch 00026: val_capsnet_acc improved from 0.41506 to 0.42085, saving model to model/weights.26.h5\n",
            "Epoch 27/200\n",
            "207/207 [==============================] - 164s 790ms/step - loss: 0.4228 - capsnet_loss: 0.4227 - decoder_loss: 0.0812 - capsnet_acc: 0.4473 - val_loss: 0.4182 - val_capsnet_loss: 0.4182 - val_decoder_loss: 0.0802 - val_capsnet_acc: 0.4479\n",
            "\n",
            "Epoch 00027: val_capsnet_acc improved from 0.42085 to 0.44788, saving model to model/weights.27.h5\n",
            "Epoch 28/200\n",
            "207/207 [==============================] - 164s 792ms/step - loss: 0.4201 - capsnet_loss: 0.4201 - decoder_loss: 0.0810 - capsnet_acc: 0.4469 - val_loss: 0.4241 - val_capsnet_loss: 0.4240 - val_decoder_loss: 0.0803 - val_capsnet_acc: 0.4402\n",
            "\n",
            "Epoch 00028: val_capsnet_acc did not improve from 0.44788\n",
            "Epoch 29/200\n",
            "207/207 [==============================] - 164s 790ms/step - loss: 0.4172 - capsnet_loss: 0.4172 - decoder_loss: 0.0813 - capsnet_acc: 0.4449 - val_loss: 0.4160 - val_capsnet_loss: 0.4160 - val_decoder_loss: 0.0802 - val_capsnet_acc: 0.4537\n",
            "\n",
            "Epoch 00029: val_capsnet_acc improved from 0.44788 to 0.45367, saving model to model/weights.29.h5\n",
            "Epoch 30/200\n",
            "207/207 [==============================] - 168s 811ms/step - loss: 0.4109 - capsnet_loss: 0.4109 - decoder_loss: 0.0810 - capsnet_acc: 0.4604 - val_loss: 0.4218 - val_capsnet_loss: 0.4217 - val_decoder_loss: 0.0802 - val_capsnet_acc: 0.4344\n",
            "\n",
            "Epoch 00030: val_capsnet_acc did not improve from 0.45367\n",
            "Epoch 31/200\n",
            "207/207 [==============================] - 168s 810ms/step - loss: 0.4131 - capsnet_loss: 0.4130 - decoder_loss: 0.0810 - capsnet_acc: 0.4522 - val_loss: 0.4151 - val_capsnet_loss: 0.4151 - val_decoder_loss: 0.0802 - val_capsnet_acc: 0.4556\n",
            "\n",
            "Epoch 00031: val_capsnet_acc improved from 0.45367 to 0.45560, saving model to model/weights.31.h5\n",
            "Epoch 32/200\n",
            "207/207 [==============================] - 167s 806ms/step - loss: 0.4115 - capsnet_loss: 0.4115 - decoder_loss: 0.0809 - capsnet_acc: 0.4580 - val_loss: 0.4101 - val_capsnet_loss: 0.4101 - val_decoder_loss: 0.0802 - val_capsnet_acc: 0.4653\n",
            "\n",
            "Epoch 00032: val_capsnet_acc improved from 0.45560 to 0.46525, saving model to model/weights.32.h5\n",
            "Epoch 33/200\n",
            "207/207 [==============================] - 168s 811ms/step - loss: 0.4135 - capsnet_loss: 0.4135 - decoder_loss: 0.0812 - capsnet_acc: 0.4633 - val_loss: 0.4071 - val_capsnet_loss: 0.4071 - val_decoder_loss: 0.0802 - val_capsnet_acc: 0.4691\n",
            "\n",
            "Epoch 00033: val_capsnet_acc improved from 0.46525 to 0.46911, saving model to model/weights.33.h5\n",
            "Epoch 34/200\n",
            "207/207 [==============================] - 168s 810ms/step - loss: 0.4048 - capsnet_loss: 0.4048 - decoder_loss: 0.0811 - capsnet_acc: 0.4778 - val_loss: 0.4172 - val_capsnet_loss: 0.4172 - val_decoder_loss: 0.0802 - val_capsnet_acc: 0.4517\n",
            "\n",
            "Epoch 00034: val_capsnet_acc did not improve from 0.46911\n",
            "Epoch 35/200\n",
            "207/207 [==============================] - 167s 809ms/step - loss: 0.4036 - capsnet_loss: 0.4035 - decoder_loss: 0.0810 - capsnet_acc: 0.4647 - val_loss: 0.4101 - val_capsnet_loss: 0.4101 - val_decoder_loss: 0.0802 - val_capsnet_acc: 0.4672\n",
            "\n",
            "Epoch 00035: val_capsnet_acc did not improve from 0.46911\n",
            "Epoch 36/200\n",
            "207/207 [==============================] - 168s 812ms/step - loss: 0.4031 - capsnet_loss: 0.4031 - decoder_loss: 0.0811 - capsnet_acc: 0.4749 - val_loss: 0.4051 - val_capsnet_loss: 0.4051 - val_decoder_loss: 0.0801 - val_capsnet_acc: 0.4730\n",
            "\n",
            "Epoch 00036: val_capsnet_acc improved from 0.46911 to 0.47297, saving model to model/weights.36.h5\n",
            "Epoch 37/200\n",
            "207/207 [==============================] - 167s 807ms/step - loss: 0.4044 - capsnet_loss: 0.4044 - decoder_loss: 0.0809 - capsnet_acc: 0.4710 - val_loss: 0.4069 - val_capsnet_loss: 0.4068 - val_decoder_loss: 0.0801 - val_capsnet_acc: 0.4653\n",
            "\n",
            "Epoch 00037: val_capsnet_acc did not improve from 0.47297\n",
            "Epoch 38/200\n",
            "207/207 [==============================] - 167s 805ms/step - loss: 0.3980 - capsnet_loss: 0.3980 - decoder_loss: 0.0810 - capsnet_acc: 0.4744 - val_loss: 0.3984 - val_capsnet_loss: 0.3983 - val_decoder_loss: 0.0801 - val_capsnet_acc: 0.4788\n",
            "\n",
            "Epoch 00038: val_capsnet_acc improved from 0.47297 to 0.47876, saving model to model/weights.38.h5\n",
            "Epoch 39/200\n",
            "207/207 [==============================] - 168s 810ms/step - loss: 0.3990 - capsnet_loss: 0.3990 - decoder_loss: 0.0809 - capsnet_acc: 0.4870 - val_loss: 0.3971 - val_capsnet_loss: 0.3970 - val_decoder_loss: 0.0801 - val_capsnet_acc: 0.4768\n",
            "\n",
            "Epoch 00039: val_capsnet_acc did not improve from 0.47876\n",
            "Epoch 40/200\n",
            "207/207 [==============================] - 167s 807ms/step - loss: 0.3970 - capsnet_loss: 0.3970 - decoder_loss: 0.0809 - capsnet_acc: 0.4816 - val_loss: 0.4037 - val_capsnet_loss: 0.4037 - val_decoder_loss: 0.0801 - val_capsnet_acc: 0.4653\n",
            "\n",
            "Epoch 00040: val_capsnet_acc did not improve from 0.47876\n",
            "Epoch 41/200\n",
            "207/207 [==============================] - 167s 807ms/step - loss: 0.4008 - capsnet_loss: 0.4008 - decoder_loss: 0.0811 - capsnet_acc: 0.4768 - val_loss: 0.3984 - val_capsnet_loss: 0.3984 - val_decoder_loss: 0.0801 - val_capsnet_acc: 0.4826\n",
            "\n",
            "Epoch 00041: val_capsnet_acc improved from 0.47876 to 0.48263, saving model to model/weights.41.h5\n",
            "Epoch 42/200\n",
            "207/207 [==============================] - 167s 805ms/step - loss: 0.3987 - capsnet_loss: 0.3987 - decoder_loss: 0.0808 - capsnet_acc: 0.4773 - val_loss: 0.4096 - val_capsnet_loss: 0.4095 - val_decoder_loss: 0.0801 - val_capsnet_acc: 0.4672\n",
            "\n",
            "Epoch 00042: val_capsnet_acc did not improve from 0.48263\n",
            "Epoch 43/200\n",
            "207/207 [==============================] - 167s 807ms/step - loss: 0.3934 - capsnet_loss: 0.3934 - decoder_loss: 0.0806 - capsnet_acc: 0.4903 - val_loss: 0.4093 - val_capsnet_loss: 0.4092 - val_decoder_loss: 0.0801 - val_capsnet_acc: 0.4633\n",
            "\n",
            "Epoch 00043: val_capsnet_acc did not improve from 0.48263\n",
            "Epoch 44/200\n",
            "207/207 [==============================] - 167s 808ms/step - loss: 0.3978 - capsnet_loss: 0.3978 - decoder_loss: 0.0808 - capsnet_acc: 0.4744 - val_loss: 0.4004 - val_capsnet_loss: 0.4003 - val_decoder_loss: 0.0801 - val_capsnet_acc: 0.4749\n",
            "\n",
            "Epoch 00044: val_capsnet_acc did not improve from 0.48263\n",
            "Epoch 45/200\n",
            "207/207 [==============================] - 167s 808ms/step - loss: 0.3955 - capsnet_loss: 0.3955 - decoder_loss: 0.0810 - capsnet_acc: 0.4845 - val_loss: 0.4033 - val_capsnet_loss: 0.4033 - val_decoder_loss: 0.0801 - val_capsnet_acc: 0.4749\n",
            "\n",
            "Epoch 00045: val_capsnet_acc did not improve from 0.48263\n",
            "Epoch 46/200\n",
            "207/207 [==============================] - 167s 809ms/step - loss: 0.3897 - capsnet_loss: 0.3897 - decoder_loss: 0.0808 - capsnet_acc: 0.4966 - val_loss: 0.4019 - val_capsnet_loss: 0.4019 - val_decoder_loss: 0.0801 - val_capsnet_acc: 0.4749\n",
            "\n",
            "Epoch 00046: val_capsnet_acc did not improve from 0.48263\n",
            "Epoch 47/200\n",
            "207/207 [==============================] - 167s 806ms/step - loss: 0.3953 - capsnet_loss: 0.3953 - decoder_loss: 0.0808 - capsnet_acc: 0.4749 - val_loss: 0.3959 - val_capsnet_loss: 0.3958 - val_decoder_loss: 0.0801 - val_capsnet_acc: 0.4807\n",
            "\n",
            "Epoch 00047: val_capsnet_acc did not improve from 0.48263\n",
            "Epoch 48/200\n",
            "207/207 [==============================] - 168s 813ms/step - loss: 0.3882 - capsnet_loss: 0.3881 - decoder_loss: 0.0810 - capsnet_acc: 0.5010 - val_loss: 0.3979 - val_capsnet_loss: 0.3979 - val_decoder_loss: 0.0801 - val_capsnet_acc: 0.4691\n",
            "\n",
            "Epoch 00048: val_capsnet_acc did not improve from 0.48263\n",
            "Epoch 49/200\n",
            "207/207 [==============================] - 167s 809ms/step - loss: 0.3933 - capsnet_loss: 0.3932 - decoder_loss: 0.0810 - capsnet_acc: 0.4778 - val_loss: 0.3957 - val_capsnet_loss: 0.3957 - val_decoder_loss: 0.0801 - val_capsnet_acc: 0.4768\n",
            "\n",
            "Epoch 00049: val_capsnet_acc did not improve from 0.48263\n",
            "Epoch 50/200\n",
            "207/207 [==============================] - 167s 807ms/step - loss: 0.3925 - capsnet_loss: 0.3924 - decoder_loss: 0.0809 - capsnet_acc: 0.4874 - val_loss: 0.3938 - val_capsnet_loss: 0.3938 - val_decoder_loss: 0.0801 - val_capsnet_acc: 0.4730\n",
            "\n",
            "Epoch 00050: val_capsnet_acc did not improve from 0.48263\n",
            "Epoch 51/200\n",
            "207/207 [==============================] - 167s 804ms/step - loss: 0.3938 - capsnet_loss: 0.3938 - decoder_loss: 0.0809 - capsnet_acc: 0.4763 - val_loss: 0.3917 - val_capsnet_loss: 0.3916 - val_decoder_loss: 0.0801 - val_capsnet_acc: 0.4846\n",
            "\n",
            "Epoch 00051: val_capsnet_acc improved from 0.48263 to 0.48456, saving model to model/weights.51.h5\n",
            "Epoch 52/200\n",
            "207/207 [==============================] - 168s 810ms/step - loss: 0.3897 - capsnet_loss: 0.3897 - decoder_loss: 0.0806 - capsnet_acc: 0.4928 - val_loss: 0.3922 - val_capsnet_loss: 0.3921 - val_decoder_loss: 0.0801 - val_capsnet_acc: 0.4865\n",
            "\n",
            "Epoch 00052: val_capsnet_acc improved from 0.48456 to 0.48649, saving model to model/weights.52.h5\n",
            "Epoch 53/200\n",
            "207/207 [==============================] - 167s 807ms/step - loss: 0.3887 - capsnet_loss: 0.3886 - decoder_loss: 0.0811 - capsnet_acc: 0.5000 - val_loss: 0.3945 - val_capsnet_loss: 0.3945 - val_decoder_loss: 0.0801 - val_capsnet_acc: 0.4826\n",
            "\n",
            "Epoch 00053: val_capsnet_acc did not improve from 0.48649\n",
            "Epoch 54/200\n",
            "207/207 [==============================] - 167s 809ms/step - loss: 0.3891 - capsnet_loss: 0.3890 - decoder_loss: 0.0808 - capsnet_acc: 0.4932 - val_loss: 0.3968 - val_capsnet_loss: 0.3967 - val_decoder_loss: 0.0801 - val_capsnet_acc: 0.4788\n",
            "\n",
            "Epoch 00054: val_capsnet_acc did not improve from 0.48649\n",
            "Epoch 55/200\n",
            "207/207 [==============================] - 168s 809ms/step - loss: 0.3913 - capsnet_loss: 0.3913 - decoder_loss: 0.0809 - capsnet_acc: 0.4918 - val_loss: 0.3916 - val_capsnet_loss: 0.3915 - val_decoder_loss: 0.0801 - val_capsnet_acc: 0.4788\n",
            "\n",
            "Epoch 00055: val_capsnet_acc did not improve from 0.48649\n",
            "Epoch 56/200\n",
            "207/207 [==============================] - 167s 807ms/step - loss: 0.3860 - capsnet_loss: 0.3860 - decoder_loss: 0.0810 - capsnet_acc: 0.4918 - val_loss: 0.3945 - val_capsnet_loss: 0.3945 - val_decoder_loss: 0.0801 - val_capsnet_acc: 0.4826\n",
            "\n",
            "Epoch 00056: val_capsnet_acc did not improve from 0.48649\n",
            "Epoch 57/200\n",
            "207/207 [==============================] - 168s 809ms/step - loss: 0.3892 - capsnet_loss: 0.3891 - decoder_loss: 0.0809 - capsnet_acc: 0.4845 - val_loss: 0.3923 - val_capsnet_loss: 0.3923 - val_decoder_loss: 0.0801 - val_capsnet_acc: 0.4826\n",
            "\n",
            "Epoch 00057: val_capsnet_acc did not improve from 0.48649\n",
            "Epoch 58/200\n",
            "207/207 [==============================] - 167s 808ms/step - loss: 0.3860 - capsnet_loss: 0.3860 - decoder_loss: 0.0808 - capsnet_acc: 0.4995 - val_loss: 0.3926 - val_capsnet_loss: 0.3926 - val_decoder_loss: 0.0801 - val_capsnet_acc: 0.4865\n",
            "\n",
            "Epoch 00058: val_capsnet_acc did not improve from 0.48649\n",
            "Epoch 59/200\n",
            "207/207 [==============================] - 167s 807ms/step - loss: 0.3908 - capsnet_loss: 0.3907 - decoder_loss: 0.0809 - capsnet_acc: 0.4942 - val_loss: 0.3928 - val_capsnet_loss: 0.3928 - val_decoder_loss: 0.0801 - val_capsnet_acc: 0.4865\n",
            "\n",
            "Epoch 00059: val_capsnet_acc did not improve from 0.48649\n",
            "Epoch 60/200\n",
            "207/207 [==============================] - 167s 807ms/step - loss: 0.3952 - capsnet_loss: 0.3952 - decoder_loss: 0.0807 - capsnet_acc: 0.4855 - val_loss: 0.3925 - val_capsnet_loss: 0.3925 - val_decoder_loss: 0.0801 - val_capsnet_acc: 0.4865\n",
            "\n",
            "Epoch 00060: val_capsnet_acc did not improve from 0.48649\n",
            "Epoch 61/200\n",
            "207/207 [==============================] - 168s 811ms/step - loss: 0.3868 - capsnet_loss: 0.3867 - decoder_loss: 0.0808 - capsnet_acc: 0.5005 - val_loss: 0.3926 - val_capsnet_loss: 0.3925 - val_decoder_loss: 0.0801 - val_capsnet_acc: 0.4826\n",
            "\n",
            "Epoch 00061: val_capsnet_acc did not improve from 0.48649\n",
            "Epoch 62/200\n",
            "207/207 [==============================] - 166s 803ms/step - loss: 0.3926 - capsnet_loss: 0.3925 - decoder_loss: 0.0809 - capsnet_acc: 0.4826 - val_loss: 0.3954 - val_capsnet_loss: 0.3953 - val_decoder_loss: 0.0801 - val_capsnet_acc: 0.4807\n",
            "\n",
            "Epoch 00062: val_capsnet_acc did not improve from 0.48649\n",
            "Epoch 63/200\n",
            "207/207 [==============================] - 167s 809ms/step - loss: 0.3882 - capsnet_loss: 0.3881 - decoder_loss: 0.0808 - capsnet_acc: 0.4884 - val_loss: 0.3939 - val_capsnet_loss: 0.3939 - val_decoder_loss: 0.0801 - val_capsnet_acc: 0.4807\n",
            "\n",
            "Epoch 00063: val_capsnet_acc did not improve from 0.48649\n",
            "Epoch 64/200\n",
            "207/207 [==============================] - 167s 806ms/step - loss: 0.3867 - capsnet_loss: 0.3867 - decoder_loss: 0.0809 - capsnet_acc: 0.5024 - val_loss: 0.3925 - val_capsnet_loss: 0.3925 - val_decoder_loss: 0.0801 - val_capsnet_acc: 0.4846\n",
            "\n",
            "Epoch 00064: val_capsnet_acc did not improve from 0.48649\n",
            "Epoch 65/200\n",
            "207/207 [==============================] - 168s 809ms/step - loss: 0.3849 - capsnet_loss: 0.3849 - decoder_loss: 0.0810 - capsnet_acc: 0.5043 - val_loss: 0.3922 - val_capsnet_loss: 0.3922 - val_decoder_loss: 0.0801 - val_capsnet_acc: 0.4865\n",
            "\n",
            "Epoch 00065: val_capsnet_acc did not improve from 0.48649\n",
            "Epoch 66/200\n",
            "207/207 [==============================] - 167s 809ms/step - loss: 0.3837 - capsnet_loss: 0.3837 - decoder_loss: 0.0807 - capsnet_acc: 0.5072 - val_loss: 0.3918 - val_capsnet_loss: 0.3917 - val_decoder_loss: 0.0801 - val_capsnet_acc: 0.4865\n",
            "\n",
            "Epoch 00066: val_capsnet_acc did not improve from 0.48649\n",
            "Epoch 67/200\n",
            "207/207 [==============================] - 168s 809ms/step - loss: 0.3867 - capsnet_loss: 0.3867 - decoder_loss: 0.0809 - capsnet_acc: 0.4976 - val_loss: 0.3914 - val_capsnet_loss: 0.3914 - val_decoder_loss: 0.0801 - val_capsnet_acc: 0.4865\n",
            "\n",
            "Epoch 00067: val_capsnet_acc did not improve from 0.48649\n",
            "Epoch 68/200\n",
            "207/207 [==============================] - 167s 809ms/step - loss: 0.3899 - capsnet_loss: 0.3899 - decoder_loss: 0.0808 - capsnet_acc: 0.4855 - val_loss: 0.3917 - val_capsnet_loss: 0.3917 - val_decoder_loss: 0.0801 - val_capsnet_acc: 0.4865\n",
            "\n",
            "Epoch 00068: val_capsnet_acc did not improve from 0.48649\n",
            "Epoch 69/200\n",
            "207/207 [==============================] - 167s 808ms/step - loss: 0.3882 - capsnet_loss: 0.3881 - decoder_loss: 0.0808 - capsnet_acc: 0.4986 - val_loss: 0.3919 - val_capsnet_loss: 0.3918 - val_decoder_loss: 0.0801 - val_capsnet_acc: 0.4846\n",
            "\n",
            "Epoch 00069: val_capsnet_acc did not improve from 0.48649\n",
            "Epoch 70/200\n",
            "207/207 [==============================] - 167s 808ms/step - loss: 0.3887 - capsnet_loss: 0.3887 - decoder_loss: 0.0808 - capsnet_acc: 0.4971 - val_loss: 0.3925 - val_capsnet_loss: 0.3924 - val_decoder_loss: 0.0801 - val_capsnet_acc: 0.4865\n",
            "\n",
            "Epoch 00070: val_capsnet_acc did not improve from 0.48649\n",
            "Epoch 71/200\n",
            "207/207 [==============================] - 167s 807ms/step - loss: 0.3849 - capsnet_loss: 0.3849 - decoder_loss: 0.0808 - capsnet_acc: 0.4932 - val_loss: 0.3919 - val_capsnet_loss: 0.3919 - val_decoder_loss: 0.0801 - val_capsnet_acc: 0.4865\n",
            "\n",
            "Epoch 00071: val_capsnet_acc did not improve from 0.48649\n",
            "Epoch 72/200\n",
            "207/207 [==============================] - 167s 807ms/step - loss: 0.3899 - capsnet_loss: 0.3898 - decoder_loss: 0.0809 - capsnet_acc: 0.4894 - val_loss: 0.3909 - val_capsnet_loss: 0.3909 - val_decoder_loss: 0.0801 - val_capsnet_acc: 0.4865\n",
            "\n",
            "Epoch 00072: val_capsnet_acc did not improve from 0.48649\n",
            "Epoch 73/200\n",
            "207/207 [==============================] - 168s 811ms/step - loss: 0.3879 - capsnet_loss: 0.3878 - decoder_loss: 0.0807 - capsnet_acc: 0.4918 - val_loss: 0.3917 - val_capsnet_loss: 0.3917 - val_decoder_loss: 0.0801 - val_capsnet_acc: 0.4865\n",
            "\n",
            "Epoch 00073: val_capsnet_acc did not improve from 0.48649\n",
            "Epoch 74/200\n",
            "207/207 [==============================] - 167s 807ms/step - loss: 0.3853 - capsnet_loss: 0.3852 - decoder_loss: 0.0809 - capsnet_acc: 0.5010 - val_loss: 0.3916 - val_capsnet_loss: 0.3916 - val_decoder_loss: 0.0801 - val_capsnet_acc: 0.4865\n",
            "\n",
            "Epoch 00074: val_capsnet_acc did not improve from 0.48649\n",
            "Epoch 75/200\n",
            "207/207 [==============================] - 167s 807ms/step - loss: 0.3877 - capsnet_loss: 0.3876 - decoder_loss: 0.0807 - capsnet_acc: 0.4947 - val_loss: 0.3914 - val_capsnet_loss: 0.3914 - val_decoder_loss: 0.0801 - val_capsnet_acc: 0.4865\n",
            "\n",
            "Epoch 00075: val_capsnet_acc did not improve from 0.48649\n",
            "Epoch 76/200\n",
            "207/207 [==============================] - 168s 813ms/step - loss: 0.3911 - capsnet_loss: 0.3910 - decoder_loss: 0.0809 - capsnet_acc: 0.4932 - val_loss: 0.3916 - val_capsnet_loss: 0.3915 - val_decoder_loss: 0.0801 - val_capsnet_acc: 0.4865\n",
            "\n",
            "Epoch 00076: val_capsnet_acc did not improve from 0.48649\n",
            "Epoch 77/200\n",
            "207/207 [==============================] - 167s 806ms/step - loss: 0.3890 - capsnet_loss: 0.3890 - decoder_loss: 0.0809 - capsnet_acc: 0.4990 - val_loss: 0.3918 - val_capsnet_loss: 0.3917 - val_decoder_loss: 0.0801 - val_capsnet_acc: 0.4865\n",
            "\n",
            "Epoch 00077: val_capsnet_acc did not improve from 0.48649\n",
            "Epoch 78/200\n",
            "207/207 [==============================] - 168s 810ms/step - loss: 0.3872 - capsnet_loss: 0.3872 - decoder_loss: 0.0808 - capsnet_acc: 0.4981 - val_loss: 0.3922 - val_capsnet_loss: 0.3922 - val_decoder_loss: 0.0801 - val_capsnet_acc: 0.4865\n",
            "\n",
            "Epoch 00078: val_capsnet_acc did not improve from 0.48649\n",
            "Epoch 79/200\n",
            "207/207 [==============================] - 168s 809ms/step - loss: 0.3943 - capsnet_loss: 0.3943 - decoder_loss: 0.0807 - capsnet_acc: 0.4739 - val_loss: 0.3922 - val_capsnet_loss: 0.3922 - val_decoder_loss: 0.0801 - val_capsnet_acc: 0.4865\n",
            "\n",
            "Epoch 00079: val_capsnet_acc did not improve from 0.48649\n",
            "Epoch 80/200\n",
            "207/207 [==============================] - 168s 810ms/step - loss: 0.3878 - capsnet_loss: 0.3878 - decoder_loss: 0.0809 - capsnet_acc: 0.4850 - val_loss: 0.3920 - val_capsnet_loss: 0.3920 - val_decoder_loss: 0.0801 - val_capsnet_acc: 0.4865\n",
            "\n",
            "Epoch 00080: val_capsnet_acc did not improve from 0.48649\n",
            "Epoch 81/200\n",
            "207/207 [==============================] - 168s 811ms/step - loss: 0.3835 - capsnet_loss: 0.3835 - decoder_loss: 0.0810 - capsnet_acc: 0.5043 - val_loss: 0.3916 - val_capsnet_loss: 0.3916 - val_decoder_loss: 0.0801 - val_capsnet_acc: 0.4865\n",
            "\n",
            "Epoch 00081: val_capsnet_acc did not improve from 0.48649\n",
            "Epoch 82/200\n",
            "207/207 [==============================] - 167s 809ms/step - loss: 0.3863 - capsnet_loss: 0.3862 - decoder_loss: 0.0808 - capsnet_acc: 0.5029 - val_loss: 0.3917 - val_capsnet_loss: 0.3917 - val_decoder_loss: 0.0801 - val_capsnet_acc: 0.4865\n",
            "\n",
            "Epoch 00082: val_capsnet_acc did not improve from 0.48649\n",
            "Epoch 83/200\n",
            "207/207 [==============================] - 168s 811ms/step - loss: 0.3849 - capsnet_loss: 0.3848 - decoder_loss: 0.0807 - capsnet_acc: 0.5048 - val_loss: 0.3920 - val_capsnet_loss: 0.3919 - val_decoder_loss: 0.0801 - val_capsnet_acc: 0.4865\n",
            "\n",
            "Epoch 00083: val_capsnet_acc did not improve from 0.48649\n",
            "Epoch 84/200\n",
            "207/207 [==============================] - 167s 809ms/step - loss: 0.3863 - capsnet_loss: 0.3863 - decoder_loss: 0.0809 - capsnet_acc: 0.4957 - val_loss: 0.3920 - val_capsnet_loss: 0.3919 - val_decoder_loss: 0.0801 - val_capsnet_acc: 0.4865\n",
            "\n",
            "Epoch 00084: val_capsnet_acc did not improve from 0.48649\n",
            "Epoch 85/200\n",
            "207/207 [==============================] - 167s 808ms/step - loss: 0.3856 - capsnet_loss: 0.3856 - decoder_loss: 0.0809 - capsnet_acc: 0.4986 - val_loss: 0.3919 - val_capsnet_loss: 0.3919 - val_decoder_loss: 0.0801 - val_capsnet_acc: 0.4865\n",
            "\n",
            "Epoch 00085: val_capsnet_acc did not improve from 0.48649\n",
            "Epoch 86/200\n",
            "207/207 [==============================] - 168s 811ms/step - loss: 0.3882 - capsnet_loss: 0.3882 - decoder_loss: 0.0807 - capsnet_acc: 0.5019 - val_loss: 0.3919 - val_capsnet_loss: 0.3919 - val_decoder_loss: 0.0801 - val_capsnet_acc: 0.4865\n",
            "\n",
            "Epoch 00086: val_capsnet_acc did not improve from 0.48649\n",
            "Epoch 87/200\n",
            "207/207 [==============================] - 168s 813ms/step - loss: 0.3825 - capsnet_loss: 0.3824 - decoder_loss: 0.0808 - capsnet_acc: 0.5024 - val_loss: 0.3919 - val_capsnet_loss: 0.3918 - val_decoder_loss: 0.0801 - val_capsnet_acc: 0.4865\n",
            "\n",
            "Epoch 00087: val_capsnet_acc did not improve from 0.48649\n",
            "Epoch 88/200\n",
            "207/207 [==============================] - 167s 809ms/step - loss: 0.3839 - capsnet_loss: 0.3839 - decoder_loss: 0.0809 - capsnet_acc: 0.5082 - val_loss: 0.3917 - val_capsnet_loss: 0.3917 - val_decoder_loss: 0.0801 - val_capsnet_acc: 0.4865\n",
            "\n",
            "Epoch 00088: val_capsnet_acc did not improve from 0.48649\n",
            "Epoch 89/200\n",
            "207/207 [==============================] - 167s 808ms/step - loss: 0.3841 - capsnet_loss: 0.3841 - decoder_loss: 0.0807 - capsnet_acc: 0.5126 - val_loss: 0.3916 - val_capsnet_loss: 0.3915 - val_decoder_loss: 0.0801 - val_capsnet_acc: 0.4865\n",
            "\n",
            "Epoch 00089: val_capsnet_acc did not improve from 0.48649\n",
            "Epoch 90/200\n",
            "207/207 [==============================] - 169s 815ms/step - loss: 0.3893 - capsnet_loss: 0.3893 - decoder_loss: 0.0808 - capsnet_acc: 0.4986 - val_loss: 0.3916 - val_capsnet_loss: 0.3916 - val_decoder_loss: 0.0801 - val_capsnet_acc: 0.4865\n",
            "\n",
            "Epoch 00090: val_capsnet_acc did not improve from 0.48649\n",
            "Epoch 91/200\n",
            "207/207 [==============================] - 168s 810ms/step - loss: 0.3831 - capsnet_loss: 0.3831 - decoder_loss: 0.0808 - capsnet_acc: 0.5048 - val_loss: 0.3915 - val_capsnet_loss: 0.3915 - val_decoder_loss: 0.0801 - val_capsnet_acc: 0.4865\n",
            "\n",
            "Epoch 00091: val_capsnet_acc did not improve from 0.48649\n",
            "Epoch 92/200\n",
            "207/207 [==============================] - 168s 809ms/step - loss: 0.3886 - capsnet_loss: 0.3886 - decoder_loss: 0.0808 - capsnet_acc: 0.4865 - val_loss: 0.3916 - val_capsnet_loss: 0.3916 - val_decoder_loss: 0.0801 - val_capsnet_acc: 0.4865\n",
            "\n",
            "Epoch 00092: val_capsnet_acc did not improve from 0.48649\n",
            "Epoch 00092: early stopping\n"
          ],
          "name": "stdout"
        }
      ]
    },
    {
      "cell_type": "code",
      "metadata": {
        "id": "8RHn_Xb7fQKh",
        "colab_type": "code",
        "colab": {
          "base_uri": "https://localhost:8080/",
          "height": 613
        },
        "outputId": "a5fa713d-7bc1-465d-d431-f919c5cfad4f"
      },
      "source": [
        "plt.figure(figsize=(10, 10))\n",
        "plt.plot(history.history['capsnet_acc'])\n",
        "plt.plot(history.history['val_capsnet_acc'])\n",
        "plt.ylabel('accuracy', fontsize='x-large')\n",
        "plt.xlabel('epoch', fontsize='x-large')\n",
        "plt.legend(['train', 'test'], loc='upper left', fontsize='x-large')"
      ],
      "execution_count": 14,
      "outputs": [
        {
          "output_type": "display_data",
          "data": {
            "image/png": "[encoded data removed]",
            "text/plain": [
              "<Figure size 720x720 with 1 Axes>"
            ]
          },
          "metadata": {
            "tags": []
          }
        }
      ]
    },
    {
      "cell_type": "code",
      "metadata": {
        "id": "dKIEK18JfRxR",
        "colab_type": "code",
        "colab": {
          "base_uri": "https://localhost:8080/",
          "height": 85
        },
        "outputId": "5d41130d-5da8-4d4d-d857-a80047870056"
      },
      "source": [
        "model.save(f'/content/gdrive/My Drive/models')"
      ],
      "execution_count": 13,
      "outputs": [
        {
          "output_type": "stream",
          "text": [
            "Saving model as 2019-05-14_48.tar.gz...\n",
            "\tSaving \"train\" architecture... Done\n",
            "\tSaving \"test\" architecture... Done\n",
            "\tSaving weights... Done\n"
          ],
          "name": "stdout"
        }
      ]
    }
  ]
}
