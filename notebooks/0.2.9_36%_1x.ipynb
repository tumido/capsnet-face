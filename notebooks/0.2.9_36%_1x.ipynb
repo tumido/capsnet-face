{
 "cells": [
  {
   "cell_type": "markdown",
   "metadata": {
    "colab_type": "text",
    "id": "mxyHDbGxWL9A"
   },
   "source": [
    "# Intro"
   ]
  },
  {
   "cell_type": "markdown",
   "metadata": {
    "colab_type": "text",
    "id": "J5eueFsCss8g"
   },
   "source": [
    "## Load and import CapsNet\n",
    "\n",
    "First, let's clone our GitHub repo and import all parts which will be used in this notebook."
   ]
  },
  {
   "cell_type": "code",
   "execution_count": 1,
   "metadata": {
    "colab": {
     "base_uri": "https://localhost:8080/",
     "height": 578
    },
    "colab_type": "code",
    "id": "VphwW703qtDn",
    "outputId": "09543596-3381-4cc4-d57e-2338ca09807f"
   },
   "outputs": [
    {
     "name": "stdout",
     "output_type": "stream",
     "text": [
      "Collecting git+https://github.com/tumido/face_biometrics_descriptor-code.git\n",
      "  Cloning https://github.com/tumido/face_biometrics_descriptor-code.git to /tmp/pip-req-build-fyoio28_\n",
      "Requirement already satisfied, skipping upgrade: tensorflow in /usr/local/lib/python3.6/dist-packages (from capsnet==0.2.9) (1.13.1)\n",
      "Requirement already satisfied, skipping upgrade: scikit-learn in /usr/local/lib/python3.6/dist-packages (from capsnet==0.2.9) (0.20.3)\n",
      "Requirement already satisfied, skipping upgrade: keras in /usr/local/lib/python3.6/dist-packages (from capsnet==0.2.9) (2.2.4)\n",
      "Requirement already satisfied, skipping upgrade: numpy in /usr/local/lib/python3.6/dist-packages (from capsnet==0.2.9) (1.16.3)\n",
      "Requirement already satisfied, skipping upgrade: six>=1.10.0 in /usr/local/lib/python3.6/dist-packages (from tensorflow->capsnet==0.2.9) (1.12.0)\n",
      "Requirement already satisfied, skipping upgrade: wheel>=0.26 in /usr/local/lib/python3.6/dist-packages (from tensorflow->capsnet==0.2.9) (0.33.1)\n",
      "Requirement already satisfied, skipping upgrade: gast>=0.2.0 in /usr/local/lib/python3.6/dist-packages (from tensorflow->capsnet==0.2.9) (0.2.2)\n",
      "Requirement already satisfied, skipping upgrade: termcolor>=1.1.0 in /usr/local/lib/python3.6/dist-packages (from tensorflow->capsnet==0.2.9) (1.1.0)\n",
      "Requirement already satisfied, skipping upgrade: protobuf>=3.6.1 in /usr/local/lib/python3.6/dist-packages (from tensorflow->capsnet==0.2.9) (3.7.1)\n",
      "Requirement already satisfied, skipping upgrade: keras-applications>=1.0.6 in /usr/local/lib/python3.6/dist-packages (from tensorflow->capsnet==0.2.9) (1.0.7)\n",
      "Requirement already satisfied, skipping upgrade: tensorflow-estimator<1.14.0rc0,>=1.13.0 in /usr/local/lib/python3.6/dist-packages (from tensorflow->capsnet==0.2.9) (1.13.0)\n",
      "Requirement already satisfied, skipping upgrade: astor>=0.6.0 in /usr/local/lib/python3.6/dist-packages (from tensorflow->capsnet==0.2.9) (0.7.1)\n",
      "Requirement already satisfied, skipping upgrade: tensorboard<1.14.0,>=1.13.0 in /usr/local/lib/python3.6/dist-packages (from tensorflow->capsnet==0.2.9) (1.13.1)\n",
      "Requirement already satisfied, skipping upgrade: grpcio>=1.8.6 in /usr/local/lib/python3.6/dist-packages (from tensorflow->capsnet==0.2.9) (1.15.0)\n",
      "Requirement already satisfied, skipping upgrade: absl-py>=0.1.6 in /usr/local/lib/python3.6/dist-packages (from tensorflow->capsnet==0.2.9) (0.7.1)\n",
      "Requirement already satisfied, skipping upgrade: keras-preprocessing>=1.0.5 in /usr/local/lib/python3.6/dist-packages (from tensorflow->capsnet==0.2.9) (1.0.9)\n",
      "Requirement already satisfied, skipping upgrade: scipy>=0.13.3 in /usr/local/lib/python3.6/dist-packages (from scikit-learn->capsnet==0.2.9) (1.2.1)\n",
      "Requirement already satisfied, skipping upgrade: pyyaml in /usr/local/lib/python3.6/dist-packages (from keras->capsnet==0.2.9) (3.13)\n",
      "Requirement already satisfied, skipping upgrade: h5py in /usr/local/lib/python3.6/dist-packages (from keras->capsnet==0.2.9) (2.8.0)\n",
      "Requirement already satisfied, skipping upgrade: setuptools in /usr/local/lib/python3.6/dist-packages (from protobuf>=3.6.1->tensorflow->capsnet==0.2.9) (40.9.0)\n",
      "Requirement already satisfied, skipping upgrade: mock>=2.0.0 in /usr/local/lib/python3.6/dist-packages (from tensorflow-estimator<1.14.0rc0,>=1.13.0->tensorflow->capsnet==0.2.9) (2.0.0)\n",
      "Requirement already satisfied, skipping upgrade: markdown>=2.6.8 in /usr/local/lib/python3.6/dist-packages (from tensorboard<1.14.0,>=1.13.0->tensorflow->capsnet==0.2.9) (3.1)\n",
      "Requirement already satisfied, skipping upgrade: werkzeug>=0.11.15 in /usr/local/lib/python3.6/dist-packages (from tensorboard<1.14.0,>=1.13.0->tensorflow->capsnet==0.2.9) (0.15.2)\n",
      "Requirement already satisfied, skipping upgrade: pbr>=0.11 in /usr/local/lib/python3.6/dist-packages (from mock>=2.0.0->tensorflow-estimator<1.14.0rc0,>=1.13.0->tensorflow->capsnet==0.2.9) (5.1.3)\n",
      "Installing collected packages: capsnet\n",
      "  Found existing installation: capsnet 0.2.9\n",
      "    Uninstalling capsnet-0.2.9:\n",
      "      Successfully uninstalled capsnet-0.2.9\n",
      "  Running setup.py install for capsnet ... \u001b[?25ldone\n",
      "\u001b[?25hSuccessfully installed capsnet-0.2.9\n"
     ]
    },
    {
     "name": "stderr",
     "output_type": "stream",
     "text": [
      "Using TensorFlow backend.\n"
     ]
    }
   ],
   "source": [
    "!pip install --no-cache-dir --upgrade git+https://github.com/tumido/face_biometrics_descriptor-code.git\n",
    "\n",
    "from sklearn.datasets import fetch_lfw_people\n",
    "from capsnet import preprocess_lfw_people, CapsNet"
   ]
  },
  {
   "cell_type": "markdown",
   "metadata": {
    "colab_type": "text",
    "id": "lXW-IfxnXdB8"
   },
   "source": [
    "## Auxilary imports\n",
    "\n",
    "Additional imports used in this Notebook would help to visualize data."
   ]
  },
  {
   "cell_type": "code",
   "execution_count": 0,
   "metadata": {
    "colab": {},
    "colab_type": "code",
    "id": "r0B1RTylXldU"
   },
   "outputs": [],
   "source": [
    "import numpy as np\n",
    "from sklearn.metrics import confusion_matrix\n",
    "%matplotlib inline\n",
    "import matplotlib.pyplot as plt\n",
    "import pandas as pd\n",
    "from random import randint"
   ]
  },
  {
   "cell_type": "markdown",
   "metadata": {
    "colab_type": "text",
    "id": "haIVjnGFlbM_"
   },
   "source": [
    "Install and start a TensorBoard in Colab"
   ]
  },
  {
   "cell_type": "code",
   "execution_count": 3,
   "metadata": {
    "colab": {
     "base_uri": "https://localhost:8080/",
     "height": 85
    },
    "colab_type": "code",
    "id": "fLxDpf1JleKJ",
    "outputId": "8268d6d4-28c5-4818-e347-2db1243947d0"
   },
   "outputs": [
    {
     "name": "stdout",
     "output_type": "stream",
     "text": [
      "Requirement already satisfied: tensorboardcolab in /usr/local/lib/python3.6/dist-packages (0.0.22)\n",
      "Wait for 8 seconds...\n",
      "TensorBoard link:\n",
      "https://14fc7c85.ngrok.io\n"
     ]
    }
   ],
   "source": [
    "!pip install tensorboardcolab\n",
    "from tensorboardcolab import TensorBoardColab, TensorBoardColabCallback\n",
    "\n",
    "tbc = TensorBoardColab()\n",
    "tensor_board_callback = TensorBoardColabCallback(tbc, batch_size=10, histogram_freq=5, write_graph=True, write_grads=True, write_images=True)"
   ]
  },
  {
   "cell_type": "markdown",
   "metadata": {
    "colab_type": "text",
    "id": "yf59QXJdWRnM"
   },
   "source": [
    "## Verify GPU\n",
    "\n",
    "in the next cell we verify that a GPU is available to our use. The output should contain a GPU details."
   ]
  },
  {
   "cell_type": "code",
   "execution_count": 4,
   "metadata": {
    "colab": {
     "base_uri": "https://localhost:8080/",
     "height": 102
    },
    "colab_type": "code",
    "id": "C35iLzmqWeGl",
    "outputId": "29ca477d-dc99-4053-802e-f61e874a1f18"
   },
   "outputs": [
    {
     "name": "stdout",
     "output_type": "stream",
     "text": [
      "path: /device:GPU:0\n",
      "device: 0\n",
      "name: Tesla T4\n",
      "pci bus id: 0000:00:04.0\n",
      "compute capability: 7.5\n"
     ]
    }
   ],
   "source": [
    "from tensorflow.test import is_gpu_available\n",
    "from tensorflow.python.client import device_lib\n",
    "\n",
    "if not is_gpu_available():\n",
    "    raise SystemError('GPU device not found')\n",
    "\n",
    "desc = [f'path: {d.name}, {d.physical_device_desc}' for d in device_lib.list_local_devices() if d.device_type == \"GPU\"][0]\n",
    "print(\"\\n\".join(desc.split(\", \")))"
   ]
  },
  {
   "cell_type": "markdown",
   "metadata": {
    "colab_type": "text",
    "id": "Gm3DsF4StZ_f"
   },
   "source": [
    "## Collect data set \n",
    "\n",
    "We're gonna be working with LFW dataset"
   ]
  },
  {
   "cell_type": "code",
   "execution_count": 0,
   "metadata": {
    "colab": {},
    "colab_type": "code",
    "id": "MWP1fbqyrK2e"
   },
   "outputs": [],
   "source": [
    "people = fetch_lfw_people(\n",
    "    color=True,\n",
    "    min_faces_per_person=25\n",
    ")\n",
    "\n",
    "\n",
    "data = preprocess_lfw_people(people)\n",
    "(x_train, y_train), (x_test, y_test) = data"
   ]
  },
  {
   "cell_type": "code",
   "execution_count": 6,
   "metadata": {
    "colab": {
     "base_uri": "https://localhost:8080/",
     "height": 204
    },
    "colab_type": "code",
    "id": "jAr9gS3Ama1b",
    "outputId": "962c502e-4bf8-4b42-f46b-b2f28bd20378"
   },
   "outputs": [
    {
     "data": {
      "text/html": [
       "<div>\n",
       "<style scoped>\n",
       "    .dataframe tbody tr th:only-of-type {\n",
       "        vertical-align: middle;\n",
       "    }\n",
       "\n",
       "    .dataframe tbody tr th {\n",
       "        vertical-align: top;\n",
       "    }\n",
       "\n",
       "    .dataframe thead th {\n",
       "        text-align: right;\n",
       "    }\n",
       "</style>\n",
       "<table border=\"1\" class=\"dataframe\">\n",
       "  <thead>\n",
       "    <tr style=\"text-align: right;\">\n",
       "      <th></th>\n",
       "      <th>Name</th>\n",
       "      <th>Value</th>\n",
       "    </tr>\n",
       "  </thead>\n",
       "  <tbody>\n",
       "    <tr>\n",
       "      <th>0</th>\n",
       "      <td>Identities</td>\n",
       "      <td>42</td>\n",
       "    </tr>\n",
       "    <tr>\n",
       "      <th>1</th>\n",
       "      <td>Total images</td>\n",
       "      <td>2588</td>\n",
       "    </tr>\n",
       "    <tr>\n",
       "      <th>2</th>\n",
       "      <td>Train images</td>\n",
       "      <td>2070</td>\n",
       "    </tr>\n",
       "    <tr>\n",
       "      <th>3</th>\n",
       "      <td>Test images</td>\n",
       "      <td>518</td>\n",
       "    </tr>\n",
       "    <tr>\n",
       "      <th>4</th>\n",
       "      <td>Image shape</td>\n",
       "      <td>(32, 32, 3)</td>\n",
       "    </tr>\n",
       "  </tbody>\n",
       "</table>\n",
       "</div>"
      ],
      "text/plain": [
       "           Name        Value\n",
       "0    Identities           42\n",
       "1  Total images         2588\n",
       "2  Train images         2070\n",
       "3   Test images          518\n",
       "4   Image shape  (32, 32, 3)"
      ]
     },
     "execution_count": 6,
     "metadata": {
      "tags": []
     },
     "output_type": "execute_result"
    }
   ],
   "source": [
    "metrics = [\n",
    "    [\"Identities\", len(np.unique(people.target, axis=0))],\n",
    "    [\"Total images\", people.target.shape[0]],\n",
    "    [\"Train images\", len(y_train)],\n",
    "    [\"Test images\", len(y_test)],\n",
    "    [\"Image shape\", x_train.shape[1:]]\n",
    "]\n",
    "pd.DataFrame(metrics, columns=[\"Name\", \"Value\"])"
   ]
  },
  {
   "cell_type": "code",
   "execution_count": 7,
   "metadata": {
    "colab": {
     "base_uri": "https://localhost:8080/",
     "height": 269
    },
    "colab_type": "code",
    "id": "3ZCoPj6ghtOM",
    "outputId": "834914fe-c30b-4124-b8c3-120ba1b88721"
   },
   "outputs": [
    {
     "data": {
      "image/png": "[encoded data removed]",
      "text/plain": [
       "<Figure size 432x288 with 1 Axes>"
      ]
     },
     "metadata": {
      "tags": []
     },
     "output_type": "display_data"
    }
   ],
   "source": [
    "_ = plt.hist(people.target, bins=people.target_names.shape[0])"
   ]
  },
  {
   "cell_type": "code",
   "execution_count": 24,
   "metadata": {
    "colab": {
     "base_uri": "https://localhost:8080/",
     "height": 283
    },
    "colab_type": "code",
    "id": "enDcEbijABEv",
    "outputId": "e60351f0-659f-4ad0-ad61-6dfd47d267c9"
   },
   "outputs": [
    {
     "name": "stdout",
     "output_type": "stream",
     "text": [
      "9: George W Bush\n"
     ]
    },
    {
     "data": {
      "image/png": "[encoded data removed]",
      "text/plain": [
       "<Figure size 432x288 with 1 Axes>"
      ]
     },
     "metadata": {
      "tags": []
     },
     "output_type": "display_data"
    }
   ],
   "source": [
    "i = randint(0, len(x_train))\n",
    "plt.imshow(x_train[i])\n",
    "plt.axis('off')\n",
    "print(\"{}: {}\".format(np.argmax(y_train[i]), people.target_names[np.argmax(y_train[i])]))"
   ]
  },
  {
   "cell_type": "markdown",
   "metadata": {
    "colab_type": "text",
    "id": "GO6c2pk1k0Lr"
   },
   "source": [
    "## CapsNet\n",
    "\n",
    "Let's begin training our network"
   ]
  },
  {
   "cell_type": "code",
   "execution_count": 9,
   "metadata": {
    "colab": {
     "base_uri": "https://localhost:8080/",
     "height": 649
    },
    "colab_type": "code",
    "id": "MSvdR8A6tp-V",
    "outputId": "7d397e3b-3d31-44dd-b08d-30fb0cec2e06"
   },
   "outputs": [
    {
     "name": "stdout",
     "output_type": "stream",
     "text": [
      "WARNING:tensorflow:From /usr/local/lib/python3.6/dist-packages/tensorflow/python/framework/op_def_library.py:263: colocate_with (from tensorflow.python.framework.ops) is deprecated and will be removed in a future version.\n",
      "Instructions for updating:\n",
      "Colocations handled automatically by placer.\n",
      "WARNING:tensorflow:From /usr/local/lib/python3.6/dist-packages/keras/backend/tensorflow_backend.py:3445: calling dropout (from tensorflow.python.ops.nn_ops) with keep_prob is deprecated and will be removed in a future version.\n",
      "Instructions for updating:\n",
      "Please use `rate` instead of `keep_prob`. Rate should be set to `rate = 1 - keep_prob`.\n",
      "__________________________________________________________________________________________________\n",
      "Layer (type)                    Output Shape         Param #     Connected to                     \n",
      "==================================================================================================\n",
      "input_image (InputLayer)        (None, 32, 32, 3)    0                                            \n",
      "__________________________________________________________________________________________________\n",
      "encoder_conv2d (Conv2D)         (None, 24, 24, 256)  62464       input_image[0][0]                \n",
      "__________________________________________________________________________________________________\n",
      "encoder_dropout (Dropout)       (None, 24, 24, 256)  0           encoder_conv2d[0][0]             \n",
      "__________________________________________________________________________________________________\n",
      "encoder_feature_caps_conv2d (Co (None, 10, 10, 256)  1638656     encoder_dropout[0][0]            \n",
      "__________________________________________________________________________________________________\n",
      "encoder_feature_caps_reshape (R (None, 1600, 16)     0           encoder_feature_caps_conv2d[0][0]\n",
      "__________________________________________________________________________________________________\n",
      "encoder_feature_caps_squash (La (None, 1600, 16)     0           encoder_feature_caps_reshape[0][0\n",
      "__________________________________________________________________________________________________\n",
      "encoder_pred_caps (PredictionCa (None, 42, 32)       34406400    encoder_feature_caps_squash[0][0]\n",
      "__________________________________________________________________________________________________\n",
      "input_label (InputLayer)        (None, 42)           0                                            \n",
      "__________________________________________________________________________________________________\n",
      "mask (Mask)                     (None, 1344)         0           encoder_pred_caps[0][0]          \n",
      "                                                                 input_label[0][0]                \n",
      "__________________________________________________________________________________________________\n",
      "capsnet (Lambda)                (None, 42)           0           encoder_pred_caps[0][0]          \n",
      "__________________________________________________________________________________________________\n",
      "decoder (Sequential)            (None, 32, 32, 3)    15679       mask[0][0]                       \n",
      "==================================================================================================\n",
      "Total params: 36,123,199\n",
      "Trainable params: 36,123,199\n",
      "Non-trainable params: 0\n",
      "__________________________________________________________________________________________________\n"
     ]
    }
   ],
   "source": [
    "capsnet = CapsNet(\n",
    "    x_train.shape[1:],\n",
    "    len(np.unique(y_train, axis=0)),\n",
    "    routing_iters=1\n",
    ")\n",
    "capsnet.summary()"
   ]
  },
  {
   "cell_type": "code",
   "execution_count": 10,
   "metadata": {
    "colab": {
     "base_uri": "https://localhost:8080/",
     "height": 6888
    },
    "colab_type": "code",
    "id": "khy5eJS_ul2B",
    "outputId": "1638ca91-6f17-4828-e5d5-f9f475b6bc8e"
   },
   "outputs": [
    {
     "name": "stdout",
     "output_type": "stream",
     "text": [
      "WARNING:tensorflow:From /usr/local/lib/python3.6/dist-packages/tensorflow/python/ops/math_ops.py:3066: to_int32 (from tensorflow.python.ops.math_ops) is deprecated and will be removed in a future version.\n",
      "Instructions for updating:\n",
      "Use tf.cast instead.\n",
      "Epoch 1/100\n",
      "207/207 [==============================] - 18s 89ms/step - loss: 0.6078 - capsnet_loss: 0.6078 - decoder_loss: 0.0434 - capsnet_acc: 0.2087 - val_loss: 0.6067 - val_capsnet_loss: 0.6067 - val_decoder_loss: 0.0436 - val_capsnet_acc: 0.1795\n",
      "\n",
      "Epoch 00001: val_capsnet_acc improved from -inf to 0.17954, saving model to model/weights.01.h5\n",
      "Epoch 2/100\n",
      "207/207 [==============================] - 16s 78ms/step - loss: 0.5749 - capsnet_loss: 0.5749 - decoder_loss: 0.0410 - capsnet_acc: 0.2097 - val_loss: 0.5952 - val_capsnet_loss: 0.5952 - val_decoder_loss: 0.0408 - val_capsnet_acc: 0.1795\n",
      "\n",
      "Epoch 00002: val_capsnet_acc did not improve from 0.17954\n",
      "Epoch 3/100\n",
      "207/207 [==============================] - 16s 77ms/step - loss: 0.5715 - capsnet_loss: 0.5715 - decoder_loss: 0.0375 - capsnet_acc: 0.2111 - val_loss: 0.5814 - val_capsnet_loss: 0.5814 - val_decoder_loss: 0.0364 - val_capsnet_acc: 0.1795\n",
      "\n",
      "Epoch 00003: val_capsnet_acc did not improve from 0.17954\n",
      "Epoch 4/100\n",
      "207/207 [==============================] - 16s 77ms/step - loss: 0.5674 - capsnet_loss: 0.5674 - decoder_loss: 0.0337 - capsnet_acc: 0.2111 - val_loss: 0.5757 - val_capsnet_loss: 0.5756 - val_decoder_loss: 0.0339 - val_capsnet_acc: 0.1795\n",
      "\n",
      "Epoch 00004: val_capsnet_acc did not improve from 0.17954\n",
      "Epoch 5/100\n",
      "207/207 [==============================] - 16s 76ms/step - loss: 0.5541 - capsnet_loss: 0.5541 - decoder_loss: 0.0326 - capsnet_acc: 0.2179 - val_loss: 0.5489 - val_capsnet_loss: 0.5489 - val_decoder_loss: 0.0338 - val_capsnet_acc: 0.2008\n",
      "\n",
      "Epoch 00005: val_capsnet_acc improved from 0.17954 to 0.20077, saving model to model/weights.05.h5\n",
      "Epoch 6/100\n",
      "207/207 [==============================] - 16s 77ms/step - loss: 0.5353 - capsnet_loss: 0.5353 - decoder_loss: 0.0325 - capsnet_acc: 0.2333 - val_loss: 0.5285 - val_capsnet_loss: 0.5285 - val_decoder_loss: 0.0337 - val_capsnet_acc: 0.2008\n",
      "\n",
      "Epoch 00006: val_capsnet_acc did not improve from 0.20077\n",
      "Epoch 7/100\n",
      "207/207 [==============================] - 16s 76ms/step - loss: 0.5227 - capsnet_loss: 0.5227 - decoder_loss: 0.0324 - capsnet_acc: 0.2551 - val_loss: 0.5132 - val_capsnet_loss: 0.5132 - val_decoder_loss: 0.0336 - val_capsnet_acc: 0.2625\n",
      "\n",
      "Epoch 00007: val_capsnet_acc improved from 0.20077 to 0.26255, saving model to model/weights.07.h5\n",
      "Epoch 8/100\n",
      "207/207 [==============================] - 16s 79ms/step - loss: 0.5119 - capsnet_loss: 0.5118 - decoder_loss: 0.0322 - capsnet_acc: 0.2778 - val_loss: 0.5093 - val_capsnet_loss: 0.5092 - val_decoder_loss: 0.0334 - val_capsnet_acc: 0.2297\n",
      "\n",
      "Epoch 00008: val_capsnet_acc did not improve from 0.26255\n",
      "Epoch 9/100\n",
      "207/207 [==============================] - 16s 76ms/step - loss: 0.5017 - capsnet_loss: 0.5017 - decoder_loss: 0.0321 - capsnet_acc: 0.2932 - val_loss: 0.4984 - val_capsnet_loss: 0.4984 - val_decoder_loss: 0.0333 - val_capsnet_acc: 0.2625\n",
      "\n",
      "Epoch 00009: val_capsnet_acc did not improve from 0.26255\n",
      "Epoch 10/100\n",
      "207/207 [==============================] - 16s 77ms/step - loss: 0.4956 - capsnet_loss: 0.4955 - decoder_loss: 0.0320 - capsnet_acc: 0.3024 - val_loss: 0.4894 - val_capsnet_loss: 0.4894 - val_decoder_loss: 0.0331 - val_capsnet_acc: 0.2857\n",
      "\n",
      "Epoch 00010: val_capsnet_acc improved from 0.26255 to 0.28571, saving model to model/weights.10.h5\n",
      "Epoch 11/100\n",
      "207/207 [==============================] - 16s 76ms/step - loss: 0.4861 - capsnet_loss: 0.4861 - decoder_loss: 0.0317 - capsnet_acc: 0.3193 - val_loss: 0.4828 - val_capsnet_loss: 0.4828 - val_decoder_loss: 0.0329 - val_capsnet_acc: 0.2915\n",
      "\n",
      "Epoch 00011: val_capsnet_acc improved from 0.28571 to 0.29151, saving model to model/weights.11.h5\n",
      "Epoch 12/100\n",
      "207/207 [==============================] - 16s 76ms/step - loss: 0.4789 - capsnet_loss: 0.4789 - decoder_loss: 0.0317 - capsnet_acc: 0.3304 - val_loss: 0.4757 - val_capsnet_loss: 0.4757 - val_decoder_loss: 0.0328 - val_capsnet_acc: 0.2992\n",
      "\n",
      "Epoch 00012: val_capsnet_acc improved from 0.29151 to 0.29923, saving model to model/weights.12.h5\n",
      "Epoch 13/100\n",
      "207/207 [==============================] - 16s 77ms/step - loss: 0.4775 - capsnet_loss: 0.4775 - decoder_loss: 0.0314 - capsnet_acc: 0.3295 - val_loss: 0.4739 - val_capsnet_loss: 0.4739 - val_decoder_loss: 0.0326 - val_capsnet_acc: 0.3069\n",
      "\n",
      "Epoch 00013: val_capsnet_acc improved from 0.29923 to 0.30695, saving model to model/weights.13.h5\n",
      "Epoch 14/100\n",
      "207/207 [==============================] - 16s 77ms/step - loss: 0.4736 - capsnet_loss: 0.4736 - decoder_loss: 0.0313 - capsnet_acc: 0.3333 - val_loss: 0.4680 - val_capsnet_loss: 0.4680 - val_decoder_loss: 0.0324 - val_capsnet_acc: 0.3089\n",
      "\n",
      "Epoch 00014: val_capsnet_acc improved from 0.30695 to 0.30888, saving model to model/weights.14.h5\n",
      "Epoch 15/100\n",
      "207/207 [==============================] - 16s 78ms/step - loss: 0.4694 - capsnet_loss: 0.4694 - decoder_loss: 0.0312 - capsnet_acc: 0.3391 - val_loss: 0.4678 - val_capsnet_loss: 0.4678 - val_decoder_loss: 0.0322 - val_capsnet_acc: 0.3108\n",
      "\n",
      "Epoch 00015: val_capsnet_acc improved from 0.30888 to 0.31081, saving model to model/weights.15.h5\n",
      "Epoch 16/100\n",
      "207/207 [==============================] - 16s 76ms/step - loss: 0.4665 - capsnet_loss: 0.4664 - decoder_loss: 0.0309 - capsnet_acc: 0.3430 - val_loss: 0.4617 - val_capsnet_loss: 0.4617 - val_decoder_loss: 0.0320 - val_capsnet_acc: 0.3166\n",
      "\n",
      "Epoch 00016: val_capsnet_acc improved from 0.31081 to 0.31660, saving model to model/weights.16.h5\n",
      "Epoch 17/100\n",
      "207/207 [==============================] - 16s 78ms/step - loss: 0.4635 - capsnet_loss: 0.4635 - decoder_loss: 0.0308 - capsnet_acc: 0.3512 - val_loss: 0.4596 - val_capsnet_loss: 0.4596 - val_decoder_loss: 0.0318 - val_capsnet_acc: 0.3089\n",
      "\n",
      "Epoch 00017: val_capsnet_acc did not improve from 0.31660\n",
      "Epoch 18/100\n",
      "207/207 [==============================] - 16s 77ms/step - loss: 0.4600 - capsnet_loss: 0.4600 - decoder_loss: 0.0304 - capsnet_acc: 0.3575 - val_loss: 0.4571 - val_capsnet_loss: 0.4570 - val_decoder_loss: 0.0316 - val_capsnet_acc: 0.3224\n",
      "\n",
      "Epoch 00018: val_capsnet_acc improved from 0.31660 to 0.32239, saving model to model/weights.18.h5\n",
      "Epoch 19/100\n",
      "207/207 [==============================] - 16s 77ms/step - loss: 0.4583 - capsnet_loss: 0.4583 - decoder_loss: 0.0304 - capsnet_acc: 0.3512 - val_loss: 0.4596 - val_capsnet_loss: 0.4596 - val_decoder_loss: 0.0315 - val_capsnet_acc: 0.3050\n",
      "\n",
      "Epoch 00019: val_capsnet_acc did not improve from 0.32239\n",
      "Epoch 20/100\n",
      "207/207 [==============================] - 16s 76ms/step - loss: 0.4577 - capsnet_loss: 0.4577 - decoder_loss: 0.0304 - capsnet_acc: 0.3560 - val_loss: 0.4556 - val_capsnet_loss: 0.4556 - val_decoder_loss: 0.0313 - val_capsnet_acc: 0.3147\n",
      "\n",
      "Epoch 00020: val_capsnet_acc did not improve from 0.32239\n",
      "Epoch 21/100\n",
      "207/207 [==============================] - 16s 76ms/step - loss: 0.4561 - capsnet_loss: 0.4561 - decoder_loss: 0.0303 - capsnet_acc: 0.3522 - val_loss: 0.4534 - val_capsnet_loss: 0.4534 - val_decoder_loss: 0.0312 - val_capsnet_acc: 0.3340\n",
      "\n",
      "Epoch 00021: val_capsnet_acc improved from 0.32239 to 0.33398, saving model to model/weights.21.h5\n",
      "Epoch 22/100\n",
      "207/207 [==============================] - 16s 76ms/step - loss: 0.4531 - capsnet_loss: 0.4530 - decoder_loss: 0.0300 - capsnet_acc: 0.3657 - val_loss: 0.4512 - val_capsnet_loss: 0.4511 - val_decoder_loss: 0.0310 - val_capsnet_acc: 0.3282\n",
      "\n",
      "Epoch 00022: val_capsnet_acc did not improve from 0.33398\n",
      "Epoch 23/100\n",
      "207/207 [==============================] - 16s 78ms/step - loss: 0.4532 - capsnet_loss: 0.4532 - decoder_loss: 0.0301 - capsnet_acc: 0.3715 - val_loss: 0.4517 - val_capsnet_loss: 0.4517 - val_decoder_loss: 0.0309 - val_capsnet_acc: 0.3282\n",
      "\n",
      "Epoch 00023: val_capsnet_acc did not improve from 0.33398\n",
      "Epoch 24/100\n",
      "207/207 [==============================] - 16s 79ms/step - loss: 0.4515 - capsnet_loss: 0.4515 - decoder_loss: 0.0299 - capsnet_acc: 0.3618 - val_loss: 0.4481 - val_capsnet_loss: 0.4481 - val_decoder_loss: 0.0308 - val_capsnet_acc: 0.3417\n",
      "\n",
      "Epoch 00024: val_capsnet_acc improved from 0.33398 to 0.34170, saving model to model/weights.24.h5\n",
      "Epoch 25/100\n",
      "207/207 [==============================] - 16s 76ms/step - loss: 0.4494 - capsnet_loss: 0.4494 - decoder_loss: 0.0298 - capsnet_acc: 0.3710 - val_loss: 0.4484 - val_capsnet_loss: 0.4483 - val_decoder_loss: 0.0307 - val_capsnet_acc: 0.3320\n",
      "\n",
      "Epoch 00025: val_capsnet_acc did not improve from 0.34170\n",
      "Epoch 26/100\n",
      "207/207 [==============================] - 16s 76ms/step - loss: 0.4488 - capsnet_loss: 0.4488 - decoder_loss: 0.0297 - capsnet_acc: 0.3614 - val_loss: 0.4455 - val_capsnet_loss: 0.4454 - val_decoder_loss: 0.0306 - val_capsnet_acc: 0.3456\n",
      "\n",
      "Epoch 00026: val_capsnet_acc improved from 0.34170 to 0.34556, saving model to model/weights.26.h5\n",
      "Epoch 27/100\n",
      "207/207 [==============================] - 16s 76ms/step - loss: 0.4477 - capsnet_loss: 0.4476 - decoder_loss: 0.0296 - capsnet_acc: 0.3807 - val_loss: 0.4453 - val_capsnet_loss: 0.4453 - val_decoder_loss: 0.0306 - val_capsnet_acc: 0.3475\n",
      "\n",
      "Epoch 00027: val_capsnet_acc improved from 0.34556 to 0.34749, saving model to model/weights.27.h5\n",
      "Epoch 28/100\n",
      "207/207 [==============================] - 16s 77ms/step - loss: 0.4485 - capsnet_loss: 0.4485 - decoder_loss: 0.0295 - capsnet_acc: 0.3729 - val_loss: 0.4439 - val_capsnet_loss: 0.4439 - val_decoder_loss: 0.0305 - val_capsnet_acc: 0.3687\n",
      "\n",
      "Epoch 00028: val_capsnet_acc improved from 0.34749 to 0.36873, saving model to model/weights.28.h5\n",
      "Epoch 29/100\n",
      "207/207 [==============================] - 16s 77ms/step - loss: 0.4480 - capsnet_loss: 0.4480 - decoder_loss: 0.0294 - capsnet_acc: 0.3787 - val_loss: 0.4437 - val_capsnet_loss: 0.4437 - val_decoder_loss: 0.0304 - val_capsnet_acc: 0.3552\n",
      "\n",
      "Epoch 00029: val_capsnet_acc did not improve from 0.36873\n",
      "Epoch 30/100\n",
      "207/207 [==============================] - 16s 76ms/step - loss: 0.4461 - capsnet_loss: 0.4461 - decoder_loss: 0.0294 - capsnet_acc: 0.3729 - val_loss: 0.4430 - val_capsnet_loss: 0.4430 - val_decoder_loss: 0.0304 - val_capsnet_acc: 0.3591\n",
      "\n",
      "Epoch 00030: val_capsnet_acc did not improve from 0.36873\n",
      "Epoch 31/100\n",
      "207/207 [==============================] - 16s 79ms/step - loss: 0.4459 - capsnet_loss: 0.4459 - decoder_loss: 0.0294 - capsnet_acc: 0.3870 - val_loss: 0.4432 - val_capsnet_loss: 0.4431 - val_decoder_loss: 0.0303 - val_capsnet_acc: 0.3514\n",
      "\n",
      "Epoch 00031: val_capsnet_acc did not improve from 0.36873\n",
      "Epoch 32/100\n",
      "207/207 [==============================] - 16s 76ms/step - loss: 0.4456 - capsnet_loss: 0.4455 - decoder_loss: 0.0294 - capsnet_acc: 0.3826 - val_loss: 0.4421 - val_capsnet_loss: 0.4421 - val_decoder_loss: 0.0303 - val_capsnet_acc: 0.3610\n",
      "\n",
      "Epoch 00032: val_capsnet_acc did not improve from 0.36873\n",
      "Epoch 33/100\n",
      "207/207 [==============================] - 16s 79ms/step - loss: 0.4471 - capsnet_loss: 0.4471 - decoder_loss: 0.0293 - capsnet_acc: 0.3749 - val_loss: 0.4420 - val_capsnet_loss: 0.4420 - val_decoder_loss: 0.0303 - val_capsnet_acc: 0.3629\n",
      "\n",
      "Epoch 00033: val_capsnet_acc did not improve from 0.36873\n",
      "Epoch 34/100\n",
      "207/207 [==============================] - 16s 76ms/step - loss: 0.4448 - capsnet_loss: 0.4448 - decoder_loss: 0.0294 - capsnet_acc: 0.3696 - val_loss: 0.4410 - val_capsnet_loss: 0.4410 - val_decoder_loss: 0.0302 - val_capsnet_acc: 0.3552\n",
      "\n",
      "Epoch 00034: val_capsnet_acc did not improve from 0.36873\n",
      "Epoch 35/100\n",
      "207/207 [==============================] - 16s 76ms/step - loss: 0.4429 - capsnet_loss: 0.4429 - decoder_loss: 0.0293 - capsnet_acc: 0.3957 - val_loss: 0.4413 - val_capsnet_loss: 0.4413 - val_decoder_loss: 0.0302 - val_capsnet_acc: 0.3610\n",
      "\n",
      "Epoch 00035: val_capsnet_acc did not improve from 0.36873\n",
      "Epoch 36/100\n",
      "207/207 [==============================] - 16s 76ms/step - loss: 0.4441 - capsnet_loss: 0.4441 - decoder_loss: 0.0295 - capsnet_acc: 0.3729 - val_loss: 0.4408 - val_capsnet_loss: 0.4408 - val_decoder_loss: 0.0302 - val_capsnet_acc: 0.3610\n",
      "\n",
      "Epoch 00036: val_capsnet_acc did not improve from 0.36873\n",
      "Epoch 37/100\n",
      "207/207 [==============================] - 16s 77ms/step - loss: 0.4426 - capsnet_loss: 0.4426 - decoder_loss: 0.0294 - capsnet_acc: 0.3768 - val_loss: 0.4406 - val_capsnet_loss: 0.4406 - val_decoder_loss: 0.0302 - val_capsnet_acc: 0.3610\n",
      "\n",
      "Epoch 00037: val_capsnet_acc did not improve from 0.36873\n",
      "Epoch 38/100\n",
      "207/207 [==============================] - 16s 77ms/step - loss: 0.4416 - capsnet_loss: 0.4416 - decoder_loss: 0.0293 - capsnet_acc: 0.3778 - val_loss: 0.4401 - val_capsnet_loss: 0.4401 - val_decoder_loss: 0.0301 - val_capsnet_acc: 0.3629\n",
      "\n",
      "Epoch 00038: val_capsnet_acc did not improve from 0.36873\n",
      "Epoch 39/100\n",
      "207/207 [==============================] - 16s 76ms/step - loss: 0.4416 - capsnet_loss: 0.4416 - decoder_loss: 0.0294 - capsnet_acc: 0.3855 - val_loss: 0.4396 - val_capsnet_loss: 0.4396 - val_decoder_loss: 0.0301 - val_capsnet_acc: 0.3629\n",
      "\n",
      "Epoch 00039: val_capsnet_acc did not improve from 0.36873\n",
      "Epoch 40/100\n",
      "207/207 [==============================] - 16s 78ms/step - loss: 0.4413 - capsnet_loss: 0.4413 - decoder_loss: 0.0293 - capsnet_acc: 0.3870 - val_loss: 0.4400 - val_capsnet_loss: 0.4400 - val_decoder_loss: 0.0301 - val_capsnet_acc: 0.3629\n",
      "\n",
      "Epoch 00040: val_capsnet_acc did not improve from 0.36873\n",
      "Epoch 41/100\n",
      "207/207 [==============================] - 16s 76ms/step - loss: 0.4407 - capsnet_loss: 0.4406 - decoder_loss: 0.0291 - capsnet_acc: 0.3942 - val_loss: 0.4396 - val_capsnet_loss: 0.4396 - val_decoder_loss: 0.0301 - val_capsnet_acc: 0.3668\n",
      "\n",
      "Epoch 00041: val_capsnet_acc did not improve from 0.36873\n",
      "Epoch 42/100\n",
      "207/207 [==============================] - 16s 78ms/step - loss: 0.4417 - capsnet_loss: 0.4417 - decoder_loss: 0.0291 - capsnet_acc: 0.3850 - val_loss: 0.4393 - val_capsnet_loss: 0.4393 - val_decoder_loss: 0.0301 - val_capsnet_acc: 0.3649\n",
      "\n",
      "Epoch 00042: val_capsnet_acc did not improve from 0.36873\n",
      "Epoch 43/100\n",
      "207/207 [==============================] - 16s 77ms/step - loss: 0.4414 - capsnet_loss: 0.4414 - decoder_loss: 0.0292 - capsnet_acc: 0.3865 - val_loss: 0.4389 - val_capsnet_loss: 0.4389 - val_decoder_loss: 0.0301 - val_capsnet_acc: 0.3687\n",
      "\n",
      "Epoch 00043: val_capsnet_acc did not improve from 0.36873\n",
      "Epoch 44/100\n",
      "207/207 [==============================] - 16s 76ms/step - loss: 0.4382 - capsnet_loss: 0.4382 - decoder_loss: 0.0292 - capsnet_acc: 0.3932 - val_loss: 0.4392 - val_capsnet_loss: 0.4391 - val_decoder_loss: 0.0300 - val_capsnet_acc: 0.3668\n",
      "\n",
      "Epoch 00044: val_capsnet_acc did not improve from 0.36873\n",
      "Epoch 45/100\n",
      "207/207 [==============================] - 16s 76ms/step - loss: 0.4434 - capsnet_loss: 0.4434 - decoder_loss: 0.0291 - capsnet_acc: 0.3797 - val_loss: 0.4386 - val_capsnet_loss: 0.4386 - val_decoder_loss: 0.0300 - val_capsnet_acc: 0.3668\n",
      "\n",
      "Epoch 00045: val_capsnet_acc did not improve from 0.36873\n",
      "Epoch 46/100\n",
      "207/207 [==============================] - 16s 77ms/step - loss: 0.4414 - capsnet_loss: 0.4414 - decoder_loss: 0.0291 - capsnet_acc: 0.3816 - val_loss: 0.4386 - val_capsnet_loss: 0.4386 - val_decoder_loss: 0.0300 - val_capsnet_acc: 0.3668\n",
      "\n",
      "Epoch 00046: val_capsnet_acc did not improve from 0.36873\n",
      "Epoch 47/100\n",
      "207/207 [==============================] - 16s 76ms/step - loss: 0.4423 - capsnet_loss: 0.4422 - decoder_loss: 0.0291 - capsnet_acc: 0.3783 - val_loss: 0.4386 - val_capsnet_loss: 0.4385 - val_decoder_loss: 0.0300 - val_capsnet_acc: 0.3649\n",
      "\n",
      "Epoch 00047: val_capsnet_acc did not improve from 0.36873\n",
      "Epoch 48/100\n",
      "207/207 [==============================] - 16s 77ms/step - loss: 0.4406 - capsnet_loss: 0.4406 - decoder_loss: 0.0291 - capsnet_acc: 0.3826 - val_loss: 0.4387 - val_capsnet_loss: 0.4387 - val_decoder_loss: 0.0300 - val_capsnet_acc: 0.3649\n",
      "\n",
      "Epoch 00048: val_capsnet_acc did not improve from 0.36873\n",
      "Epoch 49/100\n",
      "207/207 [==============================] - 16s 78ms/step - loss: 0.4414 - capsnet_loss: 0.4414 - decoder_loss: 0.0292 - capsnet_acc: 0.3874 - val_loss: 0.4387 - val_capsnet_loss: 0.4387 - val_decoder_loss: 0.0300 - val_capsnet_acc: 0.3649\n",
      "\n",
      "Epoch 00049: val_capsnet_acc did not improve from 0.36873\n",
      "Epoch 50/100\n",
      "207/207 [==============================] - 16s 76ms/step - loss: 0.4407 - capsnet_loss: 0.4407 - decoder_loss: 0.0292 - capsnet_acc: 0.3870 - val_loss: 0.4385 - val_capsnet_loss: 0.4385 - val_decoder_loss: 0.0300 - val_capsnet_acc: 0.3649\n",
      "\n",
      "Epoch 00050: val_capsnet_acc did not improve from 0.36873\n",
      "Epoch 51/100\n",
      "207/207 [==============================] - 16s 76ms/step - loss: 0.4406 - capsnet_loss: 0.4406 - decoder_loss: 0.0292 - capsnet_acc: 0.3899 - val_loss: 0.4387 - val_capsnet_loss: 0.4387 - val_decoder_loss: 0.0300 - val_capsnet_acc: 0.3649\n",
      "\n",
      "Epoch 00051: val_capsnet_acc did not improve from 0.36873\n",
      "Epoch 52/100\n",
      "207/207 [==============================] - 16s 78ms/step - loss: 0.4423 - capsnet_loss: 0.4423 - decoder_loss: 0.0293 - capsnet_acc: 0.3874 - val_loss: 0.4388 - val_capsnet_loss: 0.4388 - val_decoder_loss: 0.0300 - val_capsnet_acc: 0.3649\n",
      "\n",
      "Epoch 00052: val_capsnet_acc did not improve from 0.36873\n",
      "Epoch 53/100\n",
      "207/207 [==============================] - 16s 76ms/step - loss: 0.4390 - capsnet_loss: 0.4390 - decoder_loss: 0.0291 - capsnet_acc: 0.4010 - val_loss: 0.4385 - val_capsnet_loss: 0.4385 - val_decoder_loss: 0.0300 - val_capsnet_acc: 0.3668\n",
      "\n",
      "Epoch 00053: val_capsnet_acc did not improve from 0.36873\n",
      "Epoch 54/100\n",
      "207/207 [==============================] - 16s 76ms/step - loss: 0.4379 - capsnet_loss: 0.4378 - decoder_loss: 0.0293 - capsnet_acc: 0.3855 - val_loss: 0.4384 - val_capsnet_loss: 0.4384 - val_decoder_loss: 0.0300 - val_capsnet_acc: 0.3649\n",
      "\n",
      "Epoch 00054: val_capsnet_acc did not improve from 0.36873\n",
      "Epoch 55/100\n",
      "207/207 [==============================] - 16s 76ms/step - loss: 0.4413 - capsnet_loss: 0.4413 - decoder_loss: 0.0291 - capsnet_acc: 0.3942 - val_loss: 0.4383 - val_capsnet_loss: 0.4383 - val_decoder_loss: 0.0300 - val_capsnet_acc: 0.3649\n",
      "\n",
      "Epoch 00055: val_capsnet_acc did not improve from 0.36873\n",
      "Epoch 56/100\n",
      "207/207 [==============================] - 16s 77ms/step - loss: 0.4408 - capsnet_loss: 0.4408 - decoder_loss: 0.0291 - capsnet_acc: 0.3855 - val_loss: 0.4382 - val_capsnet_loss: 0.4382 - val_decoder_loss: 0.0300 - val_capsnet_acc: 0.3668\n",
      "\n",
      "Epoch 00056: val_capsnet_acc did not improve from 0.36873\n",
      "Epoch 57/100\n",
      "207/207 [==============================] - 16s 76ms/step - loss: 0.4443 - capsnet_loss: 0.4443 - decoder_loss: 0.0291 - capsnet_acc: 0.3826 - val_loss: 0.4384 - val_capsnet_loss: 0.4383 - val_decoder_loss: 0.0300 - val_capsnet_acc: 0.3649\n",
      "\n",
      "Epoch 00057: val_capsnet_acc did not improve from 0.36873\n",
      "Epoch 58/100\n",
      "207/207 [==============================] - 16s 77ms/step - loss: 0.4416 - capsnet_loss: 0.4416 - decoder_loss: 0.0292 - capsnet_acc: 0.3874 - val_loss: 0.4383 - val_capsnet_loss: 0.4383 - val_decoder_loss: 0.0300 - val_capsnet_acc: 0.3649\n",
      "\n",
      "Epoch 00058: val_capsnet_acc did not improve from 0.36873\n",
      "Epoch 59/100\n",
      "207/207 [==============================] - 16s 78ms/step - loss: 0.4409 - capsnet_loss: 0.4409 - decoder_loss: 0.0292 - capsnet_acc: 0.3947 - val_loss: 0.4382 - val_capsnet_loss: 0.4382 - val_decoder_loss: 0.0300 - val_capsnet_acc: 0.3687\n",
      "\n",
      "Epoch 00059: val_capsnet_acc did not improve from 0.36873\n",
      "Epoch 60/100\n",
      "207/207 [==============================] - 16s 75ms/step - loss: 0.4416 - capsnet_loss: 0.4416 - decoder_loss: 0.0291 - capsnet_acc: 0.3855 - val_loss: 0.4382 - val_capsnet_loss: 0.4382 - val_decoder_loss: 0.0300 - val_capsnet_acc: 0.3649\n",
      "\n",
      "Epoch 00060: val_capsnet_acc did not improve from 0.36873\n",
      "Epoch 61/100\n",
      "207/207 [==============================] - 16s 77ms/step - loss: 0.4404 - capsnet_loss: 0.4404 - decoder_loss: 0.0290 - capsnet_acc: 0.3884 - val_loss: 0.4382 - val_capsnet_loss: 0.4382 - val_decoder_loss: 0.0300 - val_capsnet_acc: 0.3668\n",
      "\n",
      "Epoch 00061: val_capsnet_acc did not improve from 0.36873\n",
      "Epoch 62/100\n",
      "207/207 [==============================] - 16s 76ms/step - loss: 0.4413 - capsnet_loss: 0.4412 - decoder_loss: 0.0290 - capsnet_acc: 0.3865 - val_loss: 0.4382 - val_capsnet_loss: 0.4382 - val_decoder_loss: 0.0300 - val_capsnet_acc: 0.3649\n",
      "\n",
      "Epoch 00062: val_capsnet_acc did not improve from 0.36873\n",
      "Epoch 63/100\n",
      "207/207 [==============================] - 16s 76ms/step - loss: 0.4412 - capsnet_loss: 0.4412 - decoder_loss: 0.0291 - capsnet_acc: 0.3845 - val_loss: 0.4382 - val_capsnet_loss: 0.4381 - val_decoder_loss: 0.0300 - val_capsnet_acc: 0.3687\n",
      "\n",
      "Epoch 00063: val_capsnet_acc did not improve from 0.36873\n",
      "Epoch 64/100\n",
      "207/207 [==============================] - 16s 76ms/step - loss: 0.4387 - capsnet_loss: 0.4387 - decoder_loss: 0.0292 - capsnet_acc: 0.3971 - val_loss: 0.4382 - val_capsnet_loss: 0.4382 - val_decoder_loss: 0.0300 - val_capsnet_acc: 0.3649\n",
      "\n",
      "Epoch 00064: val_capsnet_acc did not improve from 0.36873\n",
      "Epoch 65/100\n",
      "207/207 [==============================] - 16s 76ms/step - loss: 0.4412 - capsnet_loss: 0.4412 - decoder_loss: 0.0290 - capsnet_acc: 0.3899 - val_loss: 0.4382 - val_capsnet_loss: 0.4382 - val_decoder_loss: 0.0300 - val_capsnet_acc: 0.3649\n",
      "\n",
      "Epoch 00065: val_capsnet_acc did not improve from 0.36873\n",
      "Epoch 66/100\n",
      "207/207 [==============================] - 16s 77ms/step - loss: 0.4413 - capsnet_loss: 0.4413 - decoder_loss: 0.0291 - capsnet_acc: 0.3903 - val_loss: 0.4382 - val_capsnet_loss: 0.4382 - val_decoder_loss: 0.0300 - val_capsnet_acc: 0.3649\n",
      "\n",
      "Epoch 00066: val_capsnet_acc did not improve from 0.36873\n",
      "Epoch 67/100\n",
      "207/207 [==============================] - 16s 76ms/step - loss: 0.4373 - capsnet_loss: 0.4373 - decoder_loss: 0.0292 - capsnet_acc: 0.3937 - val_loss: 0.4382 - val_capsnet_loss: 0.4382 - val_decoder_loss: 0.0300 - val_capsnet_acc: 0.3649\n",
      "\n",
      "Epoch 00067: val_capsnet_acc did not improve from 0.36873\n",
      "Epoch 68/100\n",
      "207/207 [==============================] - 16s 78ms/step - loss: 0.4410 - capsnet_loss: 0.4410 - decoder_loss: 0.0291 - capsnet_acc: 0.3928 - val_loss: 0.4382 - val_capsnet_loss: 0.4382 - val_decoder_loss: 0.0300 - val_capsnet_acc: 0.3649\n",
      "\n",
      "Epoch 00068: val_capsnet_acc did not improve from 0.36873\n",
      "Epoch 69/100\n",
      "207/207 [==============================] - 16s 76ms/step - loss: 0.4389 - capsnet_loss: 0.4389 - decoder_loss: 0.0292 - capsnet_acc: 0.3981 - val_loss: 0.4382 - val_capsnet_loss: 0.4382 - val_decoder_loss: 0.0300 - val_capsnet_acc: 0.3649\n",
      "\n",
      "Epoch 00069: val_capsnet_acc did not improve from 0.36873\n",
      "Epoch 70/100\n",
      "207/207 [==============================] - 16s 75ms/step - loss: 0.4409 - capsnet_loss: 0.4409 - decoder_loss: 0.0289 - capsnet_acc: 0.3865 - val_loss: 0.4381 - val_capsnet_loss: 0.4381 - val_decoder_loss: 0.0300 - val_capsnet_acc: 0.3649\n",
      "\n",
      "Epoch 00070: val_capsnet_acc did not improve from 0.36873\n",
      "Epoch 71/100\n",
      "207/207 [==============================] - 16s 75ms/step - loss: 0.4434 - capsnet_loss: 0.4434 - decoder_loss: 0.0291 - capsnet_acc: 0.3826 - val_loss: 0.4381 - val_capsnet_loss: 0.4381 - val_decoder_loss: 0.0300 - val_capsnet_acc: 0.3649\n",
      "\n",
      "Epoch 00071: val_capsnet_acc did not improve from 0.36873\n",
      "Epoch 72/100\n",
      "207/207 [==============================] - 16s 75ms/step - loss: 0.4416 - capsnet_loss: 0.4415 - decoder_loss: 0.0292 - capsnet_acc: 0.3826 - val_loss: 0.4381 - val_capsnet_loss: 0.4381 - val_decoder_loss: 0.0300 - val_capsnet_acc: 0.3649\n",
      "\n",
      "Epoch 00072: val_capsnet_acc did not improve from 0.36873\n",
      "Epoch 73/100\n",
      "207/207 [==============================] - 16s 76ms/step - loss: 0.4384 - capsnet_loss: 0.4383 - decoder_loss: 0.0292 - capsnet_acc: 0.3923 - val_loss: 0.4381 - val_capsnet_loss: 0.4381 - val_decoder_loss: 0.0300 - val_capsnet_acc: 0.3649\n",
      "\n",
      "Epoch 00073: val_capsnet_acc did not improve from 0.36873\n",
      "Epoch 74/100\n",
      "207/207 [==============================] - 16s 76ms/step - loss: 0.4380 - capsnet_loss: 0.4380 - decoder_loss: 0.0290 - capsnet_acc: 0.4024 - val_loss: 0.4381 - val_capsnet_loss: 0.4381 - val_decoder_loss: 0.0300 - val_capsnet_acc: 0.3649\n",
      "\n",
      "Epoch 00074: val_capsnet_acc did not improve from 0.36873\n",
      "Epoch 75/100\n",
      "207/207 [==============================] - 16s 78ms/step - loss: 0.4415 - capsnet_loss: 0.4415 - decoder_loss: 0.0291 - capsnet_acc: 0.3826 - val_loss: 0.4382 - val_capsnet_loss: 0.4381 - val_decoder_loss: 0.0300 - val_capsnet_acc: 0.3649\n",
      "\n",
      "Epoch 00075: val_capsnet_acc did not improve from 0.36873\n",
      "Epoch 76/100\n",
      "207/207 [==============================] - 16s 76ms/step - loss: 0.4398 - capsnet_loss: 0.4398 - decoder_loss: 0.0291 - capsnet_acc: 0.3899 - val_loss: 0.4382 - val_capsnet_loss: 0.4381 - val_decoder_loss: 0.0300 - val_capsnet_acc: 0.3649\n",
      "\n",
      "Epoch 00076: val_capsnet_acc did not improve from 0.36873\n",
      "Epoch 77/100\n",
      "207/207 [==============================] - 16s 77ms/step - loss: 0.4426 - capsnet_loss: 0.4426 - decoder_loss: 0.0291 - capsnet_acc: 0.3831 - val_loss: 0.4381 - val_capsnet_loss: 0.4381 - val_decoder_loss: 0.0300 - val_capsnet_acc: 0.3649\n",
      "\n",
      "Epoch 00077: val_capsnet_acc did not improve from 0.36873\n",
      "Epoch 78/100\n",
      "207/207 [==============================] - 16s 76ms/step - loss: 0.4390 - capsnet_loss: 0.4390 - decoder_loss: 0.0290 - capsnet_acc: 0.3928 - val_loss: 0.4381 - val_capsnet_loss: 0.4381 - val_decoder_loss: 0.0300 - val_capsnet_acc: 0.3649\n",
      "\n",
      "Epoch 00078: val_capsnet_acc did not improve from 0.36873\n",
      "Epoch 79/100\n",
      "207/207 [==============================] - 16s 76ms/step - loss: 0.4408 - capsnet_loss: 0.4408 - decoder_loss: 0.0290 - capsnet_acc: 0.3831 - val_loss: 0.4381 - val_capsnet_loss: 0.4381 - val_decoder_loss: 0.0300 - val_capsnet_acc: 0.3649\n",
      "\n",
      "Epoch 00079: val_capsnet_acc did not improve from 0.36873\n",
      "Epoch 80/100\n",
      "207/207 [==============================] - 16s 76ms/step - loss: 0.4399 - capsnet_loss: 0.4399 - decoder_loss: 0.0291 - capsnet_acc: 0.3908 - val_loss: 0.4381 - val_capsnet_loss: 0.4381 - val_decoder_loss: 0.0300 - val_capsnet_acc: 0.3649\n",
      "\n",
      "Epoch 00080: val_capsnet_acc did not improve from 0.36873\n",
      "Epoch 81/100\n",
      "207/207 [==============================] - 16s 75ms/step - loss: 0.4390 - capsnet_loss: 0.4390 - decoder_loss: 0.0290 - capsnet_acc: 0.3918 - val_loss: 0.4381 - val_capsnet_loss: 0.4381 - val_decoder_loss: 0.0300 - val_capsnet_acc: 0.3649\n",
      "\n",
      "Epoch 00081: val_capsnet_acc did not improve from 0.36873\n",
      "Epoch 82/100\n",
      "207/207 [==============================] - 16s 76ms/step - loss: 0.4392 - capsnet_loss: 0.4391 - decoder_loss: 0.0291 - capsnet_acc: 0.3841 - val_loss: 0.4381 - val_capsnet_loss: 0.4381 - val_decoder_loss: 0.0300 - val_capsnet_acc: 0.3649\n",
      "\n",
      "Epoch 00082: val_capsnet_acc did not improve from 0.36873\n",
      "Epoch 83/100\n",
      "207/207 [==============================] - 16s 76ms/step - loss: 0.4397 - capsnet_loss: 0.4397 - decoder_loss: 0.0290 - capsnet_acc: 0.4005 - val_loss: 0.4381 - val_capsnet_loss: 0.4381 - val_decoder_loss: 0.0300 - val_capsnet_acc: 0.3649\n",
      "\n",
      "Epoch 00083: val_capsnet_acc did not improve from 0.36873\n",
      "Epoch 84/100\n",
      "207/207 [==============================] - 16s 77ms/step - loss: 0.4404 - capsnet_loss: 0.4404 - decoder_loss: 0.0289 - capsnet_acc: 0.3899 - val_loss: 0.4381 - val_capsnet_loss: 0.4381 - val_decoder_loss: 0.0300 - val_capsnet_acc: 0.3649\n",
      "\n",
      "Epoch 00084: val_capsnet_acc did not improve from 0.36873\n",
      "Epoch 85/100\n",
      "207/207 [==============================] - 16s 76ms/step - loss: 0.4438 - capsnet_loss: 0.4438 - decoder_loss: 0.0292 - capsnet_acc: 0.3773 - val_loss: 0.4381 - val_capsnet_loss: 0.4381 - val_decoder_loss: 0.0300 - val_capsnet_acc: 0.3649\n",
      "\n",
      "Epoch 00085: val_capsnet_acc did not improve from 0.36873\n",
      "Epoch 86/100\n",
      "207/207 [==============================] - 16s 75ms/step - loss: 0.4374 - capsnet_loss: 0.4374 - decoder_loss: 0.0291 - capsnet_acc: 0.3966 - val_loss: 0.4381 - val_capsnet_loss: 0.4381 - val_decoder_loss: 0.0300 - val_capsnet_acc: 0.3649\n",
      "\n",
      "Epoch 00086: val_capsnet_acc did not improve from 0.36873\n",
      "Epoch 87/100\n",
      "207/207 [==============================] - 16s 77ms/step - loss: 0.4393 - capsnet_loss: 0.4393 - decoder_loss: 0.0291 - capsnet_acc: 0.3908 - val_loss: 0.4381 - val_capsnet_loss: 0.4381 - val_decoder_loss: 0.0300 - val_capsnet_acc: 0.3649\n",
      "\n",
      "Epoch 00087: val_capsnet_acc did not improve from 0.36873\n",
      "Epoch 88/100\n",
      "207/207 [==============================] - 16s 76ms/step - loss: 0.4417 - capsnet_loss: 0.4417 - decoder_loss: 0.0291 - capsnet_acc: 0.3826 - val_loss: 0.4381 - val_capsnet_loss: 0.4381 - val_decoder_loss: 0.0299 - val_capsnet_acc: 0.3649\n",
      "\n",
      "Epoch 00088: val_capsnet_acc did not improve from 0.36873\n",
      "Epoch 89/100\n",
      "207/207 [==============================] - 16s 75ms/step - loss: 0.4391 - capsnet_loss: 0.4390 - decoder_loss: 0.0291 - capsnet_acc: 0.3889 - val_loss: 0.4381 - val_capsnet_loss: 0.4381 - val_decoder_loss: 0.0299 - val_capsnet_acc: 0.3649\n",
      "\n",
      "Epoch 00089: val_capsnet_acc did not improve from 0.36873\n",
      "Epoch 90/100\n",
      "207/207 [==============================] - 16s 75ms/step - loss: 0.4406 - capsnet_loss: 0.4406 - decoder_loss: 0.0291 - capsnet_acc: 0.3870 - val_loss: 0.4381 - val_capsnet_loss: 0.4381 - val_decoder_loss: 0.0299 - val_capsnet_acc: 0.3649\n",
      "\n",
      "Epoch 00090: val_capsnet_acc did not improve from 0.36873\n",
      "Epoch 91/100\n",
      "207/207 [==============================] - 15s 75ms/step - loss: 0.4409 - capsnet_loss: 0.4409 - decoder_loss: 0.0292 - capsnet_acc: 0.3971 - val_loss: 0.4381 - val_capsnet_loss: 0.4381 - val_decoder_loss: 0.0299 - val_capsnet_acc: 0.3649\n",
      "\n",
      "Epoch 00091: val_capsnet_acc did not improve from 0.36873\n",
      "Epoch 92/100\n",
      "207/207 [==============================] - 16s 75ms/step - loss: 0.4393 - capsnet_loss: 0.4393 - decoder_loss: 0.0290 - capsnet_acc: 0.3986 - val_loss: 0.4381 - val_capsnet_loss: 0.4381 - val_decoder_loss: 0.0299 - val_capsnet_acc: 0.3649\n",
      "\n",
      "Epoch 00092: val_capsnet_acc did not improve from 0.36873\n",
      "Epoch 93/100\n",
      "207/207 [==============================] - 16s 76ms/step - loss: 0.4406 - capsnet_loss: 0.4406 - decoder_loss: 0.0292 - capsnet_acc: 0.3874 - val_loss: 0.4381 - val_capsnet_loss: 0.4381 - val_decoder_loss: 0.0299 - val_capsnet_acc: 0.3649\n",
      "\n",
      "Epoch 00093: val_capsnet_acc did not improve from 0.36873\n",
      "Epoch 94/100\n",
      "207/207 [==============================] - 16s 78ms/step - loss: 0.4401 - capsnet_loss: 0.4401 - decoder_loss: 0.0292 - capsnet_acc: 0.3947 - val_loss: 0.4381 - val_capsnet_loss: 0.4381 - val_decoder_loss: 0.0299 - val_capsnet_acc: 0.3649\n",
      "\n",
      "Epoch 00094: val_capsnet_acc did not improve from 0.36873\n",
      "Epoch 95/100\n",
      "207/207 [==============================] - 15s 75ms/step - loss: 0.4400 - capsnet_loss: 0.4400 - decoder_loss: 0.0291 - capsnet_acc: 0.4072 - val_loss: 0.4381 - val_capsnet_loss: 0.4381 - val_decoder_loss: 0.0299 - val_capsnet_acc: 0.3649\n",
      "\n",
      "Epoch 00095: val_capsnet_acc did not improve from 0.36873\n",
      "Epoch 96/100\n",
      "207/207 [==============================] - 15s 75ms/step - loss: 0.4392 - capsnet_loss: 0.4392 - decoder_loss: 0.0291 - capsnet_acc: 0.3865 - val_loss: 0.4381 - val_capsnet_loss: 0.4381 - val_decoder_loss: 0.0299 - val_capsnet_acc: 0.3649\n",
      "\n",
      "Epoch 00096: val_capsnet_acc did not improve from 0.36873\n",
      "Epoch 97/100\n",
      "207/207 [==============================] - 16s 75ms/step - loss: 0.4404 - capsnet_loss: 0.4404 - decoder_loss: 0.0290 - capsnet_acc: 0.3821 - val_loss: 0.4381 - val_capsnet_loss: 0.4381 - val_decoder_loss: 0.0299 - val_capsnet_acc: 0.3649\n",
      "\n",
      "Epoch 00097: val_capsnet_acc did not improve from 0.36873\n",
      "Epoch 98/100\n",
      "207/207 [==============================] - 16s 75ms/step - loss: 0.4408 - capsnet_loss: 0.4408 - decoder_loss: 0.0290 - capsnet_acc: 0.3884 - val_loss: 0.4381 - val_capsnet_loss: 0.4381 - val_decoder_loss: 0.0299 - val_capsnet_acc: 0.3649\n",
      "\n",
      "Epoch 00098: val_capsnet_acc did not improve from 0.36873\n",
      "Epoch 99/100\n",
      "207/207 [==============================] - 16s 75ms/step - loss: 0.4404 - capsnet_loss: 0.4403 - decoder_loss: 0.0292 - capsnet_acc: 0.3952 - val_loss: 0.4381 - val_capsnet_loss: 0.4381 - val_decoder_loss: 0.0299 - val_capsnet_acc: 0.3649\n",
      "\n",
      "Epoch 00099: val_capsnet_acc did not improve from 0.36873\n",
      "Epoch 100/100\n",
      "207/207 [==============================] - 16s 75ms/step - loss: 0.4404 - capsnet_loss: 0.4404 - decoder_loss: 0.0290 - capsnet_acc: 0.3899 - val_loss: 0.4381 - val_capsnet_loss: 0.4381 - val_decoder_loss: 0.0299 - val_capsnet_acc: 0.3649\n",
      "\n",
      "Epoch 00100: val_capsnet_acc did not improve from 0.36873\n"
     ]
    }
   ],
   "source": [
    "history = capsnet.train(data, batch_size=10, extra_callbacks=[tensor_board_callback])"
   ]
  },
  {
   "cell_type": "markdown",
   "metadata": {
    "colab_type": "text",
    "id": "tVDX0tKSau_m"
   },
   "source": [
    "## Results of training"
   ]
  },
  {
   "cell_type": "code",
   "execution_count": 11,
   "metadata": {
    "colab": {
     "base_uri": "https://localhost:8080/",
     "height": 630
    },
    "colab_type": "code",
    "id": "8ZDCbccf06PR",
    "outputId": "fe45518b-9ccf-44a8-e7c2-9e90c1a068da"
   },
   "outputs": [
    {
     "data": {
      "text/plain": [
       "<matplotlib.legend.Legend at 0x7fd7b6a9e588>"
      ]
     },
     "execution_count": 11,
     "metadata": {
      "tags": []
     },
     "output_type": "execute_result"
    },
    {
     "data": {
      "image/png": "[encoded data removed]",
      "text/plain": [
       "<Figure size 720x720 with 1 Axes>"
      ]
     },
     "metadata": {
      "tags": []
     },
     "output_type": "display_data"
    }
   ],
   "source": [
    "plt.figure(figsize=(10, 10))\n",
    "plt.plot(history.history['capsnet_acc'])\n",
    "plt.plot(history.history['val_capsnet_acc'])\n",
    "plt.ylabel('accuracy', fontsize='x-large')\n",
    "plt.xlabel('epoch', fontsize='x-large')\n",
    "plt.legend(['train', 'test'], loc='upper left', fontsize='x-large')"
   ]
  },
  {
   "cell_type": "markdown",
   "metadata": {
    "colab_type": "text",
    "id": "KdY8cVHGOQIq"
   },
   "source": [
    "## Testing"
   ]
  },
  {
   "cell_type": "code",
   "execution_count": 16,
   "metadata": {
    "colab": {
     "base_uri": "https://localhost:8080/",
     "height": 51
    },
    "colab_type": "code",
    "id": "8-bLBezYOYLz",
    "outputId": "2524c8a6-6abb-4809-d7ef-2cc6b1650ba9"
   },
   "outputs": [
    {
     "name": "stdout",
     "output_type": "stream",
     "text": [
      "------------------------------Begin: test------------------------------\n",
      "Test accuracy: 0.36486486486486486\n"
     ]
    }
   ],
   "source": [
    "predictions = capsnet.test((x_test, y_test))"
   ]
  },
  {
   "cell_type": "code",
   "execution_count": 46,
   "metadata": {
    "colab": {
     "base_uri": "https://localhost:8080/",
     "height": 1452
    },
    "colab_type": "code",
    "id": "T7FwC33KQ7zk",
    "outputId": "23fcacd4-1be3-40b0-bfed-db16af15d8d3"
   },
   "outputs": [
    {
     "data": {
      "image/png": "[encoded data removed]",
      "text/plain": [
       "<Figure size 720x1800 with 10 Axes>"
      ]
     },
     "metadata": {
      "tags": []
     },
     "output_type": "display_data"
    }
   ],
   "source": [
    "fig, axs = plt.subplots(5, 2, figsize=(10, 25))\n",
    "fig.subplots_adjust(hspace=.5)\n",
    "axs = axs.ravel()\n",
    "bins = len(np.unique(y_train, axis=0))\n",
    "for i in range(10):\n",
    "    predicted_idx = np.argmax(predictions[i // 2])\n",
    "    real_idx = np.argmax(y_test[i // 2])\n",
    "    if i%2 == 0:\n",
    "        axs[i].axis('off')\n",
    "        axs[i].imshow(x_test[i // 2])\n",
    "        predicted_name = people.target_names[predicted_idx]\n",
    "        real_name = people.target_names[real_idx]\n",
    "        axs[i].set_title(\"Prediction: %s\\nReal: %s\" % (predicted_name, real_name))\n",
    "    else:\n",
    "        bars = axs[i].bar(np.arange(bins), predictions[i // 2])\n",
    "        axs[i].set_ylabel(\"Softmax\")\n",
    "        axs[i].set_xlabel(\"Labels\")\n",
    "        bars[real_idx].set_color('r')\n",
    "        bars[predicted_idx].set_color('g')\n",
    "        axs[i].set_title(\"Good\" if real_idx == predicted_idx else 'Fail')\n",
    "\n",
    "plt.show()"
   ]
  }
 ],
 "metadata": {
  "accelerator": "GPU",
  "colab": {
   "collapsed_sections": [],
   "name": "CapsNet.ipynb",
   "provenance": [],
   "version": "0.3.2"
  },
  "kernelspec": {
   "display_name": "Python 3",
   "language": "python",
   "name": "python3"
  },
  "language_info": {
   "codemirror_mode": {
    "name": "ipython",
    "version": 3
   },
   "file_extension": ".py",
   "mimetype": "text/x-python",
   "name": "python",
   "nbconvert_exporter": "python",
   "pygments_lexer": "ipython3",
   "version": "3.6.8"
  }
 },
 "nbformat": 4,
 "nbformat_minor": 1
}
