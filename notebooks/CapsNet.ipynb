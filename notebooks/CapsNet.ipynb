{
  "nbformat": 4,
  "nbformat_minor": 0,
  "metadata": {
    "colab": {
      "name": "Capsnet.ipynb",
      "version": "0.3.2",
      "provenance": [],
      "collapsed_sections": []
    },
    "kernelspec": {
      "name": "python3",
      "display_name": "Python 3"
    },
    "accelerator": "GPU"
  },
  "cells": [
    {
      "metadata": {
        "id": "mxyHDbGxWL9A",
        "colab_type": "text"
      },
      "cell_type": "markdown",
      "source": [
        "# Intro"
      ]
    },
    {
      "metadata": {
        "id": "J5eueFsCss8g",
        "colab_type": "text"
      },
      "cell_type": "markdown",
      "source": [
        "## Load and import CapsNet\n",
        "\n",
        "First, let's clone our GitHub repo and import all parts which will be used in this notebook."
      ]
    },
    {
      "metadata": {
        "id": "VphwW703qtDn",
        "colab_type": "code",
        "outputId": "85d6895f-380a-4c98-8fbd-cdb13382858c",
        "colab": {
          "base_uri": "https://localhost:8080/",
          "height": 561
        }
      },
      "cell_type": "code",
      "source": [
        "!pip install git+https://github.com/tumido/face_biometrics_descriptor-code.git\n",
        "\n",
        "from sklearn.datasets import fetch_lfw_people\n",
        "from capsnet import preprocess_lfw_people, CapsNet"
      ],
      "execution_count": 1,
      "outputs": [
        {
          "output_type": "stream",
          "text": [
            "Collecting git+https://github.com/tumido/face_biometrics_descriptor-code.git\n",
            "  Cloning https://github.com/tumido/face_biometrics_descriptor-code.git to /tmp/pip-req-build-ihpuzj7q\n",
            "Requirement already satisfied (use --upgrade to upgrade): capsnet==0.1 from git+https://github.com/tumido/face_biometrics_descriptor-code.git in /usr/local/lib/python3.6/dist-packages\n",
            "Requirement already satisfied: tensorflow in /usr/local/lib/python3.6/dist-packages (from capsnet==0.1) (1.13.1)\n",
            "Requirement already satisfied: scikit-learn in /usr/local/lib/python3.6/dist-packages (from capsnet==0.1) (0.20.3)\n",
            "Requirement already satisfied: keras in /usr/local/lib/python3.6/dist-packages (from capsnet==0.1) (2.2.4)\n",
            "Requirement already satisfied: numpy in /usr/local/lib/python3.6/dist-packages (from capsnet==0.1) (1.16.2)\n",
            "Requirement already satisfied: gast>=0.2.0 in /usr/local/lib/python3.6/dist-packages (from tensorflow->capsnet==0.1) (0.2.2)\n",
            "Requirement already satisfied: keras-applications>=1.0.6 in /usr/local/lib/python3.6/dist-packages (from tensorflow->capsnet==0.1) (1.0.7)\n",
            "Requirement already satisfied: keras-preprocessing>=1.0.5 in /usr/local/lib/python3.6/dist-packages (from tensorflow->capsnet==0.1) (1.0.9)\n",
            "Requirement already satisfied: absl-py>=0.1.6 in /usr/local/lib/python3.6/dist-packages (from tensorflow->capsnet==0.1) (0.7.1)\n",
            "Requirement already satisfied: six>=1.10.0 in /usr/local/lib/python3.6/dist-packages (from tensorflow->capsnet==0.1) (1.11.0)\n",
            "Requirement already satisfied: tensorboard<1.14.0,>=1.13.0 in /usr/local/lib/python3.6/dist-packages (from tensorflow->capsnet==0.1) (1.13.1)\n",
            "Requirement already satisfied: termcolor>=1.1.0 in /usr/local/lib/python3.6/dist-packages (from tensorflow->capsnet==0.1) (1.1.0)\n",
            "Requirement already satisfied: grpcio>=1.8.6 in /usr/local/lib/python3.6/dist-packages (from tensorflow->capsnet==0.1) (1.15.0)\n",
            "Requirement already satisfied: wheel>=0.26 in /usr/local/lib/python3.6/dist-packages (from tensorflow->capsnet==0.1) (0.33.1)\n",
            "Requirement already satisfied: protobuf>=3.6.1 in /usr/local/lib/python3.6/dist-packages (from tensorflow->capsnet==0.1) (3.7.1)\n",
            "Requirement already satisfied: tensorflow-estimator<1.14.0rc0,>=1.13.0 in /usr/local/lib/python3.6/dist-packages (from tensorflow->capsnet==0.1) (1.13.0)\n",
            "Requirement already satisfied: astor>=0.6.0 in /usr/local/lib/python3.6/dist-packages (from tensorflow->capsnet==0.1) (0.7.1)\n",
            "Requirement already satisfied: scipy>=0.13.3 in /usr/local/lib/python3.6/dist-packages (from scikit-learn->capsnet==0.1) (1.2.1)\n",
            "Requirement already satisfied: h5py in /usr/local/lib/python3.6/dist-packages (from keras->capsnet==0.1) (2.8.0)\n",
            "Requirement already satisfied: pyyaml in /usr/local/lib/python3.6/dist-packages (from keras->capsnet==0.1) (3.13)\n",
            "Requirement already satisfied: markdown>=2.6.8 in /usr/local/lib/python3.6/dist-packages (from tensorboard<1.14.0,>=1.13.0->tensorflow->capsnet==0.1) (3.1)\n",
            "Requirement already satisfied: werkzeug>=0.11.15 in /usr/local/lib/python3.6/dist-packages (from tensorboard<1.14.0,>=1.13.0->tensorflow->capsnet==0.1) (0.15.2)\n",
            "Requirement already satisfied: setuptools in /usr/local/lib/python3.6/dist-packages (from protobuf>=3.6.1->tensorflow->capsnet==0.1) (40.9.0)\n",
            "Requirement already satisfied: mock>=2.0.0 in /usr/local/lib/python3.6/dist-packages (from tensorflow-estimator<1.14.0rc0,>=1.13.0->tensorflow->capsnet==0.1) (2.0.0)\n",
            "Requirement already satisfied: pbr>=0.11 in /usr/local/lib/python3.6/dist-packages (from mock>=2.0.0->tensorflow-estimator<1.14.0rc0,>=1.13.0->tensorflow->capsnet==0.1) (5.1.3)\n",
            "Building wheels for collected packages: capsnet\n",
            "  Building wheel for capsnet (setup.py) ... \u001b[?25ldone\n",
            "\u001b[?25h  Stored in directory: /tmp/pip-ephem-wheel-cache-cu4nf7zp/wheels/4b/a7/58/b3478a3941f54e41b3d1461c27bdd21d9d1aea4719811f7746\n",
            "Successfully built capsnet\n"
          ],
          "name": "stdout"
        },
        {
          "output_type": "stream",
          "text": [
            "Using TensorFlow backend.\n"
          ],
          "name": "stderr"
        }
      ]
    },
    {
      "metadata": {
        "id": "lXW-IfxnXdB8",
        "colab_type": "text"
      },
      "cell_type": "markdown",
      "source": [
        "## Auxilary imports\n",
        "\n",
        "Additional imports used in this Notebook would help to visualize data."
      ]
    },
    {
      "metadata": {
        "id": "r0B1RTylXldU",
        "colab_type": "code",
        "colab": {}
      },
      "cell_type": "code",
      "source": [
        "import numpy as np\n",
        "from sklearn.metrics import confusion_matrix\n",
        "%matplotlib inline\n",
        "import matplotlib.pyplot as plt\n",
        "import pandas as pd\n",
        "from random import randint"
      ],
      "execution_count": 0,
      "outputs": []
    },
    {
      "metadata": {
        "id": "yf59QXJdWRnM",
        "colab_type": "text"
      },
      "cell_type": "markdown",
      "source": [
        "## Verify GPU\n",
        "\n",
        "in the next cell we verify that a GPU is available to our use. The output should contain a `Tesla K80` GPU."
      ]
    },
    {
      "metadata": {
        "id": "C35iLzmqWeGl",
        "colab_type": "code",
        "outputId": "a6a0ea2e-b4f5-46a4-e0b4-b02993653c40",
        "colab": {
          "base_uri": "https://localhost:8080/",
          "height": 476
        }
      },
      "cell_type": "code",
      "source": [
        "from tensorflow.python.client import device_lib\n",
        "device_lib.list_local_devices()"
      ],
      "execution_count": 3,
      "outputs": [
        {
          "output_type": "execute_result",
          "data": {
            "text/plain": [
              "[name: \"/device:CPU:0\"\n",
              " device_type: \"CPU\"\n",
              " memory_limit: 268435456\n",
              " locality {\n",
              " }\n",
              " incarnation: 231443036070779311, name: \"/device:XLA_CPU:0\"\n",
              " device_type: \"XLA_CPU\"\n",
              " memory_limit: 17179869184\n",
              " locality {\n",
              " }\n",
              " incarnation: 14441555638603040235\n",
              " physical_device_desc: \"device: XLA_CPU device\", name: \"/device:XLA_GPU:0\"\n",
              " device_type: \"XLA_GPU\"\n",
              " memory_limit: 17179869184\n",
              " locality {\n",
              " }\n",
              " incarnation: 18162430666935898592\n",
              " physical_device_desc: \"device: XLA_GPU device\", name: \"/device:GPU:0\"\n",
              " device_type: \"GPU\"\n",
              " memory_limit: 14800692839\n",
              " locality {\n",
              "   bus_id: 1\n",
              "   links {\n",
              "   }\n",
              " }\n",
              " incarnation: 13823495334354001618\n",
              " physical_device_desc: \"device: 0, name: Tesla T4, pci bus id: 0000:00:04.0, compute capability: 7.5\"]"
            ]
          },
          "metadata": {
            "tags": []
          },
          "execution_count": 3
        }
      ]
    },
    {
      "metadata": {
        "id": "Gm3DsF4StZ_f",
        "colab_type": "text"
      },
      "cell_type": "markdown",
      "source": [
        "## Collect data set \n",
        "\n",
        "We're gonna be working with LFW dataset"
      ]
    },
    {
      "metadata": {
        "id": "MWP1fbqyrK2e",
        "colab_type": "code",
        "colab": {}
      },
      "cell_type": "code",
      "source": [
        "people = fetch_lfw_people(\n",
        "    color=True,\n",
        "    min_faces_per_person=40\n",
        ")\n",
        "\n",
        "\n",
        "data = preprocess_lfw_people(people)\n",
        "(x_train, y_train), (x_test, y_test) = data"
      ],
      "execution_count": 0,
      "outputs": []
    },
    {
      "metadata": {
        "id": "jAr9gS3Ama1b",
        "colab_type": "code",
        "outputId": "8e214c11-da89-40a2-9136-f369a7a17b1d",
        "colab": {
          "base_uri": "https://localhost:8080/",
          "height": 204
        }
      },
      "cell_type": "code",
      "source": [
        "metrics = [\n",
        "    [\"Identities\", len(np.unique(people.target, axis=0))],\n",
        "    [\"Total images\", people.target.shape[0]],\n",
        "    [\"Train images\", len(y_train)],\n",
        "    [\"Test images\", len(y_test)],\n",
        "    [\"Image shape\", x_train.shape[1:]]\n",
        "]\n",
        "pd.DataFrame(metrics, columns=[\"Name\", \"Value\"])"
      ],
      "execution_count": 11,
      "outputs": [
        {
          "output_type": "execute_result",
          "data": {
            "text/html": [
              "<div>\n",
              "<style scoped>\n",
              "    .dataframe tbody tr th:only-of-type {\n",
              "        vertical-align: middle;\n",
              "    }\n",
              "\n",
              "    .dataframe tbody tr th {\n",
              "        vertical-align: top;\n",
              "    }\n",
              "\n",
              "    .dataframe thead th {\n",
              "        text-align: right;\n",
              "    }\n",
              "</style>\n",
              "<table border=\"1\" class=\"dataframe\">\n",
              "  <thead>\n",
              "    <tr style=\"text-align: right;\">\n",
              "      <th></th>\n",
              "      <th>Name</th>\n",
              "      <th>Value</th>\n",
              "    </tr>\n",
              "  </thead>\n",
              "  <tbody>\n",
              "    <tr>\n",
              "      <th>0</th>\n",
              "      <td>Identities</td>\n",
              "      <td>19</td>\n",
              "    </tr>\n",
              "    <tr>\n",
              "      <th>1</th>\n",
              "      <td>Total images</td>\n",
              "      <td>1867</td>\n",
              "    </tr>\n",
              "    <tr>\n",
              "      <th>2</th>\n",
              "      <td>Train images</td>\n",
              "      <td>1493</td>\n",
              "    </tr>\n",
              "    <tr>\n",
              "      <th>3</th>\n",
              "      <td>Test images</td>\n",
              "      <td>374</td>\n",
              "    </tr>\n",
              "    <tr>\n",
              "      <th>4</th>\n",
              "      <td>Image shape</td>\n",
              "      <td>(32, 32, 3)</td>\n",
              "    </tr>\n",
              "  </tbody>\n",
              "</table>\n",
              "</div>"
            ],
            "text/plain": [
              "           Name        Value\n",
              "0    Identities           19\n",
              "1  Total images         1867\n",
              "2  Train images         1493\n",
              "3   Test images          374\n",
              "4   Image shape  (32, 32, 3)"
            ]
          },
          "metadata": {
            "tags": []
          },
          "execution_count": 11
        }
      ]
    },
    {
      "metadata": {
        "id": "3ZCoPj6ghtOM",
        "colab_type": "code",
        "outputId": "ef90bd6b-a2f6-4969-8462-a26c54178cc2",
        "colab": {
          "base_uri": "https://localhost:8080/",
          "height": 269
        }
      },
      "cell_type": "code",
      "source": [
        "_ = plt.hist(people.target, bins=people.target_names.shape[0])"
      ],
      "execution_count": 12,
      "outputs": [
        {
          "output_type": "display_data",
          "data": {
            "image/png": "[encoded data removed]",
            "text/plain": [
              "<Figure size 432x288 with 1 Axes>"
            ]
          },
          "metadata": {
            "tags": []
          }
        }
      ]
    },
    {
      "metadata": {
        "id": "enDcEbijABEv",
        "colab_type": "code",
        "outputId": "d9ea6e59-1550-4548-c327-d0cf3659c973",
        "colab": {
          "base_uri": "https://localhost:8080/",
          "height": 286
        }
      },
      "cell_type": "code",
      "source": [
        "i = randint(0, len(x_train))\n",
        "plt.imshow(x_train[i])\n",
        "print(\"{}: {}\".format(np.argmax(y_train[i]), people.target_names[np.argmax(y_train[i])]))"
      ],
      "execution_count": 13,
      "outputs": [
        {
          "output_type": "stream",
          "text": [
            "4: George W Bush\n"
          ],
          "name": "stdout"
        },
        {
          "output_type": "display_data",
          "data": {
            "image/png": "[encoded data removed]",
            "text/plain": [
              "<Figure size 432x288 with 1 Axes>"
            ]
          },
          "metadata": {
            "tags": []
          }
        }
      ]
    },
    {
      "metadata": {
        "id": "GO6c2pk1k0Lr",
        "colab_type": "text"
      },
      "cell_type": "markdown",
      "source": [
        "## CapsNet\n",
        "\n",
        "Let's begin training our network"
      ]
    },
    {
      "metadata": {
        "id": "MSvdR8A6tp-V",
        "colab_type": "code",
        "outputId": "ec293aa6-657a-4266-a319-859868ff5d9f",
        "colab": {
          "base_uri": "https://localhost:8080/",
          "height": 493
        }
      },
      "cell_type": "code",
      "source": [
        "capsnet = CapsNet(\n",
        "    x_train.shape[1:],\n",
        "    len(np.unique(y_train, axis=0))\n",
        ")\n",
        "capsnet.models['train'].summary()"
      ],
      "execution_count": 14,
      "outputs": [
        {
          "output_type": "stream",
          "text": [
            "__________________________________________________________________________________________________\n",
            "Layer (type)                    Output Shape         Param #     Connected to                     \n",
            "==================================================================================================\n",
            "input_image (InputLayer)        (None, 32, 32, 3)    0                                            \n",
            "__________________________________________________________________________________________________\n",
            "encoder_conv2d (Conv2D)         (None, 24, 24, 256)  62464       input_image[0][0]                \n",
            "__________________________________________________________________________________________________\n",
            "encoder_feature_caps_conv2d (Co (None, 8, 8, 256)    5308672     encoder_conv2d[0][0]             \n",
            "__________________________________________________________________________________________________\n",
            "encoder_feature_caps_reshape (R (None, 2048, 8)      0           encoder_feature_caps_conv2d[0][0]\n",
            "__________________________________________________________________________________________________\n",
            "encoder_feature_caps_squash (La (None, 2048, 8)      0           encoder_feature_caps_reshape[0][0\n",
            "__________________________________________________________________________________________________\n",
            "encoder_pred_caps (PredictionCa (None, 19, 16)       4980736     encoder_feature_caps_squash[0][0]\n",
            "__________________________________________________________________________________________________\n",
            "input_label (InputLayer)        (None, 19)           0                                            \n",
            "__________________________________________________________________________________________________\n",
            "mask_with_labels (Mask)         (None, 304)          0           encoder_pred_caps[0][0]          \n",
            "                                                                 input_label[0][0]                \n",
            "__________________________________________________________________________________________________\n",
            "capsnet (Lambda)                (None, 19)           0           encoder_pred_caps[0][0]          \n",
            "__________________________________________________________________________________________________\n",
            "decoder (Sequential)            (None, 32, 32, 3)    136279      mask_with_labels[0][0]           \n",
            "==================================================================================================\n",
            "Total params: 10,488,151\n",
            "Trainable params: 10,488,151\n",
            "Non-trainable params: 0\n",
            "__________________________________________________________________________________________________\n"
          ],
          "name": "stdout"
        }
      ]
    },
    {
      "metadata": {
        "id": "khy5eJS_ul2B",
        "colab_type": "code",
        "outputId": "0140bc72-dfc1-4f4a-a6b5-ca3a2c11bdca",
        "colab": {
          "base_uri": "https://localhost:8080/",
          "height": 6837
        }
      },
      "cell_type": "code",
      "source": [
        "history = capsnet.train(data, batch_size=10)"
      ],
      "execution_count": 15,
      "outputs": [
        {
          "output_type": "stream",
          "text": [
            "Epoch 1/100\n",
            "150/149 [==============================] - 23s 156ms/step - loss: 9.5235 - capsnet_loss: 1.3661 - decoder_loss: 16314.8271 - capsnet_acc: 0.2447 - val_loss: 4.4520 - val_capsnet_loss: 1.1664 - val_decoder_loss: 6571.2750 - val_capsnet_acc: 0.2754\n",
            "\n",
            "Epoch 00001: val_capsnet_acc improved from -inf to 0.27540, saving model to model/weights.01.h5\n",
            "Epoch 2/100\n",
            "150/149 [==============================] - 23s 152ms/step - loss: 3.0037 - capsnet_loss: 0.7999 - decoder_loss: 4407.5821 - capsnet_acc: 0.2896 - val_loss: 2.7175 - val_capsnet_loss: 0.7577 - val_decoder_loss: 3919.7584 - val_capsnet_acc: 0.2754\n",
            "\n",
            "Epoch 00002: val_capsnet_acc did not improve from 0.27540\n",
            "Epoch 3/100\n",
            "150/149 [==============================] - 24s 158ms/step - loss: 2.5962 - capsnet_loss: 0.6960 - decoder_loss: 3800.2891 - capsnet_acc: 0.3124 - val_loss: 2.6258 - val_capsnet_loss: 0.7002 - val_decoder_loss: 3851.1806 - val_capsnet_acc: 0.3155\n",
            "\n",
            "Epoch 00003: val_capsnet_acc improved from 0.27540 to 0.31551, saving model to model/weights.03.h5\n",
            "Epoch 4/100\n",
            "150/149 [==============================] - 24s 158ms/step - loss: 2.4697 - capsnet_loss: 0.6450 - decoder_loss: 3649.3904 - capsnet_acc: 0.3618 - val_loss: 2.4581 - val_capsnet_loss: 0.6464 - val_decoder_loss: 3623.3588 - val_capsnet_acc: 0.3824\n",
            "\n",
            "Epoch 00004: val_capsnet_acc improved from 0.31551 to 0.38235, saving model to model/weights.04.h5\n",
            "Epoch 5/100\n",
            "150/149 [==============================] - 24s 161ms/step - loss: 2.3246 - capsnet_loss: 0.5931 - decoder_loss: 3462.9950 - capsnet_acc: 0.4436 - val_loss: 2.3903 - val_capsnet_loss: 0.6428 - val_decoder_loss: 3495.0210 - val_capsnet_acc: 0.3636\n",
            "\n",
            "Epoch 00005: val_capsnet_acc did not improve from 0.38235\n",
            "Epoch 6/100\n",
            "150/149 [==============================] - 23s 153ms/step - loss: 2.1620 - capsnet_loss: 0.5447 - decoder_loss: 3234.4814 - capsnet_acc: 0.5144 - val_loss: 2.2432 - val_capsnet_loss: 0.6110 - val_decoder_loss: 3264.4732 - val_capsnet_acc: 0.4171\n",
            "\n",
            "Epoch 00006: val_capsnet_acc improved from 0.38235 to 0.41711, saving model to model/weights.06.h5\n",
            "Epoch 7/100\n",
            "150/149 [==============================] - 23s 155ms/step - loss: 1.9813 - capsnet_loss: 0.4940 - decoder_loss: 2974.6890 - capsnet_acc: 0.6040 - val_loss: 2.0950 - val_capsnet_loss: 0.5677 - val_decoder_loss: 3054.4918 - val_capsnet_acc: 0.5401\n",
            "\n",
            "Epoch 00007: val_capsnet_acc improved from 0.41711 to 0.54011, saving model to model/weights.07.h5\n",
            "Epoch 8/100\n",
            "150/149 [==============================] - 23s 154ms/step - loss: 1.7908 - capsnet_loss: 0.4442 - decoder_loss: 2693.1950 - capsnet_acc: 0.7020 - val_loss: 1.9298 - val_capsnet_loss: 0.5471 - val_decoder_loss: 2765.2412 - val_capsnet_acc: 0.5481\n",
            "\n",
            "Epoch 00008: val_capsnet_acc improved from 0.54011 to 0.54813, saving model to model/weights.08.h5\n",
            "Epoch 9/100\n",
            "150/149 [==============================] - 24s 162ms/step - loss: 1.6242 - capsnet_loss: 0.4008 - decoder_loss: 2446.8216 - capsnet_acc: 0.7662 - val_loss: 1.7972 - val_capsnet_loss: 0.5101 - val_decoder_loss: 2574.0835 - val_capsnet_acc: 0.6578\n",
            "\n",
            "Epoch 00009: val_capsnet_acc improved from 0.54813 to 0.65775, saving model to model/weights.09.h5\n",
            "Epoch 10/100\n",
            "150/149 [==============================] - 23s 155ms/step - loss: 1.4958 - capsnet_loss: 0.3604 - decoder_loss: 2270.8817 - capsnet_acc: 0.8420 - val_loss: 1.7279 - val_capsnet_loss: 0.4866 - val_decoder_loss: 2482.6626 - val_capsnet_acc: 0.6203\n",
            "\n",
            "Epoch 00010: val_capsnet_acc did not improve from 0.65775\n",
            "Epoch 11/100\n",
            "150/149 [==============================] - 23s 153ms/step - loss: 1.4072 - capsnet_loss: 0.3289 - decoder_loss: 2156.7213 - capsnet_acc: 0.8778 - val_loss: 1.6797 - val_capsnet_loss: 0.4791 - val_decoder_loss: 2401.1883 - val_capsnet_acc: 0.6524\n",
            "\n",
            "Epoch 00011: val_capsnet_acc did not improve from 0.65775\n",
            "Epoch 12/100\n",
            "150/149 [==============================] - 24s 162ms/step - loss: 1.3347 - capsnet_loss: 0.2982 - decoder_loss: 2072.9401 - capsnet_acc: 0.9220 - val_loss: 1.6294 - val_capsnet_loss: 0.4706 - val_decoder_loss: 2317.5447 - val_capsnet_acc: 0.6417\n",
            "\n",
            "Epoch 00012: val_capsnet_acc did not improve from 0.65775\n",
            "Epoch 13/100\n",
            "150/149 [==============================] - 23s 153ms/step - loss: 1.2771 - capsnet_loss: 0.2721 - decoder_loss: 2010.0778 - capsnet_acc: 0.9447 - val_loss: 1.6204 - val_capsnet_loss: 0.4614 - val_decoder_loss: 2317.9592 - val_capsnet_acc: 0.7166\n",
            "\n",
            "Epoch 00013: val_capsnet_acc improved from 0.65775 to 0.71658, saving model to model/weights.13.h5\n",
            "Epoch 14/100\n",
            "150/149 [==============================] - 23s 156ms/step - loss: 1.2311 - capsnet_loss: 0.2504 - decoder_loss: 1961.4008 - capsnet_acc: 0.9573 - val_loss: 1.5958 - val_capsnet_loss: 0.4478 - val_decoder_loss: 2296.0964 - val_capsnet_acc: 0.7032\n",
            "\n",
            "Epoch 00014: val_capsnet_acc did not improve from 0.71658\n",
            "Epoch 15/100\n",
            "150/149 [==============================] - 23s 154ms/step - loss: 1.1924 - capsnet_loss: 0.2313 - decoder_loss: 1922.1853 - capsnet_acc: 0.9700 - val_loss: 1.5781 - val_capsnet_loss: 0.4501 - val_decoder_loss: 2255.9371 - val_capsnet_acc: 0.7112\n",
            "\n",
            "Epoch 00015: val_capsnet_acc did not improve from 0.71658\n",
            "Epoch 16/100\n",
            "150/149 [==============================] - 24s 160ms/step - loss: 1.1582 - capsnet_loss: 0.2148 - decoder_loss: 1886.7109 - capsnet_acc: 0.9780 - val_loss: 1.5702 - val_capsnet_loss: 0.4365 - val_decoder_loss: 2267.3060 - val_capsnet_acc: 0.6979\n",
            "\n",
            "Epoch 00016: val_capsnet_acc did not improve from 0.71658\n",
            "Epoch 17/100\n",
            "150/149 [==============================] - 24s 160ms/step - loss: 1.1295 - capsnet_loss: 0.2014 - decoder_loss: 1856.1167 - capsnet_acc: 0.9880 - val_loss: 1.5454 - val_capsnet_loss: 0.4350 - val_decoder_loss: 2220.6577 - val_capsnet_acc: 0.7326\n",
            "\n",
            "Epoch 00017: val_capsnet_acc improved from 0.71658 to 0.73262, saving model to model/weights.17.h5\n",
            "Epoch 18/100\n",
            "150/149 [==============================] - 23s 151ms/step - loss: 1.1004 - capsnet_loss: 0.1879 - decoder_loss: 1824.9999 - capsnet_acc: 0.9887 - val_loss: 1.5441 - val_capsnet_loss: 0.4322 - val_decoder_loss: 2223.7775 - val_capsnet_acc: 0.7353\n",
            "\n",
            "Epoch 00018: val_capsnet_acc improved from 0.73262 to 0.73529, saving model to model/weights.18.h5\n",
            "Epoch 19/100\n",
            "150/149 [==============================] - 24s 159ms/step - loss: 1.0772 - capsnet_loss: 0.1765 - decoder_loss: 1801.5413 - capsnet_acc: 0.9927 - val_loss: 1.5341 - val_capsnet_loss: 0.4347 - val_decoder_loss: 2198.9314 - val_capsnet_acc: 0.7353\n",
            "\n",
            "Epoch 00019: val_capsnet_acc did not improve from 0.73529\n",
            "Epoch 20/100\n",
            "150/149 [==============================] - 24s 162ms/step - loss: 1.0546 - capsnet_loss: 0.1664 - decoder_loss: 1776.2077 - capsnet_acc: 0.9953 - val_loss: 1.5275 - val_capsnet_loss: 0.4295 - val_decoder_loss: 2196.0421 - val_capsnet_acc: 0.7380\n",
            "\n",
            "Epoch 00020: val_capsnet_acc improved from 0.73529 to 0.73797, saving model to model/weights.20.h5\n",
            "Epoch 21/100\n",
            "150/149 [==============================] - 22s 148ms/step - loss: 1.0368 - capsnet_loss: 0.1585 - decoder_loss: 1756.4858 - capsnet_acc: 0.9960 - val_loss: 1.5159 - val_capsnet_loss: 0.4269 - val_decoder_loss: 2178.1101 - val_capsnet_acc: 0.7433\n",
            "\n",
            "Epoch 00021: val_capsnet_acc improved from 0.73797 to 0.74332, saving model to model/weights.21.h5\n",
            "Epoch 22/100\n",
            "150/149 [==============================] - 22s 148ms/step - loss: 1.0175 - capsnet_loss: 0.1503 - decoder_loss: 1734.3256 - capsnet_acc: 0.9953 - val_loss: 1.5129 - val_capsnet_loss: 0.4350 - val_decoder_loss: 2155.7698 - val_capsnet_acc: 0.7460\n",
            "\n",
            "Epoch 00022: val_capsnet_acc improved from 0.74332 to 0.74599, saving model to model/weights.22.h5\n",
            "Epoch 23/100\n",
            "150/149 [==============================] - 22s 147ms/step - loss: 1.0015 - capsnet_loss: 0.1438 - decoder_loss: 1715.3042 - capsnet_acc: 0.9960 - val_loss: 1.5067 - val_capsnet_loss: 0.4353 - val_decoder_loss: 2142.7650 - val_capsnet_acc: 0.7406\n",
            "\n",
            "Epoch 00023: val_capsnet_acc did not improve from 0.74599\n",
            "Epoch 24/100\n",
            "150/149 [==============================] - 22s 148ms/step - loss: 0.9854 - capsnet_loss: 0.1372 - decoder_loss: 1696.4332 - capsnet_acc: 0.9960 - val_loss: 1.5003 - val_capsnet_loss: 0.4271 - val_decoder_loss: 2146.4208 - val_capsnet_acc: 0.7406\n",
            "\n",
            "Epoch 00024: val_capsnet_acc did not improve from 0.74599\n",
            "Epoch 25/100\n",
            "150/149 [==============================] - 23s 151ms/step - loss: 0.9711 - capsnet_loss: 0.1317 - decoder_loss: 1678.8295 - capsnet_acc: 0.9960 - val_loss: 1.4968 - val_capsnet_loss: 0.4277 - val_decoder_loss: 2138.0770 - val_capsnet_acc: 0.7406\n",
            "\n",
            "Epoch 00025: val_capsnet_acc did not improve from 0.74599\n",
            "Epoch 26/100\n",
            "150/149 [==============================] - 24s 159ms/step - loss: 0.9588 - capsnet_loss: 0.1271 - decoder_loss: 1663.4150 - capsnet_acc: 0.9960 - val_loss: 1.4902 - val_capsnet_loss: 0.4291 - val_decoder_loss: 2122.2448 - val_capsnet_acc: 0.7433\n",
            "\n",
            "Epoch 00026: val_capsnet_acc did not improve from 0.74599\n",
            "Epoch 27/100\n",
            "150/149 [==============================] - 23s 153ms/step - loss: 0.9492 - capsnet_loss: 0.1225 - decoder_loss: 1653.4675 - capsnet_acc: 0.9960 - val_loss: 1.4833 - val_capsnet_loss: 0.4271 - val_decoder_loss: 2112.5300 - val_capsnet_acc: 0.7326\n",
            "\n",
            "Epoch 00027: val_capsnet_acc did not improve from 0.74599\n",
            "Epoch 28/100\n",
            "150/149 [==============================] - 23s 151ms/step - loss: 0.9390 - capsnet_loss: 0.1190 - decoder_loss: 1640.1290 - capsnet_acc: 0.9973 - val_loss: 1.4799 - val_capsnet_loss: 0.4264 - val_decoder_loss: 2107.0886 - val_capsnet_acc: 0.7433\n",
            "\n",
            "Epoch 00028: val_capsnet_acc did not improve from 0.74599\n",
            "Epoch 29/100\n",
            "150/149 [==============================] - 24s 157ms/step - loss: 0.9324 - capsnet_loss: 0.1156 - decoder_loss: 1633.6346 - capsnet_acc: 0.9967 - val_loss: 1.4794 - val_capsnet_loss: 0.4284 - val_decoder_loss: 2101.9398 - val_capsnet_acc: 0.7567\n",
            "\n",
            "Epoch 00029: val_capsnet_acc improved from 0.74599 to 0.75668, saving model to model/weights.29.h5\n",
            "Epoch 30/100\n",
            "150/149 [==============================] - 25s 165ms/step - loss: 0.9221 - capsnet_loss: 0.1124 - decoder_loss: 1619.4752 - capsnet_acc: 0.9967 - val_loss: 1.4759 - val_capsnet_loss: 0.4275 - val_decoder_loss: 2096.8712 - val_capsnet_acc: 0.7487\n",
            "\n",
            "Epoch 00030: val_capsnet_acc did not improve from 0.75668\n",
            "Epoch 31/100\n",
            "150/149 [==============================] - 23s 152ms/step - loss: 0.9142 - capsnet_loss: 0.1096 - decoder_loss: 1609.3595 - capsnet_acc: 0.9980 - val_loss: 1.4738 - val_capsnet_loss: 0.4279 - val_decoder_loss: 2091.7605 - val_capsnet_acc: 0.7433\n",
            "\n",
            "Epoch 00031: val_capsnet_acc did not improve from 0.75668\n",
            "Epoch 32/100\n",
            "150/149 [==============================] - 23s 153ms/step - loss: 0.9061 - capsnet_loss: 0.1070 - decoder_loss: 1598.3126 - capsnet_acc: 0.9973 - val_loss: 1.4655 - val_capsnet_loss: 0.4262 - val_decoder_loss: 2078.5748 - val_capsnet_acc: 0.7433\n",
            "\n",
            "Epoch 00032: val_capsnet_acc did not improve from 0.75668\n",
            "Epoch 33/100\n",
            "150/149 [==============================] - 25s 165ms/step - loss: 0.9018 - capsnet_loss: 0.1047 - decoder_loss: 1594.1320 - capsnet_acc: 0.9980 - val_loss: 1.4716 - val_capsnet_loss: 0.4337 - val_decoder_loss: 2075.7717 - val_capsnet_acc: 0.7406\n",
            "\n",
            "Epoch 00033: val_capsnet_acc did not improve from 0.75668\n",
            "Epoch 34/100\n",
            "150/149 [==============================] - 23s 154ms/step - loss: 0.8962 - capsnet_loss: 0.1028 - decoder_loss: 1586.8120 - capsnet_acc: 0.9967 - val_loss: 1.4631 - val_capsnet_loss: 0.4298 - val_decoder_loss: 2066.7131 - val_capsnet_acc: 0.7540\n",
            "\n",
            "Epoch 00034: val_capsnet_acc did not improve from 0.75668\n",
            "Epoch 35/100\n",
            "150/149 [==============================] - 24s 157ms/step - loss: 0.8919 - capsnet_loss: 0.1010 - decoder_loss: 1581.9252 - capsnet_acc: 0.9980 - val_loss: 1.4668 - val_capsnet_loss: 0.4345 - val_decoder_loss: 2064.6249 - val_capsnet_acc: 0.7567\n",
            "\n",
            "Epoch 00035: val_capsnet_acc did not improve from 0.75668\n",
            "Epoch 36/100\n",
            "150/149 [==============================] - 24s 161ms/step - loss: 0.8870 - capsnet_loss: 0.0992 - decoder_loss: 1575.5665 - capsnet_acc: 0.9980 - val_loss: 1.4608 - val_capsnet_loss: 0.4301 - val_decoder_loss: 2061.2236 - val_capsnet_acc: 0.7513\n",
            "\n",
            "Epoch 00036: val_capsnet_acc did not improve from 0.75668\n",
            "Epoch 37/100\n",
            "150/149 [==============================] - 24s 159ms/step - loss: 0.8820 - capsnet_loss: 0.0978 - decoder_loss: 1568.4667 - capsnet_acc: 0.9987 - val_loss: 1.4570 - val_capsnet_loss: 0.4273 - val_decoder_loss: 2059.5087 - val_capsnet_acc: 0.7540\n",
            "\n",
            "Epoch 00037: val_capsnet_acc did not improve from 0.75668\n",
            "Epoch 38/100\n",
            "150/149 [==============================] - 23s 156ms/step - loss: 0.8792 - capsnet_loss: 0.0963 - decoder_loss: 1565.7001 - capsnet_acc: 0.9980 - val_loss: 1.4585 - val_capsnet_loss: 0.4321 - val_decoder_loss: 2052.8416 - val_capsnet_acc: 0.7567\n",
            "\n",
            "Epoch 00038: val_capsnet_acc did not improve from 0.75668\n",
            "Epoch 39/100\n",
            "150/149 [==============================] - 23s 156ms/step - loss: 0.8759 - capsnet_loss: 0.0955 - decoder_loss: 1560.8967 - capsnet_acc: 0.9980 - val_loss: 1.4522 - val_capsnet_loss: 0.4256 - val_decoder_loss: 2053.1961 - val_capsnet_acc: 0.7567\n",
            "\n",
            "Epoch 00039: val_capsnet_acc did not improve from 0.75668\n",
            "Epoch 40/100\n",
            "150/149 [==============================] - 23s 154ms/step - loss: 0.8723 - capsnet_loss: 0.0939 - decoder_loss: 1556.7621 - capsnet_acc: 0.9987 - val_loss: 1.4535 - val_capsnet_loss: 0.4303 - val_decoder_loss: 2046.4587 - val_capsnet_acc: 0.7540\n",
            "\n",
            "Epoch 00040: val_capsnet_acc did not improve from 0.75668\n",
            "Epoch 41/100\n",
            "150/149 [==============================] - 24s 159ms/step - loss: 0.8702 - capsnet_loss: 0.0932 - decoder_loss: 1553.9372 - capsnet_acc: 0.9987 - val_loss: 1.4537 - val_capsnet_loss: 0.4285 - val_decoder_loss: 2050.4139 - val_capsnet_acc: 0.7594\n",
            "\n",
            "Epoch 00041: val_capsnet_acc improved from 0.75668 to 0.75936, saving model to model/weights.41.h5\n",
            "Epoch 42/100\n",
            "150/149 [==============================] - 23s 154ms/step - loss: 0.8678 - capsnet_loss: 0.0923 - decoder_loss: 1550.9647 - capsnet_acc: 0.9987 - val_loss: 1.4559 - val_capsnet_loss: 0.4319 - val_decoder_loss: 2048.0292 - val_capsnet_acc: 0.7620\n",
            "\n",
            "Epoch 00042: val_capsnet_acc improved from 0.75936 to 0.76203, saving model to model/weights.42.h5\n",
            "Epoch 43/100\n",
            "150/149 [==============================] - 24s 159ms/step - loss: 0.8668 - capsnet_loss: 0.0919 - decoder_loss: 1549.9558 - capsnet_acc: 0.9987 - val_loss: 1.4526 - val_capsnet_loss: 0.4310 - val_decoder_loss: 2043.0564 - val_capsnet_acc: 0.7594\n",
            "\n",
            "Epoch 00043: val_capsnet_acc did not improve from 0.76203\n",
            "Epoch 44/100\n",
            "150/149 [==============================] - 23s 156ms/step - loss: 0.8625 - capsnet_loss: 0.0907 - decoder_loss: 1543.6842 - capsnet_acc: 0.9987 - val_loss: 1.4492 - val_capsnet_loss: 0.4274 - val_decoder_loss: 2043.6768 - val_capsnet_acc: 0.7567\n",
            "\n",
            "Epoch 00044: val_capsnet_acc did not improve from 0.76203\n",
            "Epoch 45/100\n",
            "150/149 [==============================] - 23s 154ms/step - loss: 0.8610 - capsnet_loss: 0.0901 - decoder_loss: 1541.7859 - capsnet_acc: 0.9987 - val_loss: 1.4489 - val_capsnet_loss: 0.4282 - val_decoder_loss: 2041.4992 - val_capsnet_acc: 0.7567\n",
            "\n",
            "Epoch 00045: val_capsnet_acc did not improve from 0.76203\n",
            "Epoch 46/100\n",
            "150/149 [==============================] - 23s 156ms/step - loss: 0.8591 - capsnet_loss: 0.0895 - decoder_loss: 1539.1963 - capsnet_acc: 0.9987 - val_loss: 1.4493 - val_capsnet_loss: 0.4299 - val_decoder_loss: 2038.7494 - val_capsnet_acc: 0.7594\n",
            "\n",
            "Epoch 00046: val_capsnet_acc did not improve from 0.76203\n",
            "Epoch 47/100\n",
            "150/149 [==============================] - 24s 161ms/step - loss: 0.8585 - capsnet_loss: 0.0890 - decoder_loss: 1539.0085 - capsnet_acc: 0.9987 - val_loss: 1.4486 - val_capsnet_loss: 0.4299 - val_decoder_loss: 2037.4030 - val_capsnet_acc: 0.7567\n",
            "\n",
            "Epoch 00047: val_capsnet_acc did not improve from 0.76203\n",
            "Epoch 48/100\n",
            "150/149 [==============================] - 22s 149ms/step - loss: 0.8571 - capsnet_loss: 0.0884 - decoder_loss: 1537.3865 - capsnet_acc: 0.9987 - val_loss: 1.4483 - val_capsnet_loss: 0.4315 - val_decoder_loss: 2033.6078 - val_capsnet_acc: 0.7594\n",
            "\n",
            "Epoch 00048: val_capsnet_acc did not improve from 0.76203\n",
            "Epoch 49/100\n",
            "150/149 [==============================] - 22s 148ms/step - loss: 0.8552 - capsnet_loss: 0.0877 - decoder_loss: 1535.0681 - capsnet_acc: 0.9987 - val_loss: 1.4477 - val_capsnet_loss: 0.4309 - val_decoder_loss: 2033.5224 - val_capsnet_acc: 0.7540\n",
            "\n",
            "Epoch 00049: val_capsnet_acc did not improve from 0.76203\n",
            "Epoch 50/100\n",
            "150/149 [==============================] - 23s 152ms/step - loss: 0.8572 - capsnet_loss: 0.0878 - decoder_loss: 1538.7618 - capsnet_acc: 0.9987 - val_loss: 1.4477 - val_capsnet_loss: 0.4313 - val_decoder_loss: 2032.9010 - val_capsnet_acc: 0.7594\n",
            "\n",
            "Epoch 00050: val_capsnet_acc did not improve from 0.76203\n",
            "Epoch 51/100\n",
            "150/149 [==============================] - 24s 158ms/step - loss: 0.8559 - capsnet_loss: 0.0872 - decoder_loss: 1537.4195 - capsnet_acc: 0.9987 - val_loss: 1.4477 - val_capsnet_loss: 0.4314 - val_decoder_loss: 2032.6487 - val_capsnet_acc: 0.7594\n",
            "\n",
            "Epoch 00051: val_capsnet_acc did not improve from 0.76203\n",
            "Epoch 52/100\n",
            "150/149 [==============================] - 22s 147ms/step - loss: 0.8527 - capsnet_loss: 0.0870 - decoder_loss: 1531.3438 - capsnet_acc: 0.9987 - val_loss: 1.4473 - val_capsnet_loss: 0.4318 - val_decoder_loss: 2030.9228 - val_capsnet_acc: 0.7594\n",
            "\n",
            "Epoch 00052: val_capsnet_acc did not improve from 0.76203\n",
            "Epoch 53/100\n",
            "150/149 [==============================] - 22s 150ms/step - loss: 0.8522 - capsnet_loss: 0.0864 - decoder_loss: 1531.7344 - capsnet_acc: 0.9987 - val_loss: 1.4474 - val_capsnet_loss: 0.4319 - val_decoder_loss: 2031.0005 - val_capsnet_acc: 0.7594\n",
            "\n",
            "Epoch 00053: val_capsnet_acc did not improve from 0.76203\n",
            "Epoch 54/100\n",
            "150/149 [==============================] - 24s 158ms/step - loss: 0.8507 - capsnet_loss: 0.0863 - decoder_loss: 1528.6702 - capsnet_acc: 0.9987 - val_loss: 1.4472 - val_capsnet_loss: 0.4319 - val_decoder_loss: 2030.6190 - val_capsnet_acc: 0.7594\n",
            "\n",
            "Epoch 00054: val_capsnet_acc did not improve from 0.76203\n",
            "Epoch 55/100\n",
            "150/149 [==============================] - 24s 158ms/step - loss: 0.8508 - capsnet_loss: 0.0861 - decoder_loss: 1529.3935 - capsnet_acc: 0.9987 - val_loss: 1.4464 - val_capsnet_loss: 0.4312 - val_decoder_loss: 2030.4938 - val_capsnet_acc: 0.7594\n",
            "\n",
            "Epoch 00055: val_capsnet_acc did not improve from 0.76203\n",
            "Epoch 56/100\n",
            "150/149 [==============================] - 24s 157ms/step - loss: 0.8504 - capsnet_loss: 0.0858 - decoder_loss: 1529.2032 - capsnet_acc: 0.9987 - val_loss: 1.4465 - val_capsnet_loss: 0.4319 - val_decoder_loss: 2029.1439 - val_capsnet_acc: 0.7594\n",
            "\n",
            "Epoch 00056: val_capsnet_acc did not improve from 0.76203\n",
            "Epoch 57/100\n",
            "150/149 [==============================] - 25s 163ms/step - loss: 0.8502 - capsnet_loss: 0.0859 - decoder_loss: 1528.5171 - capsnet_acc: 0.9987 - val_loss: 1.4461 - val_capsnet_loss: 0.4312 - val_decoder_loss: 2029.8159 - val_capsnet_acc: 0.7594\n",
            "\n",
            "Epoch 00057: val_capsnet_acc did not improve from 0.76203\n",
            "Epoch 58/100\n",
            "150/149 [==============================] - 22s 149ms/step - loss: 0.8503 - capsnet_loss: 0.0855 - decoder_loss: 1529.5721 - capsnet_acc: 0.9987 - val_loss: 1.4456 - val_capsnet_loss: 0.4321 - val_decoder_loss: 2027.1154 - val_capsnet_acc: 0.7594\n",
            "\n",
            "Epoch 00058: val_capsnet_acc did not improve from 0.76203\n",
            "Epoch 59/100\n",
            "150/149 [==============================] - 22s 147ms/step - loss: 0.8490 - capsnet_loss: 0.0859 - decoder_loss: 1526.1353 - capsnet_acc: 0.9987 - val_loss: 1.4463 - val_capsnet_loss: 0.4318 - val_decoder_loss: 2028.9367 - val_capsnet_acc: 0.7594\n",
            "\n",
            "Epoch 00059: val_capsnet_acc did not improve from 0.76203\n",
            "Epoch 60/100\n",
            "150/149 [==============================] - 23s 151ms/step - loss: 0.8492 - capsnet_loss: 0.0851 - decoder_loss: 1528.1012 - capsnet_acc: 0.9987 - val_loss: 1.4459 - val_capsnet_loss: 0.4323 - val_decoder_loss: 2027.2087 - val_capsnet_acc: 0.7594\n",
            "\n",
            "Epoch 00060: val_capsnet_acc did not improve from 0.76203\n",
            "Epoch 61/100\n",
            "150/149 [==============================] - 25s 165ms/step - loss: 0.8488 - capsnet_loss: 0.0849 - decoder_loss: 1527.7808 - capsnet_acc: 0.9987 - val_loss: 1.4456 - val_capsnet_loss: 0.4319 - val_decoder_loss: 2027.4933 - val_capsnet_acc: 0.7594\n",
            "\n",
            "Epoch 00061: val_capsnet_acc did not improve from 0.76203\n",
            "Epoch 62/100\n",
            "150/149 [==============================] - 24s 160ms/step - loss: 0.8479 - capsnet_loss: 0.0849 - decoder_loss: 1525.9340 - capsnet_acc: 0.9987 - val_loss: 1.4457 - val_capsnet_loss: 0.4322 - val_decoder_loss: 2027.0057 - val_capsnet_acc: 0.7594\n",
            "\n",
            "Epoch 00062: val_capsnet_acc did not improve from 0.76203\n",
            "Epoch 63/100\n",
            "150/149 [==============================] - 23s 155ms/step - loss: 0.8472 - capsnet_loss: 0.0847 - decoder_loss: 1525.0646 - capsnet_acc: 0.9987 - val_loss: 1.4454 - val_capsnet_loss: 0.4322 - val_decoder_loss: 2026.5552 - val_capsnet_acc: 0.7594\n",
            "\n",
            "Epoch 00063: val_capsnet_acc did not improve from 0.76203\n",
            "Epoch 64/100\n",
            "150/149 [==============================] - 23s 156ms/step - loss: 0.8472 - capsnet_loss: 0.0845 - decoder_loss: 1525.3177 - capsnet_acc: 0.9987 - val_loss: 1.4456 - val_capsnet_loss: 0.4327 - val_decoder_loss: 2025.9240 - val_capsnet_acc: 0.7594\n",
            "\n",
            "Epoch 00064: val_capsnet_acc did not improve from 0.76203\n",
            "Epoch 65/100\n",
            "150/149 [==============================] - 23s 154ms/step - loss: 0.8482 - capsnet_loss: 0.0845 - decoder_loss: 1527.4047 - capsnet_acc: 0.9987 - val_loss: 1.4449 - val_capsnet_loss: 0.4318 - val_decoder_loss: 2026.2516 - val_capsnet_acc: 0.7594\n",
            "\n",
            "Epoch 00065: val_capsnet_acc did not improve from 0.76203\n",
            "Epoch 66/100\n",
            "150/149 [==============================] - 23s 155ms/step - loss: 0.8463 - capsnet_loss: 0.0846 - decoder_loss: 1523.3897 - capsnet_acc: 0.9987 - val_loss: 1.4449 - val_capsnet_loss: 0.4319 - val_decoder_loss: 2026.0417 - val_capsnet_acc: 0.7594\n",
            "\n",
            "Epoch 00066: val_capsnet_acc did not improve from 0.76203\n",
            "Epoch 67/100\n",
            "150/149 [==============================] - 24s 158ms/step - loss: 0.8473 - capsnet_loss: 0.0845 - decoder_loss: 1525.6800 - capsnet_acc: 0.9987 - val_loss: 1.4451 - val_capsnet_loss: 0.4319 - val_decoder_loss: 2026.3311 - val_capsnet_acc: 0.7594\n",
            "\n",
            "Epoch 00067: val_capsnet_acc did not improve from 0.76203\n",
            "Epoch 68/100\n",
            "150/149 [==============================] - 22s 149ms/step - loss: 0.8463 - capsnet_loss: 0.0844 - decoder_loss: 1523.8639 - capsnet_acc: 0.9987 - val_loss: 1.4449 - val_capsnet_loss: 0.4319 - val_decoder_loss: 2025.9295 - val_capsnet_acc: 0.7594\n",
            "\n",
            "Epoch 00068: val_capsnet_acc did not improve from 0.76203\n",
            "Epoch 69/100\n",
            "150/149 [==============================] - 23s 152ms/step - loss: 0.8476 - capsnet_loss: 0.0844 - decoder_loss: 1526.4230 - capsnet_acc: 0.9987 - val_loss: 1.4448 - val_capsnet_loss: 0.4320 - val_decoder_loss: 2025.5723 - val_capsnet_acc: 0.7594\n",
            "\n",
            "Epoch 00069: val_capsnet_acc did not improve from 0.76203\n",
            "Epoch 70/100\n",
            "150/149 [==============================] - 24s 161ms/step - loss: 0.8461 - capsnet_loss: 0.0842 - decoder_loss: 1523.8175 - capsnet_acc: 0.9987 - val_loss: 1.4449 - val_capsnet_loss: 0.4324 - val_decoder_loss: 2025.0988 - val_capsnet_acc: 0.7594\n",
            "\n",
            "Epoch 00070: val_capsnet_acc did not improve from 0.76203\n",
            "Epoch 71/100\n",
            "150/149 [==============================] - 23s 156ms/step - loss: 0.8460 - capsnet_loss: 0.0842 - decoder_loss: 1523.5206 - capsnet_acc: 0.9987 - val_loss: 1.4449 - val_capsnet_loss: 0.4322 - val_decoder_loss: 2025.3124 - val_capsnet_acc: 0.7594\n",
            "\n",
            "Epoch 00071: val_capsnet_acc did not improve from 0.76203\n",
            "Epoch 72/100\n",
            "150/149 [==============================] - 23s 155ms/step - loss: 0.8471 - capsnet_loss: 0.0842 - decoder_loss: 1525.7269 - capsnet_acc: 0.9987 - val_loss: 1.4448 - val_capsnet_loss: 0.4323 - val_decoder_loss: 2025.1613 - val_capsnet_acc: 0.7594\n",
            "\n",
            "Epoch 00072: val_capsnet_acc did not improve from 0.76203\n",
            "Epoch 73/100\n",
            "150/149 [==============================] - 24s 157ms/step - loss: 0.8468 - capsnet_loss: 0.0843 - decoder_loss: 1525.0651 - capsnet_acc: 0.9987 - val_loss: 1.4449 - val_capsnet_loss: 0.4324 - val_decoder_loss: 2024.9879 - val_capsnet_acc: 0.7594\n",
            "\n",
            "Epoch 00073: val_capsnet_acc did not improve from 0.76203\n",
            "Epoch 74/100\n",
            "150/149 [==============================] - 23s 154ms/step - loss: 0.8449 - capsnet_loss: 0.0840 - decoder_loss: 1521.8539 - capsnet_acc: 0.9987 - val_loss: 1.4449 - val_capsnet_loss: 0.4324 - val_decoder_loss: 2024.9930 - val_capsnet_acc: 0.7594\n",
            "\n",
            "Epoch 00074: val_capsnet_acc did not improve from 0.76203\n",
            "Epoch 75/100\n",
            "150/149 [==============================] - 23s 151ms/step - loss: 0.8456 - capsnet_loss: 0.0838 - decoder_loss: 1523.5295 - capsnet_acc: 0.9987 - val_loss: 1.4448 - val_capsnet_loss: 0.4323 - val_decoder_loss: 2024.9185 - val_capsnet_acc: 0.7594\n",
            "\n",
            "Epoch 00075: val_capsnet_acc did not improve from 0.76203\n",
            "Epoch 76/100\n",
            "150/149 [==============================] - 23s 153ms/step - loss: 0.8445 - capsnet_loss: 0.0840 - decoder_loss: 1521.1586 - capsnet_acc: 0.9987 - val_loss: 1.4448 - val_capsnet_loss: 0.4324 - val_decoder_loss: 2024.8872 - val_capsnet_acc: 0.7594\n",
            "\n",
            "Epoch 00076: val_capsnet_acc did not improve from 0.76203\n",
            "Epoch 77/100\n",
            "150/149 [==============================] - 22s 147ms/step - loss: 0.8468 - capsnet_loss: 0.0842 - decoder_loss: 1525.2338 - capsnet_acc: 0.9987 - val_loss: 1.4448 - val_capsnet_loss: 0.4323 - val_decoder_loss: 2025.0287 - val_capsnet_acc: 0.7594\n",
            "\n",
            "Epoch 00077: val_capsnet_acc did not improve from 0.76203\n",
            "Epoch 78/100\n",
            "150/149 [==============================] - 24s 158ms/step - loss: 0.8459 - capsnet_loss: 0.0842 - decoder_loss: 1523.4730 - capsnet_acc: 0.9987 - val_loss: 1.4447 - val_capsnet_loss: 0.4323 - val_decoder_loss: 2024.8391 - val_capsnet_acc: 0.7594\n",
            "\n",
            "Epoch 00078: val_capsnet_acc did not improve from 0.76203\n",
            "Epoch 79/100\n",
            "150/149 [==============================] - 23s 154ms/step - loss: 0.8464 - capsnet_loss: 0.0837 - decoder_loss: 1525.4106 - capsnet_acc: 0.9987 - val_loss: 1.4448 - val_capsnet_loss: 0.4324 - val_decoder_loss: 2024.7504 - val_capsnet_acc: 0.7594\n",
            "\n",
            "Epoch 00079: val_capsnet_acc did not improve from 0.76203\n",
            "Epoch 80/100\n",
            "150/149 [==============================] - 23s 152ms/step - loss: 0.8454 - capsnet_loss: 0.0840 - decoder_loss: 1522.6368 - capsnet_acc: 0.9987 - val_loss: 1.4447 - val_capsnet_loss: 0.4323 - val_decoder_loss: 2024.7755 - val_capsnet_acc: 0.7594\n",
            "\n",
            "Epoch 00080: val_capsnet_acc did not improve from 0.76203\n",
            "Epoch 81/100\n",
            "150/149 [==============================] - 24s 159ms/step - loss: 0.8447 - capsnet_loss: 0.0837 - decoder_loss: 1521.9212 - capsnet_acc: 0.9987 - val_loss: 1.4448 - val_capsnet_loss: 0.4324 - val_decoder_loss: 2024.7269 - val_capsnet_acc: 0.7594\n",
            "\n",
            "Epoch 00081: val_capsnet_acc did not improve from 0.76203\n",
            "Epoch 82/100\n",
            "150/149 [==============================] - 24s 160ms/step - loss: 0.8457 - capsnet_loss: 0.0837 - decoder_loss: 1523.8695 - capsnet_acc: 0.9987 - val_loss: 1.4447 - val_capsnet_loss: 0.4324 - val_decoder_loss: 2024.6422 - val_capsnet_acc: 0.7594\n",
            "\n",
            "Epoch 00082: val_capsnet_acc did not improve from 0.76203\n",
            "Epoch 83/100\n",
            "150/149 [==============================] - 24s 160ms/step - loss: 0.8458 - capsnet_loss: 0.0841 - decoder_loss: 1523.5364 - capsnet_acc: 0.9987 - val_loss: 1.4447 - val_capsnet_loss: 0.4324 - val_decoder_loss: 2024.6805 - val_capsnet_acc: 0.7594\n",
            "\n",
            "Epoch 00083: val_capsnet_acc did not improve from 0.76203\n",
            "Epoch 84/100\n",
            "150/149 [==============================] - 23s 151ms/step - loss: 0.8464 - capsnet_loss: 0.0840 - decoder_loss: 1524.8682 - capsnet_acc: 0.9987 - val_loss: 1.4447 - val_capsnet_loss: 0.4324 - val_decoder_loss: 2024.5993 - val_capsnet_acc: 0.7594\n",
            "\n",
            "Epoch 00084: val_capsnet_acc did not improve from 0.76203\n",
            "Epoch 85/100\n",
            "150/149 [==============================] - 24s 161ms/step - loss: 0.8451 - capsnet_loss: 0.0840 - decoder_loss: 1522.2585 - capsnet_acc: 0.9987 - val_loss: 1.4447 - val_capsnet_loss: 0.4323 - val_decoder_loss: 2024.6138 - val_capsnet_acc: 0.7594\n",
            "\n",
            "Epoch 00085: val_capsnet_acc did not improve from 0.76203\n",
            "Epoch 86/100\n",
            "150/149 [==============================] - 24s 159ms/step - loss: 0.8451 - capsnet_loss: 0.0840 - decoder_loss: 1522.2627 - capsnet_acc: 0.9987 - val_loss: 1.4447 - val_capsnet_loss: 0.4324 - val_decoder_loss: 2024.5601 - val_capsnet_acc: 0.7594\n",
            "\n",
            "Epoch 00086: val_capsnet_acc did not improve from 0.76203\n",
            "Epoch 87/100\n",
            "150/149 [==============================] - 23s 153ms/step - loss: 0.8458 - capsnet_loss: 0.0840 - decoder_loss: 1523.5879 - capsnet_acc: 0.9987 - val_loss: 1.4446 - val_capsnet_loss: 0.4324 - val_decoder_loss: 2024.5408 - val_capsnet_acc: 0.7594\n",
            "\n",
            "Epoch 00087: val_capsnet_acc did not improve from 0.76203\n",
            "Epoch 88/100\n",
            "150/149 [==============================] - 22s 148ms/step - loss: 0.8454 - capsnet_loss: 0.0840 - decoder_loss: 1522.9404 - capsnet_acc: 0.9987 - val_loss: 1.4446 - val_capsnet_loss: 0.4324 - val_decoder_loss: 2024.5080 - val_capsnet_acc: 0.7594\n",
            "\n",
            "Epoch 00088: val_capsnet_acc did not improve from 0.76203\n",
            "Epoch 89/100\n",
            "150/149 [==============================] - 24s 157ms/step - loss: 0.8449 - capsnet_loss: 0.0838 - decoder_loss: 1522.3336 - capsnet_acc: 0.9987 - val_loss: 1.4446 - val_capsnet_loss: 0.4324 - val_decoder_loss: 2024.4998 - val_capsnet_acc: 0.7594\n",
            "\n",
            "Epoch 00089: val_capsnet_acc did not improve from 0.76203\n",
            "Epoch 90/100\n",
            "150/149 [==============================] - 23s 156ms/step - loss: 0.8449 - capsnet_loss: 0.0839 - decoder_loss: 1521.9328 - capsnet_acc: 0.9987 - val_loss: 1.4446 - val_capsnet_loss: 0.4324 - val_decoder_loss: 2024.4939 - val_capsnet_acc: 0.7594\n",
            "\n",
            "Epoch 00090: val_capsnet_acc did not improve from 0.76203\n",
            "Epoch 91/100\n",
            "150/149 [==============================] - 23s 157ms/step - loss: 0.8448 - capsnet_loss: 0.0837 - decoder_loss: 1522.1708 - capsnet_acc: 0.9987 - val_loss: 1.4446 - val_capsnet_loss: 0.4324 - val_decoder_loss: 2024.4923 - val_capsnet_acc: 0.7594\n",
            "\n",
            "Epoch 00091: val_capsnet_acc did not improve from 0.76203\n",
            "Epoch 92/100\n",
            "150/149 [==============================] - 23s 154ms/step - loss: 0.8449 - capsnet_loss: 0.0838 - decoder_loss: 1522.2506 - capsnet_acc: 0.9987 - val_loss: 1.4446 - val_capsnet_loss: 0.4324 - val_decoder_loss: 2024.5208 - val_capsnet_acc: 0.7594\n",
            "\n",
            "Epoch 00092: val_capsnet_acc did not improve from 0.76203\n",
            "Epoch 93/100\n",
            "150/149 [==============================] - 22s 148ms/step - loss: 0.8455 - capsnet_loss: 0.0836 - decoder_loss: 1523.9613 - capsnet_acc: 0.9987 - val_loss: 1.4446 - val_capsnet_loss: 0.4324 - val_decoder_loss: 2024.5201 - val_capsnet_acc: 0.7594\n",
            "\n",
            "Epoch 00093: val_capsnet_acc did not improve from 0.76203\n",
            "Epoch 94/100\n",
            "150/149 [==============================] - 24s 161ms/step - loss: 0.8458 - capsnet_loss: 0.0838 - decoder_loss: 1524.0403 - capsnet_acc: 0.9987 - val_loss: 1.4446 - val_capsnet_loss: 0.4324 - val_decoder_loss: 2024.4868 - val_capsnet_acc: 0.7594\n",
            "\n",
            "Epoch 00094: val_capsnet_acc did not improve from 0.76203\n",
            "Epoch 95/100\n",
            "150/149 [==============================] - 24s 161ms/step - loss: 0.8461 - capsnet_loss: 0.0839 - decoder_loss: 1524.4066 - capsnet_acc: 0.9987 - val_loss: 1.4446 - val_capsnet_loss: 0.4324 - val_decoder_loss: 2024.4811 - val_capsnet_acc: 0.7594\n",
            "\n",
            "Epoch 00095: val_capsnet_acc did not improve from 0.76203\n",
            "Epoch 96/100\n",
            "150/149 [==============================] - 23s 155ms/step - loss: 0.8471 - capsnet_loss: 0.0839 - decoder_loss: 1526.5055 - capsnet_acc: 0.9987 - val_loss: 1.4446 - val_capsnet_loss: 0.4324 - val_decoder_loss: 2024.4751 - val_capsnet_acc: 0.7594\n",
            "\n",
            "Epoch 00096: val_capsnet_acc did not improve from 0.76203\n",
            "Epoch 97/100\n",
            "150/149 [==============================] - 24s 158ms/step - loss: 0.8458 - capsnet_loss: 0.0838 - decoder_loss: 1524.0930 - capsnet_acc: 0.9987 - val_loss: 1.4446 - val_capsnet_loss: 0.4324 - val_decoder_loss: 2024.4676 - val_capsnet_acc: 0.7594\n",
            "\n",
            "Epoch 00097: val_capsnet_acc did not improve from 0.76203\n",
            "Epoch 98/100\n",
            "150/149 [==============================] - 23s 155ms/step - loss: 0.8459 - capsnet_loss: 0.0842 - decoder_loss: 1523.2484 - capsnet_acc: 0.9987 - val_loss: 1.4446 - val_capsnet_loss: 0.4324 - val_decoder_loss: 2024.4814 - val_capsnet_acc: 0.7594\n",
            "\n",
            "Epoch 00098: val_capsnet_acc did not improve from 0.76203\n",
            "Epoch 99/100\n",
            "150/149 [==============================] - 24s 159ms/step - loss: 0.8453 - capsnet_loss: 0.0838 - decoder_loss: 1522.8710 - capsnet_acc: 0.9987 - val_loss: 1.4446 - val_capsnet_loss: 0.4324 - val_decoder_loss: 2024.4894 - val_capsnet_acc: 0.7594\n",
            "\n",
            "Epoch 00099: val_capsnet_acc did not improve from 0.76203\n",
            "Epoch 100/100\n",
            "150/149 [==============================] - 22s 146ms/step - loss: 0.8460 - capsnet_loss: 0.0841 - decoder_loss: 1523.7670 - capsnet_acc: 0.9987 - val_loss: 1.4446 - val_capsnet_loss: 0.4324 - val_decoder_loss: 2024.4754 - val_capsnet_acc: 0.7594\n",
            "\n",
            "Epoch 00100: val_capsnet_acc did not improve from 0.76203\n"
          ],
          "name": "stdout"
        }
      ]
    },
    {
      "metadata": {
        "id": "tVDX0tKSau_m",
        "colab_type": "text"
      },
      "cell_type": "markdown",
      "source": [
        "## Results of training"
      ]
    },
    {
      "metadata": {
        "id": "8ZDCbccf06PR",
        "colab_type": "code",
        "outputId": "d861ee1e-4331-4fc2-9a91-3374966b83f0",
        "colab": {
          "base_uri": "https://localhost:8080/",
          "height": 630
        }
      },
      "cell_type": "code",
      "source": [
        "plt.figure(figsize=(10, 10))\n",
        "plt.plot(history.history['capsnet_acc'])\n",
        "plt.plot(history.history['val_capsnet_acc'])\n",
        "plt.ylabel('accuracy', fontsize='x-large')\n",
        "plt.xlabel('epoch', fontsize='x-large')\n",
        "plt.legend(['train', 'test'], loc='upper left', fontsize='x-large')"
      ],
      "execution_count": 16,
      "outputs": [
        {
          "output_type": "execute_result",
          "data": {
            "text/plain": [
              "<matplotlib.legend.Legend at 0x7f8992147358>"
            ]
          },
          "metadata": {
            "tags": []
          },
          "execution_count": 16
        },
        {
          "output_type": "display_data",
          "data": {
            "image/png": "[encoded data removed]",
            "text/plain": [
              "<Figure size 720x720 with 1 Axes>"
            ]
          },
          "metadata": {
            "tags": []
          }
        }
      ]
    }
  ]
}