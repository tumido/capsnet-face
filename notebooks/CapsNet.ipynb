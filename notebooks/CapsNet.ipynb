{
  "nbformat": 4,
  "nbformat_minor": 0,
  "metadata": {
    "colab": {
      "name": "CapsNet.ipynb",
      "version": "0.3.2",
      "provenance": [],
      "collapsed_sections": []
    },
    "kernelspec": {
      "name": "python3",
      "display_name": "Python 3"
    },
    "accelerator": "GPU"
  },
  "cells": [
    {
      "metadata": {
        "id": "mxyHDbGxWL9A",
        "colab_type": "text"
      },
      "cell_type": "markdown",
      "source": [
        "# Intro"
      ]
    },
    {
      "metadata": {
        "id": "J5eueFsCss8g",
        "colab_type": "text"
      },
      "cell_type": "markdown",
      "source": [
        "## Load and import CapsNet\n",
        "\n",
        "First, let's clone our GitHub repo and import all parts which will be used in this notebook."
      ]
    },
    {
      "metadata": {
        "id": "VphwW703qtDn",
        "colab_type": "code",
        "outputId": "d1837408-b483-4ccf-b56c-1c0f95eb9f13",
        "colab": {
          "base_uri": "https://localhost:8080/",
          "height": 578
        }
      },
      "cell_type": "code",
      "source": [
        "!pip install --no-cache-dir --upgrade git+https://github.com/tumido/face_biometrics_descriptor-code.git\n",
        "\n",
        "from sklearn.datasets import fetch_lfw_people\n",
        "from capsnet import preprocess_lfw_people, CapsNet"
      ],
      "execution_count": 0,
      "outputs": [
        {
          "output_type": "stream",
          "text": [
            "Collecting git+https://github.com/tumido/face_biometrics_descriptor-code.git\n",
            "  Cloning https://github.com/tumido/face_biometrics_descriptor-code.git to /tmp/pip-req-build-lgw6yg4l\n",
            "Requirement already satisfied, skipping upgrade: tensorflow in /usr/local/lib/python3.6/dist-packages (from capsnet==0.2.6) (1.13.1)\n",
            "Requirement already satisfied, skipping upgrade: scikit-learn in /usr/local/lib/python3.6/dist-packages (from capsnet==0.2.6) (0.20.3)\n",
            "Requirement already satisfied, skipping upgrade: keras in /usr/local/lib/python3.6/dist-packages (from capsnet==0.2.6) (2.2.4)\n",
            "Requirement already satisfied, skipping upgrade: numpy in /usr/local/lib/python3.6/dist-packages (from capsnet==0.2.6) (1.16.3)\n",
            "Requirement already satisfied, skipping upgrade: gast>=0.2.0 in /usr/local/lib/python3.6/dist-packages (from tensorflow->capsnet==0.2.6) (0.2.2)\n",
            "Requirement already satisfied, skipping upgrade: tensorflow-estimator<1.14.0rc0,>=1.13.0 in /usr/local/lib/python3.6/dist-packages (from tensorflow->capsnet==0.2.6) (1.13.0)\n",
            "Requirement already satisfied, skipping upgrade: absl-py>=0.1.6 in /usr/local/lib/python3.6/dist-packages (from tensorflow->capsnet==0.2.6) (0.7.1)\n",
            "Requirement already satisfied, skipping upgrade: protobuf>=3.6.1 in /usr/local/lib/python3.6/dist-packages (from tensorflow->capsnet==0.2.6) (3.7.1)\n",
            "Requirement already satisfied, skipping upgrade: grpcio>=1.8.6 in /usr/local/lib/python3.6/dist-packages (from tensorflow->capsnet==0.2.6) (1.15.0)\n",
            "Requirement already satisfied, skipping upgrade: termcolor>=1.1.0 in /usr/local/lib/python3.6/dist-packages (from tensorflow->capsnet==0.2.6) (1.1.0)\n",
            "Requirement already satisfied, skipping upgrade: wheel>=0.26 in /usr/local/lib/python3.6/dist-packages (from tensorflow->capsnet==0.2.6) (0.33.1)\n",
            "Requirement already satisfied, skipping upgrade: keras-applications>=1.0.6 in /usr/local/lib/python3.6/dist-packages (from tensorflow->capsnet==0.2.6) (1.0.7)\n",
            "Requirement already satisfied, skipping upgrade: six>=1.10.0 in /usr/local/lib/python3.6/dist-packages (from tensorflow->capsnet==0.2.6) (1.12.0)\n",
            "Requirement already satisfied, skipping upgrade: keras-preprocessing>=1.0.5 in /usr/local/lib/python3.6/dist-packages (from tensorflow->capsnet==0.2.6) (1.0.9)\n",
            "Requirement already satisfied, skipping upgrade: astor>=0.6.0 in /usr/local/lib/python3.6/dist-packages (from tensorflow->capsnet==0.2.6) (0.7.1)\n",
            "Requirement already satisfied, skipping upgrade: tensorboard<1.14.0,>=1.13.0 in /usr/local/lib/python3.6/dist-packages (from tensorflow->capsnet==0.2.6) (1.13.1)\n",
            "Requirement already satisfied, skipping upgrade: scipy>=0.13.3 in /usr/local/lib/python3.6/dist-packages (from scikit-learn->capsnet==0.2.6) (1.2.1)\n",
            "Requirement already satisfied, skipping upgrade: h5py in /usr/local/lib/python3.6/dist-packages (from keras->capsnet==0.2.6) (2.8.0)\n",
            "Requirement already satisfied, skipping upgrade: pyyaml in /usr/local/lib/python3.6/dist-packages (from keras->capsnet==0.2.6) (3.13)\n",
            "Requirement already satisfied, skipping upgrade: mock>=2.0.0 in /usr/local/lib/python3.6/dist-packages (from tensorflow-estimator<1.14.0rc0,>=1.13.0->tensorflow->capsnet==0.2.6) (2.0.0)\n",
            "Requirement already satisfied, skipping upgrade: setuptools in /usr/local/lib/python3.6/dist-packages (from protobuf>=3.6.1->tensorflow->capsnet==0.2.6) (40.9.0)\n",
            "Requirement already satisfied, skipping upgrade: markdown>=2.6.8 in /usr/local/lib/python3.6/dist-packages (from tensorboard<1.14.0,>=1.13.0->tensorflow->capsnet==0.2.6) (3.1)\n",
            "Requirement already satisfied, skipping upgrade: werkzeug>=0.11.15 in /usr/local/lib/python3.6/dist-packages (from tensorboard<1.14.0,>=1.13.0->tensorflow->capsnet==0.2.6) (0.15.2)\n",
            "Requirement already satisfied, skipping upgrade: pbr>=0.11 in /usr/local/lib/python3.6/dist-packages (from mock>=2.0.0->tensorflow-estimator<1.14.0rc0,>=1.13.0->tensorflow->capsnet==0.2.6) (5.1.3)\n",
            "Installing collected packages: capsnet\n",
            "  Found existing installation: capsnet 0.2.5\n",
            "    Uninstalling capsnet-0.2.5:\n",
            "      Successfully uninstalled capsnet-0.2.5\n",
            "  Running setup.py install for capsnet ... \u001b[?25ldone\n",
            "\u001b[?25hSuccessfully installed capsnet-0.2.6\n"
          ],
          "name": "stdout"
        },
        {
          "output_type": "stream",
          "text": [
            "Using TensorFlow backend.\n"
          ],
          "name": "stderr"
        }
      ]
    },
    {
      "metadata": {
        "id": "lXW-IfxnXdB8",
        "colab_type": "text"
      },
      "cell_type": "markdown",
      "source": [
        "## Auxilary imports\n",
        "\n",
        "Additional imports used in this Notebook would help to visualize data."
      ]
    },
    {
      "metadata": {
        "id": "r0B1RTylXldU",
        "colab_type": "code",
        "colab": {}
      },
      "cell_type": "code",
      "source": [
        "import numpy as np\n",
        "from sklearn.metrics import confusion_matrix\n",
        "%matplotlib inline\n",
        "import matplotlib.pyplot as plt\n",
        "import pandas as pd\n",
        "from random import randint"
      ],
      "execution_count": 0,
      "outputs": []
    },
    {
      "metadata": {
        "id": "haIVjnGFlbM_",
        "colab_type": "text"
      },
      "cell_type": "markdown",
      "source": [
        "Install and start a TensorBoard in Colab"
      ]
    },
    {
      "metadata": {
        "id": "fLxDpf1JleKJ",
        "colab_type": "code",
        "outputId": "e04673a9-ddbe-45d8-d92d-bfb1fd36b19b",
        "colab": {
          "base_uri": "https://localhost:8080/",
          "height": 85
        }
      },
      "cell_type": "code",
      "source": [
        "!pip install tensorboardcolab\n",
        "from tensorboardcolab import TensorBoardColab, TensorBoardColabCallback\n",
        "\n",
        "tbc = TensorBoardColab()\n",
        "tensor_board_callback = TensorBoardColabCallback(tbc, batch_size=10) #, histogram_freq=5, write_graph=True, write_grads=True, write_images=True)"
      ],
      "execution_count": 0,
      "outputs": [
        {
          "output_type": "stream",
          "text": [
            "Requirement already satisfied: tensorboardcolab in /usr/local/lib/python3.6/dist-packages (0.0.22)\n",
            "Wait for 8 seconds...\n",
            "TensorBoard link:\n",
            "https://8f283382.ngrok.io\n"
          ],
          "name": "stdout"
        }
      ]
    },
    {
      "metadata": {
        "id": "yf59QXJdWRnM",
        "colab_type": "text"
      },
      "cell_type": "markdown",
      "source": [
        "## Verify GPU\n",
        "\n",
        "in the next cell we verify that a GPU is available to our use. The output should contain a GPU details."
      ]
    },
    {
      "metadata": {
        "id": "C35iLzmqWeGl",
        "colab_type": "code",
        "outputId": "91c8c7ef-f385-466f-f528-ec3b9d062f4b",
        "colab": {
          "base_uri": "https://localhost:8080/",
          "height": 102
        }
      },
      "cell_type": "code",
      "source": [
        "from tensorflow.test import is_gpu_available\n",
        "from tensorflow.python.client import device_lib\n",
        "\n",
        "if not is_gpu_available():\n",
        "    raise SystemError('GPU device not found')\n",
        "\n",
        "desc = [f'path: {d.name}, {d.physical_device_desc}' for d in device_lib.list_local_devices() if d.device_type == \"GPU\"][0]\n",
        "print(\"\\n\".join(desc.split(\", \")))"
      ],
      "execution_count": 0,
      "outputs": [
        {
          "output_type": "stream",
          "text": [
            "path: /device:GPU:0\n",
            "device: 0\n",
            "name: Tesla T4\n",
            "pci bus id: 0000:00:04.0\n",
            "compute capability: 7.5\n"
          ],
          "name": "stdout"
        }
      ]
    },
    {
      "metadata": {
        "id": "Gm3DsF4StZ_f",
        "colab_type": "text"
      },
      "cell_type": "markdown",
      "source": [
        "## Collect data set \n",
        "\n",
        "We're gonna be working with LFW dataset"
      ]
    },
    {
      "metadata": {
        "id": "MWP1fbqyrK2e",
        "colab_type": "code",
        "colab": {}
      },
      "cell_type": "code",
      "source": [
        "people = fetch_lfw_people(\n",
        "    color=True,\n",
        "    min_faces_per_person=25\n",
        ")\n",
        "\n",
        "\n",
        "data = preprocess_lfw_people(people)\n",
        "(x_train, y_train), (x_test, y_test) = data"
      ],
      "execution_count": 0,
      "outputs": []
    },
    {
      "metadata": {
        "id": "jAr9gS3Ama1b",
        "colab_type": "code",
        "outputId": "a6d59aa2-c30f-48b5-e14b-b05b32bf18c1",
        "colab": {
          "base_uri": "https://localhost:8080/",
          "height": 204
        }
      },
      "cell_type": "code",
      "source": [
        "metrics = [\n",
        "    [\"Identities\", len(np.unique(people.target, axis=0))],\n",
        "    [\"Total images\", people.target.shape[0]],\n",
        "    [\"Train images\", len(y_train)],\n",
        "    [\"Test images\", len(y_test)],\n",
        "    [\"Image shape\", x_train.shape[1:]]\n",
        "]\n",
        "pd.DataFrame(metrics, columns=[\"Name\", \"Value\"])"
      ],
      "execution_count": 0,
      "outputs": [
        {
          "output_type": "execute_result",
          "data": {
            "text/html": [
              "<div>\n",
              "<style scoped>\n",
              "    .dataframe tbody tr th:only-of-type {\n",
              "        vertical-align: middle;\n",
              "    }\n",
              "\n",
              "    .dataframe tbody tr th {\n",
              "        vertical-align: top;\n",
              "    }\n",
              "\n",
              "    .dataframe thead th {\n",
              "        text-align: right;\n",
              "    }\n",
              "</style>\n",
              "<table border=\"1\" class=\"dataframe\">\n",
              "  <thead>\n",
              "    <tr style=\"text-align: right;\">\n",
              "      <th></th>\n",
              "      <th>Name</th>\n",
              "      <th>Value</th>\n",
              "    </tr>\n",
              "  </thead>\n",
              "  <tbody>\n",
              "    <tr>\n",
              "      <th>0</th>\n",
              "      <td>Identities</td>\n",
              "      <td>42</td>\n",
              "    </tr>\n",
              "    <tr>\n",
              "      <th>1</th>\n",
              "      <td>Total images</td>\n",
              "      <td>2588</td>\n",
              "    </tr>\n",
              "    <tr>\n",
              "      <th>2</th>\n",
              "      <td>Train images</td>\n",
              "      <td>2070</td>\n",
              "    </tr>\n",
              "    <tr>\n",
              "      <th>3</th>\n",
              "      <td>Test images</td>\n",
              "      <td>518</td>\n",
              "    </tr>\n",
              "    <tr>\n",
              "      <th>4</th>\n",
              "      <td>Image shape</td>\n",
              "      <td>(32, 32, 3)</td>\n",
              "    </tr>\n",
              "  </tbody>\n",
              "</table>\n",
              "</div>"
            ],
            "text/plain": [
              "           Name        Value\n",
              "0    Identities           42\n",
              "1  Total images         2588\n",
              "2  Train images         2070\n",
              "3   Test images          518\n",
              "4   Image shape  (32, 32, 3)"
            ]
          },
          "metadata": {
            "tags": []
          },
          "execution_count": 6
        }
      ]
    },
    {
      "metadata": {
        "id": "3ZCoPj6ghtOM",
        "colab_type": "code",
        "outputId": "9d26dfec-aa21-4534-d99b-9258fd5e6dae",
        "colab": {
          "base_uri": "https://localhost:8080/",
          "height": 269
        }
      },
      "cell_type": "code",
      "source": [
        "_ = plt.hist(people.target, bins=people.target_names.shape[0])"
      ],
      "execution_count": 0,
      "outputs": [
        {
          "output_type": "display_data",
          "data": {
            "image/png": "[encoded data removed]",
            "text/plain": [
              "<Figure size 432x288 with 1 Axes>"
            ]
          },
          "metadata": {
            "tags": []
          }
        }
      ]
    },
    {
      "metadata": {
        "id": "enDcEbijABEv",
        "colab_type": "code",
        "outputId": "5e05f68a-1b77-4949-daaf-d2807e4f6c5d",
        "colab": {
          "base_uri": "https://localhost:8080/",
          "height": 286
        }
      },
      "cell_type": "code",
      "source": [
        "i = randint(0, len(x_train))\n",
        "plt.imshow(x_train[i])\n",
        "print(\"{}: {}\".format(np.argmax(y_train[i]), people.target_names[np.argmax(y_train[i])]))"
      ],
      "execution_count": 0,
      "outputs": [
        {
          "output_type": "stream",
          "text": [
            "18: Jean Chretien\n"
          ],
          "name": "stdout"
        },
        {
          "output_type": "display_data",
          "data": {
            "image/png": "[encoded data removed]",
            "text/plain": [
              "<Figure size 432x288 with 1 Axes>"
            ]
          },
          "metadata": {
            "tags": []
          }
        }
      ]
    },
    {
      "metadata": {
        "id": "GO6c2pk1k0Lr",
        "colab_type": "text"
      },
      "cell_type": "markdown",
      "source": [
        "## CapsNet\n",
        "\n",
        "Let's begin training our network"
      ]
    },
    {
      "metadata": {
        "id": "MSvdR8A6tp-V",
        "colab_type": "code",
        "outputId": "c3b83acc-63d3-49a3-a2d9-c60f6ef70b87",
        "colab": {
          "base_uri": "https://localhost:8080/",
          "height": 700
        }
      },
      "cell_type": "code",
      "source": [
        "capsnet = CapsNet(\n",
        "    x_train.shape[1:],\n",
        "    len(np.unique(y_train, axis=0))\n",
        ")\n",
        "capsnet.models['train'].summary()"
      ],
      "execution_count": 0,
      "outputs": [
        {
          "output_type": "stream",
          "text": [
            "WARNING:tensorflow:From /usr/local/lib/python3.6/dist-packages/tensorflow/python/framework/op_def_library.py:263: colocate_with (from tensorflow.python.framework.ops) is deprecated and will be removed in a future version.\n",
            "Instructions for updating:\n",
            "Colocations handled automatically by placer.\n",
            "WARNING:tensorflow:From /usr/local/lib/python3.6/dist-packages/keras/backend/tensorflow_backend.py:3445: calling dropout (from tensorflow.python.ops.nn_ops) with keep_prob is deprecated and will be removed in a future version.\n",
            "Instructions for updating:\n",
            "Please use `rate` instead of `keep_prob`. Rate should be set to `rate = 1 - keep_prob`.\n",
            "WARNING:tensorflow:From /usr/local/lib/python3.6/dist-packages/capsnet/layers.py:114: calling reduce_sum_v1 (from tensorflow.python.ops.math_ops) with keep_dims is deprecated and will be removed in a future version.\n",
            "Instructions for updating:\n",
            "keep_dims is deprecated, use keepdims instead\n",
            "__________________________________________________________________________________________________\n",
            "Layer (type)                    Output Shape         Param #     Connected to                     \n",
            "==================================================================================================\n",
            "input_image (InputLayer)        (None, 32, 32, 3)    0                                            \n",
            "__________________________________________________________________________________________________\n",
            "encoder_conv2d (Conv2D)         (None, 24, 24, 256)  62464       input_image[0][0]                \n",
            "__________________________________________________________________________________________________\n",
            "encoder_dropout (Dropout)       (None, 24, 24, 256)  0           encoder_conv2d[0][0]             \n",
            "__________________________________________________________________________________________________\n",
            "encoder_feature_caps_conv2d (Co (None, 10, 10, 256)  1638656     encoder_dropout[0][0]            \n",
            "__________________________________________________________________________________________________\n",
            "encoder_feature_caps_reshape (R (None, 1600, 16)     0           encoder_feature_caps_conv2d[0][0]\n",
            "__________________________________________________________________________________________________\n",
            "encoder_feature_caps_squash (La (None, 1600, 16)     0           encoder_feature_caps_reshape[0][0\n",
            "__________________________________________________________________________________________________\n",
            "encoder_pred_caps (PredictionCa (None, 42, 32)       34406400    encoder_feature_caps_squash[0][0]\n",
            "__________________________________________________________________________________________________\n",
            "input_label (InputLayer)        (None, 42)           0                                            \n",
            "__________________________________________________________________________________________________\n",
            "mask (Mask)                     (None, 1344)         0           encoder_pred_caps[0][0]          \n",
            "                                                                 input_label[0][0]                \n",
            "__________________________________________________________________________________________________\n",
            "capsnet (Lambda)                (None, 42)           0           encoder_pred_caps[0][0]          \n",
            "__________________________________________________________________________________________________\n",
            "decoder (Sequential)            (None, 32, 32, 3)    540479      mask[0][0]                       \n",
            "==================================================================================================\n",
            "Total params: 36,647,999\n",
            "Trainable params: 36,647,999\n",
            "Non-trainable params: 0\n",
            "__________________________________________________________________________________________________\n"
          ],
          "name": "stdout"
        }
      ]
    },
    {
      "metadata": {
        "id": "khy5eJS_ul2B",
        "colab_type": "code",
        "outputId": "b9c75c77-0c49-4fb3-81ed-36ac60a31192",
        "colab": {
          "base_uri": "https://localhost:8080/",
          "height": 6939
        }
      },
      "cell_type": "code",
      "source": [
        "history = capsnet.train(data, batch_size=10, extra_callbacks=[tensor_board_callback])"
      ],
      "execution_count": 10,
      "outputs": [
        {
          "output_type": "stream",
          "text": [
            "WARNING:tensorflow:From /usr/local/lib/python3.6/dist-packages/tensorflow/python/ops/math_ops.py:3066: to_int32 (from tensorflow.python.ops.math_ops) is deprecated and will be removed in a future version.\n",
            "Instructions for updating:\n",
            "Use tf.cast instead.\n",
            "WARNING:tensorflow:From /usr/local/lib/python3.6/dist-packages/tensorflow/python/ops/math_grad.py:102: div (from tensorflow.python.ops.math_ops) is deprecated and will be removed in a future version.\n",
            "Instructions for updating:\n",
            "Deprecated in favor of operator or tf.math.divide.\n",
            "Epoch 1/100\n",
            "207/207 [==============================] - 102s 494ms/step - loss: 0.7775 - capsnet_loss: 0.7773 - decoder_loss: 0.2521 - capsnet_acc: 0.1188 - val_loss: 0.8006 - val_capsnet_loss: 0.8005 - val_decoder_loss: 0.1524 - val_capsnet_acc: 0.0212\n",
            "\n",
            "Epoch 00001: val_capsnet_acc improved from -inf to 0.02124, saving model to model/weights.01.h5\n",
            "Epoch 2/100\n",
            "207/207 [==============================] - 99s 480ms/step - loss: 0.7492 - capsnet_loss: 0.7492 - decoder_loss: 0.0619 - capsnet_acc: 0.1575 - val_loss: 0.7674 - val_capsnet_loss: 0.7674 - val_decoder_loss: 0.0336 - val_capsnet_acc: 0.1911\n",
            "\n",
            "Epoch 00002: val_capsnet_acc improved from 0.02124 to 0.19112, saving model to model/weights.02.h5\n",
            "Epoch 3/100\n",
            "207/207 [==============================] - 99s 481ms/step - loss: 0.7005 - capsnet_loss: 0.7004 - decoder_loss: 0.0326 - capsnet_acc: 0.1990 - val_loss: 0.6832 - val_capsnet_loss: 0.6832 - val_decoder_loss: 0.0313 - val_capsnet_acc: 0.1969\n",
            "\n",
            "Epoch 00003: val_capsnet_acc improved from 0.19112 to 0.19691, saving model to model/weights.03.h5\n",
            "Epoch 4/100\n",
            "207/207 [==============================] - 100s 481ms/step - loss: 0.6696 - capsnet_loss: 0.6695 - decoder_loss: 0.0316 - capsnet_acc: 0.2029 - val_loss: 0.6599 - val_capsnet_loss: 0.6599 - val_decoder_loss: 0.0303 - val_capsnet_acc: 0.1931\n",
            "\n",
            "Epoch 00004: val_capsnet_acc did not improve from 0.19691\n",
            "Epoch 5/100\n",
            "207/207 [==============================] - 100s 482ms/step - loss: 0.6535 - capsnet_loss: 0.6535 - decoder_loss: 0.0307 - capsnet_acc: 0.2077 - val_loss: 0.6755 - val_capsnet_loss: 0.6754 - val_decoder_loss: 0.0299 - val_capsnet_acc: 0.2336\n",
            "\n",
            "Epoch 00005: val_capsnet_acc improved from 0.19691 to 0.23359, saving model to model/weights.05.h5\n",
            "Epoch 6/100\n",
            "207/207 [==============================] - 100s 481ms/step - loss: 0.6257 - capsnet_loss: 0.6256 - decoder_loss: 0.0309 - capsnet_acc: 0.2198 - val_loss: 0.6266 - val_capsnet_loss: 0.6266 - val_decoder_loss: 0.0296 - val_capsnet_acc: 0.2201\n",
            "\n",
            "Epoch 00006: val_capsnet_acc did not improve from 0.23359\n",
            "Epoch 7/100\n",
            "207/207 [==============================] - 100s 481ms/step - loss: 0.6047 - capsnet_loss: 0.6046 - decoder_loss: 0.0304 - capsnet_acc: 0.2483 - val_loss: 0.6112 - val_capsnet_loss: 0.6112 - val_decoder_loss: 0.0294 - val_capsnet_acc: 0.2394\n",
            "\n",
            "Epoch 00007: val_capsnet_acc improved from 0.23359 to 0.23938, saving model to model/weights.07.h5\n",
            "Epoch 8/100\n",
            "207/207 [==============================] - 99s 481ms/step - loss: 0.5880 - capsnet_loss: 0.5879 - decoder_loss: 0.0304 - capsnet_acc: 0.2498 - val_loss: 0.5898 - val_capsnet_loss: 0.5898 - val_decoder_loss: 0.0292 - val_capsnet_acc: 0.2683\n",
            "\n",
            "Epoch 00008: val_capsnet_acc improved from 0.23938 to 0.26834, saving model to model/weights.08.h5\n",
            "Epoch 9/100\n",
            "207/207 [==============================] - 99s 481ms/step - loss: 0.5696 - capsnet_loss: 0.5695 - decoder_loss: 0.0302 - capsnet_acc: 0.2652 - val_loss: 0.5732 - val_capsnet_loss: 0.5732 - val_decoder_loss: 0.0291 - val_capsnet_acc: 0.2625\n",
            "\n",
            "Epoch 00009: val_capsnet_acc did not improve from 0.26834\n",
            "Epoch 10/100\n",
            "207/207 [==============================] - 99s 480ms/step - loss: 0.5581 - capsnet_loss: 0.5580 - decoder_loss: 0.0300 - capsnet_acc: 0.2816 - val_loss: 0.5569 - val_capsnet_loss: 0.5568 - val_decoder_loss: 0.0290 - val_capsnet_acc: 0.3012\n",
            "\n",
            "Epoch 00010: val_capsnet_acc improved from 0.26834 to 0.30116, saving model to model/weights.10.h5\n",
            "Epoch 11/100\n",
            "207/207 [==============================] - 99s 480ms/step - loss: 0.5371 - capsnet_loss: 0.5371 - decoder_loss: 0.0300 - capsnet_acc: 0.3058 - val_loss: 0.5464 - val_capsnet_loss: 0.5464 - val_decoder_loss: 0.0289 - val_capsnet_acc: 0.3320\n",
            "\n",
            "Epoch 00011: val_capsnet_acc improved from 0.30116 to 0.33205, saving model to model/weights.11.h5\n",
            "Epoch 12/100\n",
            "207/207 [==============================] - 100s 481ms/step - loss: 0.5280 - capsnet_loss: 0.5280 - decoder_loss: 0.0299 - capsnet_acc: 0.3039 - val_loss: 0.5139 - val_capsnet_loss: 0.5139 - val_decoder_loss: 0.0288 - val_capsnet_acc: 0.3147\n",
            "\n",
            "Epoch 00012: val_capsnet_acc did not improve from 0.33205\n",
            "Epoch 13/100\n",
            "207/207 [==============================] - 99s 481ms/step - loss: 0.5204 - capsnet_loss: 0.5204 - decoder_loss: 0.0297 - capsnet_acc: 0.3256 - val_loss: 0.5159 - val_capsnet_loss: 0.5159 - val_decoder_loss: 0.0288 - val_capsnet_acc: 0.2896\n",
            "\n",
            "Epoch 00013: val_capsnet_acc did not improve from 0.33205\n",
            "Epoch 14/100\n",
            "207/207 [==============================] - 99s 481ms/step - loss: 0.5028 - capsnet_loss: 0.5028 - decoder_loss: 0.0296 - capsnet_acc: 0.3464 - val_loss: 0.5054 - val_capsnet_loss: 0.5054 - val_decoder_loss: 0.0286 - val_capsnet_acc: 0.3378\n",
            "\n",
            "Epoch 00014: val_capsnet_acc improved from 0.33205 to 0.33784, saving model to model/weights.14.h5\n",
            "Epoch 15/100\n",
            "207/207 [==============================] - 99s 480ms/step - loss: 0.4977 - capsnet_loss: 0.4977 - decoder_loss: 0.0296 - capsnet_acc: 0.3377 - val_loss: 0.4961 - val_capsnet_loss: 0.4961 - val_decoder_loss: 0.0285 - val_capsnet_acc: 0.3108\n",
            "\n",
            "Epoch 00015: val_capsnet_acc did not improve from 0.33784\n",
            "Epoch 16/100\n",
            "207/207 [==============================] - 99s 479ms/step - loss: 0.4867 - capsnet_loss: 0.4867 - decoder_loss: 0.0294 - capsnet_acc: 0.3512 - val_loss: 0.4896 - val_capsnet_loss: 0.4896 - val_decoder_loss: 0.0284 - val_capsnet_acc: 0.3378\n",
            "\n",
            "Epoch 00016: val_capsnet_acc did not improve from 0.33784\n",
            "Epoch 17/100\n",
            "207/207 [==============================] - 99s 479ms/step - loss: 0.4751 - capsnet_loss: 0.4751 - decoder_loss: 0.0295 - capsnet_acc: 0.3734 - val_loss: 0.4742 - val_capsnet_loss: 0.4742 - val_decoder_loss: 0.0283 - val_capsnet_acc: 0.3880\n",
            "\n",
            "Epoch 00017: val_capsnet_acc improved from 0.33784 to 0.38803, saving model to model/weights.17.h5\n",
            "Epoch 18/100\n",
            "207/207 [==============================] - 99s 479ms/step - loss: 0.4729 - capsnet_loss: 0.4729 - decoder_loss: 0.0294 - capsnet_acc: 0.3604 - val_loss: 0.4937 - val_capsnet_loss: 0.4937 - val_decoder_loss: 0.0283 - val_capsnet_acc: 0.3436\n",
            "\n",
            "Epoch 00018: val_capsnet_acc did not improve from 0.38803\n",
            "Epoch 19/100\n",
            "207/207 [==============================] - 99s 479ms/step - loss: 0.4588 - capsnet_loss: 0.4588 - decoder_loss: 0.0294 - capsnet_acc: 0.3918 - val_loss: 0.4682 - val_capsnet_loss: 0.4682 - val_decoder_loss: 0.0282 - val_capsnet_acc: 0.3668\n",
            "\n",
            "Epoch 00019: val_capsnet_acc did not improve from 0.38803\n",
            "Epoch 20/100\n",
            "207/207 [==============================] - 99s 479ms/step - loss: 0.4525 - capsnet_loss: 0.4525 - decoder_loss: 0.0292 - capsnet_acc: 0.3976 - val_loss: 0.4453 - val_capsnet_loss: 0.4453 - val_decoder_loss: 0.0282 - val_capsnet_acc: 0.3958\n",
            "\n",
            "Epoch 00020: val_capsnet_acc improved from 0.38803 to 0.39575, saving model to model/weights.20.h5\n",
            "Epoch 21/100\n",
            "207/207 [==============================] - 99s 479ms/step - loss: 0.4457 - capsnet_loss: 0.4457 - decoder_loss: 0.0293 - capsnet_acc: 0.4126 - val_loss: 0.4290 - val_capsnet_loss: 0.4290 - val_decoder_loss: 0.0281 - val_capsnet_acc: 0.4305\n",
            "\n",
            "Epoch 00021: val_capsnet_acc improved from 0.39575 to 0.43050, saving model to model/weights.21.h5\n",
            "Epoch 22/100\n",
            "207/207 [==============================] - 99s 479ms/step - loss: 0.4393 - capsnet_loss: 0.4392 - decoder_loss: 0.0291 - capsnet_acc: 0.4261 - val_loss: 0.4311 - val_capsnet_loss: 0.4311 - val_decoder_loss: 0.0280 - val_capsnet_acc: 0.4266\n",
            "\n",
            "Epoch 00022: val_capsnet_acc did not improve from 0.43050\n",
            "Epoch 23/100\n",
            "207/207 [==============================] - 99s 479ms/step - loss: 0.4304 - capsnet_loss: 0.4304 - decoder_loss: 0.0292 - capsnet_acc: 0.4357 - val_loss: 0.4389 - val_capsnet_loss: 0.4388 - val_decoder_loss: 0.0280 - val_capsnet_acc: 0.4189\n",
            "\n",
            "Epoch 00023: val_capsnet_acc did not improve from 0.43050\n",
            "Epoch 24/100\n",
            "207/207 [==============================] - 99s 480ms/step - loss: 0.4276 - capsnet_loss: 0.4276 - decoder_loss: 0.0291 - capsnet_acc: 0.4353 - val_loss: 0.4214 - val_capsnet_loss: 0.4214 - val_decoder_loss: 0.0280 - val_capsnet_acc: 0.4421\n",
            "\n",
            "Epoch 00024: val_capsnet_acc improved from 0.43050 to 0.44208, saving model to model/weights.24.h5\n",
            "Epoch 25/100\n",
            "207/207 [==============================] - 99s 480ms/step - loss: 0.4240 - capsnet_loss: 0.4239 - decoder_loss: 0.0292 - capsnet_acc: 0.4435 - val_loss: 0.4219 - val_capsnet_loss: 0.4219 - val_decoder_loss: 0.0279 - val_capsnet_acc: 0.4382\n",
            "\n",
            "Epoch 00025: val_capsnet_acc did not improve from 0.44208\n",
            "Epoch 26/100\n",
            "207/207 [==============================] - 99s 479ms/step - loss: 0.4149 - capsnet_loss: 0.4149 - decoder_loss: 0.0290 - capsnet_acc: 0.4483 - val_loss: 0.4161 - val_capsnet_loss: 0.4161 - val_decoder_loss: 0.0279 - val_capsnet_acc: 0.4344\n",
            "\n",
            "Epoch 00026: val_capsnet_acc did not improve from 0.44208\n",
            "Epoch 27/100\n",
            "207/207 [==============================] - 99s 480ms/step - loss: 0.4215 - capsnet_loss: 0.4215 - decoder_loss: 0.0290 - capsnet_acc: 0.4536 - val_loss: 0.4131 - val_capsnet_loss: 0.4131 - val_decoder_loss: 0.0279 - val_capsnet_acc: 0.4286\n",
            "\n",
            "Epoch 00027: val_capsnet_acc did not improve from 0.44208\n",
            "Epoch 28/100\n",
            "207/207 [==============================] - 99s 479ms/step - loss: 0.4103 - capsnet_loss: 0.4103 - decoder_loss: 0.0290 - capsnet_acc: 0.4710 - val_loss: 0.4083 - val_capsnet_loss: 0.4082 - val_decoder_loss: 0.0278 - val_capsnet_acc: 0.4517\n",
            "\n",
            "Epoch 00028: val_capsnet_acc improved from 0.44208 to 0.45174, saving model to model/weights.28.h5\n",
            "Epoch 29/100\n",
            "207/207 [==============================] - 99s 480ms/step - loss: 0.4025 - capsnet_loss: 0.4024 - decoder_loss: 0.0290 - capsnet_acc: 0.4720 - val_loss: 0.4125 - val_capsnet_loss: 0.4125 - val_decoder_loss: 0.0278 - val_capsnet_acc: 0.4402\n",
            "\n",
            "Epoch 00029: val_capsnet_acc did not improve from 0.45174\n",
            "Epoch 30/100\n",
            "207/207 [==============================] - 99s 480ms/step - loss: 0.4041 - capsnet_loss: 0.4041 - decoder_loss: 0.0290 - capsnet_acc: 0.4715 - val_loss: 0.4033 - val_capsnet_loss: 0.4033 - val_decoder_loss: 0.0278 - val_capsnet_acc: 0.4672\n",
            "\n",
            "Epoch 00030: val_capsnet_acc improved from 0.45174 to 0.46718, saving model to model/weights.30.h5\n",
            "Epoch 31/100\n",
            "207/207 [==============================] - 99s 480ms/step - loss: 0.3992 - capsnet_loss: 0.3992 - decoder_loss: 0.0289 - capsnet_acc: 0.4831 - val_loss: 0.4017 - val_capsnet_loss: 0.4017 - val_decoder_loss: 0.0278 - val_capsnet_acc: 0.4633\n",
            "\n",
            "Epoch 00031: val_capsnet_acc did not improve from 0.46718\n",
            "Epoch 32/100\n",
            "207/207 [==============================] - 99s 479ms/step - loss: 0.4016 - capsnet_loss: 0.4016 - decoder_loss: 0.0289 - capsnet_acc: 0.4739 - val_loss: 0.4056 - val_capsnet_loss: 0.4056 - val_decoder_loss: 0.0278 - val_capsnet_acc: 0.4421\n",
            "\n",
            "Epoch 00032: val_capsnet_acc did not improve from 0.46718\n",
            "Epoch 33/100\n",
            "207/207 [==============================] - 99s 479ms/step - loss: 0.4000 - capsnet_loss: 0.4000 - decoder_loss: 0.0289 - capsnet_acc: 0.4773 - val_loss: 0.4012 - val_capsnet_loss: 0.4012 - val_decoder_loss: 0.0278 - val_capsnet_acc: 0.4672\n",
            "\n",
            "Epoch 00033: val_capsnet_acc improved from 0.46718 to 0.46718, saving model to model/weights.33.h5\n",
            "Epoch 34/100\n",
            "207/207 [==============================] - 99s 479ms/step - loss: 0.3993 - capsnet_loss: 0.3993 - decoder_loss: 0.0290 - capsnet_acc: 0.4671 - val_loss: 0.3930 - val_capsnet_loss: 0.3930 - val_decoder_loss: 0.0278 - val_capsnet_acc: 0.4826\n",
            "\n",
            "Epoch 00034: val_capsnet_acc improved from 0.46718 to 0.48263, saving model to model/weights.34.h5\n",
            "Epoch 35/100\n",
            "207/207 [==============================] - 99s 479ms/step - loss: 0.3917 - capsnet_loss: 0.3916 - decoder_loss: 0.0290 - capsnet_acc: 0.4908 - val_loss: 0.3985 - val_capsnet_loss: 0.3985 - val_decoder_loss: 0.0278 - val_capsnet_acc: 0.4614\n",
            "\n",
            "Epoch 00035: val_capsnet_acc did not improve from 0.48263\n",
            "Epoch 36/100\n",
            "207/207 [==============================] - 99s 479ms/step - loss: 0.3920 - capsnet_loss: 0.3920 - decoder_loss: 0.0289 - capsnet_acc: 0.4787 - val_loss: 0.3981 - val_capsnet_loss: 0.3981 - val_decoder_loss: 0.0277 - val_capsnet_acc: 0.4730\n",
            "\n",
            "Epoch 00036: val_capsnet_acc did not improve from 0.48263\n",
            "Epoch 37/100\n",
            "207/207 [==============================] - 99s 478ms/step - loss: 0.3862 - capsnet_loss: 0.3862 - decoder_loss: 0.0287 - capsnet_acc: 0.4928 - val_loss: 0.3872 - val_capsnet_loss: 0.3871 - val_decoder_loss: 0.0277 - val_capsnet_acc: 0.4903\n",
            "\n",
            "Epoch 00037: val_capsnet_acc improved from 0.48263 to 0.49035, saving model to model/weights.37.h5\n",
            "Epoch 38/100\n",
            "207/207 [==============================] - 99s 479ms/step - loss: 0.3865 - capsnet_loss: 0.3865 - decoder_loss: 0.0291 - capsnet_acc: 0.5000 - val_loss: 0.3924 - val_capsnet_loss: 0.3924 - val_decoder_loss: 0.0277 - val_capsnet_acc: 0.4807\n",
            "\n",
            "Epoch 00038: val_capsnet_acc did not improve from 0.49035\n",
            "Epoch 39/100\n",
            "207/207 [==============================] - 99s 479ms/step - loss: 0.3894 - capsnet_loss: 0.3894 - decoder_loss: 0.0288 - capsnet_acc: 0.4874 - val_loss: 0.3859 - val_capsnet_loss: 0.3859 - val_decoder_loss: 0.0277 - val_capsnet_acc: 0.4923\n",
            "\n",
            "Epoch 00039: val_capsnet_acc improved from 0.49035 to 0.49228, saving model to model/weights.39.h5\n",
            "Epoch 40/100\n",
            "207/207 [==============================] - 99s 479ms/step - loss: 0.3840 - capsnet_loss: 0.3840 - decoder_loss: 0.0290 - capsnet_acc: 0.5010 - val_loss: 0.3885 - val_capsnet_loss: 0.3885 - val_decoder_loss: 0.0277 - val_capsnet_acc: 0.4768\n",
            "\n",
            "Epoch 00040: val_capsnet_acc did not improve from 0.49228\n",
            "Epoch 41/100\n",
            "207/207 [==============================] - 99s 478ms/step - loss: 0.3871 - capsnet_loss: 0.3870 - decoder_loss: 0.0289 - capsnet_acc: 0.4990 - val_loss: 0.3864 - val_capsnet_loss: 0.3864 - val_decoder_loss: 0.0277 - val_capsnet_acc: 0.4865\n",
            "\n",
            "Epoch 00041: val_capsnet_acc did not improve from 0.49228\n",
            "Epoch 42/100\n",
            "207/207 [==============================] - 99s 478ms/step - loss: 0.3818 - capsnet_loss: 0.3818 - decoder_loss: 0.0289 - capsnet_acc: 0.4990 - val_loss: 0.3858 - val_capsnet_loss: 0.3858 - val_decoder_loss: 0.0277 - val_capsnet_acc: 0.4903\n",
            "\n",
            "Epoch 00042: val_capsnet_acc did not improve from 0.49228\n",
            "Epoch 43/100\n",
            "207/207 [==============================] - 99s 478ms/step - loss: 0.3817 - capsnet_loss: 0.3817 - decoder_loss: 0.0289 - capsnet_acc: 0.4976 - val_loss: 0.3826 - val_capsnet_loss: 0.3826 - val_decoder_loss: 0.0277 - val_capsnet_acc: 0.4865\n",
            "\n",
            "Epoch 00043: val_capsnet_acc did not improve from 0.49228\n",
            "Epoch 44/100\n",
            "207/207 [==============================] - 99s 477ms/step - loss: 0.3835 - capsnet_loss: 0.3835 - decoder_loss: 0.0288 - capsnet_acc: 0.5034 - val_loss: 0.3820 - val_capsnet_loss: 0.3820 - val_decoder_loss: 0.0277 - val_capsnet_acc: 0.4942\n",
            "\n",
            "Epoch 00044: val_capsnet_acc improved from 0.49228 to 0.49421, saving model to model/weights.44.h5\n",
            "Epoch 45/100\n",
            "207/207 [==============================] - 99s 477ms/step - loss: 0.3848 - capsnet_loss: 0.3847 - decoder_loss: 0.0286 - capsnet_acc: 0.5010 - val_loss: 0.3841 - val_capsnet_loss: 0.3840 - val_decoder_loss: 0.0277 - val_capsnet_acc: 0.4923\n",
            "\n",
            "Epoch 00045: val_capsnet_acc did not improve from 0.49421\n",
            "Epoch 46/100\n",
            "207/207 [==============================] - 99s 479ms/step - loss: 0.3796 - capsnet_loss: 0.3796 - decoder_loss: 0.0287 - capsnet_acc: 0.5034 - val_loss: 0.3856 - val_capsnet_loss: 0.3856 - val_decoder_loss: 0.0277 - val_capsnet_acc: 0.4923\n",
            "\n",
            "Epoch 00046: val_capsnet_acc did not improve from 0.49421\n",
            "Epoch 47/100\n",
            "207/207 [==============================] - 99s 478ms/step - loss: 0.3812 - capsnet_loss: 0.3812 - decoder_loss: 0.0288 - capsnet_acc: 0.5014 - val_loss: 0.3845 - val_capsnet_loss: 0.3845 - val_decoder_loss: 0.0277 - val_capsnet_acc: 0.4903\n",
            "\n",
            "Epoch 00047: val_capsnet_acc did not improve from 0.49421\n",
            "Epoch 48/100\n",
            "207/207 [==============================] - 99s 478ms/step - loss: 0.3809 - capsnet_loss: 0.3809 - decoder_loss: 0.0289 - capsnet_acc: 0.4971 - val_loss: 0.3793 - val_capsnet_loss: 0.3793 - val_decoder_loss: 0.0277 - val_capsnet_acc: 0.5019\n",
            "\n",
            "Epoch 00048: val_capsnet_acc improved from 0.49421 to 0.50193, saving model to model/weights.48.h5\n",
            "Epoch 49/100\n",
            "207/207 [==============================] - 99s 478ms/step - loss: 0.3803 - capsnet_loss: 0.3803 - decoder_loss: 0.0286 - capsnet_acc: 0.5217 - val_loss: 0.3822 - val_capsnet_loss: 0.3821 - val_decoder_loss: 0.0277 - val_capsnet_acc: 0.4903\n",
            "\n",
            "Epoch 00049: val_capsnet_acc did not improve from 0.50193\n",
            "Epoch 50/100\n",
            "207/207 [==============================] - 99s 479ms/step - loss: 0.3861 - capsnet_loss: 0.3861 - decoder_loss: 0.0287 - capsnet_acc: 0.4928 - val_loss: 0.3823 - val_capsnet_loss: 0.3823 - val_decoder_loss: 0.0277 - val_capsnet_acc: 0.4981\n",
            "\n",
            "Epoch 00050: val_capsnet_acc did not improve from 0.50193\n",
            "Epoch 51/100\n",
            "207/207 [==============================] - 99s 478ms/step - loss: 0.3762 - capsnet_loss: 0.3762 - decoder_loss: 0.0288 - capsnet_acc: 0.5077 - val_loss: 0.3838 - val_capsnet_loss: 0.3838 - val_decoder_loss: 0.0277 - val_capsnet_acc: 0.4961\n",
            "\n",
            "Epoch 00051: val_capsnet_acc did not improve from 0.50193\n",
            "Epoch 52/100\n",
            "207/207 [==============================] - 99s 478ms/step - loss: 0.3831 - capsnet_loss: 0.3831 - decoder_loss: 0.0290 - capsnet_acc: 0.4976 - val_loss: 0.3832 - val_capsnet_loss: 0.3832 - val_decoder_loss: 0.0277 - val_capsnet_acc: 0.4961\n",
            "\n",
            "Epoch 00052: val_capsnet_acc did not improve from 0.50193\n",
            "Epoch 53/100\n",
            "207/207 [==============================] - 99s 478ms/step - loss: 0.3806 - capsnet_loss: 0.3806 - decoder_loss: 0.0287 - capsnet_acc: 0.5048 - val_loss: 0.3800 - val_capsnet_loss: 0.3800 - val_decoder_loss: 0.0277 - val_capsnet_acc: 0.4961\n",
            "\n",
            "Epoch 00053: val_capsnet_acc did not improve from 0.50193\n",
            "Epoch 54/100\n",
            "207/207 [==============================] - 99s 480ms/step - loss: 0.3841 - capsnet_loss: 0.3841 - decoder_loss: 0.0288 - capsnet_acc: 0.5010 - val_loss: 0.3810 - val_capsnet_loss: 0.3810 - val_decoder_loss: 0.0277 - val_capsnet_acc: 0.5000\n",
            "\n",
            "Epoch 00054: val_capsnet_acc did not improve from 0.50193\n",
            "Epoch 55/100\n",
            "207/207 [==============================] - 99s 480ms/step - loss: 0.3785 - capsnet_loss: 0.3784 - decoder_loss: 0.0286 - capsnet_acc: 0.5106 - val_loss: 0.3810 - val_capsnet_loss: 0.3810 - val_decoder_loss: 0.0277 - val_capsnet_acc: 0.4981\n",
            "\n",
            "Epoch 00055: val_capsnet_acc did not improve from 0.50193\n",
            "Epoch 56/100\n",
            "207/207 [==============================] - 99s 480ms/step - loss: 0.3729 - capsnet_loss: 0.3729 - decoder_loss: 0.0286 - capsnet_acc: 0.5135 - val_loss: 0.3815 - val_capsnet_loss: 0.3815 - val_decoder_loss: 0.0277 - val_capsnet_acc: 0.4981\n",
            "\n",
            "Epoch 00056: val_capsnet_acc did not improve from 0.50193\n",
            "Epoch 57/100\n",
            "207/207 [==============================] - 99s 480ms/step - loss: 0.3777 - capsnet_loss: 0.3777 - decoder_loss: 0.0287 - capsnet_acc: 0.5159 - val_loss: 0.3814 - val_capsnet_loss: 0.3814 - val_decoder_loss: 0.0277 - val_capsnet_acc: 0.5000\n",
            "\n",
            "Epoch 00057: val_capsnet_acc did not improve from 0.50193\n",
            "Epoch 58/100\n",
            "207/207 [==============================] - 99s 479ms/step - loss: 0.3752 - capsnet_loss: 0.3752 - decoder_loss: 0.0286 - capsnet_acc: 0.5193 - val_loss: 0.3785 - val_capsnet_loss: 0.3785 - val_decoder_loss: 0.0276 - val_capsnet_acc: 0.5000\n",
            "\n",
            "Epoch 00058: val_capsnet_acc did not improve from 0.50193\n",
            "Epoch 59/100\n",
            "207/207 [==============================] - 99s 480ms/step - loss: 0.3817 - capsnet_loss: 0.3816 - decoder_loss: 0.0288 - capsnet_acc: 0.5058 - val_loss: 0.3798 - val_capsnet_loss: 0.3797 - val_decoder_loss: 0.0276 - val_capsnet_acc: 0.5000\n",
            "\n",
            "Epoch 00059: val_capsnet_acc did not improve from 0.50193\n",
            "Epoch 60/100\n",
            "207/207 [==============================] - 99s 479ms/step - loss: 0.3739 - capsnet_loss: 0.3739 - decoder_loss: 0.0288 - capsnet_acc: 0.5295 - val_loss: 0.3799 - val_capsnet_loss: 0.3799 - val_decoder_loss: 0.0276 - val_capsnet_acc: 0.5000\n",
            "\n",
            "Epoch 00060: val_capsnet_acc did not improve from 0.50193\n",
            "Epoch 61/100\n",
            "207/207 [==============================] - 99s 480ms/step - loss: 0.3742 - capsnet_loss: 0.3741 - decoder_loss: 0.0288 - capsnet_acc: 0.5174 - val_loss: 0.3806 - val_capsnet_loss: 0.3806 - val_decoder_loss: 0.0276 - val_capsnet_acc: 0.5000\n",
            "\n",
            "Epoch 00061: val_capsnet_acc did not improve from 0.50193\n",
            "Epoch 62/100\n",
            "207/207 [==============================] - 99s 480ms/step - loss: 0.3745 - capsnet_loss: 0.3745 - decoder_loss: 0.0287 - capsnet_acc: 0.5101 - val_loss: 0.3796 - val_capsnet_loss: 0.3796 - val_decoder_loss: 0.0276 - val_capsnet_acc: 0.4981\n",
            "\n",
            "Epoch 00062: val_capsnet_acc did not improve from 0.50193\n",
            "Epoch 63/100\n",
            "207/207 [==============================] - 99s 480ms/step - loss: 0.3723 - capsnet_loss: 0.3723 - decoder_loss: 0.0287 - capsnet_acc: 0.5227 - val_loss: 0.3803 - val_capsnet_loss: 0.3803 - val_decoder_loss: 0.0276 - val_capsnet_acc: 0.4961\n",
            "\n",
            "Epoch 00063: val_capsnet_acc did not improve from 0.50193\n",
            "Epoch 64/100\n",
            "207/207 [==============================] - 100s 482ms/step - loss: 0.3759 - capsnet_loss: 0.3759 - decoder_loss: 0.0289 - capsnet_acc: 0.5077 - val_loss: 0.3804 - val_capsnet_loss: 0.3804 - val_decoder_loss: 0.0276 - val_capsnet_acc: 0.5000\n",
            "\n",
            "Epoch 00064: val_capsnet_acc did not improve from 0.50193\n",
            "Epoch 65/100\n",
            "207/207 [==============================] - 99s 481ms/step - loss: 0.3794 - capsnet_loss: 0.3794 - decoder_loss: 0.0288 - capsnet_acc: 0.5034 - val_loss: 0.3802 - val_capsnet_loss: 0.3801 - val_decoder_loss: 0.0276 - val_capsnet_acc: 0.5000\n",
            "\n",
            "Epoch 00065: val_capsnet_acc did not improve from 0.50193\n",
            "Epoch 66/100\n",
            "207/207 [==============================] - 99s 480ms/step - loss: 0.3776 - capsnet_loss: 0.3776 - decoder_loss: 0.0286 - capsnet_acc: 0.5092 - val_loss: 0.3799 - val_capsnet_loss: 0.3799 - val_decoder_loss: 0.0276 - val_capsnet_acc: 0.5019\n",
            "\n",
            "Epoch 00066: val_capsnet_acc did not improve from 0.50193\n",
            "Epoch 67/100\n",
            "207/207 [==============================] - 99s 480ms/step - loss: 0.3779 - capsnet_loss: 0.3779 - decoder_loss: 0.0288 - capsnet_acc: 0.5101 - val_loss: 0.3801 - val_capsnet_loss: 0.3801 - val_decoder_loss: 0.0276 - val_capsnet_acc: 0.5019\n",
            "\n",
            "Epoch 00067: val_capsnet_acc did not improve from 0.50193\n",
            "Epoch 68/100\n",
            "207/207 [==============================] - 99s 480ms/step - loss: 0.3780 - capsnet_loss: 0.3780 - decoder_loss: 0.0288 - capsnet_acc: 0.5005 - val_loss: 0.3806 - val_capsnet_loss: 0.3806 - val_decoder_loss: 0.0276 - val_capsnet_acc: 0.4981\n",
            "\n",
            "Epoch 00068: val_capsnet_acc did not improve from 0.50193\n",
            "Epoch 69/100\n",
            "207/207 [==============================] - 99s 479ms/step - loss: 0.3798 - capsnet_loss: 0.3798 - decoder_loss: 0.0288 - capsnet_acc: 0.5092 - val_loss: 0.3805 - val_capsnet_loss: 0.3805 - val_decoder_loss: 0.0276 - val_capsnet_acc: 0.5000\n",
            "\n",
            "Epoch 00069: val_capsnet_acc did not improve from 0.50193\n",
            "Epoch 70/100\n",
            "207/207 [==============================] - 99s 479ms/step - loss: 0.3822 - capsnet_loss: 0.3821 - decoder_loss: 0.0288 - capsnet_acc: 0.4918 - val_loss: 0.3803 - val_capsnet_loss: 0.3802 - val_decoder_loss: 0.0276 - val_capsnet_acc: 0.4981\n",
            "\n",
            "Epoch 00070: val_capsnet_acc did not improve from 0.50193\n",
            "Epoch 71/100\n",
            "207/207 [==============================] - 99s 481ms/step - loss: 0.3758 - capsnet_loss: 0.3758 - decoder_loss: 0.0287 - capsnet_acc: 0.5063 - val_loss: 0.3795 - val_capsnet_loss: 0.3795 - val_decoder_loss: 0.0276 - val_capsnet_acc: 0.5000\n",
            "\n",
            "Epoch 00071: val_capsnet_acc did not improve from 0.50193\n",
            "Epoch 72/100\n",
            "207/207 [==============================] - 99s 480ms/step - loss: 0.3740 - capsnet_loss: 0.3740 - decoder_loss: 0.0287 - capsnet_acc: 0.5126 - val_loss: 0.3795 - val_capsnet_loss: 0.3795 - val_decoder_loss: 0.0276 - val_capsnet_acc: 0.5000\n",
            "\n",
            "Epoch 00072: val_capsnet_acc did not improve from 0.50193\n",
            "Epoch 73/100\n",
            "207/207 [==============================] - 99s 480ms/step - loss: 0.3773 - capsnet_loss: 0.3773 - decoder_loss: 0.0289 - capsnet_acc: 0.5121 - val_loss: 0.3797 - val_capsnet_loss: 0.3797 - val_decoder_loss: 0.0276 - val_capsnet_acc: 0.5000\n",
            "\n",
            "Epoch 00073: val_capsnet_acc did not improve from 0.50193\n",
            "Epoch 74/100\n",
            "207/207 [==============================] - 99s 480ms/step - loss: 0.3759 - capsnet_loss: 0.3759 - decoder_loss: 0.0287 - capsnet_acc: 0.5077 - val_loss: 0.3795 - val_capsnet_loss: 0.3795 - val_decoder_loss: 0.0276 - val_capsnet_acc: 0.5000\n",
            "\n",
            "Epoch 00074: val_capsnet_acc did not improve from 0.50193\n",
            "Epoch 75/100\n",
            "207/207 [==============================] - 99s 481ms/step - loss: 0.3750 - capsnet_loss: 0.3750 - decoder_loss: 0.0286 - capsnet_acc: 0.5106 - val_loss: 0.3797 - val_capsnet_loss: 0.3797 - val_decoder_loss: 0.0276 - val_capsnet_acc: 0.4981\n",
            "\n",
            "Epoch 00075: val_capsnet_acc did not improve from 0.50193\n",
            "Epoch 76/100\n",
            "207/207 [==============================] - 99s 480ms/step - loss: 0.3776 - capsnet_loss: 0.3776 - decoder_loss: 0.0287 - capsnet_acc: 0.5092 - val_loss: 0.3798 - val_capsnet_loss: 0.3798 - val_decoder_loss: 0.0276 - val_capsnet_acc: 0.4981\n",
            "\n",
            "Epoch 00076: val_capsnet_acc did not improve from 0.50193\n",
            "Epoch 77/100\n",
            "207/207 [==============================] - 100s 481ms/step - loss: 0.3708 - capsnet_loss: 0.3708 - decoder_loss: 0.0287 - capsnet_acc: 0.5227 - val_loss: 0.3797 - val_capsnet_loss: 0.3797 - val_decoder_loss: 0.0276 - val_capsnet_acc: 0.4981\n",
            "\n",
            "Epoch 00077: val_capsnet_acc did not improve from 0.50193\n",
            "Epoch 78/100\n",
            "207/207 [==============================] - 99s 480ms/step - loss: 0.3741 - capsnet_loss: 0.3740 - decoder_loss: 0.0288 - capsnet_acc: 0.5179 - val_loss: 0.3798 - val_capsnet_loss: 0.3798 - val_decoder_loss: 0.0276 - val_capsnet_acc: 0.4981\n",
            "\n",
            "Epoch 00078: val_capsnet_acc did not improve from 0.50193\n",
            "Epoch 79/100\n",
            "207/207 [==============================] - 99s 480ms/step - loss: 0.3746 - capsnet_loss: 0.3746 - decoder_loss: 0.0288 - capsnet_acc: 0.5121 - val_loss: 0.3797 - val_capsnet_loss: 0.3797 - val_decoder_loss: 0.0276 - val_capsnet_acc: 0.5000\n",
            "\n",
            "Epoch 00079: val_capsnet_acc did not improve from 0.50193\n",
            "Epoch 80/100\n",
            "207/207 [==============================] - 100s 481ms/step - loss: 0.3726 - capsnet_loss: 0.3726 - decoder_loss: 0.0288 - capsnet_acc: 0.5232 - val_loss: 0.3797 - val_capsnet_loss: 0.3797 - val_decoder_loss: 0.0276 - val_capsnet_acc: 0.4981\n",
            "\n",
            "Epoch 00080: val_capsnet_acc did not improve from 0.50193\n",
            "Epoch 81/100\n",
            "207/207 [==============================] - 99s 480ms/step - loss: 0.3769 - capsnet_loss: 0.3769 - decoder_loss: 0.0287 - capsnet_acc: 0.5179 - val_loss: 0.3798 - val_capsnet_loss: 0.3798 - val_decoder_loss: 0.0276 - val_capsnet_acc: 0.4981\n",
            "\n",
            "Epoch 00081: val_capsnet_acc did not improve from 0.50193\n",
            "Epoch 82/100\n",
            "207/207 [==============================] - 99s 480ms/step - loss: 0.3785 - capsnet_loss: 0.3785 - decoder_loss: 0.0286 - capsnet_acc: 0.5072 - val_loss: 0.3799 - val_capsnet_loss: 0.3799 - val_decoder_loss: 0.0276 - val_capsnet_acc: 0.4981\n",
            "\n",
            "Epoch 00082: val_capsnet_acc did not improve from 0.50193\n",
            "Epoch 83/100\n",
            "207/207 [==============================] - 99s 480ms/step - loss: 0.3743 - capsnet_loss: 0.3743 - decoder_loss: 0.0287 - capsnet_acc: 0.5193 - val_loss: 0.3799 - val_capsnet_loss: 0.3799 - val_decoder_loss: 0.0276 - val_capsnet_acc: 0.4981\n",
            "\n",
            "Epoch 00083: val_capsnet_acc did not improve from 0.50193\n",
            "Epoch 84/100\n",
            "207/207 [==============================] - 100s 481ms/step - loss: 0.3767 - capsnet_loss: 0.3767 - decoder_loss: 0.0287 - capsnet_acc: 0.4986 - val_loss: 0.3797 - val_capsnet_loss: 0.3797 - val_decoder_loss: 0.0276 - val_capsnet_acc: 0.4981\n",
            "\n",
            "Epoch 00084: val_capsnet_acc did not improve from 0.50193\n",
            "Epoch 85/100\n",
            "207/207 [==============================] - 99s 480ms/step - loss: 0.3781 - capsnet_loss: 0.3780 - decoder_loss: 0.0288 - capsnet_acc: 0.5053 - val_loss: 0.3796 - val_capsnet_loss: 0.3796 - val_decoder_loss: 0.0276 - val_capsnet_acc: 0.4981\n",
            "\n",
            "Epoch 00085: val_capsnet_acc did not improve from 0.50193\n",
            "Epoch 86/100\n",
            "207/207 [==============================] - 99s 480ms/step - loss: 0.3756 - capsnet_loss: 0.3756 - decoder_loss: 0.0287 - capsnet_acc: 0.5111 - val_loss: 0.3797 - val_capsnet_loss: 0.3797 - val_decoder_loss: 0.0276 - val_capsnet_acc: 0.4981\n",
            "\n",
            "Epoch 00086: val_capsnet_acc did not improve from 0.50193\n",
            "Epoch 87/100\n",
            "207/207 [==============================] - 99s 480ms/step - loss: 0.3768 - capsnet_loss: 0.3768 - decoder_loss: 0.0285 - capsnet_acc: 0.5130 - val_loss: 0.3796 - val_capsnet_loss: 0.3796 - val_decoder_loss: 0.0276 - val_capsnet_acc: 0.4981\n",
            "\n",
            "Epoch 00087: val_capsnet_acc did not improve from 0.50193\n",
            "Epoch 88/100\n",
            "207/207 [==============================] - 99s 480ms/step - loss: 0.3784 - capsnet_loss: 0.3784 - decoder_loss: 0.0289 - capsnet_acc: 0.5135 - val_loss: 0.3797 - val_capsnet_loss: 0.3797 - val_decoder_loss: 0.0276 - val_capsnet_acc: 0.4981\n",
            "\n",
            "Epoch 00088: val_capsnet_acc did not improve from 0.50193\n",
            "Epoch 89/100\n",
            "207/207 [==============================] - 99s 480ms/step - loss: 0.3735 - capsnet_loss: 0.3735 - decoder_loss: 0.0287 - capsnet_acc: 0.5159 - val_loss: 0.3798 - val_capsnet_loss: 0.3798 - val_decoder_loss: 0.0276 - val_capsnet_acc: 0.4981\n",
            "\n",
            "Epoch 00089: val_capsnet_acc did not improve from 0.50193\n",
            "Epoch 90/100\n",
            "207/207 [==============================] - 99s 480ms/step - loss: 0.3721 - capsnet_loss: 0.3720 - decoder_loss: 0.0288 - capsnet_acc: 0.5275 - val_loss: 0.3798 - val_capsnet_loss: 0.3798 - val_decoder_loss: 0.0276 - val_capsnet_acc: 0.4981\n",
            "\n",
            "Epoch 00090: val_capsnet_acc did not improve from 0.50193\n",
            "Epoch 91/100\n",
            "207/207 [==============================] - 99s 480ms/step - loss: 0.3706 - capsnet_loss: 0.3706 - decoder_loss: 0.0288 - capsnet_acc: 0.5145 - val_loss: 0.3798 - val_capsnet_loss: 0.3797 - val_decoder_loss: 0.0276 - val_capsnet_acc: 0.4981\n",
            "\n",
            "Epoch 00091: val_capsnet_acc did not improve from 0.50193\n",
            "Epoch 92/100\n",
            "207/207 [==============================] - 99s 479ms/step - loss: 0.3778 - capsnet_loss: 0.3778 - decoder_loss: 0.0287 - capsnet_acc: 0.5150 - val_loss: 0.3798 - val_capsnet_loss: 0.3797 - val_decoder_loss: 0.0276 - val_capsnet_acc: 0.4981\n",
            "\n",
            "Epoch 00092: val_capsnet_acc did not improve from 0.50193\n",
            "Epoch 93/100\n",
            "207/207 [==============================] - 99s 480ms/step - loss: 0.3760 - capsnet_loss: 0.3760 - decoder_loss: 0.0288 - capsnet_acc: 0.5150 - val_loss: 0.3797 - val_capsnet_loss: 0.3797 - val_decoder_loss: 0.0276 - val_capsnet_acc: 0.4981\n",
            "\n",
            "Epoch 00093: val_capsnet_acc did not improve from 0.50193\n",
            "Epoch 94/100\n",
            "207/207 [==============================] - 100s 481ms/step - loss: 0.3752 - capsnet_loss: 0.3752 - decoder_loss: 0.0288 - capsnet_acc: 0.5106 - val_loss: 0.3797 - val_capsnet_loss: 0.3797 - val_decoder_loss: 0.0276 - val_capsnet_acc: 0.4981\n",
            "\n",
            "Epoch 00094: val_capsnet_acc did not improve from 0.50193\n",
            "Epoch 95/100\n",
            "207/207 [==============================] - 99s 481ms/step - loss: 0.3732 - capsnet_loss: 0.3732 - decoder_loss: 0.0289 - capsnet_acc: 0.5169 - val_loss: 0.3797 - val_capsnet_loss: 0.3797 - val_decoder_loss: 0.0276 - val_capsnet_acc: 0.4981\n",
            "\n",
            "Epoch 00095: val_capsnet_acc did not improve from 0.50193\n",
            "Epoch 96/100\n",
            "207/207 [==============================] - 99s 480ms/step - loss: 0.3754 - capsnet_loss: 0.3754 - decoder_loss: 0.0289 - capsnet_acc: 0.5159 - val_loss: 0.3797 - val_capsnet_loss: 0.3797 - val_decoder_loss: 0.0276 - val_capsnet_acc: 0.4981\n",
            "\n",
            "Epoch 00096: val_capsnet_acc did not improve from 0.50193\n",
            "Epoch 97/100\n",
            "207/207 [==============================] - 99s 480ms/step - loss: 0.3742 - capsnet_loss: 0.3741 - decoder_loss: 0.0287 - capsnet_acc: 0.5159 - val_loss: 0.3797 - val_capsnet_loss: 0.3797 - val_decoder_loss: 0.0276 - val_capsnet_acc: 0.4981\n",
            "\n",
            "Epoch 00097: val_capsnet_acc did not improve from 0.50193\n",
            "Epoch 98/100\n",
            "207/207 [==============================] - 99s 481ms/step - loss: 0.3757 - capsnet_loss: 0.3757 - decoder_loss: 0.0288 - capsnet_acc: 0.5082 - val_loss: 0.3798 - val_capsnet_loss: 0.3797 - val_decoder_loss: 0.0276 - val_capsnet_acc: 0.4981\n",
            "\n",
            "Epoch 00098: val_capsnet_acc did not improve from 0.50193\n",
            "Epoch 99/100\n",
            "207/207 [==============================] - 99s 480ms/step - loss: 0.3737 - capsnet_loss: 0.3737 - decoder_loss: 0.0288 - capsnet_acc: 0.5140 - val_loss: 0.3798 - val_capsnet_loss: 0.3798 - val_decoder_loss: 0.0276 - val_capsnet_acc: 0.4981\n",
            "\n",
            "Epoch 00099: val_capsnet_acc did not improve from 0.50193\n",
            "Epoch 100/100\n",
            "207/207 [==============================] - 99s 480ms/step - loss: 0.3712 - capsnet_loss: 0.3712 - decoder_loss: 0.0287 - capsnet_acc: 0.5193 - val_loss: 0.3798 - val_capsnet_loss: 0.3798 - val_decoder_loss: 0.0276 - val_capsnet_acc: 0.4981\n",
            "\n",
            "Epoch 00100: val_capsnet_acc did not improve from 0.50193\n"
          ],
          "name": "stdout"
        }
      ]
    },
    {
      "metadata": {
        "id": "tVDX0tKSau_m",
        "colab_type": "text"
      },
      "cell_type": "markdown",
      "source": [
        "## Results of training"
      ]
    },
    {
      "metadata": {
        "id": "8ZDCbccf06PR",
        "colab_type": "code",
        "colab": {
          "base_uri": "https://localhost:8080/",
          "height": 630
        },
        "outputId": "c393dd3c-120a-457e-b0d7-be2ebfe122b7"
      },
      "cell_type": "code",
      "source": [
        "plt.figure(figsize=(10, 10))\n",
        "plt.plot(history.history['capsnet_acc'])\n",
        "plt.plot(history.history['val_capsnet_acc'])\n",
        "plt.ylabel('accuracy', fontsize='x-large')\n",
        "plt.xlabel('epoch', fontsize='x-large')\n",
        "plt.legend(['train', 'test'], loc='upper left', fontsize='x-large')"
      ],
      "execution_count": 11,
      "outputs": [
        {
          "output_type": "execute_result",
          "data": {
            "text/plain": [
              "<matplotlib.legend.Legend at 0x7faa1f8bb5f8>"
            ]
          },
          "metadata": {
            "tags": []
          },
          "execution_count": 11
        },
        {
          "output_type": "display_data",
          "data": {
            "image/png": "[encoded data removed]",
            "text/plain": [
              "<Figure size 720x720 with 1 Axes>"
            ]
          },
          "metadata": {
            "tags": []
          }
        }
      ]
    }
  ]
}